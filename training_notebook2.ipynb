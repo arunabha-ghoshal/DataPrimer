{
 "metadata": {
  "language_info": {
   "codemirror_mode": {
    "name": "ipython",
    "version": 3
   },
   "file_extension": ".py",
   "mimetype": "text/x-python",
   "name": "python",
   "nbconvert_exporter": "python",
   "pygments_lexer": "ipython3",
   "version": "3.6.2"
  },
  "orig_nbformat": 2,
  "kernelspec": {
   "name": "python3",
   "display_name": "Python 3.6.2 64-bit",
   "metadata": {
    "interpreter": {
     "hash": "e7c37ba80a6e54a3d63188245ab5de6a3e0d381993bcb1990a7020536fc2299e"
    }
   }
  }
 },
 "nbformat": 4,
 "nbformat_minor": 2,
 "cells": [
  {
   "cell_type": "code",
   "execution_count": 2,
   "metadata": {},
   "outputs": [],
   "source": [
    "bay_blade = {'name' : 'Tyson','b_beast': 'Dragoon', 'rank' : 1, 'loc':'Japan'}\n",
    "name = ['messi','aguero']\n",
    "info = {'club' : 'Barcelona','pos' : 'FW'}\n",
    "scifi_authors = ['Isaac Asimov','Ray Bradbury','Robert heinlein','Arthus H. Clark','Orson Scott card','H. G. Wells','leigh Bracket']\n",
    "temps = [('Berlin',29),('Cairo',36),('Buenos Airs',19),('Los Angeles',26),('Tokyo',27),('New York',28),('London',22),('Beijing',32)]\n",
    "names = ['Bruce','Clark','Peter','Logan','Wade']\n",
    "heros = ['Batman','Superman','Spiderman','Wolverine','Deadpool']"
   ]
  },
  {
   "cell_type": "code",
   "execution_count": 6,
   "metadata": {},
   "outputs": [
    {
     "output_type": "execute_result",
     "data": {
      "text/plain": [
       "'hello'"
      ]
     },
     "metadata": {},
     "execution_count": 6
    }
   ],
   "source": [
    "bay_blade.get('wc',0)"
   ]
  },
  {
   "cell_type": "code",
   "execution_count": 11,
   "metadata": {},
   "outputs": [
    {
     "output_type": "execute_result",
     "data": {
      "text/plain": [
       "[2, 4, 6, 8]"
      ]
     },
     "metadata": {},
     "execution_count": 11
    }
   ],
   "source": [
    "#list comprehension\n",
    "l = [1,2,3,4,5,6]\n",
    "l1 = [5,6,7]\n",
    "new_l = []\n",
    "for i in l:\n",
    "    if i not in l1:\n",
    "        new_l.append(i*2)\n",
    "\n",
    "new_l"
   ]
  },
  {
   "cell_type": "code",
   "execution_count": 12,
   "metadata": {},
   "outputs": [
    {
     "output_type": "execute_result",
     "data": {
      "text/plain": [
       "[2, 4, 6, 8]"
      ]
     },
     "metadata": {},
     "execution_count": 12
    }
   ],
   "source": [
    "new_ll = [x*2 for x in l if x not in l1]\n",
    "new_ll"
   ]
  },
  {
   "cell_type": "code",
   "execution_count": 16,
   "metadata": {},
   "outputs": [
    {
     "output_type": "stream",
     "name": "stdout",
     "text": [
      "blah\n"
     ]
    }
   ],
   "source": [
    "new_l2 = []\n",
    "var = 'chandler'\n",
    "for c in var:\n",
    "    for n in range(len(var)):\n",
    "        new_l2.append((c,n))\n",
    "\n",
    "print('blah')\n",
    "\n",
    "\n"
   ]
  },
  {
   "cell_type": "code",
   "execution_count": 20,
   "metadata": {},
   "outputs": [
    {
     "output_type": "execute_result",
     "data": {
      "text/plain": [
       "[(0, 'c'),\n",
       " (0, 'h'),\n",
       " (0, 'a'),\n",
       " (0, 'n'),\n",
       " (0, 'd'),\n",
       " (0, 'l'),\n",
       " (0, 'e'),\n",
       " (0, 'r'),\n",
       " (1, 'c'),\n",
       " (1, 'h'),\n",
       " (1, 'a'),\n",
       " (1, 'n'),\n",
       " (1, 'd'),\n",
       " (1, 'l'),\n",
       " (1, 'e'),\n",
       " (1, 'r'),\n",
       " (2, 'c'),\n",
       " (2, 'h'),\n",
       " (2, 'a'),\n",
       " (2, 'n'),\n",
       " (2, 'd'),\n",
       " (2, 'l'),\n",
       " (2, 'e'),\n",
       " (2, 'r'),\n",
       " (3, 'c'),\n",
       " (3, 'h'),\n",
       " (3, 'a'),\n",
       " (3, 'n'),\n",
       " (3, 'd'),\n",
       " (3, 'l'),\n",
       " (3, 'e'),\n",
       " (3, 'r'),\n",
       " (4, 'c'),\n",
       " (4, 'h'),\n",
       " (4, 'a'),\n",
       " (4, 'n'),\n",
       " (4, 'd'),\n",
       " (4, 'l'),\n",
       " (4, 'e'),\n",
       " (4, 'r'),\n",
       " (5, 'c'),\n",
       " (5, 'h'),\n",
       " (5, 'a'),\n",
       " (5, 'n'),\n",
       " (5, 'd'),\n",
       " (5, 'l'),\n",
       " (5, 'e'),\n",
       " (5, 'r'),\n",
       " (6, 'c'),\n",
       " (6, 'h'),\n",
       " (6, 'a'),\n",
       " (6, 'n'),\n",
       " (6, 'd'),\n",
       " (6, 'l'),\n",
       " (6, 'e'),\n",
       " (6, 'r'),\n",
       " (7, 'c'),\n",
       " (7, 'h'),\n",
       " (7, 'a'),\n",
       " (7, 'n'),\n",
       " (7, 'd'),\n",
       " (7, 'l'),\n",
       " (7, 'e'),\n",
       " (7, 'r')]"
      ]
     },
     "metadata": {},
     "execution_count": 20
    }
   ],
   "source": [
    "new_l2 = [(n,c) for n in  range(len(var)) for c in var]\n",
    "new_l2"
   ]
  },
  {
   "cell_type": "code",
   "execution_count": 21,
   "metadata": {},
   "outputs": [],
   "source": [
    "import  pandas as pd\n",
    "import numpy as np\n",
    "import datetime"
   ]
  },
  {
   "cell_type": "code",
   "execution_count": 22,
   "metadata": {},
   "outputs": [],
   "source": [
    "now = datetime.datetime.now()"
   ]
  },
  {
   "cell_type": "code",
   "execution_count": 25,
   "metadata": {},
   "outputs": [
    {
     "output_type": "execute_result",
     "data": {
      "text/plain": [
       "datetime.datetime(2021, 6, 23, 11, 23, 56, 706148)"
      ]
     },
     "metadata": {},
     "execution_count": 25
    }
   ],
   "source": [
    "now"
   ]
  },
  {
   "cell_type": "code",
   "execution_count": 31,
   "metadata": {},
   "outputs": [
    {
     "output_type": "execute_result",
     "data": {
      "text/plain": [
       "'June 23, 2021'"
      ]
     },
     "metadata": {},
     "execution_count": 31
    }
   ],
   "source": [
    "my_date = '{:%B %d, %Y}'.format(now)\n",
    "my_date"
   ]
  },
  {
   "cell_type": "code",
   "execution_count": 32,
   "metadata": {},
   "outputs": [
    {
     "output_type": "execute_result",
     "data": {
      "text/plain": [
       "'2021-06-23 11:23:56.706148'"
      ]
     },
     "metadata": {},
     "execution_count": 32
    }
   ],
   "source": [
    "now.strftime(\"%Y-%m-%d %H:%M:%S.%f\")"
   ]
  },
  {
   "cell_type": "code",
   "execution_count": 69,
   "metadata": {},
   "outputs": [],
   "source": [
    "#funtions\n",
    "def hello_world(name,attr,rank=1,lang='python'):\n",
    "    #print('hello world print')\n",
    "    return f'hello world for {name} & {attr} with rank {rank} and prog lang {lang}'\n"
   ]
  },
  {
   "cell_type": "code",
   "execution_count": 70,
   "metadata": {},
   "outputs": [],
   "source": [
    "var = hello_world('aryan','code',3,'java')"
   ]
  },
  {
   "cell_type": "code",
   "execution_count": 71,
   "metadata": {},
   "outputs": [
    {
     "output_type": "stream",
     "name": "stdout",
     "text": [
      "hello world for aryan & code with rank 3 and prog lang java\n"
     ]
    }
   ],
   "source": [
    "print(var)"
   ]
  },
  {
   "cell_type": "code",
   "execution_count": 76,
   "metadata": {},
   "outputs": [
    {
     "output_type": "stream",
     "name": "stdout",
     "text": [
      "local x\nglobal x\n"
     ]
    }
   ],
   "source": [
    "#z = 'global z'\n",
    "def func():\n",
    "    #y = 'local y'\n",
    "    z = 'local x'\n",
    "    print(x)\n",
    "\n",
    "func()\n",
    "print(x)"
   ]
  },
  {
   "cell_type": "code",
   "execution_count": 78,
   "metadata": {},
   "outputs": [],
   "source": [
    "name = ['messi','aguero']\n",
    "info = {'club' : 'Barcelona','pos' : 'FW'}\n",
    "\n",
    "def new_fun(*args,**kwargs):\n",
    "    print('args: ', args)\n",
    "    print('kwargs: ', kwargs)\n",
    "    "
   ]
  },
  {
   "cell_type": "code",
   "execution_count": 85,
   "metadata": {},
   "outputs": [
    {
     "output_type": "stream",
     "name": "stdout",
     "text": [
      "args:  ('messi', 'aguero')\nkwargs:  {'club': 'Barcelona', 'pos': 'FW'}\n"
     ]
    }
   ],
   "source": [
    "new_fun(*name,**info)"
   ]
  },
  {
   "cell_type": "code",
   "execution_count": 87,
   "metadata": {},
   "outputs": [],
   "source": [
    "#lambda\n",
    "#3x + 1\n",
    "\n",
    "fun = lambda x : 3*x + 1\n"
   ]
  },
  {
   "cell_type": "code",
   "execution_count": 88,
   "metadata": {},
   "outputs": [
    {
     "output_type": "execute_result",
     "data": {
      "text/plain": [
       "10"
      ]
     },
     "metadata": {},
     "execution_count": 88
    }
   ],
   "source": [
    "fun(3)"
   ]
  },
  {
   "cell_type": "code",
   "execution_count": 89,
   "metadata": {},
   "outputs": [],
   "source": [
    "first_name = lambda fn,ln : fn.strip().title() + ' ' + ln.strip().title() "
   ]
  },
  {
   "cell_type": "code",
   "execution_count": 90,
   "metadata": {},
   "outputs": [
    {
     "output_type": "execute_result",
     "data": {
      "text/plain": [
       "'Raj Aryan'"
      ]
     },
     "metadata": {},
     "execution_count": 90
    }
   ],
   "source": [
    "first_name(' raj   ' , '            aryan ')"
   ]
  },
  {
   "cell_type": "code",
   "execution_count": 93,
   "metadata": {},
   "outputs": [
    {
     "output_type": "execute_result",
     "data": {
      "text/plain": [
       "'KDGCKSDGKDS'"
      ]
     },
     "metadata": {},
     "execution_count": 93
    }
   ],
   "source": [
    "'kdgcksdgkds'.upper()"
   ]
  },
  {
   "cell_type": "code",
   "execution_count": 95,
   "metadata": {},
   "outputs": [],
   "source": [
    "#a*x**2 + b*x + c\n",
    "\n",
    "def q_f_gen(a,b,c):\n",
    "    return lambda x : a*x**2 + b*x + c"
   ]
  },
  {
   "cell_type": "code",
   "execution_count": 96,
   "metadata": {},
   "outputs": [],
   "source": [
    "f = q_f_gen(2,3,4)"
   ]
  },
  {
   "cell_type": "code",
   "execution_count": 97,
   "metadata": {},
   "outputs": [
    {
     "output_type": "execute_result",
     "data": {
      "text/plain": [
       "function"
      ]
     },
     "metadata": {},
     "execution_count": 97
    }
   ],
   "source": [
    "type(f)"
   ]
  },
  {
   "cell_type": "code",
   "execution_count": 98,
   "metadata": {},
   "outputs": [
    {
     "output_type": "execute_result",
     "data": {
      "text/plain": [
       "18"
      ]
     },
     "metadata": {},
     "execution_count": 98
    }
   ],
   "source": [
    "f(2)"
   ]
  },
  {
   "cell_type": "code",
   "execution_count": 99,
   "metadata": {},
   "outputs": [
    {
     "output_type": "execute_result",
     "data": {
      "text/plain": [
       "18"
      ]
     },
     "metadata": {},
     "execution_count": 99
    }
   ],
   "source": [
    "q_f_gen(2,3,4)(2)"
   ]
  },
  {
   "cell_type": "code",
   "execution_count": 100,
   "metadata": {},
   "outputs": [],
   "source": [
    "scifi_authors = ['Isaac Asimov','Ray Bradbury','Robert heinlein','Arthus H. Clark','Orson Scott card','H. G. Wells','leigh Bracket']"
   ]
  },
  {
   "cell_type": "code",
   "execution_count": 102,
   "metadata": {},
   "outputs": [],
   "source": [
    "scifi_authors.sort(key=( lambda x : x.split(' ')[-1]))"
   ]
  },
  {
   "cell_type": "code",
   "execution_count": 101,
   "metadata": {},
   "outputs": [
    {
     "output_type": "execute_result",
     "data": {
      "text/plain": [
       "['jgd', 'dhgshjgds', 'adufadfd', 'dayasfdhafd']"
      ]
     },
     "metadata": {},
     "execution_count": 101
    }
   ],
   "source": [
    "x = \"jgd.dhgshjgds.adufadfd.dayasfdhafd\"\n",
    "l_x = x.split('.')\n",
    "l_x"
   ]
  },
  {
   "cell_type": "code",
   "execution_count": 103,
   "metadata": {},
   "outputs": [
    {
     "output_type": "execute_result",
     "data": {
      "text/plain": [
       "['Isaac Asimov',\n",
       " 'leigh Bracket',\n",
       " 'Ray Bradbury',\n",
       " 'Arthus H. Clark',\n",
       " 'H. G. Wells',\n",
       " 'Orson Scott card',\n",
       " 'Robert heinlein']"
      ]
     },
     "metadata": {},
     "execution_count": 103
    }
   ],
   "source": [
    "scifi_authors"
   ]
  },
  {
   "cell_type": "code",
   "execution_count": 105,
   "metadata": {},
   "outputs": [
    {
     "output_type": "stream",
     "name": "stdout",
     "text": [
      "Asimov\nBracket\nBradbury\nClark\nWells\ncard\nheinlein\n"
     ]
    }
   ],
   "source": [
    "for item in scifi_authors:\n",
    "    l = item.split(' ')[-1]\n",
    "    print(l)"
   ]
  },
  {
   "cell_type": "code",
   "execution_count": 106,
   "metadata": {},
   "outputs": [],
   "source": [
    "temps = [('Berlin',29),('Cairo',36),('Buenos Airs',19),('Los Angeles',26),('Tokyo',27),('New York',28),('London',22),('Beijing',32)]\n",
    "\n",
    "l = [1,2,3,4]"
   ]
  },
  {
   "cell_type": "code",
   "execution_count": 109,
   "metadata": {},
   "outputs": [],
   "source": [
    "f = map(f,l)"
   ]
  },
  {
   "cell_type": "code",
   "execution_count": 110,
   "metadata": {},
   "outputs": [
    {
     "output_type": "execute_result",
     "data": {
      "text/plain": [
       "<map at 0x2d9edcef2e8>"
      ]
     },
     "metadata": {},
     "execution_count": 110
    }
   ],
   "source": [
    "f"
   ]
  },
  {
   "cell_type": "code",
   "execution_count": 114,
   "metadata": {},
   "outputs": [],
   "source": [
    "c_to_f = lambda data : (data[0],data[1]*(9/5) + 32)"
   ]
  },
  {
   "cell_type": "code",
   "execution_count": 117,
   "metadata": {},
   "outputs": [],
   "source": [
    "op = list(map(c_to_f,temps))"
   ]
  },
  {
   "cell_type": "code",
   "execution_count": 118,
   "metadata": {},
   "outputs": [
    {
     "output_type": "execute_result",
     "data": {
      "text/plain": [
       "[('Berlin', 84.2),\n",
       " ('Cairo', 96.8),\n",
       " ('Buenos Airs', 66.2),\n",
       " ('Los Angeles', 78.80000000000001),\n",
       " ('Tokyo', 80.6),\n",
       " ('New York', 82.4),\n",
       " ('London', 71.6),\n",
       " ('Beijing', 89.6)]"
      ]
     },
     "metadata": {},
     "execution_count": 118
    }
   ],
   "source": [
    "op"
   ]
  },
  {
   "cell_type": "code",
   "execution_count": 120,
   "metadata": {},
   "outputs": [],
   "source": [
    "l = [1,2,3,4,5,6]\n",
    "\n",
    "op = list(filter(lambda x : x>2 , l))"
   ]
  },
  {
   "cell_type": "code",
   "execution_count": 121,
   "metadata": {},
   "outputs": [
    {
     "output_type": "execute_result",
     "data": {
      "text/plain": [
       "[3, 4, 5, 6]"
      ]
     },
     "metadata": {},
     "execution_count": 121
    }
   ],
   "source": [
    "op"
   ]
  },
  {
   "cell_type": "code",
   "execution_count": 123,
   "metadata": {},
   "outputs": [],
   "source": [
    "ip_jsn ='''{\n",
    "\t\t\"indicator\" : \"products\",\n",
    "\t\t\"mapStatus\" : 1,\n",
    "\t\t\"jsonString\" : 1,\n",
    "\t\t\"delimiter\" : \"\",\n",
    "\t\t\"mapDetail\" : {\n",
    "\t\t\t\"vendorNumber\" : \"vendorNumber\",\n",
    "\t\t\t\"modelId\" : \"modelId\",\n",
    "\t\t\t\"itemNumber\" : \"itemNumber\",\n",
    "\t\t\t\"imageUrls[].key\" : \"imageKey\",\n",
    "\t\t\t\"imageUrls[].value\" : \"imageValue\",\n",
    "\t\t\t\"omniItemId\" : \"omniItemId\",\n",
    "\t\t\t\"additionalBadges[]\" : \"additionalBadges_item\",\n",
    "\t\t\t\"marketingBullets[]\" : \"marketingBullets_item\",\n",
    "\t\t\t\"type\" : \"type\",\n",
    "\t\t\t\"sqFoot\" : \"sqFoot\",\n",
    "\t\t\t\"storeAttributes[].t024ItemDescription[]\" : \"ItemDescription\",\n",
    "\t\t\t\"storeAttributes[].values.keys\" : \"storeKeys\",\n",
    "\t\t\t\"storeAttributes[].values.attr[].key.baseVal\" : \"baseVal\",\n",
    "\t\t\t\"storeAttributes[].ecatname\" : \"ecatname\",\n",
    "\t\t\t\"productVariants.variants[].pdURL\" : \"variantURL\",\n",
    "\t\t\t\"productVariants.variants[].attributes[].value\" : \"value\",\n",
    "\t\t\t\"productVariants.variants1[].attributes1[].value1.baseValue\" : \"baseValue\",\n",
    "\t\t\t\"productVariants.variants[].attributes[].key\" : \"keyAtrri\",\n",
    "\t\t\t\"productVariants.variants[].attributes[].override[]\" : \"productOverride\",\n",
    "\t\t\t\"productVariants.parentId\" : \"parentId\",\n",
    "\t\t\t\"catalogVariant.variants[]\" : \"catVariant\",\n",
    "\t\t\t\"catalogVariant.items[]\" : \"varItem\"\n",
    "\t\t},\n",
    "\t\t\"filter\" : {\n",
    "\t\t\t\"productStatus\" : \"true\",\n",
    "\t\t\t\"lcomIndicator\" : \"Y\"\n",
    "\t\t}\n",
    "\t}'''"
   ]
  },
  {
   "cell_type": "code",
   "execution_count": 124,
   "metadata": {},
   "outputs": [],
   "source": [
    "import json\n",
    "ip_dict = json.loads(ip_jsn)"
   ]
  },
  {
   "cell_type": "code",
   "execution_count": 125,
   "metadata": {},
   "outputs": [
    {
     "output_type": "execute_result",
     "data": {
      "text/plain": [
       "dict"
      ]
     },
     "metadata": {},
     "execution_count": 125
    }
   ],
   "source": [
    "type(ip_dict)"
   ]
  },
  {
   "cell_type": "code",
   "execution_count": 126,
   "metadata": {},
   "outputs": [
    {
     "output_type": "execute_result",
     "data": {
      "text/plain": [
       "['indicator', 'mapStatus', 'jsonString', 'delimiter', 'mapDetail', 'filter']"
      ]
     },
     "metadata": {},
     "execution_count": 126
    }
   ],
   "source": [
    "l_keys = [k for k in ip_dict.keys()]\n",
    "l_keys"
   ]
  },
  {
   "cell_type": "code",
   "execution_count": 131,
   "metadata": {},
   "outputs": [],
   "source": [
    "map_detail =  [v for k,v in ip_dict.items() if k == 'mapDetail'][0]"
   ]
  },
  {
   "cell_type": "code",
   "execution_count": 134,
   "metadata": {},
   "outputs": [],
   "source": [
    "columns =  [c for c in map_detail.keys()]"
   ]
  },
  {
   "cell_type": "code",
   "execution_count": 135,
   "metadata": {},
   "outputs": [
    {
     "output_type": "execute_result",
     "data": {
      "text/plain": [
       "['vendorNumber',\n",
       " 'modelId',\n",
       " 'itemNumber',\n",
       " 'imageUrls[].key',\n",
       " 'imageUrls[].value',\n",
       " 'omniItemId',\n",
       " 'additionalBadges[]',\n",
       " 'marketingBullets[]',\n",
       " 'type',\n",
       " 'sqFoot',\n",
       " 'storeAttributes[].t024ItemDescription[]',\n",
       " 'storeAttributes[].values.keys',\n",
       " 'storeAttributes[].values.attr[].key.baseVal',\n",
       " 'storeAttributes[].ecatname',\n",
       " 'productVariants.variants[].pdURL',\n",
       " 'productVariants.variants[].attributes[].value',\n",
       " 'productVariants.variants1[].attributes1[].value1.baseValue',\n",
       " 'productVariants.variants[].attributes[].key',\n",
       " 'productVariants.variants[].attributes[].override[]',\n",
       " 'productVariants.parentId',\n",
       " 'catalogVariant.variants[]',\n",
       " 'catalogVariant.items[]']"
      ]
     },
     "metadata": {},
     "execution_count": 135
    }
   ],
   "source": [
    "columns"
   ]
  },
  {
   "cell_type": "code",
   "execution_count": 141,
   "metadata": {},
   "outputs": [
    {
     "output_type": "stream",
     "name": "stdout",
     "text": [
      "the process failed with the error: name 'xyz' is not defined\nfinally it is over\n"
     ]
    }
   ],
   "source": [
    "try:\n",
    "    #f = open('training_scope.py')\n",
    "    var = xyz\n",
    "\n",
    "except Exception as e:\n",
    "    print(f'the process failed with the error: {e}')\n",
    "else:\n",
    "    print('file found')\n",
    "finally:\n",
    "    print('finally it is over')\n",
    "\n"
   ]
  },
  {
   "cell_type": "code",
   "execution_count": null,
   "metadata": {},
   "outputs": [],
   "source": []
  }
 ]
}