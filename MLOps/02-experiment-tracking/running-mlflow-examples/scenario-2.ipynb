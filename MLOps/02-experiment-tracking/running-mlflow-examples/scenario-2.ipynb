{
 "cells": [
  {
   "cell_type": "markdown",
   "metadata": {},
   "source": [
    "### Scenario 2: A cross-functional team with one data scientist working on an ML model\n",
    "MLflow setup:\n",
    "\n",
    "* tracking server: yes, local server\n",
    "* backend store: sqlite database\n",
    "* artifacts store: local filesystem\n",
    "The experiments can be explored locally by accessing the local tracking server.\n",
    "\n",
    "To run this example you need to launch the mlflow server locally by running the following command in your terminal:\n",
    "\n",
    "`mlflow server --backend-store-uri sqlite:///backend.db`"
   ]
  },
  {
   "cell_type": "code",
   "execution_count": 9,
   "metadata": {},
   "outputs": [],
   "source": [
    "import mlflow\n",
    "\n",
    "mlflow.set_tracking_uri(\"http://127.0.0.1:5000\")"
   ]
  },
  {
   "cell_type": "code",
   "execution_count": 10,
   "metadata": {},
   "outputs": [
    {
     "name": "stdout",
     "output_type": "stream",
     "text": [
      "tracking URI: 'http://127.0.0.1:5000'\n"
     ]
    }
   ],
   "source": [
    "print(f\"tracking URI: '{mlflow.get_tracking_uri()}'\")"
   ]
  },
  {
   "cell_type": "code",
   "execution_count": 11,
   "metadata": {},
   "outputs": [
    {
     "data": {
      "text/plain": [
       "[<Experiment: artifact_location='./mlruns/0', experiment_id='0', lifecycle_stage='active', name='Default', tags={}>,\n",
       " <Experiment: artifact_location='./mlruns/1', experiment_id='1', lifecycle_stage='active', name='my-experiment-1', tags={}>]"
      ]
     },
     "execution_count": 11,
     "metadata": {},
     "output_type": "execute_result"
    }
   ],
   "source": [
    "mlflow.list_experiments()\n"
   ]
  },
  {
   "cell_type": "code",
   "execution_count": 17,
   "metadata": {},
   "outputs": [
    {
     "name": "stdout",
     "output_type": "stream",
     "text": [
      "default artifacts URI: './mlruns/1/f5d755ed77c14ecbb0c67e136f54556a/artifacts'\n"
     ]
    }
   ],
   "source": [
    "from sklearn.linear_model import LogisticRegression\n",
    "from sklearn.datasets import load_iris\n",
    "from sklearn.metrics import accuracy_score\n",
    "\n",
    "mlflow.set_experiment(\"my-experiment-1\")\n",
    "\n",
    "with mlflow.start_run():\n",
    "\n",
    "    X, y = load_iris(return_X_y=True)\n",
    "\n",
    "    params = {\"C\": 0.2, \"random_state\": 40}\n",
    "    mlflow.log_params(params)\n",
    "\n",
    "    lr = LogisticRegression(**params).fit(X, y)\n",
    "    y_pred = lr.predict(X)\n",
    "    mlflow.log_metric(\"accuracy\", accuracy_score(y, y_pred))\n",
    "\n",
    "    mlflow.sklearn.log_model(lr, artifact_path=\"models\")\n",
    "    print(f\"default artifacts URI: '{mlflow.get_artifact_uri()}'\")"
   ]
  },
  {
   "cell_type": "code",
   "execution_count": 18,
   "metadata": {},
   "outputs": [
    {
     "data": {
      "text/plain": [
       "[<Experiment: artifact_location='./mlruns/0', experiment_id='0', lifecycle_stage='active', name='Default', tags={}>,\n",
       " <Experiment: artifact_location='./mlruns/1', experiment_id='1', lifecycle_stage='active', name='my-experiment-1', tags={}>]"
      ]
     },
     "execution_count": 18,
     "metadata": {},
     "output_type": "execute_result"
    }
   ],
   "source": [
    "mlflow.list_experiments()"
   ]
  },
  {
   "cell_type": "markdown",
   "metadata": {},
   "source": [
    "### Interacting with the model registry"
   ]
  },
  {
   "cell_type": "code",
   "execution_count": 19,
   "metadata": {},
   "outputs": [],
   "source": [
    "from mlflow.tracking import MlflowClient\n",
    "\n",
    "\n",
    "client = MlflowClient(\"http://127.0.0.1:5000\")"
   ]
  },
  {
   "cell_type": "code",
   "execution_count": 20,
   "metadata": {},
   "outputs": [
    {
     "data": {
      "text/plain": [
       "[<RegisteredModel: creation_timestamp=1654240742100, description='', last_updated_timestamp=1654363055847, latest_versions=[<ModelVersion: creation_timestamp=1654363055847, current_stage='None', description='', last_updated_timestamp=1654363055847, name='iris-classifier', run_id='4ac1ea77ec434173b019d89edc333f92', run_link='', source='./mlruns/1/4ac1ea77ec434173b019d89edc333f92/artifacts/models', status='READY', status_message='', tags={}, user_id='', version='2'>], name='iris-classifier', tags={}>]"
      ]
     },
     "execution_count": 20,
     "metadata": {},
     "output_type": "execute_result"
    }
   ],
   "source": [
    "client.list_registered_models()"
   ]
  },
  {
   "cell_type": "code",
   "execution_count": 21,
   "metadata": {},
   "outputs": [
    {
     "name": "stderr",
     "output_type": "stream",
     "text": [
      "Registered model 'iris-classifier' already exists. Creating a new version of this model...\n",
      "2022/06/04 22:57:35 INFO mlflow.tracking._model_registry.client: Waiting up to 300 seconds for model version to finish creation.                     Model name: iris-classifier, version 3\n",
      "Created version '3' of model 'iris-classifier'.\n"
     ]
    },
    {
     "data": {
      "text/plain": [
       "<ModelVersion: creation_timestamp=1654363655142, current_stage='None', description='', last_updated_timestamp=1654363655142, name='iris-classifier', run_id='f5d755ed77c14ecbb0c67e136f54556a', run_link='', source='./mlruns/1/f5d755ed77c14ecbb0c67e136f54556a/artifacts/models', status='READY', status_message='', tags={}, user_id='', version='3'>"
      ]
     },
     "execution_count": 21,
     "metadata": {},
     "output_type": "execute_result"
    }
   ],
   "source": [
    "run_id = client.list_run_infos(experiment_id='1')[0].run_id\n",
    "mlflow.register_model(\n",
    "    model_uri=f\"runs:/{run_id}/models\",\n",
    "    name='iris-classifier'\n",
    ")"
   ]
  },
  {
   "cell_type": "markdown",
   "metadata": {},
   "source": [
    "### get the logged model from mlflow and use the model to make prediction\n",
    "\n",
    "* get the last ran model uri\n",
    "* load the corresponding model\n",
    "* use the model to predict"
   ]
  },
  {
   "cell_type": "code",
   "execution_count": 22,
   "metadata": {},
   "outputs": [
    {
     "data": {
      "text/plain": [
       "'1'"
      ]
     },
     "execution_count": 22,
     "metadata": {},
     "output_type": "execute_result"
    }
   ],
   "source": [
    "exp = mlflow.get_experiment_by_name('my-experiment-1')\n",
    "exp.experiment_id"
   ]
  },
  {
   "cell_type": "code",
   "execution_count": 23,
   "metadata": {},
   "outputs": [
    {
     "data": {
      "text/html": [
       "<div>\n",
       "<style scoped>\n",
       "    .dataframe tbody tr th:only-of-type {\n",
       "        vertical-align: middle;\n",
       "    }\n",
       "\n",
       "    .dataframe tbody tr th {\n",
       "        vertical-align: top;\n",
       "    }\n",
       "\n",
       "    .dataframe thead th {\n",
       "        text-align: right;\n",
       "    }\n",
       "</style>\n",
       "<table border=\"1\" class=\"dataframe\">\n",
       "  <thead>\n",
       "    <tr style=\"text-align: right;\">\n",
       "      <th></th>\n",
       "      <th>run_id</th>\n",
       "      <th>experiment_id</th>\n",
       "      <th>status</th>\n",
       "      <th>artifact_uri</th>\n",
       "      <th>start_time</th>\n",
       "      <th>end_time</th>\n",
       "      <th>metrics.accuracy</th>\n",
       "      <th>params.C</th>\n",
       "      <th>params.random_state</th>\n",
       "      <th>tags.mlflow.source.type</th>\n",
       "      <th>tags.mlflow.source.name</th>\n",
       "      <th>tags.mlflow.log-model.history</th>\n",
       "      <th>tags.mlflow.user</th>\n",
       "    </tr>\n",
       "  </thead>\n",
       "  <tbody>\n",
       "    <tr>\n",
       "      <th>0</th>\n",
       "      <td>f5d755ed77c14ecbb0c67e136f54556a</td>\n",
       "      <td>1</td>\n",
       "      <td>FINISHED</td>\n",
       "      <td>./mlruns/1/f5d755ed77c14ecbb0c67e136f54556a/ar...</td>\n",
       "      <td>2022-06-04 17:27:07.713000+00:00</td>\n",
       "      <td>2022-06-04 17:27:11.875000+00:00</td>\n",
       "      <td>0.966667</td>\n",
       "      <td>0.2</td>\n",
       "      <td>40</td>\n",
       "      <td>LOCAL</td>\n",
       "      <td>/usr/local/lib/python3.10/site-packages/ipyker...</td>\n",
       "      <td>[{\"run_id\": \"f5d755ed77c14ecbb0c67e136f54556a\"...</td>\n",
       "      <td>bupadhy</td>\n",
       "    </tr>\n",
       "    <tr>\n",
       "      <th>1</th>\n",
       "      <td>4ac1ea77ec434173b019d89edc333f92</td>\n",
       "      <td>1</td>\n",
       "      <td>FINISHED</td>\n",
       "      <td>./mlruns/1/4ac1ea77ec434173b019d89edc333f92/ar...</td>\n",
       "      <td>2022-06-04 17:17:06.399000+00:00</td>\n",
       "      <td>2022-06-04 17:17:11.922000+00:00</td>\n",
       "      <td>0.960000</td>\n",
       "      <td>0.1</td>\n",
       "      <td>42</td>\n",
       "      <td>LOCAL</td>\n",
       "      <td>/usr/local/lib/python3.10/site-packages/ipyker...</td>\n",
       "      <td>[{\"run_id\": \"4ac1ea77ec434173b019d89edc333f92\"...</td>\n",
       "      <td>bupadhy</td>\n",
       "    </tr>\n",
       "    <tr>\n",
       "      <th>2</th>\n",
       "      <td>59adff90f15a409bb28bfed3fc99da7c</td>\n",
       "      <td>1</td>\n",
       "      <td>FINISHED</td>\n",
       "      <td>./mlruns/1/59adff90f15a409bb28bfed3fc99da7c/ar...</td>\n",
       "      <td>2022-06-03 07:13:57.530000+00:00</td>\n",
       "      <td>2022-06-03 07:14:02.166000+00:00</td>\n",
       "      <td>0.960000</td>\n",
       "      <td>0.1</td>\n",
       "      <td>42</td>\n",
       "      <td>LOCAL</td>\n",
       "      <td>/usr/local/lib/python3.10/site-packages/ipyker...</td>\n",
       "      <td>[{\"run_id\": \"59adff90f15a409bb28bfed3fc99da7c\"...</td>\n",
       "      <td>bupadhy</td>\n",
       "    </tr>\n",
       "  </tbody>\n",
       "</table>\n",
       "</div>"
      ],
      "text/plain": [
       "                             run_id experiment_id    status  \\\n",
       "0  f5d755ed77c14ecbb0c67e136f54556a             1  FINISHED   \n",
       "1  4ac1ea77ec434173b019d89edc333f92             1  FINISHED   \n",
       "2  59adff90f15a409bb28bfed3fc99da7c             1  FINISHED   \n",
       "\n",
       "                                        artifact_uri  \\\n",
       "0  ./mlruns/1/f5d755ed77c14ecbb0c67e136f54556a/ar...   \n",
       "1  ./mlruns/1/4ac1ea77ec434173b019d89edc333f92/ar...   \n",
       "2  ./mlruns/1/59adff90f15a409bb28bfed3fc99da7c/ar...   \n",
       "\n",
       "                        start_time                         end_time  \\\n",
       "0 2022-06-04 17:27:07.713000+00:00 2022-06-04 17:27:11.875000+00:00   \n",
       "1 2022-06-04 17:17:06.399000+00:00 2022-06-04 17:17:11.922000+00:00   \n",
       "2 2022-06-03 07:13:57.530000+00:00 2022-06-03 07:14:02.166000+00:00   \n",
       "\n",
       "   metrics.accuracy params.C params.random_state tags.mlflow.source.type  \\\n",
       "0          0.966667      0.2                  40                   LOCAL   \n",
       "1          0.960000      0.1                  42                   LOCAL   \n",
       "2          0.960000      0.1                  42                   LOCAL   \n",
       "\n",
       "                             tags.mlflow.source.name  \\\n",
       "0  /usr/local/lib/python3.10/site-packages/ipyker...   \n",
       "1  /usr/local/lib/python3.10/site-packages/ipyker...   \n",
       "2  /usr/local/lib/python3.10/site-packages/ipyker...   \n",
       "\n",
       "                       tags.mlflow.log-model.history tags.mlflow.user  \n",
       "0  [{\"run_id\": \"f5d755ed77c14ecbb0c67e136f54556a\"...          bupadhy  \n",
       "1  [{\"run_id\": \"4ac1ea77ec434173b019d89edc333f92\"...          bupadhy  \n",
       "2  [{\"run_id\": \"59adff90f15a409bb28bfed3fc99da7c\"...          bupadhy  "
      ]
     },
     "execution_count": 23,
     "metadata": {},
     "output_type": "execute_result"
    }
   ],
   "source": [
    "df = mlflow.search_runs(exp.experiment_id)\n",
    "df.head()"
   ]
  },
  {
   "cell_type": "code",
   "execution_count": 25,
   "metadata": {},
   "outputs": [
    {
     "data": {
      "text/plain": [
       "Index(['run_id', 'experiment_id', 'status', 'artifact_uri', 'start_time',\n",
       "       'end_time', 'metrics.accuracy', 'params.C', 'params.random_state',\n",
       "       'tags.mlflow.source.type', 'tags.mlflow.source.name',\n",
       "       'tags.mlflow.log-model.history', 'tags.mlflow.user'],\n",
       "      dtype='object')"
      ]
     },
     "execution_count": 25,
     "metadata": {},
     "output_type": "execute_result"
    }
   ],
   "source": [
    "df.columns"
   ]
  },
  {
   "cell_type": "code",
   "execution_count": 24,
   "metadata": {},
   "outputs": [
    {
     "data": {
      "text/plain": [
       "'./mlruns/1/f5d755ed77c14ecbb0c67e136f54556a/artifacts'"
      ]
     },
     "execution_count": 24,
     "metadata": {},
     "output_type": "execute_result"
    }
   ],
   "source": [
    "# selecting the artificat uri of last run\n",
    "last_run_uri = df.loc[df['end_time'].idxmax(), 'artifact_uri']\n",
    "last_run_uri"
   ]
  },
  {
   "cell_type": "code",
   "execution_count": 35,
   "metadata": {},
   "outputs": [
    {
     "name": "stdout",
     "output_type": "stream",
     "text": [
      "checking the params and metrics of last artifact uri\n"
     ]
    },
    {
     "data": {
      "text/plain": [
       "('param C: 0.2',\n",
       " 'param random state: 40',\n",
       " 'metrics  accuracy: 0.9666666666666667')"
      ]
     },
     "execution_count": 35,
     "metadata": {},
     "output_type": "execute_result"
    }
   ],
   "source": [
    "## checking the params and metrics of last artifact uri\n",
    "print('checking the params and metrics of last artifact uri')\n",
    "(f\"param C: {df[df.artifact_uri == last_run_uri].loc[0,'params.C']}\",\n",
    "f\"param random state: {df[df.artifact_uri == last_run_uri].loc[0,'params.random_state']}\",\n",
    "f\"metrics  accuracy: {df[df.artifact_uri == last_run_uri].loc[0,'metrics.accuracy']}\")\n"
   ]
  },
  {
   "cell_type": "code",
   "execution_count": 36,
   "metadata": {},
   "outputs": [
    {
     "name": "stdout",
     "output_type": "stream",
     "text": [
      "mlflow.pyfunc.loaded_model:\n",
      "  artifact_path: models\n",
      "  flavor: mlflow.sklearn\n",
      "  run_id: f5d755ed77c14ecbb0c67e136f54556a\n",
      "\n"
     ]
    }
   ],
   "source": [
    "# loading the registered model from mlflow\n",
    "model = mlflow.pyfunc.load_model(f'{last_run_uri}/models/')\n",
    "print(model)"
   ]
  },
  {
   "cell_type": "code",
   "execution_count": 37,
   "metadata": {},
   "outputs": [
    {
     "data": {
      "text/plain": [
       "0.9666666666666667"
      ]
     },
     "execution_count": 37,
     "metadata": {},
     "output_type": "execute_result"
    }
   ],
   "source": [
    "# prediction\n",
    "X, y = load_iris(return_X_y=True)\n",
    "y_pred = model.predict(X)\n",
    "accuracy_score(y, y_pred)"
   ]
  },
  {
   "cell_type": "code",
   "execution_count": null,
   "metadata": {},
   "outputs": [],
   "source": []
  }
 ],
 "metadata": {
  "interpreter": {
   "hash": "b460384b52104c1e5b9cf54bee46a255d22b2bef338f75ac4ad5d48196028d3c"
  },
  "kernelspec": {
   "display_name": "Python 3.10.2 64-bit",
   "language": "python",
   "name": "python3"
  },
  "language_info": {
   "codemirror_mode": {
    "name": "ipython",
    "version": 3
   },
   "file_extension": ".py",
   "mimetype": "text/x-python",
   "name": "python",
   "nbconvert_exporter": "python",
   "pygments_lexer": "ipython3",
   "version": "3.10.2"
  },
  "orig_nbformat": 4
 },
 "nbformat": 4,
 "nbformat_minor": 2
}
