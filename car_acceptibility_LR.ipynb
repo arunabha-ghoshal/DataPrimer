{
 "metadata": {
  "language_info": {
   "codemirror_mode": {
    "name": "ipython",
    "version": 3
   },
   "file_extension": ".py",
   "mimetype": "text/x-python",
   "name": "python",
   "nbconvert_exporter": "python",
   "pygments_lexer": "ipython3",
   "version": "3.6.2-final"
  },
  "orig_nbformat": 2,
  "kernelspec": {
   "name": "python3",
   "display_name": "Python 3.6.2 64-bit",
   "metadata": {
    "interpreter": {
     "hash": "e7c37ba80a6e54a3d63188245ab5de6a3e0d381993bcb1990a7020536fc2299e"
    }
   }
  }
 },
 "nbformat": 4,
 "nbformat_minor": 2,
 "cells": [
  {
   "cell_type": "code",
   "execution_count": 10,
   "metadata": {},
   "outputs": [
    {
     "output_type": "display_data",
     "data": {
      "text/html": "        <script type=\"text/javascript\">\n        window.PlotlyConfig = {MathJaxConfig: 'local'};\n        if (window.MathJax) {MathJax.Hub.Config({SVG: {font: \"STIX-Web\"}});}\n        if (typeof require !== 'undefined') {\n        require.undef(\"plotly\");\n        requirejs.config({\n            paths: {\n                'plotly': ['https://cdn.plot.ly/plotly-latest.min']\n            }\n        });\n        require(['plotly'], function(Plotly) {\n            window._Plotly = Plotly;\n        });\n        }\n        </script>\n        "
     },
     "metadata": {}
    }
   ],
   "source": [
    "#import all the necessary modules\n",
    "import numpy as np\n",
    "import pandas as pd\n",
    "import matplotlib.pyplot as plt\n",
    "import plotly.offline as py\n",
    "from plotly import tools\n",
    "py.init_notebook_mode(connected=True)\n",
    "import plotly.graph_objs as go\n",
    "from sklearn.model_selection import train_test_split\n",
    "import warnings\n",
    "warnings.filterwarnings('ignore')\n",
    "import os\n",
    "import sys"
   ]
  },
  {
   "cell_type": "code",
   "execution_count": 116,
   "metadata": {},
   "outputs": [
    {
     "output_type": "stream",
     "name": "stdout",
     "text": [
      "c:\\Users\\bupadhy\\OneDrive - Lowe's Companies Inc\\Documents\\DataScience\\car.data\n"
     ]
    }
   ],
   "source": [
    "#to set up the current directory for input car dataset\n",
    "#place car.data file under the same dir where this .ipynb file is placed.\n",
    "__location__ = os.path.realpath(os.getcwd())\n",
    "for dirname, _, filenames in os.walk(__location__):\n",
    "    for filename in filenames:\n",
    "        if filename == 'car.data':\n",
    "            input_data = os.path.join(dirname, filename)\n",
    "print(input_data)\n"
   ]
  },
  {
   "cell_type": "code",
   "execution_count": 22,
   "metadata": {},
   "outputs": [
    {
     "output_type": "stream",
     "name": "stdout",
     "text": [
      "(1727, 7)\n"
     ]
    }
   ],
   "source": [
    "#reading the dataset using pandas\n",
    "cars_df = pd.read_csv(input_data)\n",
    "print(cars_df.shape)"
   ]
  },
  {
   "cell_type": "code",
   "execution_count": 23,
   "metadata": {},
   "outputs": [],
   "source": [
    "#assigning columns to our inpput car dataset df\n",
    "cars_df.columns = ['buying', 'maint', 'doors','persons','lugboot','safety','evaluation']"
   ]
  },
  {
   "cell_type": "code",
   "execution_count": 26,
   "metadata": {},
   "outputs": [
    {
     "output_type": "execute_result",
     "data": {
      "text/plain": [
       "  buying  maint doors persons lugboot safety evaluation\n",
       "0  vhigh  vhigh     2       2   small    med      unacc\n",
       "1  vhigh  vhigh     2       2   small   high      unacc\n",
       "2  vhigh  vhigh     2       2     med    low      unacc\n",
       "3  vhigh  vhigh     2       2     med    med      unacc\n",
       "4  vhigh  vhigh     2       2     med   high      unacc"
      ],
      "text/html": "<div>\n<style scoped>\n    .dataframe tbody tr th:only-of-type {\n        vertical-align: middle;\n    }\n\n    .dataframe tbody tr th {\n        vertical-align: top;\n    }\n\n    .dataframe thead th {\n        text-align: right;\n    }\n</style>\n<table border=\"1\" class=\"dataframe\">\n  <thead>\n    <tr style=\"text-align: right;\">\n      <th></th>\n      <th>buying</th>\n      <th>maint</th>\n      <th>doors</th>\n      <th>persons</th>\n      <th>lugboot</th>\n      <th>safety</th>\n      <th>evaluation</th>\n    </tr>\n  </thead>\n  <tbody>\n    <tr>\n      <th>0</th>\n      <td>vhigh</td>\n      <td>vhigh</td>\n      <td>2</td>\n      <td>2</td>\n      <td>small</td>\n      <td>med</td>\n      <td>unacc</td>\n    </tr>\n    <tr>\n      <th>1</th>\n      <td>vhigh</td>\n      <td>vhigh</td>\n      <td>2</td>\n      <td>2</td>\n      <td>small</td>\n      <td>high</td>\n      <td>unacc</td>\n    </tr>\n    <tr>\n      <th>2</th>\n      <td>vhigh</td>\n      <td>vhigh</td>\n      <td>2</td>\n      <td>2</td>\n      <td>med</td>\n      <td>low</td>\n      <td>unacc</td>\n    </tr>\n    <tr>\n      <th>3</th>\n      <td>vhigh</td>\n      <td>vhigh</td>\n      <td>2</td>\n      <td>2</td>\n      <td>med</td>\n      <td>med</td>\n      <td>unacc</td>\n    </tr>\n    <tr>\n      <th>4</th>\n      <td>vhigh</td>\n      <td>vhigh</td>\n      <td>2</td>\n      <td>2</td>\n      <td>med</td>\n      <td>high</td>\n      <td>unacc</td>\n    </tr>\n  </tbody>\n</table>\n</div>"
     },
     "metadata": {},
     "execution_count": 26
    }
   ],
   "source": [
    "#visualizing input dataset\n",
    "cars_df.head()"
   ]
  },
  {
   "cell_type": "code",
   "execution_count": 27,
   "metadata": {},
   "outputs": [
    {
     "output_type": "execute_result",
     "data": {
      "text/plain": [
       "buying        0\n",
       "maint         0\n",
       "doors         0\n",
       "persons       0\n",
       "lugboot       0\n",
       "safety        0\n",
       "evaluation    0\n",
       "dtype: int64"
      ]
     },
     "metadata": {},
     "execution_count": 27
    }
   ],
   "source": [
    "#check for null shells\n",
    "cars_df.isnull().sum()\n"
   ]
  },
  {
   "cell_type": "code",
   "execution_count": 28,
   "metadata": {},
   "outputs": [
    {
     "output_type": "execute_result",
     "data": {
      "text/plain": [
       "       buying maint doors persons lugboot safety evaluation\n",
       "count    1727  1727  1727    1727    1727   1727       1727\n",
       "unique      4     4     4       3       3      3          4\n",
       "top      high  high     3    more     big   high      unacc\n",
       "freq      432   432   432     576     576    576       1209"
      ],
      "text/html": "<div>\n<style scoped>\n    .dataframe tbody tr th:only-of-type {\n        vertical-align: middle;\n    }\n\n    .dataframe tbody tr th {\n        vertical-align: top;\n    }\n\n    .dataframe thead th {\n        text-align: right;\n    }\n</style>\n<table border=\"1\" class=\"dataframe\">\n  <thead>\n    <tr style=\"text-align: right;\">\n      <th></th>\n      <th>buying</th>\n      <th>maint</th>\n      <th>doors</th>\n      <th>persons</th>\n      <th>lugboot</th>\n      <th>safety</th>\n      <th>evaluation</th>\n    </tr>\n  </thead>\n  <tbody>\n    <tr>\n      <th>count</th>\n      <td>1727</td>\n      <td>1727</td>\n      <td>1727</td>\n      <td>1727</td>\n      <td>1727</td>\n      <td>1727</td>\n      <td>1727</td>\n    </tr>\n    <tr>\n      <th>unique</th>\n      <td>4</td>\n      <td>4</td>\n      <td>4</td>\n      <td>3</td>\n      <td>3</td>\n      <td>3</td>\n      <td>4</td>\n    </tr>\n    <tr>\n      <th>top</th>\n      <td>high</td>\n      <td>high</td>\n      <td>3</td>\n      <td>more</td>\n      <td>big</td>\n      <td>high</td>\n      <td>unacc</td>\n    </tr>\n    <tr>\n      <th>freq</th>\n      <td>432</td>\n      <td>432</td>\n      <td>432</td>\n      <td>576</td>\n      <td>576</td>\n      <td>576</td>\n      <td>1209</td>\n    </tr>\n  </tbody>\n</table>\n</div>"
     },
     "metadata": {},
     "execution_count": 28
    }
   ],
   "source": [
    "#analytical look at our dataset\n",
    "cars_df.describe()"
   ]
  },
  {
   "cell_type": "code",
   "execution_count": 29,
   "metadata": {},
   "outputs": [
    {
     "output_type": "execute_result",
     "data": {
      "text/plain": [
       "Index(['buying', 'maint', 'doors', 'persons', 'lugboot', 'safety',\n",
       "       'evaluation'],\n",
       "      dtype='object')"
      ]
     },
     "metadata": {},
     "execution_count": 29
    }
   ],
   "source": [
    "cars_df.columns"
   ]
  },
  {
   "cell_type": "code",
   "execution_count": 30,
   "metadata": {},
   "outputs": [
    {
     "output_type": "execute_result",
     "data": {
      "text/plain": [
       "acc       384\n",
       "good       69\n",
       "unacc    1209\n",
       "vgood      65\n",
       "Name: evaluation, dtype: int64"
      ]
     },
     "metadata": {},
     "execution_count": 30
    }
   ],
   "source": [
    "#the number of cars in each evaluation category in the given input dataset\n",
    "cars_df['evaluation'].value_counts().sort_index()"
   ]
  },
  {
   "cell_type": "code",
   "execution_count": 31,
   "metadata": {},
   "outputs": [
    {
     "output_type": "display_data",
     "data": {
      "application/vnd.plotly.v1+json": {
       "config": {
        "linkText": "Export to plot.ly",
        "plotlyServerURL": "https://plot.ly",
        "showLink": false
       },
       "data": [
        {
         "domain": {
          "column": 0
         },
         "hole": 0.6,
         "hoverinfo": "label+percent+name",
         "labels": [
          "Unacceptable",
          "Acceptable",
          "Good",
          "Very Good"
         ],
         "name": "Car Evaluation",
         "type": "pie",
         "values": [
          1209,
          384,
          69,
          65
         ]
        }
       ],
       "layout": {
        "annotations": [
         {
          "font": {
           "size": 36
          },
          "showarrow": false,
          "text": "",
          "x": 0.5,
          "y": 0.5
         }
        ],
        "grid": {
         "columns": 1,
         "rows": 1
        },
        "template": {
         "data": {
          "bar": [
           {
            "error_x": {
             "color": "#2a3f5f"
            },
            "error_y": {
             "color": "#2a3f5f"
            },
            "marker": {
             "line": {
              "color": "#E5ECF6",
              "width": 0.5
             }
            },
            "type": "bar"
           }
          ],
          "barpolar": [
           {
            "marker": {
             "line": {
              "color": "#E5ECF6",
              "width": 0.5
             }
            },
            "type": "barpolar"
           }
          ],
          "carpet": [
           {
            "aaxis": {
             "endlinecolor": "#2a3f5f",
             "gridcolor": "white",
             "linecolor": "white",
             "minorgridcolor": "white",
             "startlinecolor": "#2a3f5f"
            },
            "baxis": {
             "endlinecolor": "#2a3f5f",
             "gridcolor": "white",
             "linecolor": "white",
             "minorgridcolor": "white",
             "startlinecolor": "#2a3f5f"
            },
            "type": "carpet"
           }
          ],
          "choropleth": [
           {
            "colorbar": {
             "outlinewidth": 0,
             "ticks": ""
            },
            "type": "choropleth"
           }
          ],
          "contour": [
           {
            "colorbar": {
             "outlinewidth": 0,
             "ticks": ""
            },
            "colorscale": [
             [
              0,
              "#0d0887"
             ],
             [
              0.1111111111111111,
              "#46039f"
             ],
             [
              0.2222222222222222,
              "#7201a8"
             ],
             [
              0.3333333333333333,
              "#9c179e"
             ],
             [
              0.4444444444444444,
              "#bd3786"
             ],
             [
              0.5555555555555556,
              "#d8576b"
             ],
             [
              0.6666666666666666,
              "#ed7953"
             ],
             [
              0.7777777777777778,
              "#fb9f3a"
             ],
             [
              0.8888888888888888,
              "#fdca26"
             ],
             [
              1,
              "#f0f921"
             ]
            ],
            "type": "contour"
           }
          ],
          "contourcarpet": [
           {
            "colorbar": {
             "outlinewidth": 0,
             "ticks": ""
            },
            "type": "contourcarpet"
           }
          ],
          "heatmap": [
           {
            "colorbar": {
             "outlinewidth": 0,
             "ticks": ""
            },
            "colorscale": [
             [
              0,
              "#0d0887"
             ],
             [
              0.1111111111111111,
              "#46039f"
             ],
             [
              0.2222222222222222,
              "#7201a8"
             ],
             [
              0.3333333333333333,
              "#9c179e"
             ],
             [
              0.4444444444444444,
              "#bd3786"
             ],
             [
              0.5555555555555556,
              "#d8576b"
             ],
             [
              0.6666666666666666,
              "#ed7953"
             ],
             [
              0.7777777777777778,
              "#fb9f3a"
             ],
             [
              0.8888888888888888,
              "#fdca26"
             ],
             [
              1,
              "#f0f921"
             ]
            ],
            "type": "heatmap"
           }
          ],
          "heatmapgl": [
           {
            "colorbar": {
             "outlinewidth": 0,
             "ticks": ""
            },
            "colorscale": [
             [
              0,
              "#0d0887"
             ],
             [
              0.1111111111111111,
              "#46039f"
             ],
             [
              0.2222222222222222,
              "#7201a8"
             ],
             [
              0.3333333333333333,
              "#9c179e"
             ],
             [
              0.4444444444444444,
              "#bd3786"
             ],
             [
              0.5555555555555556,
              "#d8576b"
             ],
             [
              0.6666666666666666,
              "#ed7953"
             ],
             [
              0.7777777777777778,
              "#fb9f3a"
             ],
             [
              0.8888888888888888,
              "#fdca26"
             ],
             [
              1,
              "#f0f921"
             ]
            ],
            "type": "heatmapgl"
           }
          ],
          "histogram": [
           {
            "marker": {
             "colorbar": {
              "outlinewidth": 0,
              "ticks": ""
             }
            },
            "type": "histogram"
           }
          ],
          "histogram2d": [
           {
            "colorbar": {
             "outlinewidth": 0,
             "ticks": ""
            },
            "colorscale": [
             [
              0,
              "#0d0887"
             ],
             [
              0.1111111111111111,
              "#46039f"
             ],
             [
              0.2222222222222222,
              "#7201a8"
             ],
             [
              0.3333333333333333,
              "#9c179e"
             ],
             [
              0.4444444444444444,
              "#bd3786"
             ],
             [
              0.5555555555555556,
              "#d8576b"
             ],
             [
              0.6666666666666666,
              "#ed7953"
             ],
             [
              0.7777777777777778,
              "#fb9f3a"
             ],
             [
              0.8888888888888888,
              "#fdca26"
             ],
             [
              1,
              "#f0f921"
             ]
            ],
            "type": "histogram2d"
           }
          ],
          "histogram2dcontour": [
           {
            "colorbar": {
             "outlinewidth": 0,
             "ticks": ""
            },
            "colorscale": [
             [
              0,
              "#0d0887"
             ],
             [
              0.1111111111111111,
              "#46039f"
             ],
             [
              0.2222222222222222,
              "#7201a8"
             ],
             [
              0.3333333333333333,
              "#9c179e"
             ],
             [
              0.4444444444444444,
              "#bd3786"
             ],
             [
              0.5555555555555556,
              "#d8576b"
             ],
             [
              0.6666666666666666,
              "#ed7953"
             ],
             [
              0.7777777777777778,
              "#fb9f3a"
             ],
             [
              0.8888888888888888,
              "#fdca26"
             ],
             [
              1,
              "#f0f921"
             ]
            ],
            "type": "histogram2dcontour"
           }
          ],
          "mesh3d": [
           {
            "colorbar": {
             "outlinewidth": 0,
             "ticks": ""
            },
            "type": "mesh3d"
           }
          ],
          "parcoords": [
           {
            "line": {
             "colorbar": {
              "outlinewidth": 0,
              "ticks": ""
             }
            },
            "type": "parcoords"
           }
          ],
          "pie": [
           {
            "automargin": true,
            "type": "pie"
           }
          ],
          "scatter": [
           {
            "marker": {
             "colorbar": {
              "outlinewidth": 0,
              "ticks": ""
             }
            },
            "type": "scatter"
           }
          ],
          "scatter3d": [
           {
            "line": {
             "colorbar": {
              "outlinewidth": 0,
              "ticks": ""
             }
            },
            "marker": {
             "colorbar": {
              "outlinewidth": 0,
              "ticks": ""
             }
            },
            "type": "scatter3d"
           }
          ],
          "scattercarpet": [
           {
            "marker": {
             "colorbar": {
              "outlinewidth": 0,
              "ticks": ""
             }
            },
            "type": "scattercarpet"
           }
          ],
          "scattergeo": [
           {
            "marker": {
             "colorbar": {
              "outlinewidth": 0,
              "ticks": ""
             }
            },
            "type": "scattergeo"
           }
          ],
          "scattergl": [
           {
            "marker": {
             "colorbar": {
              "outlinewidth": 0,
              "ticks": ""
             }
            },
            "type": "scattergl"
           }
          ],
          "scattermapbox": [
           {
            "marker": {
             "colorbar": {
              "outlinewidth": 0,
              "ticks": ""
             }
            },
            "type": "scattermapbox"
           }
          ],
          "scatterpolar": [
           {
            "marker": {
             "colorbar": {
              "outlinewidth": 0,
              "ticks": ""
             }
            },
            "type": "scatterpolar"
           }
          ],
          "scatterpolargl": [
           {
            "marker": {
             "colorbar": {
              "outlinewidth": 0,
              "ticks": ""
             }
            },
            "type": "scatterpolargl"
           }
          ],
          "scatterternary": [
           {
            "marker": {
             "colorbar": {
              "outlinewidth": 0,
              "ticks": ""
             }
            },
            "type": "scatterternary"
           }
          ],
          "surface": [
           {
            "colorbar": {
             "outlinewidth": 0,
             "ticks": ""
            },
            "colorscale": [
             [
              0,
              "#0d0887"
             ],
             [
              0.1111111111111111,
              "#46039f"
             ],
             [
              0.2222222222222222,
              "#7201a8"
             ],
             [
              0.3333333333333333,
              "#9c179e"
             ],
             [
              0.4444444444444444,
              "#bd3786"
             ],
             [
              0.5555555555555556,
              "#d8576b"
             ],
             [
              0.6666666666666666,
              "#ed7953"
             ],
             [
              0.7777777777777778,
              "#fb9f3a"
             ],
             [
              0.8888888888888888,
              "#fdca26"
             ],
             [
              1,
              "#f0f921"
             ]
            ],
            "type": "surface"
           }
          ],
          "table": [
           {
            "cells": {
             "fill": {
              "color": "#EBF0F8"
             },
             "line": {
              "color": "white"
             }
            },
            "header": {
             "fill": {
              "color": "#C8D4E3"
             },
             "line": {
              "color": "white"
             }
            },
            "type": "table"
           }
          ]
         },
         "layout": {
          "annotationdefaults": {
           "arrowcolor": "#2a3f5f",
           "arrowhead": 0,
           "arrowwidth": 1
          },
          "coloraxis": {
           "colorbar": {
            "outlinewidth": 0,
            "ticks": ""
           }
          },
          "colorscale": {
           "diverging": [
            [
             0,
             "#8e0152"
            ],
            [
             0.1,
             "#c51b7d"
            ],
            [
             0.2,
             "#de77ae"
            ],
            [
             0.3,
             "#f1b6da"
            ],
            [
             0.4,
             "#fde0ef"
            ],
            [
             0.5,
             "#f7f7f7"
            ],
            [
             0.6,
             "#e6f5d0"
            ],
            [
             0.7,
             "#b8e186"
            ],
            [
             0.8,
             "#7fbc41"
            ],
            [
             0.9,
             "#4d9221"
            ],
            [
             1,
             "#276419"
            ]
           ],
           "sequential": [
            [
             0,
             "#0d0887"
            ],
            [
             0.1111111111111111,
             "#46039f"
            ],
            [
             0.2222222222222222,
             "#7201a8"
            ],
            [
             0.3333333333333333,
             "#9c179e"
            ],
            [
             0.4444444444444444,
             "#bd3786"
            ],
            [
             0.5555555555555556,
             "#d8576b"
            ],
            [
             0.6666666666666666,
             "#ed7953"
            ],
            [
             0.7777777777777778,
             "#fb9f3a"
            ],
            [
             0.8888888888888888,
             "#fdca26"
            ],
            [
             1,
             "#f0f921"
            ]
           ],
           "sequentialminus": [
            [
             0,
             "#0d0887"
            ],
            [
             0.1111111111111111,
             "#46039f"
            ],
            [
             0.2222222222222222,
             "#7201a8"
            ],
            [
             0.3333333333333333,
             "#9c179e"
            ],
            [
             0.4444444444444444,
             "#bd3786"
            ],
            [
             0.5555555555555556,
             "#d8576b"
            ],
            [
             0.6666666666666666,
             "#ed7953"
            ],
            [
             0.7777777777777778,
             "#fb9f3a"
            ],
            [
             0.8888888888888888,
             "#fdca26"
            ],
            [
             1,
             "#f0f921"
            ]
           ]
          },
          "colorway": [
           "#636efa",
           "#EF553B",
           "#00cc96",
           "#ab63fa",
           "#FFA15A",
           "#19d3f3",
           "#FF6692",
           "#B6E880",
           "#FF97FF",
           "#FECB52"
          ],
          "font": {
           "color": "#2a3f5f"
          },
          "geo": {
           "bgcolor": "white",
           "lakecolor": "white",
           "landcolor": "#E5ECF6",
           "showlakes": true,
           "showland": true,
           "subunitcolor": "white"
          },
          "hoverlabel": {
           "align": "left"
          },
          "hovermode": "closest",
          "mapbox": {
           "style": "light"
          },
          "paper_bgcolor": "white",
          "plot_bgcolor": "#E5ECF6",
          "polar": {
           "angularaxis": {
            "gridcolor": "white",
            "linecolor": "white",
            "ticks": ""
           },
           "bgcolor": "#E5ECF6",
           "radialaxis": {
            "gridcolor": "white",
            "linecolor": "white",
            "ticks": ""
           }
          },
          "scene": {
           "xaxis": {
            "backgroundcolor": "#E5ECF6",
            "gridcolor": "white",
            "gridwidth": 2,
            "linecolor": "white",
            "showbackground": true,
            "ticks": "",
            "zerolinecolor": "white"
           },
           "yaxis": {
            "backgroundcolor": "#E5ECF6",
            "gridcolor": "white",
            "gridwidth": 2,
            "linecolor": "white",
            "showbackground": true,
            "ticks": "",
            "zerolinecolor": "white"
           },
           "zaxis": {
            "backgroundcolor": "#E5ECF6",
            "gridcolor": "white",
            "gridwidth": 2,
            "linecolor": "white",
            "showbackground": true,
            "ticks": "",
            "zerolinecolor": "white"
           }
          },
          "shapedefaults": {
           "line": {
            "color": "#2a3f5f"
           }
          },
          "ternary": {
           "aaxis": {
            "gridcolor": "white",
            "linecolor": "white",
            "ticks": ""
           },
           "baxis": {
            "gridcolor": "white",
            "linecolor": "white",
            "ticks": ""
           },
           "bgcolor": "#E5ECF6",
           "caxis": {
            "gridcolor": "white",
            "linecolor": "white",
            "ticks": ""
           }
          },
          "title": {
           "x": 0.05
          },
          "xaxis": {
           "automargin": true,
           "gridcolor": "white",
           "linecolor": "white",
           "ticks": "",
           "title": {
            "standoff": 15
           },
           "zerolinecolor": "white",
           "zerolinewidth": 2
          },
          "yaxis": {
           "automargin": true,
           "gridcolor": "white",
           "linecolor": "white",
           "ticks": "",
           "title": {
            "standoff": 15
           },
           "zerolinecolor": "white",
           "zerolinewidth": 2
          }
         }
        },
        "title": {
         "text": "Distribution of Evaluated Cars"
        }
       }
      },
      "text/html": "<div>\n        \n        \n            <div id=\"63ff55d4-0934-43d8-ab62-7917bf439e83\" class=\"plotly-graph-div\" style=\"height:525px; width:100%;\"></div>\n            <script type=\"text/javascript\">\n                require([\"plotly\"], function(Plotly) {\n                    window.PLOTLYENV=window.PLOTLYENV || {};\n                    \n                if (document.getElementById(\"63ff55d4-0934-43d8-ab62-7917bf439e83\")) {\n                    Plotly.newPlot(\n                        '63ff55d4-0934-43d8-ab62-7917bf439e83',\n                        [{\"domain\": {\"column\": 0}, \"hole\": 0.6, \"hoverinfo\": \"label+percent+name\", \"labels\": [\"Unacceptable\", \"Acceptable\", \"Good\", \"Very Good\"], \"name\": \"Car Evaluation\", \"type\": \"pie\", \"values\": [1209, 384, 69, 65]}],\n                        {\"annotations\": [{\"font\": {\"size\": 36}, \"showarrow\": false, \"text\": \"\", \"x\": 0.5, \"y\": 0.5}], \"grid\": {\"columns\": 1, \"rows\": 1}, \"template\": {\"data\": {\"bar\": [{\"error_x\": {\"color\": \"#2a3f5f\"}, \"error_y\": {\"color\": \"#2a3f5f\"}, \"marker\": {\"line\": {\"color\": \"#E5ECF6\", \"width\": 0.5}}, \"type\": \"bar\"}], \"barpolar\": [{\"marker\": {\"line\": {\"color\": \"#E5ECF6\", \"width\": 0.5}}, \"type\": \"barpolar\"}], \"carpet\": [{\"aaxis\": {\"endlinecolor\": \"#2a3f5f\", \"gridcolor\": \"white\", \"linecolor\": \"white\", \"minorgridcolor\": \"white\", \"startlinecolor\": \"#2a3f5f\"}, \"baxis\": {\"endlinecolor\": \"#2a3f5f\", \"gridcolor\": \"white\", \"linecolor\": \"white\", \"minorgridcolor\": \"white\", \"startlinecolor\": \"#2a3f5f\"}, \"type\": \"carpet\"}], \"choropleth\": [{\"colorbar\": {\"outlinewidth\": 0, \"ticks\": \"\"}, \"type\": \"choropleth\"}], \"contour\": [{\"colorbar\": {\"outlinewidth\": 0, \"ticks\": \"\"}, \"colorscale\": [[0.0, \"#0d0887\"], [0.1111111111111111, \"#46039f\"], [0.2222222222222222, \"#7201a8\"], [0.3333333333333333, \"#9c179e\"], [0.4444444444444444, \"#bd3786\"], [0.5555555555555556, \"#d8576b\"], [0.6666666666666666, \"#ed7953\"], [0.7777777777777778, \"#fb9f3a\"], [0.8888888888888888, \"#fdca26\"], [1.0, \"#f0f921\"]], \"type\": \"contour\"}], \"contourcarpet\": [{\"colorbar\": {\"outlinewidth\": 0, \"ticks\": \"\"}, \"type\": \"contourcarpet\"}], \"heatmap\": [{\"colorbar\": {\"outlinewidth\": 0, \"ticks\": \"\"}, \"colorscale\": [[0.0, \"#0d0887\"], [0.1111111111111111, \"#46039f\"], [0.2222222222222222, \"#7201a8\"], [0.3333333333333333, \"#9c179e\"], [0.4444444444444444, \"#bd3786\"], [0.5555555555555556, \"#d8576b\"], [0.6666666666666666, \"#ed7953\"], [0.7777777777777778, \"#fb9f3a\"], [0.8888888888888888, \"#fdca26\"], [1.0, \"#f0f921\"]], \"type\": \"heatmap\"}], \"heatmapgl\": [{\"colorbar\": {\"outlinewidth\": 0, \"ticks\": \"\"}, \"colorscale\": [[0.0, \"#0d0887\"], [0.1111111111111111, \"#46039f\"], [0.2222222222222222, \"#7201a8\"], [0.3333333333333333, \"#9c179e\"], [0.4444444444444444, \"#bd3786\"], [0.5555555555555556, \"#d8576b\"], [0.6666666666666666, \"#ed7953\"], [0.7777777777777778, \"#fb9f3a\"], [0.8888888888888888, \"#fdca26\"], [1.0, \"#f0f921\"]], \"type\": \"heatmapgl\"}], \"histogram\": [{\"marker\": {\"colorbar\": {\"outlinewidth\": 0, \"ticks\": \"\"}}, \"type\": \"histogram\"}], \"histogram2d\": [{\"colorbar\": {\"outlinewidth\": 0, \"ticks\": \"\"}, \"colorscale\": [[0.0, \"#0d0887\"], [0.1111111111111111, \"#46039f\"], [0.2222222222222222, \"#7201a8\"], [0.3333333333333333, \"#9c179e\"], [0.4444444444444444, \"#bd3786\"], [0.5555555555555556, \"#d8576b\"], [0.6666666666666666, \"#ed7953\"], [0.7777777777777778, \"#fb9f3a\"], [0.8888888888888888, \"#fdca26\"], [1.0, \"#f0f921\"]], \"type\": \"histogram2d\"}], \"histogram2dcontour\": [{\"colorbar\": {\"outlinewidth\": 0, \"ticks\": \"\"}, \"colorscale\": [[0.0, \"#0d0887\"], [0.1111111111111111, \"#46039f\"], [0.2222222222222222, \"#7201a8\"], [0.3333333333333333, \"#9c179e\"], [0.4444444444444444, \"#bd3786\"], [0.5555555555555556, \"#d8576b\"], [0.6666666666666666, \"#ed7953\"], [0.7777777777777778, \"#fb9f3a\"], [0.8888888888888888, \"#fdca26\"], [1.0, \"#f0f921\"]], \"type\": \"histogram2dcontour\"}], \"mesh3d\": [{\"colorbar\": {\"outlinewidth\": 0, \"ticks\": \"\"}, \"type\": \"mesh3d\"}], \"parcoords\": [{\"line\": {\"colorbar\": {\"outlinewidth\": 0, \"ticks\": \"\"}}, \"type\": \"parcoords\"}], \"pie\": [{\"automargin\": true, \"type\": \"pie\"}], \"scatter\": [{\"marker\": {\"colorbar\": {\"outlinewidth\": 0, \"ticks\": \"\"}}, \"type\": \"scatter\"}], \"scatter3d\": [{\"line\": {\"colorbar\": {\"outlinewidth\": 0, \"ticks\": \"\"}}, \"marker\": {\"colorbar\": {\"outlinewidth\": 0, \"ticks\": \"\"}}, \"type\": \"scatter3d\"}], \"scattercarpet\": [{\"marker\": {\"colorbar\": {\"outlinewidth\": 0, \"ticks\": \"\"}}, \"type\": \"scattercarpet\"}], \"scattergeo\": [{\"marker\": {\"colorbar\": {\"outlinewidth\": 0, \"ticks\": \"\"}}, \"type\": \"scattergeo\"}], \"scattergl\": [{\"marker\": {\"colorbar\": {\"outlinewidth\": 0, \"ticks\": \"\"}}, \"type\": \"scattergl\"}], \"scattermapbox\": [{\"marker\": {\"colorbar\": {\"outlinewidth\": 0, \"ticks\": \"\"}}, \"type\": \"scattermapbox\"}], \"scatterpolar\": [{\"marker\": {\"colorbar\": {\"outlinewidth\": 0, \"ticks\": \"\"}}, \"type\": \"scatterpolar\"}], \"scatterpolargl\": [{\"marker\": {\"colorbar\": {\"outlinewidth\": 0, \"ticks\": \"\"}}, \"type\": \"scatterpolargl\"}], \"scatterternary\": [{\"marker\": {\"colorbar\": {\"outlinewidth\": 0, \"ticks\": \"\"}}, \"type\": \"scatterternary\"}], \"surface\": [{\"colorbar\": {\"outlinewidth\": 0, \"ticks\": \"\"}, \"colorscale\": [[0.0, \"#0d0887\"], [0.1111111111111111, \"#46039f\"], [0.2222222222222222, \"#7201a8\"], [0.3333333333333333, \"#9c179e\"], [0.4444444444444444, \"#bd3786\"], [0.5555555555555556, \"#d8576b\"], [0.6666666666666666, \"#ed7953\"], [0.7777777777777778, \"#fb9f3a\"], [0.8888888888888888, \"#fdca26\"], [1.0, \"#f0f921\"]], \"type\": \"surface\"}], \"table\": [{\"cells\": {\"fill\": {\"color\": \"#EBF0F8\"}, \"line\": {\"color\": \"white\"}}, \"header\": {\"fill\": {\"color\": \"#C8D4E3\"}, \"line\": {\"color\": \"white\"}}, \"type\": \"table\"}]}, \"layout\": {\"annotationdefaults\": {\"arrowcolor\": \"#2a3f5f\", \"arrowhead\": 0, \"arrowwidth\": 1}, \"coloraxis\": {\"colorbar\": {\"outlinewidth\": 0, \"ticks\": \"\"}}, \"colorscale\": {\"diverging\": [[0, \"#8e0152\"], [0.1, \"#c51b7d\"], [0.2, \"#de77ae\"], [0.3, \"#f1b6da\"], [0.4, \"#fde0ef\"], [0.5, \"#f7f7f7\"], [0.6, \"#e6f5d0\"], [0.7, \"#b8e186\"], [0.8, \"#7fbc41\"], [0.9, \"#4d9221\"], [1, \"#276419\"]], \"sequential\": [[0.0, \"#0d0887\"], [0.1111111111111111, \"#46039f\"], [0.2222222222222222, \"#7201a8\"], [0.3333333333333333, \"#9c179e\"], [0.4444444444444444, \"#bd3786\"], [0.5555555555555556, \"#d8576b\"], [0.6666666666666666, \"#ed7953\"], [0.7777777777777778, \"#fb9f3a\"], [0.8888888888888888, \"#fdca26\"], [1.0, \"#f0f921\"]], \"sequentialminus\": [[0.0, \"#0d0887\"], [0.1111111111111111, \"#46039f\"], [0.2222222222222222, \"#7201a8\"], [0.3333333333333333, \"#9c179e\"], [0.4444444444444444, \"#bd3786\"], [0.5555555555555556, \"#d8576b\"], [0.6666666666666666, \"#ed7953\"], [0.7777777777777778, \"#fb9f3a\"], [0.8888888888888888, \"#fdca26\"], [1.0, \"#f0f921\"]]}, \"colorway\": [\"#636efa\", \"#EF553B\", \"#00cc96\", \"#ab63fa\", \"#FFA15A\", \"#19d3f3\", \"#FF6692\", \"#B6E880\", \"#FF97FF\", \"#FECB52\"], \"font\": {\"color\": \"#2a3f5f\"}, \"geo\": {\"bgcolor\": \"white\", \"lakecolor\": \"white\", \"landcolor\": \"#E5ECF6\", \"showlakes\": true, \"showland\": true, \"subunitcolor\": \"white\"}, \"hoverlabel\": {\"align\": \"left\"}, \"hovermode\": \"closest\", \"mapbox\": {\"style\": \"light\"}, \"paper_bgcolor\": \"white\", \"plot_bgcolor\": \"#E5ECF6\", \"polar\": {\"angularaxis\": {\"gridcolor\": \"white\", \"linecolor\": \"white\", \"ticks\": \"\"}, \"bgcolor\": \"#E5ECF6\", \"radialaxis\": {\"gridcolor\": \"white\", \"linecolor\": \"white\", \"ticks\": \"\"}}, \"scene\": {\"xaxis\": {\"backgroundcolor\": \"#E5ECF6\", \"gridcolor\": \"white\", \"gridwidth\": 2, \"linecolor\": \"white\", \"showbackground\": true, \"ticks\": \"\", \"zerolinecolor\": \"white\"}, \"yaxis\": {\"backgroundcolor\": \"#E5ECF6\", \"gridcolor\": \"white\", \"gridwidth\": 2, \"linecolor\": \"white\", \"showbackground\": true, \"ticks\": \"\", \"zerolinecolor\": \"white\"}, \"zaxis\": {\"backgroundcolor\": \"#E5ECF6\", \"gridcolor\": \"white\", \"gridwidth\": 2, \"linecolor\": \"white\", \"showbackground\": true, \"ticks\": \"\", \"zerolinecolor\": \"white\"}}, \"shapedefaults\": {\"line\": {\"color\": \"#2a3f5f\"}}, \"ternary\": {\"aaxis\": {\"gridcolor\": \"white\", \"linecolor\": \"white\", \"ticks\": \"\"}, \"baxis\": {\"gridcolor\": \"white\", \"linecolor\": \"white\", \"ticks\": \"\"}, \"bgcolor\": \"#E5ECF6\", \"caxis\": {\"gridcolor\": \"white\", \"linecolor\": \"white\", \"ticks\": \"\"}}, \"title\": {\"x\": 0.05}, \"xaxis\": {\"automargin\": true, \"gridcolor\": \"white\", \"linecolor\": \"white\", \"ticks\": \"\", \"title\": {\"standoff\": 15}, \"zerolinecolor\": \"white\", \"zerolinewidth\": 2}, \"yaxis\": {\"automargin\": true, \"gridcolor\": \"white\", \"linecolor\": \"white\", \"ticks\": \"\", \"title\": {\"standoff\": 15}, \"zerolinecolor\": \"white\", \"zerolinewidth\": 2}}}, \"title\": {\"text\": \"Distribution of Evaluated Cars\"}},\n                        {\"responsive\": true}\n                    ).then(function(){\n                            \nvar gd = document.getElementById('63ff55d4-0934-43d8-ab62-7917bf439e83');\nvar x = new MutationObserver(function (mutations, observer) {{\n        var display = window.getComputedStyle(gd).display;\n        if (!display || display === 'none') {{\n            console.log([gd, 'removed!']);\n            Plotly.purge(gd);\n            observer.disconnect();\n        }}\n}});\n\n// Listen for the removal of the full notebook cells\nvar notebookContainer = gd.closest('#notebook-container');\nif (notebookContainer) {{\n    x.observe(notebookContainer, {childList: true});\n}}\n\n// Listen for the clearing of the current output cell\nvar outputEl = gd.closest('.output');\nif (outputEl) {{\n    x.observe(outputEl, {childList: true});\n}}\n\n                        })\n                };\n                });\n            </script>\n        </div>"
     },
     "metadata": {}
    }
   ],
   "source": [
    "#visualizing input dataset \n",
    "# the mapping is based on the result obtained above\n",
    "#acc : 384 , good: 69 , unacc : 1209 , vgood : 65\n",
    "fig = {\n",
    "   \"data\": [\n",
    "    {\n",
    "      \"values\": [1209,384,69,65],\n",
    "      \"labels\": [\n",
    "        \"Unacceptable\",\n",
    "        \"Acceptable\",\n",
    "        \"Good\",\n",
    "        \"Very Good\"\n",
    "      ],\n",
    "      \"domain\": {\"column\": 0},\n",
    "      \"name\": \"Car Evaluation\",\n",
    "      \"hoverinfo\":\"label+percent+name\",\n",
    "      \"hole\": .6,\n",
    "      \"type\": \"pie\"\n",
    "    }],\n",
    "  \"layout\": {\n",
    "        \"title\":\"Distribution of Evaluated Cars\",\n",
    "        \"grid\": {\"rows\": 1, \"columns\": 1},\n",
    "        \"annotations\": [\n",
    "            {\n",
    "                \"font\": {\n",
    "                    \"size\": 36\n",
    "                },\n",
    "                \"showarrow\": False,\n",
    "                \"text\": \"\",\n",
    "                \"x\": 0.5,\n",
    "                \"y\": 0.5\n",
    "            }\n",
    "        ]\n",
    "    }\n",
    "}\n",
    "py.iplot(fig)"
   ]
  },
  {
   "cell_type": "code",
   "execution_count": 32,
   "metadata": {},
   "outputs": [],
   "source": [
    "# cleaning the input data to numeric format wherever needed\n",
    "cars_df.doors.replace(('5more'),('5'),inplace=True)\n",
    "cars_df.persons.replace(('more'),('5'),inplace=True)"
   ]
  },
  {
   "cell_type": "code",
   "execution_count": 53,
   "metadata": {},
   "outputs": [
    {
     "output_type": "execute_result",
     "data": {
      "text/plain": [
       "Index(['high', 'med', 'low', 'vhigh'], dtype='object')"
      ]
     },
     "metadata": {},
     "execution_count": 53
    }
   ],
   "source": [
    "#collecting the features of the input dataset\n",
    "features = cars_df.iloc[:,:-1]\n",
    "features.iloc[:10,:]\n",
    "a = []\n",
    "for i in features:\n",
    "    a.append(features[i].value_counts())\n",
    "a[0].index"
   ]
  },
  {
   "cell_type": "code",
   "execution_count": 46,
   "metadata": {},
   "outputs": [],
   "source": [
    "#correlation among all the variables from input dataset\n",
    "buy = pd.crosstab(cars_df['buying'], cars_df['evaluation'])\n",
    "mc = pd.crosstab(cars_df['maint'], cars_df['evaluation'])\n",
    "drs = pd.crosstab(cars_df['doors'], cars_df['evaluation'])\n",
    "prsn = pd.crosstab(cars_df['persons'], cars_df['evaluation'])\n",
    "lb = pd.crosstab(cars_df['lugboot'], cars_df['evaluation'])\n",
    "sfty = pd.crosstab(cars_df['safety'], cars_df['evaluation'])"
   ]
  },
  {
   "cell_type": "code",
   "execution_count": 48,
   "metadata": {},
   "outputs": [
    {
     "output_type": "execute_result",
     "data": {
      "text/plain": [
       "evaluation  acc  good  unacc  vgood\n",
       "buying                             \n",
       "high        108     0    324      0\n",
       "low          89    46    258     39\n",
       "med         115    23    268     26\n",
       "vhigh        72     0    359      0"
      ],
      "text/html": "<div>\n<style scoped>\n    .dataframe tbody tr th:only-of-type {\n        vertical-align: middle;\n    }\n\n    .dataframe tbody tr th {\n        vertical-align: top;\n    }\n\n    .dataframe thead th {\n        text-align: right;\n    }\n</style>\n<table border=\"1\" class=\"dataframe\">\n  <thead>\n    <tr style=\"text-align: right;\">\n      <th>evaluation</th>\n      <th>acc</th>\n      <th>good</th>\n      <th>unacc</th>\n      <th>vgood</th>\n    </tr>\n    <tr>\n      <th>buying</th>\n      <th></th>\n      <th></th>\n      <th></th>\n      <th></th>\n    </tr>\n  </thead>\n  <tbody>\n    <tr>\n      <th>high</th>\n      <td>108</td>\n      <td>0</td>\n      <td>324</td>\n      <td>0</td>\n    </tr>\n    <tr>\n      <th>low</th>\n      <td>89</td>\n      <td>46</td>\n      <td>258</td>\n      <td>39</td>\n    </tr>\n    <tr>\n      <th>med</th>\n      <td>115</td>\n      <td>23</td>\n      <td>268</td>\n      <td>26</td>\n    </tr>\n    <tr>\n      <th>vhigh</th>\n      <td>72</td>\n      <td>0</td>\n      <td>359</td>\n      <td>0</td>\n    </tr>\n  </tbody>\n</table>\n</div>"
     },
     "metadata": {},
     "execution_count": 48
    }
   ],
   "source": [
    "buy"
   ]
  },
  {
   "cell_type": "code",
   "execution_count": 51,
   "metadata": {},
   "outputs": [
    {
     "output_type": "display_data",
     "data": {
      "application/vnd.plotly.v1+json": {
       "config": {
        "linkText": "Export to plot.ly",
        "plotlyServerURL": "https://plot.ly",
        "showLink": false
       },
       "data": [
        {
         "name": "Unacceptable",
         "type": "bar",
         "x": [
          "high",
          "med",
          "low",
          "vhigh"
         ],
         "y": [
          324,
          258,
          268,
          359
         ]
        },
        {
         "name": "Acceptable",
         "type": "bar",
         "x": [
          "high",
          "med",
          "low",
          "vhigh"
         ],
         "y": [
          108,
          89,
          115,
          72
         ]
        },
        {
         "name": "Good",
         "type": "bar",
         "x": [
          "high",
          "med",
          "low",
          "vhigh"
         ],
         "y": [
          0,
          46,
          23,
          0
         ]
        },
        {
         "name": "Very Good",
         "type": "bar",
         "x": [
          "high",
          "med",
          "low",
          "vhigh"
         ],
         "y": [
          0,
          39,
          26,
          0
         ]
        }
       ],
       "layout": {
        "barmode": "stack",
        "template": {
         "data": {
          "bar": [
           {
            "error_x": {
             "color": "#2a3f5f"
            },
            "error_y": {
             "color": "#2a3f5f"
            },
            "marker": {
             "line": {
              "color": "#E5ECF6",
              "width": 0.5
             }
            },
            "type": "bar"
           }
          ],
          "barpolar": [
           {
            "marker": {
             "line": {
              "color": "#E5ECF6",
              "width": 0.5
             }
            },
            "type": "barpolar"
           }
          ],
          "carpet": [
           {
            "aaxis": {
             "endlinecolor": "#2a3f5f",
             "gridcolor": "white",
             "linecolor": "white",
             "minorgridcolor": "white",
             "startlinecolor": "#2a3f5f"
            },
            "baxis": {
             "endlinecolor": "#2a3f5f",
             "gridcolor": "white",
             "linecolor": "white",
             "minorgridcolor": "white",
             "startlinecolor": "#2a3f5f"
            },
            "type": "carpet"
           }
          ],
          "choropleth": [
           {
            "colorbar": {
             "outlinewidth": 0,
             "ticks": ""
            },
            "type": "choropleth"
           }
          ],
          "contour": [
           {
            "colorbar": {
             "outlinewidth": 0,
             "ticks": ""
            },
            "colorscale": [
             [
              0,
              "#0d0887"
             ],
             [
              0.1111111111111111,
              "#46039f"
             ],
             [
              0.2222222222222222,
              "#7201a8"
             ],
             [
              0.3333333333333333,
              "#9c179e"
             ],
             [
              0.4444444444444444,
              "#bd3786"
             ],
             [
              0.5555555555555556,
              "#d8576b"
             ],
             [
              0.6666666666666666,
              "#ed7953"
             ],
             [
              0.7777777777777778,
              "#fb9f3a"
             ],
             [
              0.8888888888888888,
              "#fdca26"
             ],
             [
              1,
              "#f0f921"
             ]
            ],
            "type": "contour"
           }
          ],
          "contourcarpet": [
           {
            "colorbar": {
             "outlinewidth": 0,
             "ticks": ""
            },
            "type": "contourcarpet"
           }
          ],
          "heatmap": [
           {
            "colorbar": {
             "outlinewidth": 0,
             "ticks": ""
            },
            "colorscale": [
             [
              0,
              "#0d0887"
             ],
             [
              0.1111111111111111,
              "#46039f"
             ],
             [
              0.2222222222222222,
              "#7201a8"
             ],
             [
              0.3333333333333333,
              "#9c179e"
             ],
             [
              0.4444444444444444,
              "#bd3786"
             ],
             [
              0.5555555555555556,
              "#d8576b"
             ],
             [
              0.6666666666666666,
              "#ed7953"
             ],
             [
              0.7777777777777778,
              "#fb9f3a"
             ],
             [
              0.8888888888888888,
              "#fdca26"
             ],
             [
              1,
              "#f0f921"
             ]
            ],
            "type": "heatmap"
           }
          ],
          "heatmapgl": [
           {
            "colorbar": {
             "outlinewidth": 0,
             "ticks": ""
            },
            "colorscale": [
             [
              0,
              "#0d0887"
             ],
             [
              0.1111111111111111,
              "#46039f"
             ],
             [
              0.2222222222222222,
              "#7201a8"
             ],
             [
              0.3333333333333333,
              "#9c179e"
             ],
             [
              0.4444444444444444,
              "#bd3786"
             ],
             [
              0.5555555555555556,
              "#d8576b"
             ],
             [
              0.6666666666666666,
              "#ed7953"
             ],
             [
              0.7777777777777778,
              "#fb9f3a"
             ],
             [
              0.8888888888888888,
              "#fdca26"
             ],
             [
              1,
              "#f0f921"
             ]
            ],
            "type": "heatmapgl"
           }
          ],
          "histogram": [
           {
            "marker": {
             "colorbar": {
              "outlinewidth": 0,
              "ticks": ""
             }
            },
            "type": "histogram"
           }
          ],
          "histogram2d": [
           {
            "colorbar": {
             "outlinewidth": 0,
             "ticks": ""
            },
            "colorscale": [
             [
              0,
              "#0d0887"
             ],
             [
              0.1111111111111111,
              "#46039f"
             ],
             [
              0.2222222222222222,
              "#7201a8"
             ],
             [
              0.3333333333333333,
              "#9c179e"
             ],
             [
              0.4444444444444444,
              "#bd3786"
             ],
             [
              0.5555555555555556,
              "#d8576b"
             ],
             [
              0.6666666666666666,
              "#ed7953"
             ],
             [
              0.7777777777777778,
              "#fb9f3a"
             ],
             [
              0.8888888888888888,
              "#fdca26"
             ],
             [
              1,
              "#f0f921"
             ]
            ],
            "type": "histogram2d"
           }
          ],
          "histogram2dcontour": [
           {
            "colorbar": {
             "outlinewidth": 0,
             "ticks": ""
            },
            "colorscale": [
             [
              0,
              "#0d0887"
             ],
             [
              0.1111111111111111,
              "#46039f"
             ],
             [
              0.2222222222222222,
              "#7201a8"
             ],
             [
              0.3333333333333333,
              "#9c179e"
             ],
             [
              0.4444444444444444,
              "#bd3786"
             ],
             [
              0.5555555555555556,
              "#d8576b"
             ],
             [
              0.6666666666666666,
              "#ed7953"
             ],
             [
              0.7777777777777778,
              "#fb9f3a"
             ],
             [
              0.8888888888888888,
              "#fdca26"
             ],
             [
              1,
              "#f0f921"
             ]
            ],
            "type": "histogram2dcontour"
           }
          ],
          "mesh3d": [
           {
            "colorbar": {
             "outlinewidth": 0,
             "ticks": ""
            },
            "type": "mesh3d"
           }
          ],
          "parcoords": [
           {
            "line": {
             "colorbar": {
              "outlinewidth": 0,
              "ticks": ""
             }
            },
            "type": "parcoords"
           }
          ],
          "pie": [
           {
            "automargin": true,
            "type": "pie"
           }
          ],
          "scatter": [
           {
            "marker": {
             "colorbar": {
              "outlinewidth": 0,
              "ticks": ""
             }
            },
            "type": "scatter"
           }
          ],
          "scatter3d": [
           {
            "line": {
             "colorbar": {
              "outlinewidth": 0,
              "ticks": ""
             }
            },
            "marker": {
             "colorbar": {
              "outlinewidth": 0,
              "ticks": ""
             }
            },
            "type": "scatter3d"
           }
          ],
          "scattercarpet": [
           {
            "marker": {
             "colorbar": {
              "outlinewidth": 0,
              "ticks": ""
             }
            },
            "type": "scattercarpet"
           }
          ],
          "scattergeo": [
           {
            "marker": {
             "colorbar": {
              "outlinewidth": 0,
              "ticks": ""
             }
            },
            "type": "scattergeo"
           }
          ],
          "scattergl": [
           {
            "marker": {
             "colorbar": {
              "outlinewidth": 0,
              "ticks": ""
             }
            },
            "type": "scattergl"
           }
          ],
          "scattermapbox": [
           {
            "marker": {
             "colorbar": {
              "outlinewidth": 0,
              "ticks": ""
             }
            },
            "type": "scattermapbox"
           }
          ],
          "scatterpolar": [
           {
            "marker": {
             "colorbar": {
              "outlinewidth": 0,
              "ticks": ""
             }
            },
            "type": "scatterpolar"
           }
          ],
          "scatterpolargl": [
           {
            "marker": {
             "colorbar": {
              "outlinewidth": 0,
              "ticks": ""
             }
            },
            "type": "scatterpolargl"
           }
          ],
          "scatterternary": [
           {
            "marker": {
             "colorbar": {
              "outlinewidth": 0,
              "ticks": ""
             }
            },
            "type": "scatterternary"
           }
          ],
          "surface": [
           {
            "colorbar": {
             "outlinewidth": 0,
             "ticks": ""
            },
            "colorscale": [
             [
              0,
              "#0d0887"
             ],
             [
              0.1111111111111111,
              "#46039f"
             ],
             [
              0.2222222222222222,
              "#7201a8"
             ],
             [
              0.3333333333333333,
              "#9c179e"
             ],
             [
              0.4444444444444444,
              "#bd3786"
             ],
             [
              0.5555555555555556,
              "#d8576b"
             ],
             [
              0.6666666666666666,
              "#ed7953"
             ],
             [
              0.7777777777777778,
              "#fb9f3a"
             ],
             [
              0.8888888888888888,
              "#fdca26"
             ],
             [
              1,
              "#f0f921"
             ]
            ],
            "type": "surface"
           }
          ],
          "table": [
           {
            "cells": {
             "fill": {
              "color": "#EBF0F8"
             },
             "line": {
              "color": "white"
             }
            },
            "header": {
             "fill": {
              "color": "#C8D4E3"
             },
             "line": {
              "color": "white"
             }
            },
            "type": "table"
           }
          ]
         },
         "layout": {
          "annotationdefaults": {
           "arrowcolor": "#2a3f5f",
           "arrowhead": 0,
           "arrowwidth": 1
          },
          "coloraxis": {
           "colorbar": {
            "outlinewidth": 0,
            "ticks": ""
           }
          },
          "colorscale": {
           "diverging": [
            [
             0,
             "#8e0152"
            ],
            [
             0.1,
             "#c51b7d"
            ],
            [
             0.2,
             "#de77ae"
            ],
            [
             0.3,
             "#f1b6da"
            ],
            [
             0.4,
             "#fde0ef"
            ],
            [
             0.5,
             "#f7f7f7"
            ],
            [
             0.6,
             "#e6f5d0"
            ],
            [
             0.7,
             "#b8e186"
            ],
            [
             0.8,
             "#7fbc41"
            ],
            [
             0.9,
             "#4d9221"
            ],
            [
             1,
             "#276419"
            ]
           ],
           "sequential": [
            [
             0,
             "#0d0887"
            ],
            [
             0.1111111111111111,
             "#46039f"
            ],
            [
             0.2222222222222222,
             "#7201a8"
            ],
            [
             0.3333333333333333,
             "#9c179e"
            ],
            [
             0.4444444444444444,
             "#bd3786"
            ],
            [
             0.5555555555555556,
             "#d8576b"
            ],
            [
             0.6666666666666666,
             "#ed7953"
            ],
            [
             0.7777777777777778,
             "#fb9f3a"
            ],
            [
             0.8888888888888888,
             "#fdca26"
            ],
            [
             1,
             "#f0f921"
            ]
           ],
           "sequentialminus": [
            [
             0,
             "#0d0887"
            ],
            [
             0.1111111111111111,
             "#46039f"
            ],
            [
             0.2222222222222222,
             "#7201a8"
            ],
            [
             0.3333333333333333,
             "#9c179e"
            ],
            [
             0.4444444444444444,
             "#bd3786"
            ],
            [
             0.5555555555555556,
             "#d8576b"
            ],
            [
             0.6666666666666666,
             "#ed7953"
            ],
            [
             0.7777777777777778,
             "#fb9f3a"
            ],
            [
             0.8888888888888888,
             "#fdca26"
            ],
            [
             1,
             "#f0f921"
            ]
           ]
          },
          "colorway": [
           "#636efa",
           "#EF553B",
           "#00cc96",
           "#ab63fa",
           "#FFA15A",
           "#19d3f3",
           "#FF6692",
           "#B6E880",
           "#FF97FF",
           "#FECB52"
          ],
          "font": {
           "color": "#2a3f5f"
          },
          "geo": {
           "bgcolor": "white",
           "lakecolor": "white",
           "landcolor": "#E5ECF6",
           "showlakes": true,
           "showland": true,
           "subunitcolor": "white"
          },
          "hoverlabel": {
           "align": "left"
          },
          "hovermode": "closest",
          "mapbox": {
           "style": "light"
          },
          "paper_bgcolor": "white",
          "plot_bgcolor": "#E5ECF6",
          "polar": {
           "angularaxis": {
            "gridcolor": "white",
            "linecolor": "white",
            "ticks": ""
           },
           "bgcolor": "#E5ECF6",
           "radialaxis": {
            "gridcolor": "white",
            "linecolor": "white",
            "ticks": ""
           }
          },
          "scene": {
           "xaxis": {
            "backgroundcolor": "#E5ECF6",
            "gridcolor": "white",
            "gridwidth": 2,
            "linecolor": "white",
            "showbackground": true,
            "ticks": "",
            "zerolinecolor": "white"
           },
           "yaxis": {
            "backgroundcolor": "#E5ECF6",
            "gridcolor": "white",
            "gridwidth": 2,
            "linecolor": "white",
            "showbackground": true,
            "ticks": "",
            "zerolinecolor": "white"
           },
           "zaxis": {
            "backgroundcolor": "#E5ECF6",
            "gridcolor": "white",
            "gridwidth": 2,
            "linecolor": "white",
            "showbackground": true,
            "ticks": "",
            "zerolinecolor": "white"
           }
          },
          "shapedefaults": {
           "line": {
            "color": "#2a3f5f"
           }
          },
          "ternary": {
           "aaxis": {
            "gridcolor": "white",
            "linecolor": "white",
            "ticks": ""
           },
           "baxis": {
            "gridcolor": "white",
            "linecolor": "white",
            "ticks": ""
           },
           "bgcolor": "#E5ECF6",
           "caxis": {
            "gridcolor": "white",
            "linecolor": "white",
            "ticks": ""
           }
          },
          "title": {
           "x": 0.05
          },
          "xaxis": {
           "automargin": true,
           "gridcolor": "white",
           "linecolor": "white",
           "ticks": "",
           "title": {
            "standoff": 15
           },
           "zerolinecolor": "white",
           "zerolinewidth": 2
          },
          "yaxis": {
           "automargin": true,
           "gridcolor": "white",
           "linecolor": "white",
           "ticks": "",
           "title": {
            "standoff": 15
           },
           "zerolinecolor": "white",
           "zerolinewidth": 2
          }
         }
        },
        "title": {
         "text": "Selling Price vs Evaluation"
        }
       }
      },
      "text/html": "<div>\n        \n        \n            <div id=\"7d463067-e3eb-4a68-8cf1-b93036b94e80\" class=\"plotly-graph-div\" style=\"height:525px; width:100%;\"></div>\n            <script type=\"text/javascript\">\n                require([\"plotly\"], function(Plotly) {\n                    window.PLOTLYENV=window.PLOTLYENV || {};\n                    \n                if (document.getElementById(\"7d463067-e3eb-4a68-8cf1-b93036b94e80\")) {\n                    Plotly.newPlot(\n                        '7d463067-e3eb-4a68-8cf1-b93036b94e80',\n                        [{\"name\": \"Unacceptable\", \"type\": \"bar\", \"x\": [\"high\", \"med\", \"low\", \"vhigh\"], \"y\": [324, 258, 268, 359]}, {\"name\": \"Acceptable\", \"type\": \"bar\", \"x\": [\"high\", \"med\", \"low\", \"vhigh\"], \"y\": [108, 89, 115, 72]}, {\"name\": \"Good\", \"type\": \"bar\", \"x\": [\"high\", \"med\", \"low\", \"vhigh\"], \"y\": [0, 46, 23, 0]}, {\"name\": \"Very Good\", \"type\": \"bar\", \"x\": [\"high\", \"med\", \"low\", \"vhigh\"], \"y\": [0, 39, 26, 0]}],\n                        {\"barmode\": \"stack\", \"template\": {\"data\": {\"bar\": [{\"error_x\": {\"color\": \"#2a3f5f\"}, \"error_y\": {\"color\": \"#2a3f5f\"}, \"marker\": {\"line\": {\"color\": \"#E5ECF6\", \"width\": 0.5}}, \"type\": \"bar\"}], \"barpolar\": [{\"marker\": {\"line\": {\"color\": \"#E5ECF6\", \"width\": 0.5}}, \"type\": \"barpolar\"}], \"carpet\": [{\"aaxis\": {\"endlinecolor\": \"#2a3f5f\", \"gridcolor\": \"white\", \"linecolor\": \"white\", \"minorgridcolor\": \"white\", \"startlinecolor\": \"#2a3f5f\"}, \"baxis\": {\"endlinecolor\": \"#2a3f5f\", \"gridcolor\": \"white\", \"linecolor\": \"white\", \"minorgridcolor\": \"white\", \"startlinecolor\": \"#2a3f5f\"}, \"type\": \"carpet\"}], \"choropleth\": [{\"colorbar\": {\"outlinewidth\": 0, \"ticks\": \"\"}, \"type\": \"choropleth\"}], \"contour\": [{\"colorbar\": {\"outlinewidth\": 0, \"ticks\": \"\"}, \"colorscale\": [[0.0, \"#0d0887\"], [0.1111111111111111, \"#46039f\"], [0.2222222222222222, \"#7201a8\"], [0.3333333333333333, \"#9c179e\"], [0.4444444444444444, \"#bd3786\"], [0.5555555555555556, \"#d8576b\"], [0.6666666666666666, \"#ed7953\"], [0.7777777777777778, \"#fb9f3a\"], [0.8888888888888888, \"#fdca26\"], [1.0, \"#f0f921\"]], \"type\": \"contour\"}], \"contourcarpet\": [{\"colorbar\": {\"outlinewidth\": 0, \"ticks\": \"\"}, \"type\": \"contourcarpet\"}], \"heatmap\": [{\"colorbar\": {\"outlinewidth\": 0, \"ticks\": \"\"}, \"colorscale\": [[0.0, \"#0d0887\"], [0.1111111111111111, \"#46039f\"], [0.2222222222222222, \"#7201a8\"], [0.3333333333333333, \"#9c179e\"], [0.4444444444444444, \"#bd3786\"], [0.5555555555555556, \"#d8576b\"], [0.6666666666666666, \"#ed7953\"], [0.7777777777777778, \"#fb9f3a\"], [0.8888888888888888, \"#fdca26\"], [1.0, \"#f0f921\"]], \"type\": \"heatmap\"}], \"heatmapgl\": [{\"colorbar\": {\"outlinewidth\": 0, \"ticks\": \"\"}, \"colorscale\": [[0.0, \"#0d0887\"], [0.1111111111111111, \"#46039f\"], [0.2222222222222222, \"#7201a8\"], [0.3333333333333333, \"#9c179e\"], [0.4444444444444444, \"#bd3786\"], [0.5555555555555556, \"#d8576b\"], [0.6666666666666666, \"#ed7953\"], [0.7777777777777778, \"#fb9f3a\"], [0.8888888888888888, \"#fdca26\"], [1.0, \"#f0f921\"]], \"type\": \"heatmapgl\"}], \"histogram\": [{\"marker\": {\"colorbar\": {\"outlinewidth\": 0, \"ticks\": \"\"}}, \"type\": \"histogram\"}], \"histogram2d\": [{\"colorbar\": {\"outlinewidth\": 0, \"ticks\": \"\"}, \"colorscale\": [[0.0, \"#0d0887\"], [0.1111111111111111, \"#46039f\"], [0.2222222222222222, \"#7201a8\"], [0.3333333333333333, \"#9c179e\"], [0.4444444444444444, \"#bd3786\"], [0.5555555555555556, \"#d8576b\"], [0.6666666666666666, \"#ed7953\"], [0.7777777777777778, \"#fb9f3a\"], [0.8888888888888888, \"#fdca26\"], [1.0, \"#f0f921\"]], \"type\": \"histogram2d\"}], \"histogram2dcontour\": [{\"colorbar\": {\"outlinewidth\": 0, \"ticks\": \"\"}, \"colorscale\": [[0.0, \"#0d0887\"], [0.1111111111111111, \"#46039f\"], [0.2222222222222222, \"#7201a8\"], [0.3333333333333333, \"#9c179e\"], [0.4444444444444444, \"#bd3786\"], [0.5555555555555556, \"#d8576b\"], [0.6666666666666666, \"#ed7953\"], [0.7777777777777778, \"#fb9f3a\"], [0.8888888888888888, \"#fdca26\"], [1.0, \"#f0f921\"]], \"type\": \"histogram2dcontour\"}], \"mesh3d\": [{\"colorbar\": {\"outlinewidth\": 0, \"ticks\": \"\"}, \"type\": \"mesh3d\"}], \"parcoords\": [{\"line\": {\"colorbar\": {\"outlinewidth\": 0, \"ticks\": \"\"}}, \"type\": \"parcoords\"}], \"pie\": [{\"automargin\": true, \"type\": \"pie\"}], \"scatter\": [{\"marker\": {\"colorbar\": {\"outlinewidth\": 0, \"ticks\": \"\"}}, \"type\": \"scatter\"}], \"scatter3d\": [{\"line\": {\"colorbar\": {\"outlinewidth\": 0, \"ticks\": \"\"}}, \"marker\": {\"colorbar\": {\"outlinewidth\": 0, \"ticks\": \"\"}}, \"type\": \"scatter3d\"}], \"scattercarpet\": [{\"marker\": {\"colorbar\": {\"outlinewidth\": 0, \"ticks\": \"\"}}, \"type\": \"scattercarpet\"}], \"scattergeo\": [{\"marker\": {\"colorbar\": {\"outlinewidth\": 0, \"ticks\": \"\"}}, \"type\": \"scattergeo\"}], \"scattergl\": [{\"marker\": {\"colorbar\": {\"outlinewidth\": 0, \"ticks\": \"\"}}, \"type\": \"scattergl\"}], \"scattermapbox\": [{\"marker\": {\"colorbar\": {\"outlinewidth\": 0, \"ticks\": \"\"}}, \"type\": \"scattermapbox\"}], \"scatterpolar\": [{\"marker\": {\"colorbar\": {\"outlinewidth\": 0, \"ticks\": \"\"}}, \"type\": \"scatterpolar\"}], \"scatterpolargl\": [{\"marker\": {\"colorbar\": {\"outlinewidth\": 0, \"ticks\": \"\"}}, \"type\": \"scatterpolargl\"}], \"scatterternary\": [{\"marker\": {\"colorbar\": {\"outlinewidth\": 0, \"ticks\": \"\"}}, \"type\": \"scatterternary\"}], \"surface\": [{\"colorbar\": {\"outlinewidth\": 0, \"ticks\": \"\"}, \"colorscale\": [[0.0, \"#0d0887\"], [0.1111111111111111, \"#46039f\"], [0.2222222222222222, \"#7201a8\"], [0.3333333333333333, \"#9c179e\"], [0.4444444444444444, \"#bd3786\"], [0.5555555555555556, \"#d8576b\"], [0.6666666666666666, \"#ed7953\"], [0.7777777777777778, \"#fb9f3a\"], [0.8888888888888888, \"#fdca26\"], [1.0, \"#f0f921\"]], \"type\": \"surface\"}], \"table\": [{\"cells\": {\"fill\": {\"color\": \"#EBF0F8\"}, \"line\": {\"color\": \"white\"}}, \"header\": {\"fill\": {\"color\": \"#C8D4E3\"}, \"line\": {\"color\": \"white\"}}, \"type\": \"table\"}]}, \"layout\": {\"annotationdefaults\": {\"arrowcolor\": \"#2a3f5f\", \"arrowhead\": 0, \"arrowwidth\": 1}, \"coloraxis\": {\"colorbar\": {\"outlinewidth\": 0, \"ticks\": \"\"}}, \"colorscale\": {\"diverging\": [[0, \"#8e0152\"], [0.1, \"#c51b7d\"], [0.2, \"#de77ae\"], [0.3, \"#f1b6da\"], [0.4, \"#fde0ef\"], [0.5, \"#f7f7f7\"], [0.6, \"#e6f5d0\"], [0.7, \"#b8e186\"], [0.8, \"#7fbc41\"], [0.9, \"#4d9221\"], [1, \"#276419\"]], \"sequential\": [[0.0, \"#0d0887\"], [0.1111111111111111, \"#46039f\"], [0.2222222222222222, \"#7201a8\"], [0.3333333333333333, \"#9c179e\"], [0.4444444444444444, \"#bd3786\"], [0.5555555555555556, \"#d8576b\"], [0.6666666666666666, \"#ed7953\"], [0.7777777777777778, \"#fb9f3a\"], [0.8888888888888888, \"#fdca26\"], [1.0, \"#f0f921\"]], \"sequentialminus\": [[0.0, \"#0d0887\"], [0.1111111111111111, \"#46039f\"], [0.2222222222222222, \"#7201a8\"], [0.3333333333333333, \"#9c179e\"], [0.4444444444444444, \"#bd3786\"], [0.5555555555555556, \"#d8576b\"], [0.6666666666666666, \"#ed7953\"], [0.7777777777777778, \"#fb9f3a\"], [0.8888888888888888, \"#fdca26\"], [1.0, \"#f0f921\"]]}, \"colorway\": [\"#636efa\", \"#EF553B\", \"#00cc96\", \"#ab63fa\", \"#FFA15A\", \"#19d3f3\", \"#FF6692\", \"#B6E880\", \"#FF97FF\", \"#FECB52\"], \"font\": {\"color\": \"#2a3f5f\"}, \"geo\": {\"bgcolor\": \"white\", \"lakecolor\": \"white\", \"landcolor\": \"#E5ECF6\", \"showlakes\": true, \"showland\": true, \"subunitcolor\": \"white\"}, \"hoverlabel\": {\"align\": \"left\"}, \"hovermode\": \"closest\", \"mapbox\": {\"style\": \"light\"}, \"paper_bgcolor\": \"white\", \"plot_bgcolor\": \"#E5ECF6\", \"polar\": {\"angularaxis\": {\"gridcolor\": \"white\", \"linecolor\": \"white\", \"ticks\": \"\"}, \"bgcolor\": \"#E5ECF6\", \"radialaxis\": {\"gridcolor\": \"white\", \"linecolor\": \"white\", \"ticks\": \"\"}}, \"scene\": {\"xaxis\": {\"backgroundcolor\": \"#E5ECF6\", \"gridcolor\": \"white\", \"gridwidth\": 2, \"linecolor\": \"white\", \"showbackground\": true, \"ticks\": \"\", \"zerolinecolor\": \"white\"}, \"yaxis\": {\"backgroundcolor\": \"#E5ECF6\", \"gridcolor\": \"white\", \"gridwidth\": 2, \"linecolor\": \"white\", \"showbackground\": true, \"ticks\": \"\", \"zerolinecolor\": \"white\"}, \"zaxis\": {\"backgroundcolor\": \"#E5ECF6\", \"gridcolor\": \"white\", \"gridwidth\": 2, \"linecolor\": \"white\", \"showbackground\": true, \"ticks\": \"\", \"zerolinecolor\": \"white\"}}, \"shapedefaults\": {\"line\": {\"color\": \"#2a3f5f\"}}, \"ternary\": {\"aaxis\": {\"gridcolor\": \"white\", \"linecolor\": \"white\", \"ticks\": \"\"}, \"baxis\": {\"gridcolor\": \"white\", \"linecolor\": \"white\", \"ticks\": \"\"}, \"bgcolor\": \"#E5ECF6\", \"caxis\": {\"gridcolor\": \"white\", \"linecolor\": \"white\", \"ticks\": \"\"}}, \"title\": {\"x\": 0.05}, \"xaxis\": {\"automargin\": true, \"gridcolor\": \"white\", \"linecolor\": \"white\", \"ticks\": \"\", \"title\": {\"standoff\": 15}, \"zerolinecolor\": \"white\", \"zerolinewidth\": 2}, \"yaxis\": {\"automargin\": true, \"gridcolor\": \"white\", \"linecolor\": \"white\", \"ticks\": \"\", \"title\": {\"standoff\": 15}, \"zerolinecolor\": \"white\", \"zerolinewidth\": 2}}}, \"title\": {\"text\": \"Selling Price vs Evaluation\"}},\n                        {\"responsive\": true}\n                    ).then(function(){\n                            \nvar gd = document.getElementById('7d463067-e3eb-4a68-8cf1-b93036b94e80');\nvar x = new MutationObserver(function (mutations, observer) {{\n        var display = window.getComputedStyle(gd).display;\n        if (!display || display === 'none') {{\n            console.log([gd, 'removed!']);\n            Plotly.purge(gd);\n            observer.disconnect();\n        }}\n}});\n\n// Listen for the removal of the full notebook cells\nvar notebookContainer = gd.closest('#notebook-container');\nif (notebookContainer) {{\n    x.observe(notebookContainer, {childList: true});\n}}\n\n// Listen for the clearing of the current output cell\nvar outputEl = gd.closest('.output');\nif (outputEl) {{\n    x.observe(outputEl, {childList: true});\n}}\n\n                        })\n                };\n                });\n            </script>\n        </div>"
     },
     "metadata": {}
    }
   ],
   "source": [
    "#correlation of buying feature vs Evaluation\n",
    "#x : feature a[0]\n",
    "#y : buy = pd.crosstab(cars_df['buying'], cars_df['evaluation'])\n",
    "data = [\n",
    "    go.Bar(\n",
    "        x=a[0].index, \n",
    "        y=buy['unacc'],\n",
    "        name='Unacceptable'\n",
    "    ),\n",
    "    go.Bar(\n",
    "        x=a[0].index,\n",
    "        y=buy['acc'],\n",
    "        name='Acceptable'\n",
    "    ),\n",
    "    go.Bar(\n",
    "        x=a[0].index,\n",
    "        y=buy['good'],\n",
    "        name='Good'\n",
    "    ),\n",
    "    go.Bar(\n",
    "        x=a[0].index,\n",
    "        y=buy['vgood'],\n",
    "        name='Very Good'\n",
    "    )\n",
    "\n",
    "]\n",
    "\n",
    "layout = go.Layout(\n",
    "    barmode='stack',\n",
    "    title='Selling Price vs Evaluation'\n",
    ")\n",
    "\n",
    "fig = go.Figure(data=data, layout=layout)\n",
    "py.iplot(fig)\n"
   ]
  },
  {
   "cell_type": "code",
   "execution_count": 54,
   "metadata": {},
   "outputs": [
    {
     "output_type": "display_data",
     "data": {
      "application/vnd.plotly.v1+json": {
       "config": {
        "linkText": "Export to plot.ly",
        "plotlyServerURL": "https://plot.ly",
        "showLink": false
       },
       "data": [
        {
         "name": "Unacceptable",
         "type": "bar",
         "x": [
          "high",
          "med",
          "low",
          "vhigh"
         ],
         "y": [
          314,
          268,
          268,
          359
         ]
        },
        {
         "name": "Acceptable",
         "type": "bar",
         "x": [
          "high",
          "med",
          "low",
          "vhigh"
         ],
         "y": [
          105,
          92,
          115,
          72
         ]
        },
        {
         "name": "Good",
         "type": "bar",
         "x": [
          "high",
          "med",
          "low",
          "vhigh"
         ],
         "y": [
          0,
          46,
          23,
          0
         ]
        },
        {
         "name": "Very Good",
         "type": "bar",
         "x": [
          "high",
          "med",
          "low",
          "vhigh"
         ],
         "y": [
          13,
          26,
          26,
          0
         ]
        }
       ],
       "layout": {
        "barmode": "stack",
        "template": {
         "data": {
          "bar": [
           {
            "error_x": {
             "color": "#2a3f5f"
            },
            "error_y": {
             "color": "#2a3f5f"
            },
            "marker": {
             "line": {
              "color": "#E5ECF6",
              "width": 0.5
             }
            },
            "type": "bar"
           }
          ],
          "barpolar": [
           {
            "marker": {
             "line": {
              "color": "#E5ECF6",
              "width": 0.5
             }
            },
            "type": "barpolar"
           }
          ],
          "carpet": [
           {
            "aaxis": {
             "endlinecolor": "#2a3f5f",
             "gridcolor": "white",
             "linecolor": "white",
             "minorgridcolor": "white",
             "startlinecolor": "#2a3f5f"
            },
            "baxis": {
             "endlinecolor": "#2a3f5f",
             "gridcolor": "white",
             "linecolor": "white",
             "minorgridcolor": "white",
             "startlinecolor": "#2a3f5f"
            },
            "type": "carpet"
           }
          ],
          "choropleth": [
           {
            "colorbar": {
             "outlinewidth": 0,
             "ticks": ""
            },
            "type": "choropleth"
           }
          ],
          "contour": [
           {
            "colorbar": {
             "outlinewidth": 0,
             "ticks": ""
            },
            "colorscale": [
             [
              0,
              "#0d0887"
             ],
             [
              0.1111111111111111,
              "#46039f"
             ],
             [
              0.2222222222222222,
              "#7201a8"
             ],
             [
              0.3333333333333333,
              "#9c179e"
             ],
             [
              0.4444444444444444,
              "#bd3786"
             ],
             [
              0.5555555555555556,
              "#d8576b"
             ],
             [
              0.6666666666666666,
              "#ed7953"
             ],
             [
              0.7777777777777778,
              "#fb9f3a"
             ],
             [
              0.8888888888888888,
              "#fdca26"
             ],
             [
              1,
              "#f0f921"
             ]
            ],
            "type": "contour"
           }
          ],
          "contourcarpet": [
           {
            "colorbar": {
             "outlinewidth": 0,
             "ticks": ""
            },
            "type": "contourcarpet"
           }
          ],
          "heatmap": [
           {
            "colorbar": {
             "outlinewidth": 0,
             "ticks": ""
            },
            "colorscale": [
             [
              0,
              "#0d0887"
             ],
             [
              0.1111111111111111,
              "#46039f"
             ],
             [
              0.2222222222222222,
              "#7201a8"
             ],
             [
              0.3333333333333333,
              "#9c179e"
             ],
             [
              0.4444444444444444,
              "#bd3786"
             ],
             [
              0.5555555555555556,
              "#d8576b"
             ],
             [
              0.6666666666666666,
              "#ed7953"
             ],
             [
              0.7777777777777778,
              "#fb9f3a"
             ],
             [
              0.8888888888888888,
              "#fdca26"
             ],
             [
              1,
              "#f0f921"
             ]
            ],
            "type": "heatmap"
           }
          ],
          "heatmapgl": [
           {
            "colorbar": {
             "outlinewidth": 0,
             "ticks": ""
            },
            "colorscale": [
             [
              0,
              "#0d0887"
             ],
             [
              0.1111111111111111,
              "#46039f"
             ],
             [
              0.2222222222222222,
              "#7201a8"
             ],
             [
              0.3333333333333333,
              "#9c179e"
             ],
             [
              0.4444444444444444,
              "#bd3786"
             ],
             [
              0.5555555555555556,
              "#d8576b"
             ],
             [
              0.6666666666666666,
              "#ed7953"
             ],
             [
              0.7777777777777778,
              "#fb9f3a"
             ],
             [
              0.8888888888888888,
              "#fdca26"
             ],
             [
              1,
              "#f0f921"
             ]
            ],
            "type": "heatmapgl"
           }
          ],
          "histogram": [
           {
            "marker": {
             "colorbar": {
              "outlinewidth": 0,
              "ticks": ""
             }
            },
            "type": "histogram"
           }
          ],
          "histogram2d": [
           {
            "colorbar": {
             "outlinewidth": 0,
             "ticks": ""
            },
            "colorscale": [
             [
              0,
              "#0d0887"
             ],
             [
              0.1111111111111111,
              "#46039f"
             ],
             [
              0.2222222222222222,
              "#7201a8"
             ],
             [
              0.3333333333333333,
              "#9c179e"
             ],
             [
              0.4444444444444444,
              "#bd3786"
             ],
             [
              0.5555555555555556,
              "#d8576b"
             ],
             [
              0.6666666666666666,
              "#ed7953"
             ],
             [
              0.7777777777777778,
              "#fb9f3a"
             ],
             [
              0.8888888888888888,
              "#fdca26"
             ],
             [
              1,
              "#f0f921"
             ]
            ],
            "type": "histogram2d"
           }
          ],
          "histogram2dcontour": [
           {
            "colorbar": {
             "outlinewidth": 0,
             "ticks": ""
            },
            "colorscale": [
             [
              0,
              "#0d0887"
             ],
             [
              0.1111111111111111,
              "#46039f"
             ],
             [
              0.2222222222222222,
              "#7201a8"
             ],
             [
              0.3333333333333333,
              "#9c179e"
             ],
             [
              0.4444444444444444,
              "#bd3786"
             ],
             [
              0.5555555555555556,
              "#d8576b"
             ],
             [
              0.6666666666666666,
              "#ed7953"
             ],
             [
              0.7777777777777778,
              "#fb9f3a"
             ],
             [
              0.8888888888888888,
              "#fdca26"
             ],
             [
              1,
              "#f0f921"
             ]
            ],
            "type": "histogram2dcontour"
           }
          ],
          "mesh3d": [
           {
            "colorbar": {
             "outlinewidth": 0,
             "ticks": ""
            },
            "type": "mesh3d"
           }
          ],
          "parcoords": [
           {
            "line": {
             "colorbar": {
              "outlinewidth": 0,
              "ticks": ""
             }
            },
            "type": "parcoords"
           }
          ],
          "pie": [
           {
            "automargin": true,
            "type": "pie"
           }
          ],
          "scatter": [
           {
            "marker": {
             "colorbar": {
              "outlinewidth": 0,
              "ticks": ""
             }
            },
            "type": "scatter"
           }
          ],
          "scatter3d": [
           {
            "line": {
             "colorbar": {
              "outlinewidth": 0,
              "ticks": ""
             }
            },
            "marker": {
             "colorbar": {
              "outlinewidth": 0,
              "ticks": ""
             }
            },
            "type": "scatter3d"
           }
          ],
          "scattercarpet": [
           {
            "marker": {
             "colorbar": {
              "outlinewidth": 0,
              "ticks": ""
             }
            },
            "type": "scattercarpet"
           }
          ],
          "scattergeo": [
           {
            "marker": {
             "colorbar": {
              "outlinewidth": 0,
              "ticks": ""
             }
            },
            "type": "scattergeo"
           }
          ],
          "scattergl": [
           {
            "marker": {
             "colorbar": {
              "outlinewidth": 0,
              "ticks": ""
             }
            },
            "type": "scattergl"
           }
          ],
          "scattermapbox": [
           {
            "marker": {
             "colorbar": {
              "outlinewidth": 0,
              "ticks": ""
             }
            },
            "type": "scattermapbox"
           }
          ],
          "scatterpolar": [
           {
            "marker": {
             "colorbar": {
              "outlinewidth": 0,
              "ticks": ""
             }
            },
            "type": "scatterpolar"
           }
          ],
          "scatterpolargl": [
           {
            "marker": {
             "colorbar": {
              "outlinewidth": 0,
              "ticks": ""
             }
            },
            "type": "scatterpolargl"
           }
          ],
          "scatterternary": [
           {
            "marker": {
             "colorbar": {
              "outlinewidth": 0,
              "ticks": ""
             }
            },
            "type": "scatterternary"
           }
          ],
          "surface": [
           {
            "colorbar": {
             "outlinewidth": 0,
             "ticks": ""
            },
            "colorscale": [
             [
              0,
              "#0d0887"
             ],
             [
              0.1111111111111111,
              "#46039f"
             ],
             [
              0.2222222222222222,
              "#7201a8"
             ],
             [
              0.3333333333333333,
              "#9c179e"
             ],
             [
              0.4444444444444444,
              "#bd3786"
             ],
             [
              0.5555555555555556,
              "#d8576b"
             ],
             [
              0.6666666666666666,
              "#ed7953"
             ],
             [
              0.7777777777777778,
              "#fb9f3a"
             ],
             [
              0.8888888888888888,
              "#fdca26"
             ],
             [
              1,
              "#f0f921"
             ]
            ],
            "type": "surface"
           }
          ],
          "table": [
           {
            "cells": {
             "fill": {
              "color": "#EBF0F8"
             },
             "line": {
              "color": "white"
             }
            },
            "header": {
             "fill": {
              "color": "#C8D4E3"
             },
             "line": {
              "color": "white"
             }
            },
            "type": "table"
           }
          ]
         },
         "layout": {
          "annotationdefaults": {
           "arrowcolor": "#2a3f5f",
           "arrowhead": 0,
           "arrowwidth": 1
          },
          "coloraxis": {
           "colorbar": {
            "outlinewidth": 0,
            "ticks": ""
           }
          },
          "colorscale": {
           "diverging": [
            [
             0,
             "#8e0152"
            ],
            [
             0.1,
             "#c51b7d"
            ],
            [
             0.2,
             "#de77ae"
            ],
            [
             0.3,
             "#f1b6da"
            ],
            [
             0.4,
             "#fde0ef"
            ],
            [
             0.5,
             "#f7f7f7"
            ],
            [
             0.6,
             "#e6f5d0"
            ],
            [
             0.7,
             "#b8e186"
            ],
            [
             0.8,
             "#7fbc41"
            ],
            [
             0.9,
             "#4d9221"
            ],
            [
             1,
             "#276419"
            ]
           ],
           "sequential": [
            [
             0,
             "#0d0887"
            ],
            [
             0.1111111111111111,
             "#46039f"
            ],
            [
             0.2222222222222222,
             "#7201a8"
            ],
            [
             0.3333333333333333,
             "#9c179e"
            ],
            [
             0.4444444444444444,
             "#bd3786"
            ],
            [
             0.5555555555555556,
             "#d8576b"
            ],
            [
             0.6666666666666666,
             "#ed7953"
            ],
            [
             0.7777777777777778,
             "#fb9f3a"
            ],
            [
             0.8888888888888888,
             "#fdca26"
            ],
            [
             1,
             "#f0f921"
            ]
           ],
           "sequentialminus": [
            [
             0,
             "#0d0887"
            ],
            [
             0.1111111111111111,
             "#46039f"
            ],
            [
             0.2222222222222222,
             "#7201a8"
            ],
            [
             0.3333333333333333,
             "#9c179e"
            ],
            [
             0.4444444444444444,
             "#bd3786"
            ],
            [
             0.5555555555555556,
             "#d8576b"
            ],
            [
             0.6666666666666666,
             "#ed7953"
            ],
            [
             0.7777777777777778,
             "#fb9f3a"
            ],
            [
             0.8888888888888888,
             "#fdca26"
            ],
            [
             1,
             "#f0f921"
            ]
           ]
          },
          "colorway": [
           "#636efa",
           "#EF553B",
           "#00cc96",
           "#ab63fa",
           "#FFA15A",
           "#19d3f3",
           "#FF6692",
           "#B6E880",
           "#FF97FF",
           "#FECB52"
          ],
          "font": {
           "color": "#2a3f5f"
          },
          "geo": {
           "bgcolor": "white",
           "lakecolor": "white",
           "landcolor": "#E5ECF6",
           "showlakes": true,
           "showland": true,
           "subunitcolor": "white"
          },
          "hoverlabel": {
           "align": "left"
          },
          "hovermode": "closest",
          "mapbox": {
           "style": "light"
          },
          "paper_bgcolor": "white",
          "plot_bgcolor": "#E5ECF6",
          "polar": {
           "angularaxis": {
            "gridcolor": "white",
            "linecolor": "white",
            "ticks": ""
           },
           "bgcolor": "#E5ECF6",
           "radialaxis": {
            "gridcolor": "white",
            "linecolor": "white",
            "ticks": ""
           }
          },
          "scene": {
           "xaxis": {
            "backgroundcolor": "#E5ECF6",
            "gridcolor": "white",
            "gridwidth": 2,
            "linecolor": "white",
            "showbackground": true,
            "ticks": "",
            "zerolinecolor": "white"
           },
           "yaxis": {
            "backgroundcolor": "#E5ECF6",
            "gridcolor": "white",
            "gridwidth": 2,
            "linecolor": "white",
            "showbackground": true,
            "ticks": "",
            "zerolinecolor": "white"
           },
           "zaxis": {
            "backgroundcolor": "#E5ECF6",
            "gridcolor": "white",
            "gridwidth": 2,
            "linecolor": "white",
            "showbackground": true,
            "ticks": "",
            "zerolinecolor": "white"
           }
          },
          "shapedefaults": {
           "line": {
            "color": "#2a3f5f"
           }
          },
          "ternary": {
           "aaxis": {
            "gridcolor": "white",
            "linecolor": "white",
            "ticks": ""
           },
           "baxis": {
            "gridcolor": "white",
            "linecolor": "white",
            "ticks": ""
           },
           "bgcolor": "#E5ECF6",
           "caxis": {
            "gridcolor": "white",
            "linecolor": "white",
            "ticks": ""
           }
          },
          "title": {
           "x": 0.05
          },
          "xaxis": {
           "automargin": true,
           "gridcolor": "white",
           "linecolor": "white",
           "ticks": "",
           "title": {
            "standoff": 15
           },
           "zerolinecolor": "white",
           "zerolinewidth": 2
          },
          "yaxis": {
           "automargin": true,
           "gridcolor": "white",
           "linecolor": "white",
           "ticks": "",
           "title": {
            "standoff": 15
           },
           "zerolinecolor": "white",
           "zerolinewidth": 2
          }
         }
        },
        "title": {
         "text": "Maintainance cost vs Evaluation"
        }
       }
      },
      "text/html": "<div>\n        \n        \n            <div id=\"2ab64cba-2551-40aa-a8c8-7303d7ae01bc\" class=\"plotly-graph-div\" style=\"height:525px; width:100%;\"></div>\n            <script type=\"text/javascript\">\n                require([\"plotly\"], function(Plotly) {\n                    window.PLOTLYENV=window.PLOTLYENV || {};\n                    \n                if (document.getElementById(\"2ab64cba-2551-40aa-a8c8-7303d7ae01bc\")) {\n                    Plotly.newPlot(\n                        '2ab64cba-2551-40aa-a8c8-7303d7ae01bc',\n                        [{\"name\": \"Unacceptable\", \"type\": \"bar\", \"x\": [\"high\", \"med\", \"low\", \"vhigh\"], \"y\": [314, 268, 268, 359]}, {\"name\": \"Acceptable\", \"type\": \"bar\", \"x\": [\"high\", \"med\", \"low\", \"vhigh\"], \"y\": [105, 92, 115, 72]}, {\"name\": \"Good\", \"type\": \"bar\", \"x\": [\"high\", \"med\", \"low\", \"vhigh\"], \"y\": [0, 46, 23, 0]}, {\"name\": \"Very Good\", \"type\": \"bar\", \"x\": [\"high\", \"med\", \"low\", \"vhigh\"], \"y\": [13, 26, 26, 0]}],\n                        {\"barmode\": \"stack\", \"template\": {\"data\": {\"bar\": [{\"error_x\": {\"color\": \"#2a3f5f\"}, \"error_y\": {\"color\": \"#2a3f5f\"}, \"marker\": {\"line\": {\"color\": \"#E5ECF6\", \"width\": 0.5}}, \"type\": \"bar\"}], \"barpolar\": [{\"marker\": {\"line\": {\"color\": \"#E5ECF6\", \"width\": 0.5}}, \"type\": \"barpolar\"}], \"carpet\": [{\"aaxis\": {\"endlinecolor\": \"#2a3f5f\", \"gridcolor\": \"white\", \"linecolor\": \"white\", \"minorgridcolor\": \"white\", \"startlinecolor\": \"#2a3f5f\"}, \"baxis\": {\"endlinecolor\": \"#2a3f5f\", \"gridcolor\": \"white\", \"linecolor\": \"white\", \"minorgridcolor\": \"white\", \"startlinecolor\": \"#2a3f5f\"}, \"type\": \"carpet\"}], \"choropleth\": [{\"colorbar\": {\"outlinewidth\": 0, \"ticks\": \"\"}, \"type\": \"choropleth\"}], \"contour\": [{\"colorbar\": {\"outlinewidth\": 0, \"ticks\": \"\"}, \"colorscale\": [[0.0, \"#0d0887\"], [0.1111111111111111, \"#46039f\"], [0.2222222222222222, \"#7201a8\"], [0.3333333333333333, \"#9c179e\"], [0.4444444444444444, \"#bd3786\"], [0.5555555555555556, \"#d8576b\"], [0.6666666666666666, \"#ed7953\"], [0.7777777777777778, \"#fb9f3a\"], [0.8888888888888888, \"#fdca26\"], [1.0, \"#f0f921\"]], \"type\": \"contour\"}], \"contourcarpet\": [{\"colorbar\": {\"outlinewidth\": 0, \"ticks\": \"\"}, \"type\": \"contourcarpet\"}], \"heatmap\": [{\"colorbar\": {\"outlinewidth\": 0, \"ticks\": \"\"}, \"colorscale\": [[0.0, \"#0d0887\"], [0.1111111111111111, \"#46039f\"], [0.2222222222222222, \"#7201a8\"], [0.3333333333333333, \"#9c179e\"], [0.4444444444444444, \"#bd3786\"], [0.5555555555555556, \"#d8576b\"], [0.6666666666666666, \"#ed7953\"], [0.7777777777777778, \"#fb9f3a\"], [0.8888888888888888, \"#fdca26\"], [1.0, \"#f0f921\"]], \"type\": \"heatmap\"}], \"heatmapgl\": [{\"colorbar\": {\"outlinewidth\": 0, \"ticks\": \"\"}, \"colorscale\": [[0.0, \"#0d0887\"], [0.1111111111111111, \"#46039f\"], [0.2222222222222222, \"#7201a8\"], [0.3333333333333333, \"#9c179e\"], [0.4444444444444444, \"#bd3786\"], [0.5555555555555556, \"#d8576b\"], [0.6666666666666666, \"#ed7953\"], [0.7777777777777778, \"#fb9f3a\"], [0.8888888888888888, \"#fdca26\"], [1.0, \"#f0f921\"]], \"type\": \"heatmapgl\"}], \"histogram\": [{\"marker\": {\"colorbar\": {\"outlinewidth\": 0, \"ticks\": \"\"}}, \"type\": \"histogram\"}], \"histogram2d\": [{\"colorbar\": {\"outlinewidth\": 0, \"ticks\": \"\"}, \"colorscale\": [[0.0, \"#0d0887\"], [0.1111111111111111, \"#46039f\"], [0.2222222222222222, \"#7201a8\"], [0.3333333333333333, \"#9c179e\"], [0.4444444444444444, \"#bd3786\"], [0.5555555555555556, \"#d8576b\"], [0.6666666666666666, \"#ed7953\"], [0.7777777777777778, \"#fb9f3a\"], [0.8888888888888888, \"#fdca26\"], [1.0, \"#f0f921\"]], \"type\": \"histogram2d\"}], \"histogram2dcontour\": [{\"colorbar\": {\"outlinewidth\": 0, \"ticks\": \"\"}, \"colorscale\": [[0.0, \"#0d0887\"], [0.1111111111111111, \"#46039f\"], [0.2222222222222222, \"#7201a8\"], [0.3333333333333333, \"#9c179e\"], [0.4444444444444444, \"#bd3786\"], [0.5555555555555556, \"#d8576b\"], [0.6666666666666666, \"#ed7953\"], [0.7777777777777778, \"#fb9f3a\"], [0.8888888888888888, \"#fdca26\"], [1.0, \"#f0f921\"]], \"type\": \"histogram2dcontour\"}], \"mesh3d\": [{\"colorbar\": {\"outlinewidth\": 0, \"ticks\": \"\"}, \"type\": \"mesh3d\"}], \"parcoords\": [{\"line\": {\"colorbar\": {\"outlinewidth\": 0, \"ticks\": \"\"}}, \"type\": \"parcoords\"}], \"pie\": [{\"automargin\": true, \"type\": \"pie\"}], \"scatter\": [{\"marker\": {\"colorbar\": {\"outlinewidth\": 0, \"ticks\": \"\"}}, \"type\": \"scatter\"}], \"scatter3d\": [{\"line\": {\"colorbar\": {\"outlinewidth\": 0, \"ticks\": \"\"}}, \"marker\": {\"colorbar\": {\"outlinewidth\": 0, \"ticks\": \"\"}}, \"type\": \"scatter3d\"}], \"scattercarpet\": [{\"marker\": {\"colorbar\": {\"outlinewidth\": 0, \"ticks\": \"\"}}, \"type\": \"scattercarpet\"}], \"scattergeo\": [{\"marker\": {\"colorbar\": {\"outlinewidth\": 0, \"ticks\": \"\"}}, \"type\": \"scattergeo\"}], \"scattergl\": [{\"marker\": {\"colorbar\": {\"outlinewidth\": 0, \"ticks\": \"\"}}, \"type\": \"scattergl\"}], \"scattermapbox\": [{\"marker\": {\"colorbar\": {\"outlinewidth\": 0, \"ticks\": \"\"}}, \"type\": \"scattermapbox\"}], \"scatterpolar\": [{\"marker\": {\"colorbar\": {\"outlinewidth\": 0, \"ticks\": \"\"}}, \"type\": \"scatterpolar\"}], \"scatterpolargl\": [{\"marker\": {\"colorbar\": {\"outlinewidth\": 0, \"ticks\": \"\"}}, \"type\": \"scatterpolargl\"}], \"scatterternary\": [{\"marker\": {\"colorbar\": {\"outlinewidth\": 0, \"ticks\": \"\"}}, \"type\": \"scatterternary\"}], \"surface\": [{\"colorbar\": {\"outlinewidth\": 0, \"ticks\": \"\"}, \"colorscale\": [[0.0, \"#0d0887\"], [0.1111111111111111, \"#46039f\"], [0.2222222222222222, \"#7201a8\"], [0.3333333333333333, \"#9c179e\"], [0.4444444444444444, \"#bd3786\"], [0.5555555555555556, \"#d8576b\"], [0.6666666666666666, \"#ed7953\"], [0.7777777777777778, \"#fb9f3a\"], [0.8888888888888888, \"#fdca26\"], [1.0, \"#f0f921\"]], \"type\": \"surface\"}], \"table\": [{\"cells\": {\"fill\": {\"color\": \"#EBF0F8\"}, \"line\": {\"color\": \"white\"}}, \"header\": {\"fill\": {\"color\": \"#C8D4E3\"}, \"line\": {\"color\": \"white\"}}, \"type\": \"table\"}]}, \"layout\": {\"annotationdefaults\": {\"arrowcolor\": \"#2a3f5f\", \"arrowhead\": 0, \"arrowwidth\": 1}, \"coloraxis\": {\"colorbar\": {\"outlinewidth\": 0, \"ticks\": \"\"}}, \"colorscale\": {\"diverging\": [[0, \"#8e0152\"], [0.1, \"#c51b7d\"], [0.2, \"#de77ae\"], [0.3, \"#f1b6da\"], [0.4, \"#fde0ef\"], [0.5, \"#f7f7f7\"], [0.6, \"#e6f5d0\"], [0.7, \"#b8e186\"], [0.8, \"#7fbc41\"], [0.9, \"#4d9221\"], [1, \"#276419\"]], \"sequential\": [[0.0, \"#0d0887\"], [0.1111111111111111, \"#46039f\"], [0.2222222222222222, \"#7201a8\"], [0.3333333333333333, \"#9c179e\"], [0.4444444444444444, \"#bd3786\"], [0.5555555555555556, \"#d8576b\"], [0.6666666666666666, \"#ed7953\"], [0.7777777777777778, \"#fb9f3a\"], [0.8888888888888888, \"#fdca26\"], [1.0, \"#f0f921\"]], \"sequentialminus\": [[0.0, \"#0d0887\"], [0.1111111111111111, \"#46039f\"], [0.2222222222222222, \"#7201a8\"], [0.3333333333333333, \"#9c179e\"], [0.4444444444444444, \"#bd3786\"], [0.5555555555555556, \"#d8576b\"], [0.6666666666666666, \"#ed7953\"], [0.7777777777777778, \"#fb9f3a\"], [0.8888888888888888, \"#fdca26\"], [1.0, \"#f0f921\"]]}, \"colorway\": [\"#636efa\", \"#EF553B\", \"#00cc96\", \"#ab63fa\", \"#FFA15A\", \"#19d3f3\", \"#FF6692\", \"#B6E880\", \"#FF97FF\", \"#FECB52\"], \"font\": {\"color\": \"#2a3f5f\"}, \"geo\": {\"bgcolor\": \"white\", \"lakecolor\": \"white\", \"landcolor\": \"#E5ECF6\", \"showlakes\": true, \"showland\": true, \"subunitcolor\": \"white\"}, \"hoverlabel\": {\"align\": \"left\"}, \"hovermode\": \"closest\", \"mapbox\": {\"style\": \"light\"}, \"paper_bgcolor\": \"white\", \"plot_bgcolor\": \"#E5ECF6\", \"polar\": {\"angularaxis\": {\"gridcolor\": \"white\", \"linecolor\": \"white\", \"ticks\": \"\"}, \"bgcolor\": \"#E5ECF6\", \"radialaxis\": {\"gridcolor\": \"white\", \"linecolor\": \"white\", \"ticks\": \"\"}}, \"scene\": {\"xaxis\": {\"backgroundcolor\": \"#E5ECF6\", \"gridcolor\": \"white\", \"gridwidth\": 2, \"linecolor\": \"white\", \"showbackground\": true, \"ticks\": \"\", \"zerolinecolor\": \"white\"}, \"yaxis\": {\"backgroundcolor\": \"#E5ECF6\", \"gridcolor\": \"white\", \"gridwidth\": 2, \"linecolor\": \"white\", \"showbackground\": true, \"ticks\": \"\", \"zerolinecolor\": \"white\"}, \"zaxis\": {\"backgroundcolor\": \"#E5ECF6\", \"gridcolor\": \"white\", \"gridwidth\": 2, \"linecolor\": \"white\", \"showbackground\": true, \"ticks\": \"\", \"zerolinecolor\": \"white\"}}, \"shapedefaults\": {\"line\": {\"color\": \"#2a3f5f\"}}, \"ternary\": {\"aaxis\": {\"gridcolor\": \"white\", \"linecolor\": \"white\", \"ticks\": \"\"}, \"baxis\": {\"gridcolor\": \"white\", \"linecolor\": \"white\", \"ticks\": \"\"}, \"bgcolor\": \"#E5ECF6\", \"caxis\": {\"gridcolor\": \"white\", \"linecolor\": \"white\", \"ticks\": \"\"}}, \"title\": {\"x\": 0.05}, \"xaxis\": {\"automargin\": true, \"gridcolor\": \"white\", \"linecolor\": \"white\", \"ticks\": \"\", \"title\": {\"standoff\": 15}, \"zerolinecolor\": \"white\", \"zerolinewidth\": 2}, \"yaxis\": {\"automargin\": true, \"gridcolor\": \"white\", \"linecolor\": \"white\", \"ticks\": \"\", \"title\": {\"standoff\": 15}, \"zerolinecolor\": \"white\", \"zerolinewidth\": 2}}}, \"title\": {\"text\": \"Maintainance cost vs Evaluation\"}},\n                        {\"responsive\": true}\n                    ).then(function(){\n                            \nvar gd = document.getElementById('2ab64cba-2551-40aa-a8c8-7303d7ae01bc');\nvar x = new MutationObserver(function (mutations, observer) {{\n        var display = window.getComputedStyle(gd).display;\n        if (!display || display === 'none') {{\n            console.log([gd, 'removed!']);\n            Plotly.purge(gd);\n            observer.disconnect();\n        }}\n}});\n\n// Listen for the removal of the full notebook cells\nvar notebookContainer = gd.closest('#notebook-container');\nif (notebookContainer) {{\n    x.observe(notebookContainer, {childList: true});\n}}\n\n// Listen for the clearing of the current output cell\nvar outputEl = gd.closest('.output');\nif (outputEl) {{\n    x.observe(outputEl, {childList: true});\n}}\n\n                        })\n                };\n                });\n            </script>\n        </div>"
     },
     "metadata": {}
    }
   ],
   "source": [
    "#correlation of maintenance feature vs Evaluation\n",
    "#x : feature a[1]\n",
    "#y : mc = pd.crosstab(cars_df['maint'], cars_df['evaluation'])\n",
    "data = [\n",
    "    go.Bar(\n",
    "        x=a[1].index, \n",
    "        y=mc['unacc'],\n",
    "        name='Unacceptable'\n",
    "    ),\n",
    "    go.Bar(\n",
    "        x=a[1].index,\n",
    "        y=mc['acc'],\n",
    "        name='Acceptable'\n",
    "    ),\n",
    "    go.Bar(\n",
    "        x=a[1].index,\n",
    "        y=mc['good'],\n",
    "        name='Good'\n",
    "    ),\n",
    "    go.Bar(\n",
    "        x=a[1].index,\n",
    "        y=mc['vgood'],\n",
    "        name='Very Good'\n",
    "    )\n",
    "\n",
    "]\n",
    "\n",
    "layout = go.Layout(\n",
    "    barmode='stack',\n",
    "    title='Maintainance cost vs Evaluation'\n",
    ")\n",
    "\n",
    "fig = go.Figure(data=data, layout=layout)\n",
    "py.iplot(fig)"
   ]
  },
  {
   "cell_type": "code",
   "execution_count": 55,
   "metadata": {},
   "outputs": [
    {
     "output_type": "display_data",
     "data": {
      "application/vnd.plotly.v1+json": {
       "config": {
        "linkText": "Export to plot.ly",
        "plotlyServerURL": "https://plot.ly",
        "showLink": false
       },
       "data": [
        {
         "name": "Unacceptable",
         "type": "bar",
         "x": [
          "3",
          "5",
          "4",
          "2"
         ],
         "y": [
          325,
          300,
          292,
          292
         ]
        },
        {
         "name": "Acceptable",
         "type": "bar",
         "x": [
          "3",
          "5",
          "4",
          "2"
         ],
         "y": [
          81,
          99,
          102,
          102
         ]
        },
        {
         "name": "Good",
         "type": "bar",
         "x": [
          "3",
          "5",
          "4",
          "2"
         ],
         "y": [
          15,
          18,
          18,
          18
         ]
        },
        {
         "name": "Very Good",
         "type": "bar",
         "x": [
          "3",
          "5",
          "4",
          "2"
         ],
         "y": [
          10,
          15,
          20,
          20
         ]
        }
       ],
       "layout": {
        "barmode": "stack",
        "template": {
         "data": {
          "bar": [
           {
            "error_x": {
             "color": "#2a3f5f"
            },
            "error_y": {
             "color": "#2a3f5f"
            },
            "marker": {
             "line": {
              "color": "#E5ECF6",
              "width": 0.5
             }
            },
            "type": "bar"
           }
          ],
          "barpolar": [
           {
            "marker": {
             "line": {
              "color": "#E5ECF6",
              "width": 0.5
             }
            },
            "type": "barpolar"
           }
          ],
          "carpet": [
           {
            "aaxis": {
             "endlinecolor": "#2a3f5f",
             "gridcolor": "white",
             "linecolor": "white",
             "minorgridcolor": "white",
             "startlinecolor": "#2a3f5f"
            },
            "baxis": {
             "endlinecolor": "#2a3f5f",
             "gridcolor": "white",
             "linecolor": "white",
             "minorgridcolor": "white",
             "startlinecolor": "#2a3f5f"
            },
            "type": "carpet"
           }
          ],
          "choropleth": [
           {
            "colorbar": {
             "outlinewidth": 0,
             "ticks": ""
            },
            "type": "choropleth"
           }
          ],
          "contour": [
           {
            "colorbar": {
             "outlinewidth": 0,
             "ticks": ""
            },
            "colorscale": [
             [
              0,
              "#0d0887"
             ],
             [
              0.1111111111111111,
              "#46039f"
             ],
             [
              0.2222222222222222,
              "#7201a8"
             ],
             [
              0.3333333333333333,
              "#9c179e"
             ],
             [
              0.4444444444444444,
              "#bd3786"
             ],
             [
              0.5555555555555556,
              "#d8576b"
             ],
             [
              0.6666666666666666,
              "#ed7953"
             ],
             [
              0.7777777777777778,
              "#fb9f3a"
             ],
             [
              0.8888888888888888,
              "#fdca26"
             ],
             [
              1,
              "#f0f921"
             ]
            ],
            "type": "contour"
           }
          ],
          "contourcarpet": [
           {
            "colorbar": {
             "outlinewidth": 0,
             "ticks": ""
            },
            "type": "contourcarpet"
           }
          ],
          "heatmap": [
           {
            "colorbar": {
             "outlinewidth": 0,
             "ticks": ""
            },
            "colorscale": [
             [
              0,
              "#0d0887"
             ],
             [
              0.1111111111111111,
              "#46039f"
             ],
             [
              0.2222222222222222,
              "#7201a8"
             ],
             [
              0.3333333333333333,
              "#9c179e"
             ],
             [
              0.4444444444444444,
              "#bd3786"
             ],
             [
              0.5555555555555556,
              "#d8576b"
             ],
             [
              0.6666666666666666,
              "#ed7953"
             ],
             [
              0.7777777777777778,
              "#fb9f3a"
             ],
             [
              0.8888888888888888,
              "#fdca26"
             ],
             [
              1,
              "#f0f921"
             ]
            ],
            "type": "heatmap"
           }
          ],
          "heatmapgl": [
           {
            "colorbar": {
             "outlinewidth": 0,
             "ticks": ""
            },
            "colorscale": [
             [
              0,
              "#0d0887"
             ],
             [
              0.1111111111111111,
              "#46039f"
             ],
             [
              0.2222222222222222,
              "#7201a8"
             ],
             [
              0.3333333333333333,
              "#9c179e"
             ],
             [
              0.4444444444444444,
              "#bd3786"
             ],
             [
              0.5555555555555556,
              "#d8576b"
             ],
             [
              0.6666666666666666,
              "#ed7953"
             ],
             [
              0.7777777777777778,
              "#fb9f3a"
             ],
             [
              0.8888888888888888,
              "#fdca26"
             ],
             [
              1,
              "#f0f921"
             ]
            ],
            "type": "heatmapgl"
           }
          ],
          "histogram": [
           {
            "marker": {
             "colorbar": {
              "outlinewidth": 0,
              "ticks": ""
             }
            },
            "type": "histogram"
           }
          ],
          "histogram2d": [
           {
            "colorbar": {
             "outlinewidth": 0,
             "ticks": ""
            },
            "colorscale": [
             [
              0,
              "#0d0887"
             ],
             [
              0.1111111111111111,
              "#46039f"
             ],
             [
              0.2222222222222222,
              "#7201a8"
             ],
             [
              0.3333333333333333,
              "#9c179e"
             ],
             [
              0.4444444444444444,
              "#bd3786"
             ],
             [
              0.5555555555555556,
              "#d8576b"
             ],
             [
              0.6666666666666666,
              "#ed7953"
             ],
             [
              0.7777777777777778,
              "#fb9f3a"
             ],
             [
              0.8888888888888888,
              "#fdca26"
             ],
             [
              1,
              "#f0f921"
             ]
            ],
            "type": "histogram2d"
           }
          ],
          "histogram2dcontour": [
           {
            "colorbar": {
             "outlinewidth": 0,
             "ticks": ""
            },
            "colorscale": [
             [
              0,
              "#0d0887"
             ],
             [
              0.1111111111111111,
              "#46039f"
             ],
             [
              0.2222222222222222,
              "#7201a8"
             ],
             [
              0.3333333333333333,
              "#9c179e"
             ],
             [
              0.4444444444444444,
              "#bd3786"
             ],
             [
              0.5555555555555556,
              "#d8576b"
             ],
             [
              0.6666666666666666,
              "#ed7953"
             ],
             [
              0.7777777777777778,
              "#fb9f3a"
             ],
             [
              0.8888888888888888,
              "#fdca26"
             ],
             [
              1,
              "#f0f921"
             ]
            ],
            "type": "histogram2dcontour"
           }
          ],
          "mesh3d": [
           {
            "colorbar": {
             "outlinewidth": 0,
             "ticks": ""
            },
            "type": "mesh3d"
           }
          ],
          "parcoords": [
           {
            "line": {
             "colorbar": {
              "outlinewidth": 0,
              "ticks": ""
             }
            },
            "type": "parcoords"
           }
          ],
          "pie": [
           {
            "automargin": true,
            "type": "pie"
           }
          ],
          "scatter": [
           {
            "marker": {
             "colorbar": {
              "outlinewidth": 0,
              "ticks": ""
             }
            },
            "type": "scatter"
           }
          ],
          "scatter3d": [
           {
            "line": {
             "colorbar": {
              "outlinewidth": 0,
              "ticks": ""
             }
            },
            "marker": {
             "colorbar": {
              "outlinewidth": 0,
              "ticks": ""
             }
            },
            "type": "scatter3d"
           }
          ],
          "scattercarpet": [
           {
            "marker": {
             "colorbar": {
              "outlinewidth": 0,
              "ticks": ""
             }
            },
            "type": "scattercarpet"
           }
          ],
          "scattergeo": [
           {
            "marker": {
             "colorbar": {
              "outlinewidth": 0,
              "ticks": ""
             }
            },
            "type": "scattergeo"
           }
          ],
          "scattergl": [
           {
            "marker": {
             "colorbar": {
              "outlinewidth": 0,
              "ticks": ""
             }
            },
            "type": "scattergl"
           }
          ],
          "scattermapbox": [
           {
            "marker": {
             "colorbar": {
              "outlinewidth": 0,
              "ticks": ""
             }
            },
            "type": "scattermapbox"
           }
          ],
          "scatterpolar": [
           {
            "marker": {
             "colorbar": {
              "outlinewidth": 0,
              "ticks": ""
             }
            },
            "type": "scatterpolar"
           }
          ],
          "scatterpolargl": [
           {
            "marker": {
             "colorbar": {
              "outlinewidth": 0,
              "ticks": ""
             }
            },
            "type": "scatterpolargl"
           }
          ],
          "scatterternary": [
           {
            "marker": {
             "colorbar": {
              "outlinewidth": 0,
              "ticks": ""
             }
            },
            "type": "scatterternary"
           }
          ],
          "surface": [
           {
            "colorbar": {
             "outlinewidth": 0,
             "ticks": ""
            },
            "colorscale": [
             [
              0,
              "#0d0887"
             ],
             [
              0.1111111111111111,
              "#46039f"
             ],
             [
              0.2222222222222222,
              "#7201a8"
             ],
             [
              0.3333333333333333,
              "#9c179e"
             ],
             [
              0.4444444444444444,
              "#bd3786"
             ],
             [
              0.5555555555555556,
              "#d8576b"
             ],
             [
              0.6666666666666666,
              "#ed7953"
             ],
             [
              0.7777777777777778,
              "#fb9f3a"
             ],
             [
              0.8888888888888888,
              "#fdca26"
             ],
             [
              1,
              "#f0f921"
             ]
            ],
            "type": "surface"
           }
          ],
          "table": [
           {
            "cells": {
             "fill": {
              "color": "#EBF0F8"
             },
             "line": {
              "color": "white"
             }
            },
            "header": {
             "fill": {
              "color": "#C8D4E3"
             },
             "line": {
              "color": "white"
             }
            },
            "type": "table"
           }
          ]
         },
         "layout": {
          "annotationdefaults": {
           "arrowcolor": "#2a3f5f",
           "arrowhead": 0,
           "arrowwidth": 1
          },
          "coloraxis": {
           "colorbar": {
            "outlinewidth": 0,
            "ticks": ""
           }
          },
          "colorscale": {
           "diverging": [
            [
             0,
             "#8e0152"
            ],
            [
             0.1,
             "#c51b7d"
            ],
            [
             0.2,
             "#de77ae"
            ],
            [
             0.3,
             "#f1b6da"
            ],
            [
             0.4,
             "#fde0ef"
            ],
            [
             0.5,
             "#f7f7f7"
            ],
            [
             0.6,
             "#e6f5d0"
            ],
            [
             0.7,
             "#b8e186"
            ],
            [
             0.8,
             "#7fbc41"
            ],
            [
             0.9,
             "#4d9221"
            ],
            [
             1,
             "#276419"
            ]
           ],
           "sequential": [
            [
             0,
             "#0d0887"
            ],
            [
             0.1111111111111111,
             "#46039f"
            ],
            [
             0.2222222222222222,
             "#7201a8"
            ],
            [
             0.3333333333333333,
             "#9c179e"
            ],
            [
             0.4444444444444444,
             "#bd3786"
            ],
            [
             0.5555555555555556,
             "#d8576b"
            ],
            [
             0.6666666666666666,
             "#ed7953"
            ],
            [
             0.7777777777777778,
             "#fb9f3a"
            ],
            [
             0.8888888888888888,
             "#fdca26"
            ],
            [
             1,
             "#f0f921"
            ]
           ],
           "sequentialminus": [
            [
             0,
             "#0d0887"
            ],
            [
             0.1111111111111111,
             "#46039f"
            ],
            [
             0.2222222222222222,
             "#7201a8"
            ],
            [
             0.3333333333333333,
             "#9c179e"
            ],
            [
             0.4444444444444444,
             "#bd3786"
            ],
            [
             0.5555555555555556,
             "#d8576b"
            ],
            [
             0.6666666666666666,
             "#ed7953"
            ],
            [
             0.7777777777777778,
             "#fb9f3a"
            ],
            [
             0.8888888888888888,
             "#fdca26"
            ],
            [
             1,
             "#f0f921"
            ]
           ]
          },
          "colorway": [
           "#636efa",
           "#EF553B",
           "#00cc96",
           "#ab63fa",
           "#FFA15A",
           "#19d3f3",
           "#FF6692",
           "#B6E880",
           "#FF97FF",
           "#FECB52"
          ],
          "font": {
           "color": "#2a3f5f"
          },
          "geo": {
           "bgcolor": "white",
           "lakecolor": "white",
           "landcolor": "#E5ECF6",
           "showlakes": true,
           "showland": true,
           "subunitcolor": "white"
          },
          "hoverlabel": {
           "align": "left"
          },
          "hovermode": "closest",
          "mapbox": {
           "style": "light"
          },
          "paper_bgcolor": "white",
          "plot_bgcolor": "#E5ECF6",
          "polar": {
           "angularaxis": {
            "gridcolor": "white",
            "linecolor": "white",
            "ticks": ""
           },
           "bgcolor": "#E5ECF6",
           "radialaxis": {
            "gridcolor": "white",
            "linecolor": "white",
            "ticks": ""
           }
          },
          "scene": {
           "xaxis": {
            "backgroundcolor": "#E5ECF6",
            "gridcolor": "white",
            "gridwidth": 2,
            "linecolor": "white",
            "showbackground": true,
            "ticks": "",
            "zerolinecolor": "white"
           },
           "yaxis": {
            "backgroundcolor": "#E5ECF6",
            "gridcolor": "white",
            "gridwidth": 2,
            "linecolor": "white",
            "showbackground": true,
            "ticks": "",
            "zerolinecolor": "white"
           },
           "zaxis": {
            "backgroundcolor": "#E5ECF6",
            "gridcolor": "white",
            "gridwidth": 2,
            "linecolor": "white",
            "showbackground": true,
            "ticks": "",
            "zerolinecolor": "white"
           }
          },
          "shapedefaults": {
           "line": {
            "color": "#2a3f5f"
           }
          },
          "ternary": {
           "aaxis": {
            "gridcolor": "white",
            "linecolor": "white",
            "ticks": ""
           },
           "baxis": {
            "gridcolor": "white",
            "linecolor": "white",
            "ticks": ""
           },
           "bgcolor": "#E5ECF6",
           "caxis": {
            "gridcolor": "white",
            "linecolor": "white",
            "ticks": ""
           }
          },
          "title": {
           "x": 0.05
          },
          "xaxis": {
           "automargin": true,
           "gridcolor": "white",
           "linecolor": "white",
           "ticks": "",
           "title": {
            "standoff": 15
           },
           "zerolinecolor": "white",
           "zerolinewidth": 2
          },
          "yaxis": {
           "automargin": true,
           "gridcolor": "white",
           "linecolor": "white",
           "ticks": "",
           "title": {
            "standoff": 15
           },
           "zerolinecolor": "white",
           "zerolinewidth": 2
          }
         }
        },
        "title": {
         "text": "Doors vs Evaluation"
        }
       }
      },
      "text/html": "<div>\n        \n        \n            <div id=\"e06a0eec-5fa8-41c5-ade0-30e065d231ea\" class=\"plotly-graph-div\" style=\"height:525px; width:100%;\"></div>\n            <script type=\"text/javascript\">\n                require([\"plotly\"], function(Plotly) {\n                    window.PLOTLYENV=window.PLOTLYENV || {};\n                    \n                if (document.getElementById(\"e06a0eec-5fa8-41c5-ade0-30e065d231ea\")) {\n                    Plotly.newPlot(\n                        'e06a0eec-5fa8-41c5-ade0-30e065d231ea',\n                        [{\"name\": \"Unacceptable\", \"type\": \"bar\", \"x\": [\"3\", \"5\", \"4\", \"2\"], \"y\": [325, 300, 292, 292]}, {\"name\": \"Acceptable\", \"type\": \"bar\", \"x\": [\"3\", \"5\", \"4\", \"2\"], \"y\": [81, 99, 102, 102]}, {\"name\": \"Good\", \"type\": \"bar\", \"x\": [\"3\", \"5\", \"4\", \"2\"], \"y\": [15, 18, 18, 18]}, {\"name\": \"Very Good\", \"type\": \"bar\", \"x\": [\"3\", \"5\", \"4\", \"2\"], \"y\": [10, 15, 20, 20]}],\n                        {\"barmode\": \"stack\", \"template\": {\"data\": {\"bar\": [{\"error_x\": {\"color\": \"#2a3f5f\"}, \"error_y\": {\"color\": \"#2a3f5f\"}, \"marker\": {\"line\": {\"color\": \"#E5ECF6\", \"width\": 0.5}}, \"type\": \"bar\"}], \"barpolar\": [{\"marker\": {\"line\": {\"color\": \"#E5ECF6\", \"width\": 0.5}}, \"type\": \"barpolar\"}], \"carpet\": [{\"aaxis\": {\"endlinecolor\": \"#2a3f5f\", \"gridcolor\": \"white\", \"linecolor\": \"white\", \"minorgridcolor\": \"white\", \"startlinecolor\": \"#2a3f5f\"}, \"baxis\": {\"endlinecolor\": \"#2a3f5f\", \"gridcolor\": \"white\", \"linecolor\": \"white\", \"minorgridcolor\": \"white\", \"startlinecolor\": \"#2a3f5f\"}, \"type\": \"carpet\"}], \"choropleth\": [{\"colorbar\": {\"outlinewidth\": 0, \"ticks\": \"\"}, \"type\": \"choropleth\"}], \"contour\": [{\"colorbar\": {\"outlinewidth\": 0, \"ticks\": \"\"}, \"colorscale\": [[0.0, \"#0d0887\"], [0.1111111111111111, \"#46039f\"], [0.2222222222222222, \"#7201a8\"], [0.3333333333333333, \"#9c179e\"], [0.4444444444444444, \"#bd3786\"], [0.5555555555555556, \"#d8576b\"], [0.6666666666666666, \"#ed7953\"], [0.7777777777777778, \"#fb9f3a\"], [0.8888888888888888, \"#fdca26\"], [1.0, \"#f0f921\"]], \"type\": \"contour\"}], \"contourcarpet\": [{\"colorbar\": {\"outlinewidth\": 0, \"ticks\": \"\"}, \"type\": \"contourcarpet\"}], \"heatmap\": [{\"colorbar\": {\"outlinewidth\": 0, \"ticks\": \"\"}, \"colorscale\": [[0.0, \"#0d0887\"], [0.1111111111111111, \"#46039f\"], [0.2222222222222222, \"#7201a8\"], [0.3333333333333333, \"#9c179e\"], [0.4444444444444444, \"#bd3786\"], [0.5555555555555556, \"#d8576b\"], [0.6666666666666666, \"#ed7953\"], [0.7777777777777778, \"#fb9f3a\"], [0.8888888888888888, \"#fdca26\"], [1.0, \"#f0f921\"]], \"type\": \"heatmap\"}], \"heatmapgl\": [{\"colorbar\": {\"outlinewidth\": 0, \"ticks\": \"\"}, \"colorscale\": [[0.0, \"#0d0887\"], [0.1111111111111111, \"#46039f\"], [0.2222222222222222, \"#7201a8\"], [0.3333333333333333, \"#9c179e\"], [0.4444444444444444, \"#bd3786\"], [0.5555555555555556, \"#d8576b\"], [0.6666666666666666, \"#ed7953\"], [0.7777777777777778, \"#fb9f3a\"], [0.8888888888888888, \"#fdca26\"], [1.0, \"#f0f921\"]], \"type\": \"heatmapgl\"}], \"histogram\": [{\"marker\": {\"colorbar\": {\"outlinewidth\": 0, \"ticks\": \"\"}}, \"type\": \"histogram\"}], \"histogram2d\": [{\"colorbar\": {\"outlinewidth\": 0, \"ticks\": \"\"}, \"colorscale\": [[0.0, \"#0d0887\"], [0.1111111111111111, \"#46039f\"], [0.2222222222222222, \"#7201a8\"], [0.3333333333333333, \"#9c179e\"], [0.4444444444444444, \"#bd3786\"], [0.5555555555555556, \"#d8576b\"], [0.6666666666666666, \"#ed7953\"], [0.7777777777777778, \"#fb9f3a\"], [0.8888888888888888, \"#fdca26\"], [1.0, \"#f0f921\"]], \"type\": \"histogram2d\"}], \"histogram2dcontour\": [{\"colorbar\": {\"outlinewidth\": 0, \"ticks\": \"\"}, \"colorscale\": [[0.0, \"#0d0887\"], [0.1111111111111111, \"#46039f\"], [0.2222222222222222, \"#7201a8\"], [0.3333333333333333, \"#9c179e\"], [0.4444444444444444, \"#bd3786\"], [0.5555555555555556, \"#d8576b\"], [0.6666666666666666, \"#ed7953\"], [0.7777777777777778, \"#fb9f3a\"], [0.8888888888888888, \"#fdca26\"], [1.0, \"#f0f921\"]], \"type\": \"histogram2dcontour\"}], \"mesh3d\": [{\"colorbar\": {\"outlinewidth\": 0, \"ticks\": \"\"}, \"type\": \"mesh3d\"}], \"parcoords\": [{\"line\": {\"colorbar\": {\"outlinewidth\": 0, \"ticks\": \"\"}}, \"type\": \"parcoords\"}], \"pie\": [{\"automargin\": true, \"type\": \"pie\"}], \"scatter\": [{\"marker\": {\"colorbar\": {\"outlinewidth\": 0, \"ticks\": \"\"}}, \"type\": \"scatter\"}], \"scatter3d\": [{\"line\": {\"colorbar\": {\"outlinewidth\": 0, \"ticks\": \"\"}}, \"marker\": {\"colorbar\": {\"outlinewidth\": 0, \"ticks\": \"\"}}, \"type\": \"scatter3d\"}], \"scattercarpet\": [{\"marker\": {\"colorbar\": {\"outlinewidth\": 0, \"ticks\": \"\"}}, \"type\": \"scattercarpet\"}], \"scattergeo\": [{\"marker\": {\"colorbar\": {\"outlinewidth\": 0, \"ticks\": \"\"}}, \"type\": \"scattergeo\"}], \"scattergl\": [{\"marker\": {\"colorbar\": {\"outlinewidth\": 0, \"ticks\": \"\"}}, \"type\": \"scattergl\"}], \"scattermapbox\": [{\"marker\": {\"colorbar\": {\"outlinewidth\": 0, \"ticks\": \"\"}}, \"type\": \"scattermapbox\"}], \"scatterpolar\": [{\"marker\": {\"colorbar\": {\"outlinewidth\": 0, \"ticks\": \"\"}}, \"type\": \"scatterpolar\"}], \"scatterpolargl\": [{\"marker\": {\"colorbar\": {\"outlinewidth\": 0, \"ticks\": \"\"}}, \"type\": \"scatterpolargl\"}], \"scatterternary\": [{\"marker\": {\"colorbar\": {\"outlinewidth\": 0, \"ticks\": \"\"}}, \"type\": \"scatterternary\"}], \"surface\": [{\"colorbar\": {\"outlinewidth\": 0, \"ticks\": \"\"}, \"colorscale\": [[0.0, \"#0d0887\"], [0.1111111111111111, \"#46039f\"], [0.2222222222222222, \"#7201a8\"], [0.3333333333333333, \"#9c179e\"], [0.4444444444444444, \"#bd3786\"], [0.5555555555555556, \"#d8576b\"], [0.6666666666666666, \"#ed7953\"], [0.7777777777777778, \"#fb9f3a\"], [0.8888888888888888, \"#fdca26\"], [1.0, \"#f0f921\"]], \"type\": \"surface\"}], \"table\": [{\"cells\": {\"fill\": {\"color\": \"#EBF0F8\"}, \"line\": {\"color\": \"white\"}}, \"header\": {\"fill\": {\"color\": \"#C8D4E3\"}, \"line\": {\"color\": \"white\"}}, \"type\": \"table\"}]}, \"layout\": {\"annotationdefaults\": {\"arrowcolor\": \"#2a3f5f\", \"arrowhead\": 0, \"arrowwidth\": 1}, \"coloraxis\": {\"colorbar\": {\"outlinewidth\": 0, \"ticks\": \"\"}}, \"colorscale\": {\"diverging\": [[0, \"#8e0152\"], [0.1, \"#c51b7d\"], [0.2, \"#de77ae\"], [0.3, \"#f1b6da\"], [0.4, \"#fde0ef\"], [0.5, \"#f7f7f7\"], [0.6, \"#e6f5d0\"], [0.7, \"#b8e186\"], [0.8, \"#7fbc41\"], [0.9, \"#4d9221\"], [1, \"#276419\"]], \"sequential\": [[0.0, \"#0d0887\"], [0.1111111111111111, \"#46039f\"], [0.2222222222222222, \"#7201a8\"], [0.3333333333333333, \"#9c179e\"], [0.4444444444444444, \"#bd3786\"], [0.5555555555555556, \"#d8576b\"], [0.6666666666666666, \"#ed7953\"], [0.7777777777777778, \"#fb9f3a\"], [0.8888888888888888, \"#fdca26\"], [1.0, \"#f0f921\"]], \"sequentialminus\": [[0.0, \"#0d0887\"], [0.1111111111111111, \"#46039f\"], [0.2222222222222222, \"#7201a8\"], [0.3333333333333333, \"#9c179e\"], [0.4444444444444444, \"#bd3786\"], [0.5555555555555556, \"#d8576b\"], [0.6666666666666666, \"#ed7953\"], [0.7777777777777778, \"#fb9f3a\"], [0.8888888888888888, \"#fdca26\"], [1.0, \"#f0f921\"]]}, \"colorway\": [\"#636efa\", \"#EF553B\", \"#00cc96\", \"#ab63fa\", \"#FFA15A\", \"#19d3f3\", \"#FF6692\", \"#B6E880\", \"#FF97FF\", \"#FECB52\"], \"font\": {\"color\": \"#2a3f5f\"}, \"geo\": {\"bgcolor\": \"white\", \"lakecolor\": \"white\", \"landcolor\": \"#E5ECF6\", \"showlakes\": true, \"showland\": true, \"subunitcolor\": \"white\"}, \"hoverlabel\": {\"align\": \"left\"}, \"hovermode\": \"closest\", \"mapbox\": {\"style\": \"light\"}, \"paper_bgcolor\": \"white\", \"plot_bgcolor\": \"#E5ECF6\", \"polar\": {\"angularaxis\": {\"gridcolor\": \"white\", \"linecolor\": \"white\", \"ticks\": \"\"}, \"bgcolor\": \"#E5ECF6\", \"radialaxis\": {\"gridcolor\": \"white\", \"linecolor\": \"white\", \"ticks\": \"\"}}, \"scene\": {\"xaxis\": {\"backgroundcolor\": \"#E5ECF6\", \"gridcolor\": \"white\", \"gridwidth\": 2, \"linecolor\": \"white\", \"showbackground\": true, \"ticks\": \"\", \"zerolinecolor\": \"white\"}, \"yaxis\": {\"backgroundcolor\": \"#E5ECF6\", \"gridcolor\": \"white\", \"gridwidth\": 2, \"linecolor\": \"white\", \"showbackground\": true, \"ticks\": \"\", \"zerolinecolor\": \"white\"}, \"zaxis\": {\"backgroundcolor\": \"#E5ECF6\", \"gridcolor\": \"white\", \"gridwidth\": 2, \"linecolor\": \"white\", \"showbackground\": true, \"ticks\": \"\", \"zerolinecolor\": \"white\"}}, \"shapedefaults\": {\"line\": {\"color\": \"#2a3f5f\"}}, \"ternary\": {\"aaxis\": {\"gridcolor\": \"white\", \"linecolor\": \"white\", \"ticks\": \"\"}, \"baxis\": {\"gridcolor\": \"white\", \"linecolor\": \"white\", \"ticks\": \"\"}, \"bgcolor\": \"#E5ECF6\", \"caxis\": {\"gridcolor\": \"white\", \"linecolor\": \"white\", \"ticks\": \"\"}}, \"title\": {\"x\": 0.05}, \"xaxis\": {\"automargin\": true, \"gridcolor\": \"white\", \"linecolor\": \"white\", \"ticks\": \"\", \"title\": {\"standoff\": 15}, \"zerolinecolor\": \"white\", \"zerolinewidth\": 2}, \"yaxis\": {\"automargin\": true, \"gridcolor\": \"white\", \"linecolor\": \"white\", \"ticks\": \"\", \"title\": {\"standoff\": 15}, \"zerolinecolor\": \"white\", \"zerolinewidth\": 2}}}, \"title\": {\"text\": \"Doors vs Evaluation\"}},\n                        {\"responsive\": true}\n                    ).then(function(){\n                            \nvar gd = document.getElementById('e06a0eec-5fa8-41c5-ade0-30e065d231ea');\nvar x = new MutationObserver(function (mutations, observer) {{\n        var display = window.getComputedStyle(gd).display;\n        if (!display || display === 'none') {{\n            console.log([gd, 'removed!']);\n            Plotly.purge(gd);\n            observer.disconnect();\n        }}\n}});\n\n// Listen for the removal of the full notebook cells\nvar notebookContainer = gd.closest('#notebook-container');\nif (notebookContainer) {{\n    x.observe(notebookContainer, {childList: true});\n}}\n\n// Listen for the clearing of the current output cell\nvar outputEl = gd.closest('.output');\nif (outputEl) {{\n    x.observe(outputEl, {childList: true});\n}}\n\n                        })\n                };\n                });\n            </script>\n        </div>"
     },
     "metadata": {}
    }
   ],
   "source": [
    "#correlation of Doors feature vs Evaluation\n",
    "#x : feature a[2]\n",
    "#y :  drs = pd.crosstab(cars_df['doors'], cars_df['evaluation'])\n",
    "data = [\n",
    "    go.Bar(\n",
    "        x=a[2].index, \n",
    "        y=drs['unacc'],\n",
    "        name='Unacceptable'\n",
    "    ),\n",
    "    go.Bar(\n",
    "        x=a[2].index,\n",
    "        y=drs['acc'],\n",
    "        name='Acceptable'\n",
    "    ),\n",
    "    go.Bar(\n",
    "        x=a[2].index,\n",
    "        y=drs['good'],\n",
    "        name='Good'\n",
    "    ),\n",
    "    go.Bar(\n",
    "        x=a[2].index,\n",
    "        y=drs['vgood'],\n",
    "        name='Very Good'\n",
    "    )\n",
    "\n",
    "]\n",
    "\n",
    "layout = go.Layout(\n",
    "    barmode='stack',\n",
    "    title='Doors vs Evaluation'\n",
    ")\n",
    "\n",
    "fig = go.Figure(data=data, layout=layout)\n",
    "py.iplot(fig)"
   ]
  },
  {
   "cell_type": "code",
   "execution_count": 56,
   "metadata": {},
   "outputs": [
    {
     "output_type": "display_data",
     "data": {
      "application/vnd.plotly.v1+json": {
       "config": {
        "linkText": "Export to plot.ly",
        "plotlyServerURL": "https://plot.ly",
        "showLink": false
       },
       "data": [
        {
         "name": "Unacceptable",
         "type": "bar",
         "x": [
          "5",
          "4",
          "2"
         ],
         "y": [
          575,
          312,
          322
         ]
        },
        {
         "name": "Acceptable",
         "type": "bar",
         "x": [
          "5",
          "4",
          "2"
         ],
         "y": [
          0,
          198,
          186
         ]
        },
        {
         "name": "Good",
         "type": "bar",
         "x": [
          "5",
          "4",
          "2"
         ],
         "y": [
          0,
          36,
          33
         ]
        },
        {
         "name": "Very Good",
         "type": "bar",
         "x": [
          "5",
          "4",
          "2"
         ],
         "y": [
          0,
          30,
          35
         ]
        }
       ],
       "layout": {
        "barmode": "stack",
        "template": {
         "data": {
          "bar": [
           {
            "error_x": {
             "color": "#2a3f5f"
            },
            "error_y": {
             "color": "#2a3f5f"
            },
            "marker": {
             "line": {
              "color": "#E5ECF6",
              "width": 0.5
             }
            },
            "type": "bar"
           }
          ],
          "barpolar": [
           {
            "marker": {
             "line": {
              "color": "#E5ECF6",
              "width": 0.5
             }
            },
            "type": "barpolar"
           }
          ],
          "carpet": [
           {
            "aaxis": {
             "endlinecolor": "#2a3f5f",
             "gridcolor": "white",
             "linecolor": "white",
             "minorgridcolor": "white",
             "startlinecolor": "#2a3f5f"
            },
            "baxis": {
             "endlinecolor": "#2a3f5f",
             "gridcolor": "white",
             "linecolor": "white",
             "minorgridcolor": "white",
             "startlinecolor": "#2a3f5f"
            },
            "type": "carpet"
           }
          ],
          "choropleth": [
           {
            "colorbar": {
             "outlinewidth": 0,
             "ticks": ""
            },
            "type": "choropleth"
           }
          ],
          "contour": [
           {
            "colorbar": {
             "outlinewidth": 0,
             "ticks": ""
            },
            "colorscale": [
             [
              0,
              "#0d0887"
             ],
             [
              0.1111111111111111,
              "#46039f"
             ],
             [
              0.2222222222222222,
              "#7201a8"
             ],
             [
              0.3333333333333333,
              "#9c179e"
             ],
             [
              0.4444444444444444,
              "#bd3786"
             ],
             [
              0.5555555555555556,
              "#d8576b"
             ],
             [
              0.6666666666666666,
              "#ed7953"
             ],
             [
              0.7777777777777778,
              "#fb9f3a"
             ],
             [
              0.8888888888888888,
              "#fdca26"
             ],
             [
              1,
              "#f0f921"
             ]
            ],
            "type": "contour"
           }
          ],
          "contourcarpet": [
           {
            "colorbar": {
             "outlinewidth": 0,
             "ticks": ""
            },
            "type": "contourcarpet"
           }
          ],
          "heatmap": [
           {
            "colorbar": {
             "outlinewidth": 0,
             "ticks": ""
            },
            "colorscale": [
             [
              0,
              "#0d0887"
             ],
             [
              0.1111111111111111,
              "#46039f"
             ],
             [
              0.2222222222222222,
              "#7201a8"
             ],
             [
              0.3333333333333333,
              "#9c179e"
             ],
             [
              0.4444444444444444,
              "#bd3786"
             ],
             [
              0.5555555555555556,
              "#d8576b"
             ],
             [
              0.6666666666666666,
              "#ed7953"
             ],
             [
              0.7777777777777778,
              "#fb9f3a"
             ],
             [
              0.8888888888888888,
              "#fdca26"
             ],
             [
              1,
              "#f0f921"
             ]
            ],
            "type": "heatmap"
           }
          ],
          "heatmapgl": [
           {
            "colorbar": {
             "outlinewidth": 0,
             "ticks": ""
            },
            "colorscale": [
             [
              0,
              "#0d0887"
             ],
             [
              0.1111111111111111,
              "#46039f"
             ],
             [
              0.2222222222222222,
              "#7201a8"
             ],
             [
              0.3333333333333333,
              "#9c179e"
             ],
             [
              0.4444444444444444,
              "#bd3786"
             ],
             [
              0.5555555555555556,
              "#d8576b"
             ],
             [
              0.6666666666666666,
              "#ed7953"
             ],
             [
              0.7777777777777778,
              "#fb9f3a"
             ],
             [
              0.8888888888888888,
              "#fdca26"
             ],
             [
              1,
              "#f0f921"
             ]
            ],
            "type": "heatmapgl"
           }
          ],
          "histogram": [
           {
            "marker": {
             "colorbar": {
              "outlinewidth": 0,
              "ticks": ""
             }
            },
            "type": "histogram"
           }
          ],
          "histogram2d": [
           {
            "colorbar": {
             "outlinewidth": 0,
             "ticks": ""
            },
            "colorscale": [
             [
              0,
              "#0d0887"
             ],
             [
              0.1111111111111111,
              "#46039f"
             ],
             [
              0.2222222222222222,
              "#7201a8"
             ],
             [
              0.3333333333333333,
              "#9c179e"
             ],
             [
              0.4444444444444444,
              "#bd3786"
             ],
             [
              0.5555555555555556,
              "#d8576b"
             ],
             [
              0.6666666666666666,
              "#ed7953"
             ],
             [
              0.7777777777777778,
              "#fb9f3a"
             ],
             [
              0.8888888888888888,
              "#fdca26"
             ],
             [
              1,
              "#f0f921"
             ]
            ],
            "type": "histogram2d"
           }
          ],
          "histogram2dcontour": [
           {
            "colorbar": {
             "outlinewidth": 0,
             "ticks": ""
            },
            "colorscale": [
             [
              0,
              "#0d0887"
             ],
             [
              0.1111111111111111,
              "#46039f"
             ],
             [
              0.2222222222222222,
              "#7201a8"
             ],
             [
              0.3333333333333333,
              "#9c179e"
             ],
             [
              0.4444444444444444,
              "#bd3786"
             ],
             [
              0.5555555555555556,
              "#d8576b"
             ],
             [
              0.6666666666666666,
              "#ed7953"
             ],
             [
              0.7777777777777778,
              "#fb9f3a"
             ],
             [
              0.8888888888888888,
              "#fdca26"
             ],
             [
              1,
              "#f0f921"
             ]
            ],
            "type": "histogram2dcontour"
           }
          ],
          "mesh3d": [
           {
            "colorbar": {
             "outlinewidth": 0,
             "ticks": ""
            },
            "type": "mesh3d"
           }
          ],
          "parcoords": [
           {
            "line": {
             "colorbar": {
              "outlinewidth": 0,
              "ticks": ""
             }
            },
            "type": "parcoords"
           }
          ],
          "pie": [
           {
            "automargin": true,
            "type": "pie"
           }
          ],
          "scatter": [
           {
            "marker": {
             "colorbar": {
              "outlinewidth": 0,
              "ticks": ""
             }
            },
            "type": "scatter"
           }
          ],
          "scatter3d": [
           {
            "line": {
             "colorbar": {
              "outlinewidth": 0,
              "ticks": ""
             }
            },
            "marker": {
             "colorbar": {
              "outlinewidth": 0,
              "ticks": ""
             }
            },
            "type": "scatter3d"
           }
          ],
          "scattercarpet": [
           {
            "marker": {
             "colorbar": {
              "outlinewidth": 0,
              "ticks": ""
             }
            },
            "type": "scattercarpet"
           }
          ],
          "scattergeo": [
           {
            "marker": {
             "colorbar": {
              "outlinewidth": 0,
              "ticks": ""
             }
            },
            "type": "scattergeo"
           }
          ],
          "scattergl": [
           {
            "marker": {
             "colorbar": {
              "outlinewidth": 0,
              "ticks": ""
             }
            },
            "type": "scattergl"
           }
          ],
          "scattermapbox": [
           {
            "marker": {
             "colorbar": {
              "outlinewidth": 0,
              "ticks": ""
             }
            },
            "type": "scattermapbox"
           }
          ],
          "scatterpolar": [
           {
            "marker": {
             "colorbar": {
              "outlinewidth": 0,
              "ticks": ""
             }
            },
            "type": "scatterpolar"
           }
          ],
          "scatterpolargl": [
           {
            "marker": {
             "colorbar": {
              "outlinewidth": 0,
              "ticks": ""
             }
            },
            "type": "scatterpolargl"
           }
          ],
          "scatterternary": [
           {
            "marker": {
             "colorbar": {
              "outlinewidth": 0,
              "ticks": ""
             }
            },
            "type": "scatterternary"
           }
          ],
          "surface": [
           {
            "colorbar": {
             "outlinewidth": 0,
             "ticks": ""
            },
            "colorscale": [
             [
              0,
              "#0d0887"
             ],
             [
              0.1111111111111111,
              "#46039f"
             ],
             [
              0.2222222222222222,
              "#7201a8"
             ],
             [
              0.3333333333333333,
              "#9c179e"
             ],
             [
              0.4444444444444444,
              "#bd3786"
             ],
             [
              0.5555555555555556,
              "#d8576b"
             ],
             [
              0.6666666666666666,
              "#ed7953"
             ],
             [
              0.7777777777777778,
              "#fb9f3a"
             ],
             [
              0.8888888888888888,
              "#fdca26"
             ],
             [
              1,
              "#f0f921"
             ]
            ],
            "type": "surface"
           }
          ],
          "table": [
           {
            "cells": {
             "fill": {
              "color": "#EBF0F8"
             },
             "line": {
              "color": "white"
             }
            },
            "header": {
             "fill": {
              "color": "#C8D4E3"
             },
             "line": {
              "color": "white"
             }
            },
            "type": "table"
           }
          ]
         },
         "layout": {
          "annotationdefaults": {
           "arrowcolor": "#2a3f5f",
           "arrowhead": 0,
           "arrowwidth": 1
          },
          "coloraxis": {
           "colorbar": {
            "outlinewidth": 0,
            "ticks": ""
           }
          },
          "colorscale": {
           "diverging": [
            [
             0,
             "#8e0152"
            ],
            [
             0.1,
             "#c51b7d"
            ],
            [
             0.2,
             "#de77ae"
            ],
            [
             0.3,
             "#f1b6da"
            ],
            [
             0.4,
             "#fde0ef"
            ],
            [
             0.5,
             "#f7f7f7"
            ],
            [
             0.6,
             "#e6f5d0"
            ],
            [
             0.7,
             "#b8e186"
            ],
            [
             0.8,
             "#7fbc41"
            ],
            [
             0.9,
             "#4d9221"
            ],
            [
             1,
             "#276419"
            ]
           ],
           "sequential": [
            [
             0,
             "#0d0887"
            ],
            [
             0.1111111111111111,
             "#46039f"
            ],
            [
             0.2222222222222222,
             "#7201a8"
            ],
            [
             0.3333333333333333,
             "#9c179e"
            ],
            [
             0.4444444444444444,
             "#bd3786"
            ],
            [
             0.5555555555555556,
             "#d8576b"
            ],
            [
             0.6666666666666666,
             "#ed7953"
            ],
            [
             0.7777777777777778,
             "#fb9f3a"
            ],
            [
             0.8888888888888888,
             "#fdca26"
            ],
            [
             1,
             "#f0f921"
            ]
           ],
           "sequentialminus": [
            [
             0,
             "#0d0887"
            ],
            [
             0.1111111111111111,
             "#46039f"
            ],
            [
             0.2222222222222222,
             "#7201a8"
            ],
            [
             0.3333333333333333,
             "#9c179e"
            ],
            [
             0.4444444444444444,
             "#bd3786"
            ],
            [
             0.5555555555555556,
             "#d8576b"
            ],
            [
             0.6666666666666666,
             "#ed7953"
            ],
            [
             0.7777777777777778,
             "#fb9f3a"
            ],
            [
             0.8888888888888888,
             "#fdca26"
            ],
            [
             1,
             "#f0f921"
            ]
           ]
          },
          "colorway": [
           "#636efa",
           "#EF553B",
           "#00cc96",
           "#ab63fa",
           "#FFA15A",
           "#19d3f3",
           "#FF6692",
           "#B6E880",
           "#FF97FF",
           "#FECB52"
          ],
          "font": {
           "color": "#2a3f5f"
          },
          "geo": {
           "bgcolor": "white",
           "lakecolor": "white",
           "landcolor": "#E5ECF6",
           "showlakes": true,
           "showland": true,
           "subunitcolor": "white"
          },
          "hoverlabel": {
           "align": "left"
          },
          "hovermode": "closest",
          "mapbox": {
           "style": "light"
          },
          "paper_bgcolor": "white",
          "plot_bgcolor": "#E5ECF6",
          "polar": {
           "angularaxis": {
            "gridcolor": "white",
            "linecolor": "white",
            "ticks": ""
           },
           "bgcolor": "#E5ECF6",
           "radialaxis": {
            "gridcolor": "white",
            "linecolor": "white",
            "ticks": ""
           }
          },
          "scene": {
           "xaxis": {
            "backgroundcolor": "#E5ECF6",
            "gridcolor": "white",
            "gridwidth": 2,
            "linecolor": "white",
            "showbackground": true,
            "ticks": "",
            "zerolinecolor": "white"
           },
           "yaxis": {
            "backgroundcolor": "#E5ECF6",
            "gridcolor": "white",
            "gridwidth": 2,
            "linecolor": "white",
            "showbackground": true,
            "ticks": "",
            "zerolinecolor": "white"
           },
           "zaxis": {
            "backgroundcolor": "#E5ECF6",
            "gridcolor": "white",
            "gridwidth": 2,
            "linecolor": "white",
            "showbackground": true,
            "ticks": "",
            "zerolinecolor": "white"
           }
          },
          "shapedefaults": {
           "line": {
            "color": "#2a3f5f"
           }
          },
          "ternary": {
           "aaxis": {
            "gridcolor": "white",
            "linecolor": "white",
            "ticks": ""
           },
           "baxis": {
            "gridcolor": "white",
            "linecolor": "white",
            "ticks": ""
           },
           "bgcolor": "#E5ECF6",
           "caxis": {
            "gridcolor": "white",
            "linecolor": "white",
            "ticks": ""
           }
          },
          "title": {
           "x": 0.05
          },
          "xaxis": {
           "automargin": true,
           "gridcolor": "white",
           "linecolor": "white",
           "ticks": "",
           "title": {
            "standoff": 15
           },
           "zerolinecolor": "white",
           "zerolinewidth": 2
          },
          "yaxis": {
           "automargin": true,
           "gridcolor": "white",
           "linecolor": "white",
           "ticks": "",
           "title": {
            "standoff": 15
           },
           "zerolinecolor": "white",
           "zerolinewidth": 2
          }
         }
        },
        "title": {
         "text": "Number of Passengers vs Evaluation"
        }
       }
      },
      "text/html": "<div>\n        \n        \n            <div id=\"f7eb3488-e6d8-445a-ade2-be96ab0033b1\" class=\"plotly-graph-div\" style=\"height:525px; width:100%;\"></div>\n            <script type=\"text/javascript\">\n                require([\"plotly\"], function(Plotly) {\n                    window.PLOTLYENV=window.PLOTLYENV || {};\n                    \n                if (document.getElementById(\"f7eb3488-e6d8-445a-ade2-be96ab0033b1\")) {\n                    Plotly.newPlot(\n                        'f7eb3488-e6d8-445a-ade2-be96ab0033b1',\n                        [{\"name\": \"Unacceptable\", \"type\": \"bar\", \"x\": [\"5\", \"4\", \"2\"], \"y\": [575, 312, 322]}, {\"name\": \"Acceptable\", \"type\": \"bar\", \"x\": [\"5\", \"4\", \"2\"], \"y\": [0, 198, 186]}, {\"name\": \"Good\", \"type\": \"bar\", \"x\": [\"5\", \"4\", \"2\"], \"y\": [0, 36, 33]}, {\"name\": \"Very Good\", \"type\": \"bar\", \"x\": [\"5\", \"4\", \"2\"], \"y\": [0, 30, 35]}],\n                        {\"barmode\": \"stack\", \"template\": {\"data\": {\"bar\": [{\"error_x\": {\"color\": \"#2a3f5f\"}, \"error_y\": {\"color\": \"#2a3f5f\"}, \"marker\": {\"line\": {\"color\": \"#E5ECF6\", \"width\": 0.5}}, \"type\": \"bar\"}], \"barpolar\": [{\"marker\": {\"line\": {\"color\": \"#E5ECF6\", \"width\": 0.5}}, \"type\": \"barpolar\"}], \"carpet\": [{\"aaxis\": {\"endlinecolor\": \"#2a3f5f\", \"gridcolor\": \"white\", \"linecolor\": \"white\", \"minorgridcolor\": \"white\", \"startlinecolor\": \"#2a3f5f\"}, \"baxis\": {\"endlinecolor\": \"#2a3f5f\", \"gridcolor\": \"white\", \"linecolor\": \"white\", \"minorgridcolor\": \"white\", \"startlinecolor\": \"#2a3f5f\"}, \"type\": \"carpet\"}], \"choropleth\": [{\"colorbar\": {\"outlinewidth\": 0, \"ticks\": \"\"}, \"type\": \"choropleth\"}], \"contour\": [{\"colorbar\": {\"outlinewidth\": 0, \"ticks\": \"\"}, \"colorscale\": [[0.0, \"#0d0887\"], [0.1111111111111111, \"#46039f\"], [0.2222222222222222, \"#7201a8\"], [0.3333333333333333, \"#9c179e\"], [0.4444444444444444, \"#bd3786\"], [0.5555555555555556, \"#d8576b\"], [0.6666666666666666, \"#ed7953\"], [0.7777777777777778, \"#fb9f3a\"], [0.8888888888888888, \"#fdca26\"], [1.0, \"#f0f921\"]], \"type\": \"contour\"}], \"contourcarpet\": [{\"colorbar\": {\"outlinewidth\": 0, \"ticks\": \"\"}, \"type\": \"contourcarpet\"}], \"heatmap\": [{\"colorbar\": {\"outlinewidth\": 0, \"ticks\": \"\"}, \"colorscale\": [[0.0, \"#0d0887\"], [0.1111111111111111, \"#46039f\"], [0.2222222222222222, \"#7201a8\"], [0.3333333333333333, \"#9c179e\"], [0.4444444444444444, \"#bd3786\"], [0.5555555555555556, \"#d8576b\"], [0.6666666666666666, \"#ed7953\"], [0.7777777777777778, \"#fb9f3a\"], [0.8888888888888888, \"#fdca26\"], [1.0, \"#f0f921\"]], \"type\": \"heatmap\"}], \"heatmapgl\": [{\"colorbar\": {\"outlinewidth\": 0, \"ticks\": \"\"}, \"colorscale\": [[0.0, \"#0d0887\"], [0.1111111111111111, \"#46039f\"], [0.2222222222222222, \"#7201a8\"], [0.3333333333333333, \"#9c179e\"], [0.4444444444444444, \"#bd3786\"], [0.5555555555555556, \"#d8576b\"], [0.6666666666666666, \"#ed7953\"], [0.7777777777777778, \"#fb9f3a\"], [0.8888888888888888, \"#fdca26\"], [1.0, \"#f0f921\"]], \"type\": \"heatmapgl\"}], \"histogram\": [{\"marker\": {\"colorbar\": {\"outlinewidth\": 0, \"ticks\": \"\"}}, \"type\": \"histogram\"}], \"histogram2d\": [{\"colorbar\": {\"outlinewidth\": 0, \"ticks\": \"\"}, \"colorscale\": [[0.0, \"#0d0887\"], [0.1111111111111111, \"#46039f\"], [0.2222222222222222, \"#7201a8\"], [0.3333333333333333, \"#9c179e\"], [0.4444444444444444, \"#bd3786\"], [0.5555555555555556, \"#d8576b\"], [0.6666666666666666, \"#ed7953\"], [0.7777777777777778, \"#fb9f3a\"], [0.8888888888888888, \"#fdca26\"], [1.0, \"#f0f921\"]], \"type\": \"histogram2d\"}], \"histogram2dcontour\": [{\"colorbar\": {\"outlinewidth\": 0, \"ticks\": \"\"}, \"colorscale\": [[0.0, \"#0d0887\"], [0.1111111111111111, \"#46039f\"], [0.2222222222222222, \"#7201a8\"], [0.3333333333333333, \"#9c179e\"], [0.4444444444444444, \"#bd3786\"], [0.5555555555555556, \"#d8576b\"], [0.6666666666666666, \"#ed7953\"], [0.7777777777777778, \"#fb9f3a\"], [0.8888888888888888, \"#fdca26\"], [1.0, \"#f0f921\"]], \"type\": \"histogram2dcontour\"}], \"mesh3d\": [{\"colorbar\": {\"outlinewidth\": 0, \"ticks\": \"\"}, \"type\": \"mesh3d\"}], \"parcoords\": [{\"line\": {\"colorbar\": {\"outlinewidth\": 0, \"ticks\": \"\"}}, \"type\": \"parcoords\"}], \"pie\": [{\"automargin\": true, \"type\": \"pie\"}], \"scatter\": [{\"marker\": {\"colorbar\": {\"outlinewidth\": 0, \"ticks\": \"\"}}, \"type\": \"scatter\"}], \"scatter3d\": [{\"line\": {\"colorbar\": {\"outlinewidth\": 0, \"ticks\": \"\"}}, \"marker\": {\"colorbar\": {\"outlinewidth\": 0, \"ticks\": \"\"}}, \"type\": \"scatter3d\"}], \"scattercarpet\": [{\"marker\": {\"colorbar\": {\"outlinewidth\": 0, \"ticks\": \"\"}}, \"type\": \"scattercarpet\"}], \"scattergeo\": [{\"marker\": {\"colorbar\": {\"outlinewidth\": 0, \"ticks\": \"\"}}, \"type\": \"scattergeo\"}], \"scattergl\": [{\"marker\": {\"colorbar\": {\"outlinewidth\": 0, \"ticks\": \"\"}}, \"type\": \"scattergl\"}], \"scattermapbox\": [{\"marker\": {\"colorbar\": {\"outlinewidth\": 0, \"ticks\": \"\"}}, \"type\": \"scattermapbox\"}], \"scatterpolar\": [{\"marker\": {\"colorbar\": {\"outlinewidth\": 0, \"ticks\": \"\"}}, \"type\": \"scatterpolar\"}], \"scatterpolargl\": [{\"marker\": {\"colorbar\": {\"outlinewidth\": 0, \"ticks\": \"\"}}, \"type\": \"scatterpolargl\"}], \"scatterternary\": [{\"marker\": {\"colorbar\": {\"outlinewidth\": 0, \"ticks\": \"\"}}, \"type\": \"scatterternary\"}], \"surface\": [{\"colorbar\": {\"outlinewidth\": 0, \"ticks\": \"\"}, \"colorscale\": [[0.0, \"#0d0887\"], [0.1111111111111111, \"#46039f\"], [0.2222222222222222, \"#7201a8\"], [0.3333333333333333, \"#9c179e\"], [0.4444444444444444, \"#bd3786\"], [0.5555555555555556, \"#d8576b\"], [0.6666666666666666, \"#ed7953\"], [0.7777777777777778, \"#fb9f3a\"], [0.8888888888888888, \"#fdca26\"], [1.0, \"#f0f921\"]], \"type\": \"surface\"}], \"table\": [{\"cells\": {\"fill\": {\"color\": \"#EBF0F8\"}, \"line\": {\"color\": \"white\"}}, \"header\": {\"fill\": {\"color\": \"#C8D4E3\"}, \"line\": {\"color\": \"white\"}}, \"type\": \"table\"}]}, \"layout\": {\"annotationdefaults\": {\"arrowcolor\": \"#2a3f5f\", \"arrowhead\": 0, \"arrowwidth\": 1}, \"coloraxis\": {\"colorbar\": {\"outlinewidth\": 0, \"ticks\": \"\"}}, \"colorscale\": {\"diverging\": [[0, \"#8e0152\"], [0.1, \"#c51b7d\"], [0.2, \"#de77ae\"], [0.3, \"#f1b6da\"], [0.4, \"#fde0ef\"], [0.5, \"#f7f7f7\"], [0.6, \"#e6f5d0\"], [0.7, \"#b8e186\"], [0.8, \"#7fbc41\"], [0.9, \"#4d9221\"], [1, \"#276419\"]], \"sequential\": [[0.0, \"#0d0887\"], [0.1111111111111111, \"#46039f\"], [0.2222222222222222, \"#7201a8\"], [0.3333333333333333, \"#9c179e\"], [0.4444444444444444, \"#bd3786\"], [0.5555555555555556, \"#d8576b\"], [0.6666666666666666, \"#ed7953\"], [0.7777777777777778, \"#fb9f3a\"], [0.8888888888888888, \"#fdca26\"], [1.0, \"#f0f921\"]], \"sequentialminus\": [[0.0, \"#0d0887\"], [0.1111111111111111, \"#46039f\"], [0.2222222222222222, \"#7201a8\"], [0.3333333333333333, \"#9c179e\"], [0.4444444444444444, \"#bd3786\"], [0.5555555555555556, \"#d8576b\"], [0.6666666666666666, \"#ed7953\"], [0.7777777777777778, \"#fb9f3a\"], [0.8888888888888888, \"#fdca26\"], [1.0, \"#f0f921\"]]}, \"colorway\": [\"#636efa\", \"#EF553B\", \"#00cc96\", \"#ab63fa\", \"#FFA15A\", \"#19d3f3\", \"#FF6692\", \"#B6E880\", \"#FF97FF\", \"#FECB52\"], \"font\": {\"color\": \"#2a3f5f\"}, \"geo\": {\"bgcolor\": \"white\", \"lakecolor\": \"white\", \"landcolor\": \"#E5ECF6\", \"showlakes\": true, \"showland\": true, \"subunitcolor\": \"white\"}, \"hoverlabel\": {\"align\": \"left\"}, \"hovermode\": \"closest\", \"mapbox\": {\"style\": \"light\"}, \"paper_bgcolor\": \"white\", \"plot_bgcolor\": \"#E5ECF6\", \"polar\": {\"angularaxis\": {\"gridcolor\": \"white\", \"linecolor\": \"white\", \"ticks\": \"\"}, \"bgcolor\": \"#E5ECF6\", \"radialaxis\": {\"gridcolor\": \"white\", \"linecolor\": \"white\", \"ticks\": \"\"}}, \"scene\": {\"xaxis\": {\"backgroundcolor\": \"#E5ECF6\", \"gridcolor\": \"white\", \"gridwidth\": 2, \"linecolor\": \"white\", \"showbackground\": true, \"ticks\": \"\", \"zerolinecolor\": \"white\"}, \"yaxis\": {\"backgroundcolor\": \"#E5ECF6\", \"gridcolor\": \"white\", \"gridwidth\": 2, \"linecolor\": \"white\", \"showbackground\": true, \"ticks\": \"\", \"zerolinecolor\": \"white\"}, \"zaxis\": {\"backgroundcolor\": \"#E5ECF6\", \"gridcolor\": \"white\", \"gridwidth\": 2, \"linecolor\": \"white\", \"showbackground\": true, \"ticks\": \"\", \"zerolinecolor\": \"white\"}}, \"shapedefaults\": {\"line\": {\"color\": \"#2a3f5f\"}}, \"ternary\": {\"aaxis\": {\"gridcolor\": \"white\", \"linecolor\": \"white\", \"ticks\": \"\"}, \"baxis\": {\"gridcolor\": \"white\", \"linecolor\": \"white\", \"ticks\": \"\"}, \"bgcolor\": \"#E5ECF6\", \"caxis\": {\"gridcolor\": \"white\", \"linecolor\": \"white\", \"ticks\": \"\"}}, \"title\": {\"x\": 0.05}, \"xaxis\": {\"automargin\": true, \"gridcolor\": \"white\", \"linecolor\": \"white\", \"ticks\": \"\", \"title\": {\"standoff\": 15}, \"zerolinecolor\": \"white\", \"zerolinewidth\": 2}, \"yaxis\": {\"automargin\": true, \"gridcolor\": \"white\", \"linecolor\": \"white\", \"ticks\": \"\", \"title\": {\"standoff\": 15}, \"zerolinecolor\": \"white\", \"zerolinewidth\": 2}}}, \"title\": {\"text\": \"Number of Passengers vs Evaluation\"}},\n                        {\"responsive\": true}\n                    ).then(function(){\n                            \nvar gd = document.getElementById('f7eb3488-e6d8-445a-ade2-be96ab0033b1');\nvar x = new MutationObserver(function (mutations, observer) {{\n        var display = window.getComputedStyle(gd).display;\n        if (!display || display === 'none') {{\n            console.log([gd, 'removed!']);\n            Plotly.purge(gd);\n            observer.disconnect();\n        }}\n}});\n\n// Listen for the removal of the full notebook cells\nvar notebookContainer = gd.closest('#notebook-container');\nif (notebookContainer) {{\n    x.observe(notebookContainer, {childList: true});\n}}\n\n// Listen for the clearing of the current output cell\nvar outputEl = gd.closest('.output');\nif (outputEl) {{\n    x.observe(outputEl, {childList: true});\n}}\n\n                        })\n                };\n                });\n            </script>\n        </div>"
     },
     "metadata": {}
    }
   ],
   "source": [
    "#correlation of Person feature vs Evaluation\n",
    "#x : feature a[3]\n",
    "#y :  prsn = pd.crosstab(cars_df['persons'], cars_df['evaluation'])\n",
    "data = [\n",
    "    go.Bar(\n",
    "        x=a[3].index, \n",
    "        y=prsn['unacc'],\n",
    "        name='Unacceptable'\n",
    "    ),\n",
    "    go.Bar(\n",
    "        x=a[3].index,\n",
    "        y=prsn['acc'],\n",
    "        name='Acceptable'\n",
    "    ),\n",
    "    go.Bar(\n",
    "        x=a[3].index,\n",
    "        y=prsn['good'],\n",
    "        name='Good'\n",
    "    ),\n",
    "    go.Bar(\n",
    "        x=a[3].index,\n",
    "        y=prsn['vgood'],\n",
    "        name='Very Good'\n",
    "    )\n",
    "\n",
    "]\n",
    "\n",
    "layout = go.Layout(\n",
    "    barmode='stack',\n",
    "    title='Number of Passengers vs Evaluation'\n",
    ")\n",
    "\n",
    "fig = go.Figure(data=data, layout=layout)\n",
    "py.iplot(fig)"
   ]
  },
  {
   "cell_type": "code",
   "execution_count": 57,
   "metadata": {},
   "outputs": [
    {
     "output_type": "display_data",
     "data": {
      "application/vnd.plotly.v1+json": {
       "config": {
        "linkText": "Export to plot.ly",
        "plotlyServerURL": "https://plot.ly",
        "showLink": false
       },
       "data": [
        {
         "name": "Unacceptable",
         "type": "bar",
         "x": [
          "big",
          "med",
          "small"
         ],
         "y": [
          368,
          392,
          449
         ]
        },
        {
         "name": "Acceptable",
         "type": "bar",
         "x": [
          "big",
          "med",
          "small"
         ],
         "y": [
          144,
          135,
          105
         ]
        },
        {
         "name": "Good",
         "type": "bar",
         "x": [
          "big",
          "med",
          "small"
         ],
         "y": [
          24,
          24,
          21
         ]
        },
        {
         "name": "Very Good",
         "type": "bar",
         "x": [
          "big",
          "med",
          "small"
         ],
         "y": [
          40,
          25,
          0
         ]
        }
       ],
       "layout": {
        "barmode": "stack",
        "template": {
         "data": {
          "bar": [
           {
            "error_x": {
             "color": "#2a3f5f"
            },
            "error_y": {
             "color": "#2a3f5f"
            },
            "marker": {
             "line": {
              "color": "#E5ECF6",
              "width": 0.5
             }
            },
            "type": "bar"
           }
          ],
          "barpolar": [
           {
            "marker": {
             "line": {
              "color": "#E5ECF6",
              "width": 0.5
             }
            },
            "type": "barpolar"
           }
          ],
          "carpet": [
           {
            "aaxis": {
             "endlinecolor": "#2a3f5f",
             "gridcolor": "white",
             "linecolor": "white",
             "minorgridcolor": "white",
             "startlinecolor": "#2a3f5f"
            },
            "baxis": {
             "endlinecolor": "#2a3f5f",
             "gridcolor": "white",
             "linecolor": "white",
             "minorgridcolor": "white",
             "startlinecolor": "#2a3f5f"
            },
            "type": "carpet"
           }
          ],
          "choropleth": [
           {
            "colorbar": {
             "outlinewidth": 0,
             "ticks": ""
            },
            "type": "choropleth"
           }
          ],
          "contour": [
           {
            "colorbar": {
             "outlinewidth": 0,
             "ticks": ""
            },
            "colorscale": [
             [
              0,
              "#0d0887"
             ],
             [
              0.1111111111111111,
              "#46039f"
             ],
             [
              0.2222222222222222,
              "#7201a8"
             ],
             [
              0.3333333333333333,
              "#9c179e"
             ],
             [
              0.4444444444444444,
              "#bd3786"
             ],
             [
              0.5555555555555556,
              "#d8576b"
             ],
             [
              0.6666666666666666,
              "#ed7953"
             ],
             [
              0.7777777777777778,
              "#fb9f3a"
             ],
             [
              0.8888888888888888,
              "#fdca26"
             ],
             [
              1,
              "#f0f921"
             ]
            ],
            "type": "contour"
           }
          ],
          "contourcarpet": [
           {
            "colorbar": {
             "outlinewidth": 0,
             "ticks": ""
            },
            "type": "contourcarpet"
           }
          ],
          "heatmap": [
           {
            "colorbar": {
             "outlinewidth": 0,
             "ticks": ""
            },
            "colorscale": [
             [
              0,
              "#0d0887"
             ],
             [
              0.1111111111111111,
              "#46039f"
             ],
             [
              0.2222222222222222,
              "#7201a8"
             ],
             [
              0.3333333333333333,
              "#9c179e"
             ],
             [
              0.4444444444444444,
              "#bd3786"
             ],
             [
              0.5555555555555556,
              "#d8576b"
             ],
             [
              0.6666666666666666,
              "#ed7953"
             ],
             [
              0.7777777777777778,
              "#fb9f3a"
             ],
             [
              0.8888888888888888,
              "#fdca26"
             ],
             [
              1,
              "#f0f921"
             ]
            ],
            "type": "heatmap"
           }
          ],
          "heatmapgl": [
           {
            "colorbar": {
             "outlinewidth": 0,
             "ticks": ""
            },
            "colorscale": [
             [
              0,
              "#0d0887"
             ],
             [
              0.1111111111111111,
              "#46039f"
             ],
             [
              0.2222222222222222,
              "#7201a8"
             ],
             [
              0.3333333333333333,
              "#9c179e"
             ],
             [
              0.4444444444444444,
              "#bd3786"
             ],
             [
              0.5555555555555556,
              "#d8576b"
             ],
             [
              0.6666666666666666,
              "#ed7953"
             ],
             [
              0.7777777777777778,
              "#fb9f3a"
             ],
             [
              0.8888888888888888,
              "#fdca26"
             ],
             [
              1,
              "#f0f921"
             ]
            ],
            "type": "heatmapgl"
           }
          ],
          "histogram": [
           {
            "marker": {
             "colorbar": {
              "outlinewidth": 0,
              "ticks": ""
             }
            },
            "type": "histogram"
           }
          ],
          "histogram2d": [
           {
            "colorbar": {
             "outlinewidth": 0,
             "ticks": ""
            },
            "colorscale": [
             [
              0,
              "#0d0887"
             ],
             [
              0.1111111111111111,
              "#46039f"
             ],
             [
              0.2222222222222222,
              "#7201a8"
             ],
             [
              0.3333333333333333,
              "#9c179e"
             ],
             [
              0.4444444444444444,
              "#bd3786"
             ],
             [
              0.5555555555555556,
              "#d8576b"
             ],
             [
              0.6666666666666666,
              "#ed7953"
             ],
             [
              0.7777777777777778,
              "#fb9f3a"
             ],
             [
              0.8888888888888888,
              "#fdca26"
             ],
             [
              1,
              "#f0f921"
             ]
            ],
            "type": "histogram2d"
           }
          ],
          "histogram2dcontour": [
           {
            "colorbar": {
             "outlinewidth": 0,
             "ticks": ""
            },
            "colorscale": [
             [
              0,
              "#0d0887"
             ],
             [
              0.1111111111111111,
              "#46039f"
             ],
             [
              0.2222222222222222,
              "#7201a8"
             ],
             [
              0.3333333333333333,
              "#9c179e"
             ],
             [
              0.4444444444444444,
              "#bd3786"
             ],
             [
              0.5555555555555556,
              "#d8576b"
             ],
             [
              0.6666666666666666,
              "#ed7953"
             ],
             [
              0.7777777777777778,
              "#fb9f3a"
             ],
             [
              0.8888888888888888,
              "#fdca26"
             ],
             [
              1,
              "#f0f921"
             ]
            ],
            "type": "histogram2dcontour"
           }
          ],
          "mesh3d": [
           {
            "colorbar": {
             "outlinewidth": 0,
             "ticks": ""
            },
            "type": "mesh3d"
           }
          ],
          "parcoords": [
           {
            "line": {
             "colorbar": {
              "outlinewidth": 0,
              "ticks": ""
             }
            },
            "type": "parcoords"
           }
          ],
          "pie": [
           {
            "automargin": true,
            "type": "pie"
           }
          ],
          "scatter": [
           {
            "marker": {
             "colorbar": {
              "outlinewidth": 0,
              "ticks": ""
             }
            },
            "type": "scatter"
           }
          ],
          "scatter3d": [
           {
            "line": {
             "colorbar": {
              "outlinewidth": 0,
              "ticks": ""
             }
            },
            "marker": {
             "colorbar": {
              "outlinewidth": 0,
              "ticks": ""
             }
            },
            "type": "scatter3d"
           }
          ],
          "scattercarpet": [
           {
            "marker": {
             "colorbar": {
              "outlinewidth": 0,
              "ticks": ""
             }
            },
            "type": "scattercarpet"
           }
          ],
          "scattergeo": [
           {
            "marker": {
             "colorbar": {
              "outlinewidth": 0,
              "ticks": ""
             }
            },
            "type": "scattergeo"
           }
          ],
          "scattergl": [
           {
            "marker": {
             "colorbar": {
              "outlinewidth": 0,
              "ticks": ""
             }
            },
            "type": "scattergl"
           }
          ],
          "scattermapbox": [
           {
            "marker": {
             "colorbar": {
              "outlinewidth": 0,
              "ticks": ""
             }
            },
            "type": "scattermapbox"
           }
          ],
          "scatterpolar": [
           {
            "marker": {
             "colorbar": {
              "outlinewidth": 0,
              "ticks": ""
             }
            },
            "type": "scatterpolar"
           }
          ],
          "scatterpolargl": [
           {
            "marker": {
             "colorbar": {
              "outlinewidth": 0,
              "ticks": ""
             }
            },
            "type": "scatterpolargl"
           }
          ],
          "scatterternary": [
           {
            "marker": {
             "colorbar": {
              "outlinewidth": 0,
              "ticks": ""
             }
            },
            "type": "scatterternary"
           }
          ],
          "surface": [
           {
            "colorbar": {
             "outlinewidth": 0,
             "ticks": ""
            },
            "colorscale": [
             [
              0,
              "#0d0887"
             ],
             [
              0.1111111111111111,
              "#46039f"
             ],
             [
              0.2222222222222222,
              "#7201a8"
             ],
             [
              0.3333333333333333,
              "#9c179e"
             ],
             [
              0.4444444444444444,
              "#bd3786"
             ],
             [
              0.5555555555555556,
              "#d8576b"
             ],
             [
              0.6666666666666666,
              "#ed7953"
             ],
             [
              0.7777777777777778,
              "#fb9f3a"
             ],
             [
              0.8888888888888888,
              "#fdca26"
             ],
             [
              1,
              "#f0f921"
             ]
            ],
            "type": "surface"
           }
          ],
          "table": [
           {
            "cells": {
             "fill": {
              "color": "#EBF0F8"
             },
             "line": {
              "color": "white"
             }
            },
            "header": {
             "fill": {
              "color": "#C8D4E3"
             },
             "line": {
              "color": "white"
             }
            },
            "type": "table"
           }
          ]
         },
         "layout": {
          "annotationdefaults": {
           "arrowcolor": "#2a3f5f",
           "arrowhead": 0,
           "arrowwidth": 1
          },
          "coloraxis": {
           "colorbar": {
            "outlinewidth": 0,
            "ticks": ""
           }
          },
          "colorscale": {
           "diverging": [
            [
             0,
             "#8e0152"
            ],
            [
             0.1,
             "#c51b7d"
            ],
            [
             0.2,
             "#de77ae"
            ],
            [
             0.3,
             "#f1b6da"
            ],
            [
             0.4,
             "#fde0ef"
            ],
            [
             0.5,
             "#f7f7f7"
            ],
            [
             0.6,
             "#e6f5d0"
            ],
            [
             0.7,
             "#b8e186"
            ],
            [
             0.8,
             "#7fbc41"
            ],
            [
             0.9,
             "#4d9221"
            ],
            [
             1,
             "#276419"
            ]
           ],
           "sequential": [
            [
             0,
             "#0d0887"
            ],
            [
             0.1111111111111111,
             "#46039f"
            ],
            [
             0.2222222222222222,
             "#7201a8"
            ],
            [
             0.3333333333333333,
             "#9c179e"
            ],
            [
             0.4444444444444444,
             "#bd3786"
            ],
            [
             0.5555555555555556,
             "#d8576b"
            ],
            [
             0.6666666666666666,
             "#ed7953"
            ],
            [
             0.7777777777777778,
             "#fb9f3a"
            ],
            [
             0.8888888888888888,
             "#fdca26"
            ],
            [
             1,
             "#f0f921"
            ]
           ],
           "sequentialminus": [
            [
             0,
             "#0d0887"
            ],
            [
             0.1111111111111111,
             "#46039f"
            ],
            [
             0.2222222222222222,
             "#7201a8"
            ],
            [
             0.3333333333333333,
             "#9c179e"
            ],
            [
             0.4444444444444444,
             "#bd3786"
            ],
            [
             0.5555555555555556,
             "#d8576b"
            ],
            [
             0.6666666666666666,
             "#ed7953"
            ],
            [
             0.7777777777777778,
             "#fb9f3a"
            ],
            [
             0.8888888888888888,
             "#fdca26"
            ],
            [
             1,
             "#f0f921"
            ]
           ]
          },
          "colorway": [
           "#636efa",
           "#EF553B",
           "#00cc96",
           "#ab63fa",
           "#FFA15A",
           "#19d3f3",
           "#FF6692",
           "#B6E880",
           "#FF97FF",
           "#FECB52"
          ],
          "font": {
           "color": "#2a3f5f"
          },
          "geo": {
           "bgcolor": "white",
           "lakecolor": "white",
           "landcolor": "#E5ECF6",
           "showlakes": true,
           "showland": true,
           "subunitcolor": "white"
          },
          "hoverlabel": {
           "align": "left"
          },
          "hovermode": "closest",
          "mapbox": {
           "style": "light"
          },
          "paper_bgcolor": "white",
          "plot_bgcolor": "#E5ECF6",
          "polar": {
           "angularaxis": {
            "gridcolor": "white",
            "linecolor": "white",
            "ticks": ""
           },
           "bgcolor": "#E5ECF6",
           "radialaxis": {
            "gridcolor": "white",
            "linecolor": "white",
            "ticks": ""
           }
          },
          "scene": {
           "xaxis": {
            "backgroundcolor": "#E5ECF6",
            "gridcolor": "white",
            "gridwidth": 2,
            "linecolor": "white",
            "showbackground": true,
            "ticks": "",
            "zerolinecolor": "white"
           },
           "yaxis": {
            "backgroundcolor": "#E5ECF6",
            "gridcolor": "white",
            "gridwidth": 2,
            "linecolor": "white",
            "showbackground": true,
            "ticks": "",
            "zerolinecolor": "white"
           },
           "zaxis": {
            "backgroundcolor": "#E5ECF6",
            "gridcolor": "white",
            "gridwidth": 2,
            "linecolor": "white",
            "showbackground": true,
            "ticks": "",
            "zerolinecolor": "white"
           }
          },
          "shapedefaults": {
           "line": {
            "color": "#2a3f5f"
           }
          },
          "ternary": {
           "aaxis": {
            "gridcolor": "white",
            "linecolor": "white",
            "ticks": ""
           },
           "baxis": {
            "gridcolor": "white",
            "linecolor": "white",
            "ticks": ""
           },
           "bgcolor": "#E5ECF6",
           "caxis": {
            "gridcolor": "white",
            "linecolor": "white",
            "ticks": ""
           }
          },
          "title": {
           "x": 0.05
          },
          "xaxis": {
           "automargin": true,
           "gridcolor": "white",
           "linecolor": "white",
           "ticks": "",
           "title": {
            "standoff": 15
           },
           "zerolinecolor": "white",
           "zerolinewidth": 2
          },
          "yaxis": {
           "automargin": true,
           "gridcolor": "white",
           "linecolor": "white",
           "ticks": "",
           "title": {
            "standoff": 15
           },
           "zerolinecolor": "white",
           "zerolinewidth": 2
          }
         }
        },
        "title": {
         "text": "Luggage Boot vs Evaluation"
        }
       }
      },
      "text/html": "<div>\n        \n        \n            <div id=\"4e773498-0bcd-47bc-ac1c-53463d7ecfcf\" class=\"plotly-graph-div\" style=\"height:525px; width:100%;\"></div>\n            <script type=\"text/javascript\">\n                require([\"plotly\"], function(Plotly) {\n                    window.PLOTLYENV=window.PLOTLYENV || {};\n                    \n                if (document.getElementById(\"4e773498-0bcd-47bc-ac1c-53463d7ecfcf\")) {\n                    Plotly.newPlot(\n                        '4e773498-0bcd-47bc-ac1c-53463d7ecfcf',\n                        [{\"name\": \"Unacceptable\", \"type\": \"bar\", \"x\": [\"big\", \"med\", \"small\"], \"y\": [368, 392, 449]}, {\"name\": \"Acceptable\", \"type\": \"bar\", \"x\": [\"big\", \"med\", \"small\"], \"y\": [144, 135, 105]}, {\"name\": \"Good\", \"type\": \"bar\", \"x\": [\"big\", \"med\", \"small\"], \"y\": [24, 24, 21]}, {\"name\": \"Very Good\", \"type\": \"bar\", \"x\": [\"big\", \"med\", \"small\"], \"y\": [40, 25, 0]}],\n                        {\"barmode\": \"stack\", \"template\": {\"data\": {\"bar\": [{\"error_x\": {\"color\": \"#2a3f5f\"}, \"error_y\": {\"color\": \"#2a3f5f\"}, \"marker\": {\"line\": {\"color\": \"#E5ECF6\", \"width\": 0.5}}, \"type\": \"bar\"}], \"barpolar\": [{\"marker\": {\"line\": {\"color\": \"#E5ECF6\", \"width\": 0.5}}, \"type\": \"barpolar\"}], \"carpet\": [{\"aaxis\": {\"endlinecolor\": \"#2a3f5f\", \"gridcolor\": \"white\", \"linecolor\": \"white\", \"minorgridcolor\": \"white\", \"startlinecolor\": \"#2a3f5f\"}, \"baxis\": {\"endlinecolor\": \"#2a3f5f\", \"gridcolor\": \"white\", \"linecolor\": \"white\", \"minorgridcolor\": \"white\", \"startlinecolor\": \"#2a3f5f\"}, \"type\": \"carpet\"}], \"choropleth\": [{\"colorbar\": {\"outlinewidth\": 0, \"ticks\": \"\"}, \"type\": \"choropleth\"}], \"contour\": [{\"colorbar\": {\"outlinewidth\": 0, \"ticks\": \"\"}, \"colorscale\": [[0.0, \"#0d0887\"], [0.1111111111111111, \"#46039f\"], [0.2222222222222222, \"#7201a8\"], [0.3333333333333333, \"#9c179e\"], [0.4444444444444444, \"#bd3786\"], [0.5555555555555556, \"#d8576b\"], [0.6666666666666666, \"#ed7953\"], [0.7777777777777778, \"#fb9f3a\"], [0.8888888888888888, \"#fdca26\"], [1.0, \"#f0f921\"]], \"type\": \"contour\"}], \"contourcarpet\": [{\"colorbar\": {\"outlinewidth\": 0, \"ticks\": \"\"}, \"type\": \"contourcarpet\"}], \"heatmap\": [{\"colorbar\": {\"outlinewidth\": 0, \"ticks\": \"\"}, \"colorscale\": [[0.0, \"#0d0887\"], [0.1111111111111111, \"#46039f\"], [0.2222222222222222, \"#7201a8\"], [0.3333333333333333, \"#9c179e\"], [0.4444444444444444, \"#bd3786\"], [0.5555555555555556, \"#d8576b\"], [0.6666666666666666, \"#ed7953\"], [0.7777777777777778, \"#fb9f3a\"], [0.8888888888888888, \"#fdca26\"], [1.0, \"#f0f921\"]], \"type\": \"heatmap\"}], \"heatmapgl\": [{\"colorbar\": {\"outlinewidth\": 0, \"ticks\": \"\"}, \"colorscale\": [[0.0, \"#0d0887\"], [0.1111111111111111, \"#46039f\"], [0.2222222222222222, \"#7201a8\"], [0.3333333333333333, \"#9c179e\"], [0.4444444444444444, \"#bd3786\"], [0.5555555555555556, \"#d8576b\"], [0.6666666666666666, \"#ed7953\"], [0.7777777777777778, \"#fb9f3a\"], [0.8888888888888888, \"#fdca26\"], [1.0, \"#f0f921\"]], \"type\": \"heatmapgl\"}], \"histogram\": [{\"marker\": {\"colorbar\": {\"outlinewidth\": 0, \"ticks\": \"\"}}, \"type\": \"histogram\"}], \"histogram2d\": [{\"colorbar\": {\"outlinewidth\": 0, \"ticks\": \"\"}, \"colorscale\": [[0.0, \"#0d0887\"], [0.1111111111111111, \"#46039f\"], [0.2222222222222222, \"#7201a8\"], [0.3333333333333333, \"#9c179e\"], [0.4444444444444444, \"#bd3786\"], [0.5555555555555556, \"#d8576b\"], [0.6666666666666666, \"#ed7953\"], [0.7777777777777778, \"#fb9f3a\"], [0.8888888888888888, \"#fdca26\"], [1.0, \"#f0f921\"]], \"type\": \"histogram2d\"}], \"histogram2dcontour\": [{\"colorbar\": {\"outlinewidth\": 0, \"ticks\": \"\"}, \"colorscale\": [[0.0, \"#0d0887\"], [0.1111111111111111, \"#46039f\"], [0.2222222222222222, \"#7201a8\"], [0.3333333333333333, \"#9c179e\"], [0.4444444444444444, \"#bd3786\"], [0.5555555555555556, \"#d8576b\"], [0.6666666666666666, \"#ed7953\"], [0.7777777777777778, \"#fb9f3a\"], [0.8888888888888888, \"#fdca26\"], [1.0, \"#f0f921\"]], \"type\": \"histogram2dcontour\"}], \"mesh3d\": [{\"colorbar\": {\"outlinewidth\": 0, \"ticks\": \"\"}, \"type\": \"mesh3d\"}], \"parcoords\": [{\"line\": {\"colorbar\": {\"outlinewidth\": 0, \"ticks\": \"\"}}, \"type\": \"parcoords\"}], \"pie\": [{\"automargin\": true, \"type\": \"pie\"}], \"scatter\": [{\"marker\": {\"colorbar\": {\"outlinewidth\": 0, \"ticks\": \"\"}}, \"type\": \"scatter\"}], \"scatter3d\": [{\"line\": {\"colorbar\": {\"outlinewidth\": 0, \"ticks\": \"\"}}, \"marker\": {\"colorbar\": {\"outlinewidth\": 0, \"ticks\": \"\"}}, \"type\": \"scatter3d\"}], \"scattercarpet\": [{\"marker\": {\"colorbar\": {\"outlinewidth\": 0, \"ticks\": \"\"}}, \"type\": \"scattercarpet\"}], \"scattergeo\": [{\"marker\": {\"colorbar\": {\"outlinewidth\": 0, \"ticks\": \"\"}}, \"type\": \"scattergeo\"}], \"scattergl\": [{\"marker\": {\"colorbar\": {\"outlinewidth\": 0, \"ticks\": \"\"}}, \"type\": \"scattergl\"}], \"scattermapbox\": [{\"marker\": {\"colorbar\": {\"outlinewidth\": 0, \"ticks\": \"\"}}, \"type\": \"scattermapbox\"}], \"scatterpolar\": [{\"marker\": {\"colorbar\": {\"outlinewidth\": 0, \"ticks\": \"\"}}, \"type\": \"scatterpolar\"}], \"scatterpolargl\": [{\"marker\": {\"colorbar\": {\"outlinewidth\": 0, \"ticks\": \"\"}}, \"type\": \"scatterpolargl\"}], \"scatterternary\": [{\"marker\": {\"colorbar\": {\"outlinewidth\": 0, \"ticks\": \"\"}}, \"type\": \"scatterternary\"}], \"surface\": [{\"colorbar\": {\"outlinewidth\": 0, \"ticks\": \"\"}, \"colorscale\": [[0.0, \"#0d0887\"], [0.1111111111111111, \"#46039f\"], [0.2222222222222222, \"#7201a8\"], [0.3333333333333333, \"#9c179e\"], [0.4444444444444444, \"#bd3786\"], [0.5555555555555556, \"#d8576b\"], [0.6666666666666666, \"#ed7953\"], [0.7777777777777778, \"#fb9f3a\"], [0.8888888888888888, \"#fdca26\"], [1.0, \"#f0f921\"]], \"type\": \"surface\"}], \"table\": [{\"cells\": {\"fill\": {\"color\": \"#EBF0F8\"}, \"line\": {\"color\": \"white\"}}, \"header\": {\"fill\": {\"color\": \"#C8D4E3\"}, \"line\": {\"color\": \"white\"}}, \"type\": \"table\"}]}, \"layout\": {\"annotationdefaults\": {\"arrowcolor\": \"#2a3f5f\", \"arrowhead\": 0, \"arrowwidth\": 1}, \"coloraxis\": {\"colorbar\": {\"outlinewidth\": 0, \"ticks\": \"\"}}, \"colorscale\": {\"diverging\": [[0, \"#8e0152\"], [0.1, \"#c51b7d\"], [0.2, \"#de77ae\"], [0.3, \"#f1b6da\"], [0.4, \"#fde0ef\"], [0.5, \"#f7f7f7\"], [0.6, \"#e6f5d0\"], [0.7, \"#b8e186\"], [0.8, \"#7fbc41\"], [0.9, \"#4d9221\"], [1, \"#276419\"]], \"sequential\": [[0.0, \"#0d0887\"], [0.1111111111111111, \"#46039f\"], [0.2222222222222222, \"#7201a8\"], [0.3333333333333333, \"#9c179e\"], [0.4444444444444444, \"#bd3786\"], [0.5555555555555556, \"#d8576b\"], [0.6666666666666666, \"#ed7953\"], [0.7777777777777778, \"#fb9f3a\"], [0.8888888888888888, \"#fdca26\"], [1.0, \"#f0f921\"]], \"sequentialminus\": [[0.0, \"#0d0887\"], [0.1111111111111111, \"#46039f\"], [0.2222222222222222, \"#7201a8\"], [0.3333333333333333, \"#9c179e\"], [0.4444444444444444, \"#bd3786\"], [0.5555555555555556, \"#d8576b\"], [0.6666666666666666, \"#ed7953\"], [0.7777777777777778, \"#fb9f3a\"], [0.8888888888888888, \"#fdca26\"], [1.0, \"#f0f921\"]]}, \"colorway\": [\"#636efa\", \"#EF553B\", \"#00cc96\", \"#ab63fa\", \"#FFA15A\", \"#19d3f3\", \"#FF6692\", \"#B6E880\", \"#FF97FF\", \"#FECB52\"], \"font\": {\"color\": \"#2a3f5f\"}, \"geo\": {\"bgcolor\": \"white\", \"lakecolor\": \"white\", \"landcolor\": \"#E5ECF6\", \"showlakes\": true, \"showland\": true, \"subunitcolor\": \"white\"}, \"hoverlabel\": {\"align\": \"left\"}, \"hovermode\": \"closest\", \"mapbox\": {\"style\": \"light\"}, \"paper_bgcolor\": \"white\", \"plot_bgcolor\": \"#E5ECF6\", \"polar\": {\"angularaxis\": {\"gridcolor\": \"white\", \"linecolor\": \"white\", \"ticks\": \"\"}, \"bgcolor\": \"#E5ECF6\", \"radialaxis\": {\"gridcolor\": \"white\", \"linecolor\": \"white\", \"ticks\": \"\"}}, \"scene\": {\"xaxis\": {\"backgroundcolor\": \"#E5ECF6\", \"gridcolor\": \"white\", \"gridwidth\": 2, \"linecolor\": \"white\", \"showbackground\": true, \"ticks\": \"\", \"zerolinecolor\": \"white\"}, \"yaxis\": {\"backgroundcolor\": \"#E5ECF6\", \"gridcolor\": \"white\", \"gridwidth\": 2, \"linecolor\": \"white\", \"showbackground\": true, \"ticks\": \"\", \"zerolinecolor\": \"white\"}, \"zaxis\": {\"backgroundcolor\": \"#E5ECF6\", \"gridcolor\": \"white\", \"gridwidth\": 2, \"linecolor\": \"white\", \"showbackground\": true, \"ticks\": \"\", \"zerolinecolor\": \"white\"}}, \"shapedefaults\": {\"line\": {\"color\": \"#2a3f5f\"}}, \"ternary\": {\"aaxis\": {\"gridcolor\": \"white\", \"linecolor\": \"white\", \"ticks\": \"\"}, \"baxis\": {\"gridcolor\": \"white\", \"linecolor\": \"white\", \"ticks\": \"\"}, \"bgcolor\": \"#E5ECF6\", \"caxis\": {\"gridcolor\": \"white\", \"linecolor\": \"white\", \"ticks\": \"\"}}, \"title\": {\"x\": 0.05}, \"xaxis\": {\"automargin\": true, \"gridcolor\": \"white\", \"linecolor\": \"white\", \"ticks\": \"\", \"title\": {\"standoff\": 15}, \"zerolinecolor\": \"white\", \"zerolinewidth\": 2}, \"yaxis\": {\"automargin\": true, \"gridcolor\": \"white\", \"linecolor\": \"white\", \"ticks\": \"\", \"title\": {\"standoff\": 15}, \"zerolinecolor\": \"white\", \"zerolinewidth\": 2}}}, \"title\": {\"text\": \"Luggage Boot vs Evaluation\"}},\n                        {\"responsive\": true}\n                    ).then(function(){\n                            \nvar gd = document.getElementById('4e773498-0bcd-47bc-ac1c-53463d7ecfcf');\nvar x = new MutationObserver(function (mutations, observer) {{\n        var display = window.getComputedStyle(gd).display;\n        if (!display || display === 'none') {{\n            console.log([gd, 'removed!']);\n            Plotly.purge(gd);\n            observer.disconnect();\n        }}\n}});\n\n// Listen for the removal of the full notebook cells\nvar notebookContainer = gd.closest('#notebook-container');\nif (notebookContainer) {{\n    x.observe(notebookContainer, {childList: true});\n}}\n\n// Listen for the clearing of the current output cell\nvar outputEl = gd.closest('.output');\nif (outputEl) {{\n    x.observe(outputEl, {childList: true});\n}}\n\n                        })\n                };\n                });\n            </script>\n        </div>"
     },
     "metadata": {}
    }
   ],
   "source": [
    "#correlation of Luggage Boot feature vs Evaluation\n",
    "#x : feature a[4]\n",
    "#y : lb = pd.crosstab(cars_df['lugboot'], cars_df['evaluation'])\n",
    "data = [\n",
    "    go.Bar(\n",
    "        x=a[4].index, \n",
    "        y=lb['unacc'],\n",
    "        name='Unacceptable'\n",
    "    ),\n",
    "    go.Bar(\n",
    "        x=a[4].index,\n",
    "        y=lb['acc'],\n",
    "        name='Acceptable'\n",
    "    ),\n",
    "    go.Bar(\n",
    "        x=a[4].index,\n",
    "        y=lb['good'],\n",
    "        name='Good'\n",
    "    ),\n",
    "    go.Bar(\n",
    "        x=a[4].index,\n",
    "        y=lb['vgood'],\n",
    "        name='Very Good'\n",
    "    )\n",
    "\n",
    "]\n",
    "\n",
    "layout = go.Layout(\n",
    "    barmode='stack',\n",
    "    title='Luggage Boot vs Evaluation'\n",
    ")\n",
    "\n",
    "fig = go.Figure(data=data, layout=layout)\n",
    "py.iplot(fig)"
   ]
  },
  {
   "cell_type": "code",
   "execution_count": 58,
   "metadata": {},
   "outputs": [
    {
     "output_type": "display_data",
     "data": {
      "application/vnd.plotly.v1+json": {
       "config": {
        "linkText": "Export to plot.ly",
        "plotlyServerURL": "https://plot.ly",
        "showLink": false
       },
       "data": [
        {
         "name": "Unacceptable",
         "type": "bar",
         "x": [
          "high",
          "med",
          "low"
         ],
         "y": [
          277,
          575,
          357
         ]
        },
        {
         "name": "Acceptable",
         "type": "bar",
         "x": [
          "high",
          "med",
          "low"
         ],
         "y": [
          204,
          0,
          180
         ]
        },
        {
         "name": "Good",
         "type": "bar",
         "x": [
          "high",
          "med",
          "low"
         ],
         "y": [
          30,
          0,
          39
         ]
        },
        {
         "name": "Very Good",
         "type": "bar",
         "x": [
          "high",
          "med",
          "low"
         ],
         "y": [
          65,
          0,
          0
         ]
        }
       ],
       "layout": {
        "barmode": "stack",
        "template": {
         "data": {
          "bar": [
           {
            "error_x": {
             "color": "#2a3f5f"
            },
            "error_y": {
             "color": "#2a3f5f"
            },
            "marker": {
             "line": {
              "color": "#E5ECF6",
              "width": 0.5
             }
            },
            "type": "bar"
           }
          ],
          "barpolar": [
           {
            "marker": {
             "line": {
              "color": "#E5ECF6",
              "width": 0.5
             }
            },
            "type": "barpolar"
           }
          ],
          "carpet": [
           {
            "aaxis": {
             "endlinecolor": "#2a3f5f",
             "gridcolor": "white",
             "linecolor": "white",
             "minorgridcolor": "white",
             "startlinecolor": "#2a3f5f"
            },
            "baxis": {
             "endlinecolor": "#2a3f5f",
             "gridcolor": "white",
             "linecolor": "white",
             "minorgridcolor": "white",
             "startlinecolor": "#2a3f5f"
            },
            "type": "carpet"
           }
          ],
          "choropleth": [
           {
            "colorbar": {
             "outlinewidth": 0,
             "ticks": ""
            },
            "type": "choropleth"
           }
          ],
          "contour": [
           {
            "colorbar": {
             "outlinewidth": 0,
             "ticks": ""
            },
            "colorscale": [
             [
              0,
              "#0d0887"
             ],
             [
              0.1111111111111111,
              "#46039f"
             ],
             [
              0.2222222222222222,
              "#7201a8"
             ],
             [
              0.3333333333333333,
              "#9c179e"
             ],
             [
              0.4444444444444444,
              "#bd3786"
             ],
             [
              0.5555555555555556,
              "#d8576b"
             ],
             [
              0.6666666666666666,
              "#ed7953"
             ],
             [
              0.7777777777777778,
              "#fb9f3a"
             ],
             [
              0.8888888888888888,
              "#fdca26"
             ],
             [
              1,
              "#f0f921"
             ]
            ],
            "type": "contour"
           }
          ],
          "contourcarpet": [
           {
            "colorbar": {
             "outlinewidth": 0,
             "ticks": ""
            },
            "type": "contourcarpet"
           }
          ],
          "heatmap": [
           {
            "colorbar": {
             "outlinewidth": 0,
             "ticks": ""
            },
            "colorscale": [
             [
              0,
              "#0d0887"
             ],
             [
              0.1111111111111111,
              "#46039f"
             ],
             [
              0.2222222222222222,
              "#7201a8"
             ],
             [
              0.3333333333333333,
              "#9c179e"
             ],
             [
              0.4444444444444444,
              "#bd3786"
             ],
             [
              0.5555555555555556,
              "#d8576b"
             ],
             [
              0.6666666666666666,
              "#ed7953"
             ],
             [
              0.7777777777777778,
              "#fb9f3a"
             ],
             [
              0.8888888888888888,
              "#fdca26"
             ],
             [
              1,
              "#f0f921"
             ]
            ],
            "type": "heatmap"
           }
          ],
          "heatmapgl": [
           {
            "colorbar": {
             "outlinewidth": 0,
             "ticks": ""
            },
            "colorscale": [
             [
              0,
              "#0d0887"
             ],
             [
              0.1111111111111111,
              "#46039f"
             ],
             [
              0.2222222222222222,
              "#7201a8"
             ],
             [
              0.3333333333333333,
              "#9c179e"
             ],
             [
              0.4444444444444444,
              "#bd3786"
             ],
             [
              0.5555555555555556,
              "#d8576b"
             ],
             [
              0.6666666666666666,
              "#ed7953"
             ],
             [
              0.7777777777777778,
              "#fb9f3a"
             ],
             [
              0.8888888888888888,
              "#fdca26"
             ],
             [
              1,
              "#f0f921"
             ]
            ],
            "type": "heatmapgl"
           }
          ],
          "histogram": [
           {
            "marker": {
             "colorbar": {
              "outlinewidth": 0,
              "ticks": ""
             }
            },
            "type": "histogram"
           }
          ],
          "histogram2d": [
           {
            "colorbar": {
             "outlinewidth": 0,
             "ticks": ""
            },
            "colorscale": [
             [
              0,
              "#0d0887"
             ],
             [
              0.1111111111111111,
              "#46039f"
             ],
             [
              0.2222222222222222,
              "#7201a8"
             ],
             [
              0.3333333333333333,
              "#9c179e"
             ],
             [
              0.4444444444444444,
              "#bd3786"
             ],
             [
              0.5555555555555556,
              "#d8576b"
             ],
             [
              0.6666666666666666,
              "#ed7953"
             ],
             [
              0.7777777777777778,
              "#fb9f3a"
             ],
             [
              0.8888888888888888,
              "#fdca26"
             ],
             [
              1,
              "#f0f921"
             ]
            ],
            "type": "histogram2d"
           }
          ],
          "histogram2dcontour": [
           {
            "colorbar": {
             "outlinewidth": 0,
             "ticks": ""
            },
            "colorscale": [
             [
              0,
              "#0d0887"
             ],
             [
              0.1111111111111111,
              "#46039f"
             ],
             [
              0.2222222222222222,
              "#7201a8"
             ],
             [
              0.3333333333333333,
              "#9c179e"
             ],
             [
              0.4444444444444444,
              "#bd3786"
             ],
             [
              0.5555555555555556,
              "#d8576b"
             ],
             [
              0.6666666666666666,
              "#ed7953"
             ],
             [
              0.7777777777777778,
              "#fb9f3a"
             ],
             [
              0.8888888888888888,
              "#fdca26"
             ],
             [
              1,
              "#f0f921"
             ]
            ],
            "type": "histogram2dcontour"
           }
          ],
          "mesh3d": [
           {
            "colorbar": {
             "outlinewidth": 0,
             "ticks": ""
            },
            "type": "mesh3d"
           }
          ],
          "parcoords": [
           {
            "line": {
             "colorbar": {
              "outlinewidth": 0,
              "ticks": ""
             }
            },
            "type": "parcoords"
           }
          ],
          "pie": [
           {
            "automargin": true,
            "type": "pie"
           }
          ],
          "scatter": [
           {
            "marker": {
             "colorbar": {
              "outlinewidth": 0,
              "ticks": ""
             }
            },
            "type": "scatter"
           }
          ],
          "scatter3d": [
           {
            "line": {
             "colorbar": {
              "outlinewidth": 0,
              "ticks": ""
             }
            },
            "marker": {
             "colorbar": {
              "outlinewidth": 0,
              "ticks": ""
             }
            },
            "type": "scatter3d"
           }
          ],
          "scattercarpet": [
           {
            "marker": {
             "colorbar": {
              "outlinewidth": 0,
              "ticks": ""
             }
            },
            "type": "scattercarpet"
           }
          ],
          "scattergeo": [
           {
            "marker": {
             "colorbar": {
              "outlinewidth": 0,
              "ticks": ""
             }
            },
            "type": "scattergeo"
           }
          ],
          "scattergl": [
           {
            "marker": {
             "colorbar": {
              "outlinewidth": 0,
              "ticks": ""
             }
            },
            "type": "scattergl"
           }
          ],
          "scattermapbox": [
           {
            "marker": {
             "colorbar": {
              "outlinewidth": 0,
              "ticks": ""
             }
            },
            "type": "scattermapbox"
           }
          ],
          "scatterpolar": [
           {
            "marker": {
             "colorbar": {
              "outlinewidth": 0,
              "ticks": ""
             }
            },
            "type": "scatterpolar"
           }
          ],
          "scatterpolargl": [
           {
            "marker": {
             "colorbar": {
              "outlinewidth": 0,
              "ticks": ""
             }
            },
            "type": "scatterpolargl"
           }
          ],
          "scatterternary": [
           {
            "marker": {
             "colorbar": {
              "outlinewidth": 0,
              "ticks": ""
             }
            },
            "type": "scatterternary"
           }
          ],
          "surface": [
           {
            "colorbar": {
             "outlinewidth": 0,
             "ticks": ""
            },
            "colorscale": [
             [
              0,
              "#0d0887"
             ],
             [
              0.1111111111111111,
              "#46039f"
             ],
             [
              0.2222222222222222,
              "#7201a8"
             ],
             [
              0.3333333333333333,
              "#9c179e"
             ],
             [
              0.4444444444444444,
              "#bd3786"
             ],
             [
              0.5555555555555556,
              "#d8576b"
             ],
             [
              0.6666666666666666,
              "#ed7953"
             ],
             [
              0.7777777777777778,
              "#fb9f3a"
             ],
             [
              0.8888888888888888,
              "#fdca26"
             ],
             [
              1,
              "#f0f921"
             ]
            ],
            "type": "surface"
           }
          ],
          "table": [
           {
            "cells": {
             "fill": {
              "color": "#EBF0F8"
             },
             "line": {
              "color": "white"
             }
            },
            "header": {
             "fill": {
              "color": "#C8D4E3"
             },
             "line": {
              "color": "white"
             }
            },
            "type": "table"
           }
          ]
         },
         "layout": {
          "annotationdefaults": {
           "arrowcolor": "#2a3f5f",
           "arrowhead": 0,
           "arrowwidth": 1
          },
          "coloraxis": {
           "colorbar": {
            "outlinewidth": 0,
            "ticks": ""
           }
          },
          "colorscale": {
           "diverging": [
            [
             0,
             "#8e0152"
            ],
            [
             0.1,
             "#c51b7d"
            ],
            [
             0.2,
             "#de77ae"
            ],
            [
             0.3,
             "#f1b6da"
            ],
            [
             0.4,
             "#fde0ef"
            ],
            [
             0.5,
             "#f7f7f7"
            ],
            [
             0.6,
             "#e6f5d0"
            ],
            [
             0.7,
             "#b8e186"
            ],
            [
             0.8,
             "#7fbc41"
            ],
            [
             0.9,
             "#4d9221"
            ],
            [
             1,
             "#276419"
            ]
           ],
           "sequential": [
            [
             0,
             "#0d0887"
            ],
            [
             0.1111111111111111,
             "#46039f"
            ],
            [
             0.2222222222222222,
             "#7201a8"
            ],
            [
             0.3333333333333333,
             "#9c179e"
            ],
            [
             0.4444444444444444,
             "#bd3786"
            ],
            [
             0.5555555555555556,
             "#d8576b"
            ],
            [
             0.6666666666666666,
             "#ed7953"
            ],
            [
             0.7777777777777778,
             "#fb9f3a"
            ],
            [
             0.8888888888888888,
             "#fdca26"
            ],
            [
             1,
             "#f0f921"
            ]
           ],
           "sequentialminus": [
            [
             0,
             "#0d0887"
            ],
            [
             0.1111111111111111,
             "#46039f"
            ],
            [
             0.2222222222222222,
             "#7201a8"
            ],
            [
             0.3333333333333333,
             "#9c179e"
            ],
            [
             0.4444444444444444,
             "#bd3786"
            ],
            [
             0.5555555555555556,
             "#d8576b"
            ],
            [
             0.6666666666666666,
             "#ed7953"
            ],
            [
             0.7777777777777778,
             "#fb9f3a"
            ],
            [
             0.8888888888888888,
             "#fdca26"
            ],
            [
             1,
             "#f0f921"
            ]
           ]
          },
          "colorway": [
           "#636efa",
           "#EF553B",
           "#00cc96",
           "#ab63fa",
           "#FFA15A",
           "#19d3f3",
           "#FF6692",
           "#B6E880",
           "#FF97FF",
           "#FECB52"
          ],
          "font": {
           "color": "#2a3f5f"
          },
          "geo": {
           "bgcolor": "white",
           "lakecolor": "white",
           "landcolor": "#E5ECF6",
           "showlakes": true,
           "showland": true,
           "subunitcolor": "white"
          },
          "hoverlabel": {
           "align": "left"
          },
          "hovermode": "closest",
          "mapbox": {
           "style": "light"
          },
          "paper_bgcolor": "white",
          "plot_bgcolor": "#E5ECF6",
          "polar": {
           "angularaxis": {
            "gridcolor": "white",
            "linecolor": "white",
            "ticks": ""
           },
           "bgcolor": "#E5ECF6",
           "radialaxis": {
            "gridcolor": "white",
            "linecolor": "white",
            "ticks": ""
           }
          },
          "scene": {
           "xaxis": {
            "backgroundcolor": "#E5ECF6",
            "gridcolor": "white",
            "gridwidth": 2,
            "linecolor": "white",
            "showbackground": true,
            "ticks": "",
            "zerolinecolor": "white"
           },
           "yaxis": {
            "backgroundcolor": "#E5ECF6",
            "gridcolor": "white",
            "gridwidth": 2,
            "linecolor": "white",
            "showbackground": true,
            "ticks": "",
            "zerolinecolor": "white"
           },
           "zaxis": {
            "backgroundcolor": "#E5ECF6",
            "gridcolor": "white",
            "gridwidth": 2,
            "linecolor": "white",
            "showbackground": true,
            "ticks": "",
            "zerolinecolor": "white"
           }
          },
          "shapedefaults": {
           "line": {
            "color": "#2a3f5f"
           }
          },
          "ternary": {
           "aaxis": {
            "gridcolor": "white",
            "linecolor": "white",
            "ticks": ""
           },
           "baxis": {
            "gridcolor": "white",
            "linecolor": "white",
            "ticks": ""
           },
           "bgcolor": "#E5ECF6",
           "caxis": {
            "gridcolor": "white",
            "linecolor": "white",
            "ticks": ""
           }
          },
          "title": {
           "x": 0.05
          },
          "xaxis": {
           "automargin": true,
           "gridcolor": "white",
           "linecolor": "white",
           "ticks": "",
           "title": {
            "standoff": 15
           },
           "zerolinecolor": "white",
           "zerolinewidth": 2
          },
          "yaxis": {
           "automargin": true,
           "gridcolor": "white",
           "linecolor": "white",
           "ticks": "",
           "title": {
            "standoff": 15
           },
           "zerolinecolor": "white",
           "zerolinewidth": 2
          }
         }
        },
        "title": {
         "text": "Safety vs Evaluation"
        }
       }
      },
      "text/html": "<div>\n        \n        \n            <div id=\"e902fe49-4b1e-4edc-a136-ae0d9807e8f0\" class=\"plotly-graph-div\" style=\"height:525px; width:100%;\"></div>\n            <script type=\"text/javascript\">\n                require([\"plotly\"], function(Plotly) {\n                    window.PLOTLYENV=window.PLOTLYENV || {};\n                    \n                if (document.getElementById(\"e902fe49-4b1e-4edc-a136-ae0d9807e8f0\")) {\n                    Plotly.newPlot(\n                        'e902fe49-4b1e-4edc-a136-ae0d9807e8f0',\n                        [{\"name\": \"Unacceptable\", \"type\": \"bar\", \"x\": [\"high\", \"med\", \"low\"], \"y\": [277, 575, 357]}, {\"name\": \"Acceptable\", \"type\": \"bar\", \"x\": [\"high\", \"med\", \"low\"], \"y\": [204, 0, 180]}, {\"name\": \"Good\", \"type\": \"bar\", \"x\": [\"high\", \"med\", \"low\"], \"y\": [30, 0, 39]}, {\"name\": \"Very Good\", \"type\": \"bar\", \"x\": [\"high\", \"med\", \"low\"], \"y\": [65, 0, 0]}],\n                        {\"barmode\": \"stack\", \"template\": {\"data\": {\"bar\": [{\"error_x\": {\"color\": \"#2a3f5f\"}, \"error_y\": {\"color\": \"#2a3f5f\"}, \"marker\": {\"line\": {\"color\": \"#E5ECF6\", \"width\": 0.5}}, \"type\": \"bar\"}], \"barpolar\": [{\"marker\": {\"line\": {\"color\": \"#E5ECF6\", \"width\": 0.5}}, \"type\": \"barpolar\"}], \"carpet\": [{\"aaxis\": {\"endlinecolor\": \"#2a3f5f\", \"gridcolor\": \"white\", \"linecolor\": \"white\", \"minorgridcolor\": \"white\", \"startlinecolor\": \"#2a3f5f\"}, \"baxis\": {\"endlinecolor\": \"#2a3f5f\", \"gridcolor\": \"white\", \"linecolor\": \"white\", \"minorgridcolor\": \"white\", \"startlinecolor\": \"#2a3f5f\"}, \"type\": \"carpet\"}], \"choropleth\": [{\"colorbar\": {\"outlinewidth\": 0, \"ticks\": \"\"}, \"type\": \"choropleth\"}], \"contour\": [{\"colorbar\": {\"outlinewidth\": 0, \"ticks\": \"\"}, \"colorscale\": [[0.0, \"#0d0887\"], [0.1111111111111111, \"#46039f\"], [0.2222222222222222, \"#7201a8\"], [0.3333333333333333, \"#9c179e\"], [0.4444444444444444, \"#bd3786\"], [0.5555555555555556, \"#d8576b\"], [0.6666666666666666, \"#ed7953\"], [0.7777777777777778, \"#fb9f3a\"], [0.8888888888888888, \"#fdca26\"], [1.0, \"#f0f921\"]], \"type\": \"contour\"}], \"contourcarpet\": [{\"colorbar\": {\"outlinewidth\": 0, \"ticks\": \"\"}, \"type\": \"contourcarpet\"}], \"heatmap\": [{\"colorbar\": {\"outlinewidth\": 0, \"ticks\": \"\"}, \"colorscale\": [[0.0, \"#0d0887\"], [0.1111111111111111, \"#46039f\"], [0.2222222222222222, \"#7201a8\"], [0.3333333333333333, \"#9c179e\"], [0.4444444444444444, \"#bd3786\"], [0.5555555555555556, \"#d8576b\"], [0.6666666666666666, \"#ed7953\"], [0.7777777777777778, \"#fb9f3a\"], [0.8888888888888888, \"#fdca26\"], [1.0, \"#f0f921\"]], \"type\": \"heatmap\"}], \"heatmapgl\": [{\"colorbar\": {\"outlinewidth\": 0, \"ticks\": \"\"}, \"colorscale\": [[0.0, \"#0d0887\"], [0.1111111111111111, \"#46039f\"], [0.2222222222222222, \"#7201a8\"], [0.3333333333333333, \"#9c179e\"], [0.4444444444444444, \"#bd3786\"], [0.5555555555555556, \"#d8576b\"], [0.6666666666666666, \"#ed7953\"], [0.7777777777777778, \"#fb9f3a\"], [0.8888888888888888, \"#fdca26\"], [1.0, \"#f0f921\"]], \"type\": \"heatmapgl\"}], \"histogram\": [{\"marker\": {\"colorbar\": {\"outlinewidth\": 0, \"ticks\": \"\"}}, \"type\": \"histogram\"}], \"histogram2d\": [{\"colorbar\": {\"outlinewidth\": 0, \"ticks\": \"\"}, \"colorscale\": [[0.0, \"#0d0887\"], [0.1111111111111111, \"#46039f\"], [0.2222222222222222, \"#7201a8\"], [0.3333333333333333, \"#9c179e\"], [0.4444444444444444, \"#bd3786\"], [0.5555555555555556, \"#d8576b\"], [0.6666666666666666, \"#ed7953\"], [0.7777777777777778, \"#fb9f3a\"], [0.8888888888888888, \"#fdca26\"], [1.0, \"#f0f921\"]], \"type\": \"histogram2d\"}], \"histogram2dcontour\": [{\"colorbar\": {\"outlinewidth\": 0, \"ticks\": \"\"}, \"colorscale\": [[0.0, \"#0d0887\"], [0.1111111111111111, \"#46039f\"], [0.2222222222222222, \"#7201a8\"], [0.3333333333333333, \"#9c179e\"], [0.4444444444444444, \"#bd3786\"], [0.5555555555555556, \"#d8576b\"], [0.6666666666666666, \"#ed7953\"], [0.7777777777777778, \"#fb9f3a\"], [0.8888888888888888, \"#fdca26\"], [1.0, \"#f0f921\"]], \"type\": \"histogram2dcontour\"}], \"mesh3d\": [{\"colorbar\": {\"outlinewidth\": 0, \"ticks\": \"\"}, \"type\": \"mesh3d\"}], \"parcoords\": [{\"line\": {\"colorbar\": {\"outlinewidth\": 0, \"ticks\": \"\"}}, \"type\": \"parcoords\"}], \"pie\": [{\"automargin\": true, \"type\": \"pie\"}], \"scatter\": [{\"marker\": {\"colorbar\": {\"outlinewidth\": 0, \"ticks\": \"\"}}, \"type\": \"scatter\"}], \"scatter3d\": [{\"line\": {\"colorbar\": {\"outlinewidth\": 0, \"ticks\": \"\"}}, \"marker\": {\"colorbar\": {\"outlinewidth\": 0, \"ticks\": \"\"}}, \"type\": \"scatter3d\"}], \"scattercarpet\": [{\"marker\": {\"colorbar\": {\"outlinewidth\": 0, \"ticks\": \"\"}}, \"type\": \"scattercarpet\"}], \"scattergeo\": [{\"marker\": {\"colorbar\": {\"outlinewidth\": 0, \"ticks\": \"\"}}, \"type\": \"scattergeo\"}], \"scattergl\": [{\"marker\": {\"colorbar\": {\"outlinewidth\": 0, \"ticks\": \"\"}}, \"type\": \"scattergl\"}], \"scattermapbox\": [{\"marker\": {\"colorbar\": {\"outlinewidth\": 0, \"ticks\": \"\"}}, \"type\": \"scattermapbox\"}], \"scatterpolar\": [{\"marker\": {\"colorbar\": {\"outlinewidth\": 0, \"ticks\": \"\"}}, \"type\": \"scatterpolar\"}], \"scatterpolargl\": [{\"marker\": {\"colorbar\": {\"outlinewidth\": 0, \"ticks\": \"\"}}, \"type\": \"scatterpolargl\"}], \"scatterternary\": [{\"marker\": {\"colorbar\": {\"outlinewidth\": 0, \"ticks\": \"\"}}, \"type\": \"scatterternary\"}], \"surface\": [{\"colorbar\": {\"outlinewidth\": 0, \"ticks\": \"\"}, \"colorscale\": [[0.0, \"#0d0887\"], [0.1111111111111111, \"#46039f\"], [0.2222222222222222, \"#7201a8\"], [0.3333333333333333, \"#9c179e\"], [0.4444444444444444, \"#bd3786\"], [0.5555555555555556, \"#d8576b\"], [0.6666666666666666, \"#ed7953\"], [0.7777777777777778, \"#fb9f3a\"], [0.8888888888888888, \"#fdca26\"], [1.0, \"#f0f921\"]], \"type\": \"surface\"}], \"table\": [{\"cells\": {\"fill\": {\"color\": \"#EBF0F8\"}, \"line\": {\"color\": \"white\"}}, \"header\": {\"fill\": {\"color\": \"#C8D4E3\"}, \"line\": {\"color\": \"white\"}}, \"type\": \"table\"}]}, \"layout\": {\"annotationdefaults\": {\"arrowcolor\": \"#2a3f5f\", \"arrowhead\": 0, \"arrowwidth\": 1}, \"coloraxis\": {\"colorbar\": {\"outlinewidth\": 0, \"ticks\": \"\"}}, \"colorscale\": {\"diverging\": [[0, \"#8e0152\"], [0.1, \"#c51b7d\"], [0.2, \"#de77ae\"], [0.3, \"#f1b6da\"], [0.4, \"#fde0ef\"], [0.5, \"#f7f7f7\"], [0.6, \"#e6f5d0\"], [0.7, \"#b8e186\"], [0.8, \"#7fbc41\"], [0.9, \"#4d9221\"], [1, \"#276419\"]], \"sequential\": [[0.0, \"#0d0887\"], [0.1111111111111111, \"#46039f\"], [0.2222222222222222, \"#7201a8\"], [0.3333333333333333, \"#9c179e\"], [0.4444444444444444, \"#bd3786\"], [0.5555555555555556, \"#d8576b\"], [0.6666666666666666, \"#ed7953\"], [0.7777777777777778, \"#fb9f3a\"], [0.8888888888888888, \"#fdca26\"], [1.0, \"#f0f921\"]], \"sequentialminus\": [[0.0, \"#0d0887\"], [0.1111111111111111, \"#46039f\"], [0.2222222222222222, \"#7201a8\"], [0.3333333333333333, \"#9c179e\"], [0.4444444444444444, \"#bd3786\"], [0.5555555555555556, \"#d8576b\"], [0.6666666666666666, \"#ed7953\"], [0.7777777777777778, \"#fb9f3a\"], [0.8888888888888888, \"#fdca26\"], [1.0, \"#f0f921\"]]}, \"colorway\": [\"#636efa\", \"#EF553B\", \"#00cc96\", \"#ab63fa\", \"#FFA15A\", \"#19d3f3\", \"#FF6692\", \"#B6E880\", \"#FF97FF\", \"#FECB52\"], \"font\": {\"color\": \"#2a3f5f\"}, \"geo\": {\"bgcolor\": \"white\", \"lakecolor\": \"white\", \"landcolor\": \"#E5ECF6\", \"showlakes\": true, \"showland\": true, \"subunitcolor\": \"white\"}, \"hoverlabel\": {\"align\": \"left\"}, \"hovermode\": \"closest\", \"mapbox\": {\"style\": \"light\"}, \"paper_bgcolor\": \"white\", \"plot_bgcolor\": \"#E5ECF6\", \"polar\": {\"angularaxis\": {\"gridcolor\": \"white\", \"linecolor\": \"white\", \"ticks\": \"\"}, \"bgcolor\": \"#E5ECF6\", \"radialaxis\": {\"gridcolor\": \"white\", \"linecolor\": \"white\", \"ticks\": \"\"}}, \"scene\": {\"xaxis\": {\"backgroundcolor\": \"#E5ECF6\", \"gridcolor\": \"white\", \"gridwidth\": 2, \"linecolor\": \"white\", \"showbackground\": true, \"ticks\": \"\", \"zerolinecolor\": \"white\"}, \"yaxis\": {\"backgroundcolor\": \"#E5ECF6\", \"gridcolor\": \"white\", \"gridwidth\": 2, \"linecolor\": \"white\", \"showbackground\": true, \"ticks\": \"\", \"zerolinecolor\": \"white\"}, \"zaxis\": {\"backgroundcolor\": \"#E5ECF6\", \"gridcolor\": \"white\", \"gridwidth\": 2, \"linecolor\": \"white\", \"showbackground\": true, \"ticks\": \"\", \"zerolinecolor\": \"white\"}}, \"shapedefaults\": {\"line\": {\"color\": \"#2a3f5f\"}}, \"ternary\": {\"aaxis\": {\"gridcolor\": \"white\", \"linecolor\": \"white\", \"ticks\": \"\"}, \"baxis\": {\"gridcolor\": \"white\", \"linecolor\": \"white\", \"ticks\": \"\"}, \"bgcolor\": \"#E5ECF6\", \"caxis\": {\"gridcolor\": \"white\", \"linecolor\": \"white\", \"ticks\": \"\"}}, \"title\": {\"x\": 0.05}, \"xaxis\": {\"automargin\": true, \"gridcolor\": \"white\", \"linecolor\": \"white\", \"ticks\": \"\", \"title\": {\"standoff\": 15}, \"zerolinecolor\": \"white\", \"zerolinewidth\": 2}, \"yaxis\": {\"automargin\": true, \"gridcolor\": \"white\", \"linecolor\": \"white\", \"ticks\": \"\", \"title\": {\"standoff\": 15}, \"zerolinecolor\": \"white\", \"zerolinewidth\": 2}}}, \"title\": {\"text\": \"Safety vs Evaluation\"}},\n                        {\"responsive\": true}\n                    ).then(function(){\n                            \nvar gd = document.getElementById('e902fe49-4b1e-4edc-a136-ae0d9807e8f0');\nvar x = new MutationObserver(function (mutations, observer) {{\n        var display = window.getComputedStyle(gd).display;\n        if (!display || display === 'none') {{\n            console.log([gd, 'removed!']);\n            Plotly.purge(gd);\n            observer.disconnect();\n        }}\n}});\n\n// Listen for the removal of the full notebook cells\nvar notebookContainer = gd.closest('#notebook-container');\nif (notebookContainer) {{\n    x.observe(notebookContainer, {childList: true});\n}}\n\n// Listen for the clearing of the current output cell\nvar outputEl = gd.closest('.output');\nif (outputEl) {{\n    x.observe(outputEl, {childList: true});\n}}\n\n                        })\n                };\n                });\n            </script>\n        </div>"
     },
     "metadata": {}
    }
   ],
   "source": [
    "#correlation of Luggage Boot feature vs Evaluation\n",
    "#x : feature a[5]\n",
    "#y : sfty = pd.crosstab(cars_df['safety'], cars_df['evaluation'])\n",
    "data = [\n",
    "    go.Bar(\n",
    "        x=a[5].index, \n",
    "        y=sfty['unacc'],\n",
    "        name='Unacceptable'\n",
    "    ),\n",
    "    go.Bar(\n",
    "        x=a[5].index,\n",
    "        y=sfty['acc'],\n",
    "        name='Acceptable'\n",
    "    ),\n",
    "    go.Bar(\n",
    "        x=a[5].index,\n",
    "        y=sfty['good'],\n",
    "        name='Good'\n",
    "    ),\n",
    "    go.Bar(\n",
    "        x=a[5].index,\n",
    "        y=sfty['vgood'],\n",
    "        name='Very Good'\n",
    "    )\n",
    "\n",
    "]\n",
    "\n",
    "layout = go.Layout(\n",
    "    barmode='stack',\n",
    "    title='Safety vs Evaluation'\n",
    ")\n",
    "\n",
    "fig = go.Figure(data=data, layout=layout)\n",
    "py.iplot(fig)\n"
   ]
  },
  {
   "cell_type": "code",
   "execution_count": 185,
   "metadata": {},
   "outputs": [],
   "source": [
    "#Dividing the dataframe into x features and y target variable\n",
    "x = cars_df.iloc[:, :-1]\n",
    "y = cars_df.iloc[:, 6]\n",
    "y.columns = ['evaluation']"
   ]
  },
  {
   "cell_type": "code",
   "execution_count": 186,
   "metadata": {},
   "outputs": [
    {
     "output_type": "execute_result",
     "data": {
      "text/plain": [
       "   buying_low  buying_med  buying_vhigh  maint_low  maint_med  maint_vhigh  \\\n",
       "0           0           0             1          0          0            1   \n",
       "1           0           0             1          0          0            1   \n",
       "2           0           0             1          0          0            1   \n",
       "3           0           0             1          0          0            1   \n",
       "4           0           0             1          0          0            1   \n",
       "\n",
       "   doors_3  doors_4  doors_5  persons_4  persons_5  lugboot_med  \\\n",
       "0        0        0        0          0          0            0   \n",
       "1        0        0        0          0          0            0   \n",
       "2        0        0        0          0          0            1   \n",
       "3        0        0        0          0          0            1   \n",
       "4        0        0        0          0          0            1   \n",
       "\n",
       "   lugboot_small  safety_low  safety_med  \n",
       "0              1           0           1  \n",
       "1              1           0           0  \n",
       "2              0           1           0  \n",
       "3              0           0           1  \n",
       "4              0           0           0  "
      ],
      "text/html": "<div>\n<style scoped>\n    .dataframe tbody tr th:only-of-type {\n        vertical-align: middle;\n    }\n\n    .dataframe tbody tr th {\n        vertical-align: top;\n    }\n\n    .dataframe thead th {\n        text-align: right;\n    }\n</style>\n<table border=\"1\" class=\"dataframe\">\n  <thead>\n    <tr style=\"text-align: right;\">\n      <th></th>\n      <th>buying_low</th>\n      <th>buying_med</th>\n      <th>buying_vhigh</th>\n      <th>maint_low</th>\n      <th>maint_med</th>\n      <th>maint_vhigh</th>\n      <th>doors_3</th>\n      <th>doors_4</th>\n      <th>doors_5</th>\n      <th>persons_4</th>\n      <th>persons_5</th>\n      <th>lugboot_med</th>\n      <th>lugboot_small</th>\n      <th>safety_low</th>\n      <th>safety_med</th>\n    </tr>\n  </thead>\n  <tbody>\n    <tr>\n      <th>0</th>\n      <td>0</td>\n      <td>0</td>\n      <td>1</td>\n      <td>0</td>\n      <td>0</td>\n      <td>1</td>\n      <td>0</td>\n      <td>0</td>\n      <td>0</td>\n      <td>0</td>\n      <td>0</td>\n      <td>0</td>\n      <td>1</td>\n      <td>0</td>\n      <td>1</td>\n    </tr>\n    <tr>\n      <th>1</th>\n      <td>0</td>\n      <td>0</td>\n      <td>1</td>\n      <td>0</td>\n      <td>0</td>\n      <td>1</td>\n      <td>0</td>\n      <td>0</td>\n      <td>0</td>\n      <td>0</td>\n      <td>0</td>\n      <td>0</td>\n      <td>1</td>\n      <td>0</td>\n      <td>0</td>\n    </tr>\n    <tr>\n      <th>2</th>\n      <td>0</td>\n      <td>0</td>\n      <td>1</td>\n      <td>0</td>\n      <td>0</td>\n      <td>1</td>\n      <td>0</td>\n      <td>0</td>\n      <td>0</td>\n      <td>0</td>\n      <td>0</td>\n      <td>1</td>\n      <td>0</td>\n      <td>1</td>\n      <td>0</td>\n    </tr>\n    <tr>\n      <th>3</th>\n      <td>0</td>\n      <td>0</td>\n      <td>1</td>\n      <td>0</td>\n      <td>0</td>\n      <td>1</td>\n      <td>0</td>\n      <td>0</td>\n      <td>0</td>\n      <td>0</td>\n      <td>0</td>\n      <td>1</td>\n      <td>0</td>\n      <td>0</td>\n      <td>1</td>\n    </tr>\n    <tr>\n      <th>4</th>\n      <td>0</td>\n      <td>0</td>\n      <td>1</td>\n      <td>0</td>\n      <td>0</td>\n      <td>1</td>\n      <td>0</td>\n      <td>0</td>\n      <td>0</td>\n      <td>0</td>\n      <td>0</td>\n      <td>1</td>\n      <td>0</td>\n      <td>0</td>\n      <td>0</td>\n    </tr>\n  </tbody>\n</table>\n</div>"
     },
     "metadata": {},
     "execution_count": 186
    }
   ],
   "source": [
    "#Using pandas dummies function to encode the data into categorical data\n",
    "x = pd.get_dummies(x, prefix_sep='_', drop_first=True)\n",
    "x.head()"
   ]
  },
  {
   "cell_type": "code",
   "execution_count": 187,
   "metadata": {},
   "outputs": [
    {
     "output_type": "execute_result",
     "data": {
      "text/plain": [
       "count      1727\n",
       "unique        4\n",
       "top       unacc\n",
       "freq       1209\n",
       "Name: evaluation, dtype: object"
      ]
     },
     "metadata": {},
     "execution_count": 187
    }
   ],
   "source": [
    "y.describe()"
   ]
  },
  {
   "cell_type": "code",
   "execution_count": 188,
   "metadata": {},
   "outputs": [],
   "source": [
    "#preparing feature and label data set\n",
    "x=x.values\n",
    "y=y.values"
   ]
  },
  {
   "cell_type": "code",
   "execution_count": 189,
   "metadata": {},
   "outputs": [
    {
     "output_type": "execute_result",
     "data": {
      "text/plain": [
       "array(['unacc', 'unacc', 'unacc', 'unacc', 'unacc'], dtype=object)"
      ]
     },
     "metadata": {},
     "execution_count": 189
    }
   ],
   "source": [
    "y[:5]"
   ]
  },
  {
   "cell_type": "code",
   "execution_count": 190,
   "metadata": {},
   "outputs": [],
   "source": [
    "#split of input data set into training and testing data set\n",
    "x_train, x_test, y_train, y_test = train_test_split(x, y, test_size = 0.25, random_state = 0)"
   ]
  },
  {
   "cell_type": "code",
   "execution_count": 191,
   "metadata": {},
   "outputs": [
    {
     "output_type": "execute_result",
     "data": {
      "text/plain": [
       "array(['unacc', 'unacc', 'unacc', 'unacc', 'unacc'], dtype=object)"
      ]
     },
     "metadata": {},
     "execution_count": 191
    }
   ],
   "source": [
    "y_train[:5]"
   ]
  },
  {
   "cell_type": "code",
   "execution_count": 192,
   "metadata": {},
   "outputs": [
    {
     "output_type": "execute_result",
     "data": {
      "text/plain": [
       "array([[0, 0, 0, 0, 0, 1, 0, 0, 1, 0, 0, 0, 0, 0, 0],\n",
       "       [0, 0, 0, 0, 0, 0, 0, 0, 1, 0, 0, 0, 1, 0, 1],\n",
       "       [0, 1, 0, 0, 0, 0, 1, 0, 0, 0, 1, 0, 1, 0, 1],\n",
       "       [0, 1, 0, 1, 0, 0, 0, 0, 1, 0, 0, 1, 0, 0, 0],\n",
       "       [0, 1, 0, 0, 0, 1, 0, 1, 0, 0, 0, 0, 0, 0, 1]], dtype=uint8)"
      ]
     },
     "metadata": {},
     "execution_count": 192
    }
   ],
   "source": [
    "x_train[:5]"
   ]
  },
  {
   "cell_type": "code",
   "execution_count": 196,
   "metadata": {},
   "outputs": [],
   "source": [
    "#importing sklearn module for logistic regression model as classifier\n",
    "from sklearn.linear_model import LogisticRegression\n",
    "from sklearn.metrics import accuracy_score, f1_score, precision_score, recall_score, classification_report, confusion_matrix\n",
    "from sklearn.model_selection import KFold\n",
    "from sklearn.model_selection import cross_val_score\n",
    "from numpy import mean\n",
    "from numpy import std"
   ]
  },
  {
   "cell_type": "code",
   "execution_count": 197,
   "metadata": {},
   "outputs": [
    {
     "output_type": "execute_result",
     "data": {
      "text/plain": [
       "LogisticRegression(C=1.0, class_weight=None, dual=False, fit_intercept=True,\n",
       "                   intercept_scaling=1, l1_ratio=None, max_iter=100,\n",
       "                   multi_class='auto', n_jobs=None, penalty='l2',\n",
       "                   random_state=0, solver='lbfgs', tol=0.0001, verbose=0,\n",
       "                   warm_start=False)"
      ]
     },
     "metadata": {},
     "execution_count": 197
    }
   ],
   "source": [
    "# training our model with training dataset\n",
    "lr_model = LogisticRegression(random_state=0)\n",
    "lr_model.fit(x_train, y_train)"
   ]
  },
  {
   "cell_type": "code",
   "execution_count": 198,
   "metadata": {},
   "outputs": [
    {
     "output_type": "stream",
     "name": "stdout",
     "text": [
      "Accuracy: 0.891 (0.021)\n"
     ]
    }
   ],
   "source": [
    "# 10 fold cross validation on Trainig Data\n",
    "cv = KFold(n_splits=10, random_state=1, shuffle=True)\n",
    "# evaluate model\n",
    "scores = cross_val_score(lr_model, x_train, y_train, scoring='accuracy', cv=cv, n_jobs=-1)\n",
    "# report performance\n",
    "print('Accuracy: %.3f (%.3f)' % (mean(scores), std(scores)))"
   ]
  },
  {
   "cell_type": "code",
   "execution_count": 199,
   "metadata": {},
   "outputs": [
    {
     "output_type": "execute_result",
     "data": {
      "text/plain": [
       "array([0, 0, 1, 0, 0, 0, 0, 0, 0, 1, 0, 0, 0, 0, 0], dtype=uint8)"
      ]
     },
     "metadata": {},
     "execution_count": 199
    }
   ],
   "source": [
    "x_test[1]"
   ]
  },
  {
   "cell_type": "code",
   "execution_count": 200,
   "metadata": {},
   "outputs": [],
   "source": [
    "#testing our model by predicting against testing data\n",
    "y_pred = lr_model.predict(x_test)"
   ]
  },
  {
   "cell_type": "code",
   "execution_count": 201,
   "metadata": {},
   "outputs": [
    {
     "output_type": "stream",
     "name": "stdout",
     "text": [
      "Training Accuracy: 90.81 % \nTesting Accuracy: 88.89 %\n[[ 83   3  10   0]\n [  7   6   0   5]\n [ 16   0 282   0]\n [  7   0   0  13]]\n              precision    recall  f1-score   support\n\n         acc       0.73      0.86      0.79        96\n        good       0.67      0.33      0.44        18\n       unacc       0.97      0.95      0.96       298\n       vgood       0.72      0.65      0.68        20\n\n    accuracy                           0.89       432\n   macro avg       0.77      0.70      0.72       432\nweighted avg       0.89      0.89      0.89       432\n\n"
     ]
    }
   ],
   "source": [
    "#classification report creation\n",
    "#training and testing accuracy\n",
    "#f1 score : decision boundary\n",
    "#confusion matrix\n",
    "f1_lr=f1_score(y_test,y_pred, average='macro')\n",
    "print(\"Training Accuracy: {:.2f} % \".format(lr_model.score(x_train, y_train)*100))\n",
    "print(\"Testing Accuracy: {:.2f} %\".format(lr_model.score(x_test, y_test)*100))\n",
    "cm = confusion_matrix(y_test, y_pred)\n",
    "print(cm)\n",
    "print(classification_report(y_test,y_pred))  "
   ]
  },
  {
   "cell_type": "code",
   "execution_count": null,
   "metadata": {},
   "outputs": [],
   "source": []
  },
  {
   "cell_type": "code",
   "execution_count": 154,
   "metadata": {},
   "outputs": [
    {
     "output_type": "execute_result",
     "data": {
      "text/plain": [
       "   buying  maint  doors  persons  lugboot  safety\n",
       "0       3      3      0        0        2       2\n",
       "1       3      3      0        0        2       0\n",
       "2       3      3      0        0        1       1\n",
       "3       3      3      0        0        1       2\n",
       "4       3      3      0        0        1       0"
      ],
      "text/html": "<div>\n<style scoped>\n    .dataframe tbody tr th:only-of-type {\n        vertical-align: middle;\n    }\n\n    .dataframe tbody tr th {\n        vertical-align: top;\n    }\n\n    .dataframe thead th {\n        text-align: right;\n    }\n</style>\n<table border=\"1\" class=\"dataframe\">\n  <thead>\n    <tr style=\"text-align: right;\">\n      <th></th>\n      <th>buying</th>\n      <th>maint</th>\n      <th>doors</th>\n      <th>persons</th>\n      <th>lugboot</th>\n      <th>safety</th>\n    </tr>\n  </thead>\n  <tbody>\n    <tr>\n      <th>0</th>\n      <td>3</td>\n      <td>3</td>\n      <td>0</td>\n      <td>0</td>\n      <td>2</td>\n      <td>2</td>\n    </tr>\n    <tr>\n      <th>1</th>\n      <td>3</td>\n      <td>3</td>\n      <td>0</td>\n      <td>0</td>\n      <td>2</td>\n      <td>0</td>\n    </tr>\n    <tr>\n      <th>2</th>\n      <td>3</td>\n      <td>3</td>\n      <td>0</td>\n      <td>0</td>\n      <td>1</td>\n      <td>1</td>\n    </tr>\n    <tr>\n      <th>3</th>\n      <td>3</td>\n      <td>3</td>\n      <td>0</td>\n      <td>0</td>\n      <td>1</td>\n      <td>2</td>\n    </tr>\n    <tr>\n      <th>4</th>\n      <td>3</td>\n      <td>3</td>\n      <td>0</td>\n      <td>0</td>\n      <td>1</td>\n      <td>0</td>\n    </tr>\n  </tbody>\n</table>\n</div>"
     },
     "metadata": {},
     "execution_count": 154
    }
   ],
   "source": [
    "## creating another LR model this time with label encoding of our training data set\n",
    "from sklearn.preprocessing import LabelEncoder\n",
    "\n",
    "x_new = cars_df.iloc[:,:-1]\n",
    "y_new = cars_df.iloc[:, 6:]\n",
    "y_new.columns = ['evaluation']\n",
    "\n",
    "\n",
    "lae = LabelEncoder()\n",
    "x_new=x_new.apply(lambda col: lae.fit_transform(col))\n",
    "y_new=y_new.apply(lambda col: lae.fit_transform(col))\n",
    "x_new.head()"
   ]
  },
  {
   "cell_type": "code",
   "execution_count": 155,
   "metadata": {},
   "outputs": [
    {
     "output_type": "execute_result",
     "data": {
      "text/plain": [
       "   evaluation\n",
       "0           2\n",
       "1           2\n",
       "2           2\n",
       "3           2\n",
       "4           2"
      ],
      "text/html": "<div>\n<style scoped>\n    .dataframe tbody tr th:only-of-type {\n        vertical-align: middle;\n    }\n\n    .dataframe tbody tr th {\n        vertical-align: top;\n    }\n\n    .dataframe thead th {\n        text-align: right;\n    }\n</style>\n<table border=\"1\" class=\"dataframe\">\n  <thead>\n    <tr style=\"text-align: right;\">\n      <th></th>\n      <th>evaluation</th>\n    </tr>\n  </thead>\n  <tbody>\n    <tr>\n      <th>0</th>\n      <td>2</td>\n    </tr>\n    <tr>\n      <th>1</th>\n      <td>2</td>\n    </tr>\n    <tr>\n      <th>2</th>\n      <td>2</td>\n    </tr>\n    <tr>\n      <th>3</th>\n      <td>2</td>\n    </tr>\n    <tr>\n      <th>4</th>\n      <td>2</td>\n    </tr>\n  </tbody>\n</table>\n</div>"
     },
     "metadata": {},
     "execution_count": 155
    }
   ],
   "source": [
    "y_new.head()"
   ]
  },
  {
   "cell_type": "code",
   "execution_count": 156,
   "metadata": {},
   "outputs": [],
   "source": [
    "x_new=x_new.values\n",
    "y_new=y_new.values"
   ]
  },
  {
   "cell_type": "code",
   "execution_count": 177,
   "metadata": {},
   "outputs": [],
   "source": [
    "# creating new training and testing feature dataset\n",
    "x_train_new, x_test_new, y_train_new, y_test_new = train_test_split(x_new,y_new, test_size = 0.25, random_state = 0)"
   ]
  },
  {
   "cell_type": "code",
   "execution_count": 178,
   "metadata": {},
   "outputs": [],
   "source": [
    "# for multifeature space:\n",
    "from sklearn.decomposition import PCA\n",
    "pca = PCA(n_components = 2)\n",
    "x_train_new = pca.fit_transform(x_train_new)\n",
    "x_test_new = pca.fit_transform(x_test_new)"
   ]
  },
  {
   "cell_type": "code",
   "execution_count": 179,
   "metadata": {},
   "outputs": [
    {
     "output_type": "execute_result",
     "data": {
      "text/plain": [
       "LogisticRegression(C=1.0, class_weight=None, dual=False, fit_intercept=True,\n",
       "                   intercept_scaling=1, l1_ratio=None, max_iter=100,\n",
       "                   multi_class='auto', n_jobs=None, penalty='l2',\n",
       "                   random_state=0, solver='lbfgs', tol=0.0001, verbose=0,\n",
       "                   warm_start=False)"
      ]
     },
     "metadata": {},
     "execution_count": 179
    }
   ],
   "source": [
    "# training a new Logistic regression model\n",
    "lr_new = LogisticRegression(random_state=0)\n",
    "lr_new.fit(x_train_new, y_train_new)"
   ]
  },
  {
   "cell_type": "code",
   "execution_count": 180,
   "metadata": {},
   "outputs": [],
   "source": [
    "#testing our new model by predicting against testing data\n",
    "y_pred_new = lr_new.predict(x_test_new)"
   ]
  },
  {
   "cell_type": "code",
   "execution_count": 181,
   "metadata": {},
   "outputs": [
    {
     "output_type": "stream",
     "name": "stdout",
     "text": [
      "Training Accuracy: 70.35 % \nTesting Accuracy: 68.98 %\n[[  0   0  96   0]\n [  0   0  18   0]\n [  0   0 298   0]\n [  0   0  20   0]]\n              precision    recall  f1-score   support\n\n           0       0.00      0.00      0.00        96\n           1       0.00      0.00      0.00        18\n           2       0.69      1.00      0.82       298\n           3       0.00      0.00      0.00        20\n\n    accuracy                           0.69       432\n   macro avg       0.17      0.25      0.20       432\nweighted avg       0.48      0.69      0.56       432\n\n"
     ]
    }
   ],
   "source": [
    "#classification report creation\n",
    "#training and testing accuracy\n",
    "#f1 score : decision boundary\n",
    "#confusion matrix\n",
    "f1_lr=f1_score(y_test_new,y_pred_new, average='macro')\n",
    "print(\"Training Accuracy: {:.2f} % \".format(lr_new.score(x_train_new, y_train_new)*100))\n",
    "print(\"Testing Accuracy: {:.2f} %\".format(lr_new.score(x_test_new, y_test_new)*100))\n",
    "cm = confusion_matrix(y_test_new, y_pred_new)\n",
    "print(cm)\n",
    "print(classification_report(y_test_new,y_pred_new))  "
   ]
  },
  {
   "cell_type": "code",
   "execution_count": null,
   "metadata": {},
   "outputs": [],
   "source": []
  },
  {
   "cell_type": "code",
   "execution_count": 125,
   "metadata": {},
   "outputs": [
    {
     "output_type": "execute_result",
     "data": {
      "text/plain": [
       "  buying maint  doors persons lugboot safety\n",
       "0  vhigh   low      4       5   small    med"
      ],
      "text/html": "<div>\n<style scoped>\n    .dataframe tbody tr th:only-of-type {\n        vertical-align: middle;\n    }\n\n    .dataframe tbody tr th {\n        vertical-align: top;\n    }\n\n    .dataframe thead th {\n        text-align: right;\n    }\n</style>\n<table border=\"1\" class=\"dataframe\">\n  <thead>\n    <tr style=\"text-align: right;\">\n      <th></th>\n      <th>buying</th>\n      <th>maint</th>\n      <th>doors</th>\n      <th>persons</th>\n      <th>lugboot</th>\n      <th>safety</th>\n    </tr>\n  </thead>\n  <tbody>\n    <tr>\n      <th>0</th>\n      <td>vhigh</td>\n      <td>low</td>\n      <td>4</td>\n      <td>5</td>\n      <td>small</td>\n      <td>med</td>\n    </tr>\n  </tbody>\n</table>\n</div>"
     },
     "metadata": {},
     "execution_count": 125
    }
   ],
   "source": [
    "###Predict and display the class label of a car with following attributes : \n",
    "###buying, maint, doors, persons, lug_boot, safety as [vhigh,low,4,more,small,med]\n",
    "\n",
    "# preparing the input data for prediction\n",
    "pred_df = pd.DataFrame([['vhigh','low',4,'more','small','med']])\n",
    "pred_df.columns = ['buying', 'maint', 'doors','persons','lugboot','safety']\n",
    "#pred_df.doors.replace(('5more'),('5'),inplace=True)\n",
    "pred_df.persons.replace(('more'),('5'),inplace=True)\n",
    "pred_df\n"
   ]
  },
  {
   "cell_type": "code",
   "execution_count": 143,
   "metadata": {},
   "outputs": [
    {
     "output_type": "execute_result",
     "data": {
      "text/plain": [
       "   buying  maint  doors  persons  lugboot  safety\n",
       "0       0      0      0        0        0       0"
      ],
      "text/html": "<div>\n<style scoped>\n    .dataframe tbody tr th:only-of-type {\n        vertical-align: middle;\n    }\n\n    .dataframe tbody tr th {\n        vertical-align: top;\n    }\n\n    .dataframe thead th {\n        text-align: right;\n    }\n</style>\n<table border=\"1\" class=\"dataframe\">\n  <thead>\n    <tr style=\"text-align: right;\">\n      <th></th>\n      <th>buying</th>\n      <th>maint</th>\n      <th>doors</th>\n      <th>persons</th>\n      <th>lugboot</th>\n      <th>safety</th>\n    </tr>\n  </thead>\n  <tbody>\n    <tr>\n      <th>0</th>\n      <td>0</td>\n      <td>0</td>\n      <td>0</td>\n      <td>0</td>\n      <td>0</td>\n      <td>0</td>\n    </tr>\n  </tbody>\n</table>\n</div>"
     },
     "metadata": {},
     "execution_count": 143
    }
   ],
   "source": [
    "#Using label encoder to encode the data into categorical data\n",
    "lae = LabelEncoder()\n",
    "new=pred_df.apply(lambda col: lae.fit_transform(col))\n",
    "new.head()"
   ]
  },
  {
   "cell_type": "code",
   "execution_count": 148,
   "metadata": {},
   "outputs": [
    {
     "output_type": "stream",
     "name": "stdout",
     "text": [
      "the car can be labeled as : unacc\n"
     ]
    }
   ],
   "source": [
    "# predict the label  of the car with feature attributes :\n",
    "# buying, maint, doors, persons, lug_boot, safety as [vhigh,low,4,more,small,med]  \n",
    "class_lab = lr_new.predict(new)\n",
    "print(f'the car can be labeled as : {class_lab[0]}')"
   ]
  },
  {
   "cell_type": "code",
   "execution_count": 149,
   "metadata": {},
   "outputs": [],
   "source": [
    "import matplotlib.pyplot as plt\n",
    "from mlxtend.plotting import plot_decision_regions"
   ]
  },
  {
   "cell_type": "code",
   "execution_count": null,
   "metadata": {},
   "outputs": [],
   "source": [
    "#hot encoding for training output\n"
   ]
  },
  {
   "cell_type": "code",
   "execution_count": 183,
   "metadata": {},
   "outputs": [
    {
     "output_type": "display_data",
     "data": {
      "text/plain": "<Figure size 432x288 with 1 Axes>",
      "image/svg+xml": "<?xml version=\"1.0\" encoding=\"utf-8\" standalone=\"no\"?>\r\n<!DOCTYPE svg PUBLIC \"-//W3C//DTD SVG 1.1//EN\"\r\n  \"http://www.w3.org/Graphics/SVG/1.1/DTD/svg11.dtd\">\r\n<!-- Created with matplotlib (https://matplotlib.org/) -->\r\n<svg height=\"277.314375pt\" version=\"1.1\" viewBox=\"0 0 370.942187 277.314375\" width=\"370.942187pt\" xmlns=\"http://www.w3.org/2000/svg\" xmlns:xlink=\"http://www.w3.org/1999/xlink\">\r\n <defs>\r\n  <style type=\"text/css\">\r\n*{stroke-linecap:butt;stroke-linejoin:round;}\r\n  </style>\r\n </defs>\r\n <g id=\"figure_1\">\r\n  <g id=\"patch_1\">\r\n   <path d=\"M 0 277.314375 \r\nL 370.942187 277.314375 \r\nL 370.942187 0 \r\nL 0 0 \r\nz\r\n\" style=\"fill:none;\"/>\r\n  </g>\r\n  <g id=\"axes_1\">\r\n   <g id=\"patch_2\">\r\n    <path d=\"M 28.942188 239.758125 \r\nL 363.742188 239.758125 \r\nL 363.742188 22.318125 \r\nL 28.942188 22.318125 \r\nz\r\n\" style=\"fill:#ffffff;\"/>\r\n   </g>\r\n   <g id=\"PathCollection_1\"/>\r\n   <g id=\"PathCollection_2\"/>\r\n   <g id=\"PathCollection_3\">\r\n    <path clip-path=\"url(#p071a7da5e2)\" d=\"M 29.718986 239.758125 \r\nL 30.495784 239.758125 \r\nL 31.272582 239.758125 \r\nL 32.04938 239.758125 \r\nL 32.826178 239.758125 \r\nL 33.602976 239.758125 \r\nL 34.379775 239.758125 \r\nL 35.156573 239.758125 \r\nL 35.933371 239.758125 \r\nL 36.710169 239.758125 \r\nL 37.486967 239.758125 \r\nL 38.263765 239.758125 \r\nL 39.040563 239.758125 \r\nL 39.817362 239.758125 \r\nL 40.59416 239.758125 \r\nL 41.370958 239.758125 \r\nL 42.147756 239.758125 \r\nL 42.924554 239.758125 \r\nL 43.701352 239.758125 \r\nL 44.47815 239.758125 \r\nL 45.254949 239.758125 \r\nL 46.031747 239.758125 \r\nL 46.808545 239.758125 \r\nL 47.585343 239.758125 \r\nL 48.362141 239.758125 \r\nL 49.138939 239.758125 \r\nL 49.915737 239.758125 \r\nL 50.692536 239.758125 \r\nL 51.469334 239.758125 \r\nL 52.246132 239.758125 \r\nL 53.02293 239.758125 \r\nL 53.799728 239.758125 \r\nL 54.576526 239.758125 \r\nL 55.353324 239.758125 \r\nL 56.130123 239.758125 \r\nL 56.906921 239.758125 \r\nL 57.683719 239.758125 \r\nL 58.460517 239.758125 \r\nL 59.237315 239.758125 \r\nL 60.014113 239.758125 \r\nL 60.790911 239.758125 \r\nL 61.56771 239.758125 \r\nL 62.344508 239.758125 \r\nL 63.121306 239.758125 \r\nL 63.898104 239.758125 \r\nL 64.674902 239.758125 \r\nL 65.4517 239.758125 \r\nL 66.228498 239.758125 \r\nL 67.005297 239.758125 \r\nL 67.782095 239.758125 \r\nL 68.558893 239.758125 \r\nL 69.335691 239.758125 \r\nL 70.112489 239.758125 \r\nL 70.889287 239.758125 \r\nL 71.666085 239.758125 \r\nL 72.442884 239.758125 \r\nL 73.219682 239.758125 \r\nL 73.99648 239.758125 \r\nL 74.773278 239.758125 \r\nL 75.550076 239.758125 \r\nL 76.326874 239.758125 \r\nL 77.103672 239.758125 \r\nL 77.880471 239.758125 \r\nL 78.657269 239.758125 \r\nL 79.434067 239.758125 \r\nL 80.210865 239.758125 \r\nL 80.987663 239.758125 \r\nL 81.764461 239.758125 \r\nL 82.541259 239.758125 \r\nL 83.318058 239.758125 \r\nL 84.094856 239.758125 \r\nL 84.871654 239.758125 \r\nL 85.648452 239.758125 \r\nL 86.42525 239.758125 \r\nL 87.202048 239.758125 \r\nL 87.978846 239.758125 \r\nL 88.755645 239.758125 \r\nL 89.532443 239.758125 \r\nL 90.309241 239.758125 \r\nL 91.086039 239.758125 \r\nL 91.862837 239.758125 \r\nL 92.639635 239.758125 \r\nL 93.416433 239.758125 \r\nL 94.193232 239.758125 \r\nL 94.97003 239.758125 \r\nL 95.746828 239.758125 \r\nL 96.523626 239.758125 \r\nL 97.300424 239.758125 \r\nL 98.077222 239.758125 \r\nL 98.85402 239.758125 \r\nL 99.630819 239.758125 \r\nL 100.407617 239.758125 \r\nL 101.184415 239.758125 \r\nL 101.961213 239.758125 \r\nL 102.738011 239.758125 \r\nL 103.514809 239.758125 \r\nL 104.291607 239.758125 \r\nL 105.068406 239.758125 \r\nL 105.845204 239.758125 \r\nL 106.622002 239.758125 \r\nL 107.3988 239.758125 \r\nL 108.175598 239.758125 \r\nL 108.952396 239.758125 \r\nL 109.729194 239.758125 \r\nL 110.505993 239.758125 \r\nL 111.282791 239.758125 \r\nL 112.059589 239.758125 \r\nL 112.836387 239.758125 \r\nL 113.613185 239.758125 \r\nL 114.389983 239.758125 \r\nL 115.166781 239.758125 \r\nL 115.94358 239.758125 \r\nL 116.720378 239.758125 \r\nL 117.497176 239.758125 \r\nL 118.273974 239.758125 \r\nL 119.050772 239.758125 \r\nL 119.82757 239.758125 \r\nL 120.604368 239.758125 \r\nL 121.381167 239.758125 \r\nL 122.157965 239.758125 \r\nL 122.934763 239.758125 \r\nL 123.711561 239.758125 \r\nL 124.488359 239.758125 \r\nL 125.265157 239.758125 \r\nL 126.041955 239.758125 \r\nL 126.818754 239.758125 \r\nL 127.595552 239.758125 \r\nL 128.37235 239.758125 \r\nL 129.149148 239.758125 \r\nL 129.925946 239.758125 \r\nL 130.702744 239.758125 \r\nL 131.479542 239.758125 \r\nL 132.256341 239.758125 \r\nL 133.033139 239.758125 \r\nL 133.809937 239.758125 \r\nL 134.586735 239.758125 \r\nL 135.363533 239.758125 \r\nL 136.140331 239.758125 \r\nL 136.917129 239.758125 \r\nL 137.693928 239.758125 \r\nL 138.470726 239.758125 \r\nL 139.247524 239.758125 \r\nL 140.024322 239.758125 \r\nL 140.80112 239.758125 \r\nL 141.577918 239.758125 \r\nL 142.354717 239.758125 \r\nL 143.131515 239.758125 \r\nL 143.908313 239.758125 \r\nL 144.685111 239.758125 \r\nL 145.461909 239.758125 \r\nL 146.238707 239.758125 \r\nL 147.015505 239.758125 \r\nL 147.792304 239.758125 \r\nL 148.569102 239.758125 \r\nL 149.3459 239.758125 \r\nL 150.122698 239.758125 \r\nL 150.899496 239.758125 \r\nL 151.676294 239.758125 \r\nL 152.453092 239.758125 \r\nL 153.229891 239.758125 \r\nL 154.006689 239.758125 \r\nL 154.783487 239.758125 \r\nL 155.560285 239.758125 \r\nL 156.337083 239.758125 \r\nL 157.113881 239.758125 \r\nL 157.890679 239.758125 \r\nL 158.667478 239.758125 \r\nL 159.444276 239.758125 \r\nL 160.221074 239.758125 \r\nL 160.997872 239.758125 \r\nL 161.77467 239.758125 \r\nL 162.551468 239.758125 \r\nL 163.328266 239.758125 \r\nL 164.105065 239.758125 \r\nL 164.881863 239.758125 \r\nL 165.658661 239.758125 \r\nL 166.435459 239.758125 \r\nL 167.212257 239.758125 \r\nL 167.989055 239.758125 \r\nL 168.765853 239.758125 \r\nL 169.542652 239.758125 \r\nL 170.31945 239.758125 \r\nL 171.096248 239.758125 \r\nL 171.873046 239.758125 \r\nL 172.649844 239.758125 \r\nL 173.426642 239.758125 \r\nL 174.20344 239.758125 \r\nL 174.980239 239.758125 \r\nL 175.757037 239.758125 \r\nL 176.533835 239.758125 \r\nL 177.310633 239.758125 \r\nL 178.087431 239.758125 \r\nL 178.864229 239.758125 \r\nL 179.641027 239.758125 \r\nL 180.417826 239.758125 \r\nL 181.194624 239.758125 \r\nL 181.971422 239.758125 \r\nL 182.74822 239.758125 \r\nL 183.525018 239.758125 \r\nL 184.301816 239.758125 \r\nL 185.078614 239.758125 \r\nL 185.855413 239.758125 \r\nL 186.632211 239.758125 \r\nL 187.409009 239.758125 \r\nL 188.185807 239.758125 \r\nL 188.962605 239.758125 \r\nL 189.739403 239.758125 \r\nL 190.516201 239.758125 \r\nL 191.293 239.758125 \r\nL 192.069798 239.758125 \r\nL 192.846596 239.758125 \r\nL 193.623394 239.758125 \r\nL 194.400192 239.758125 \r\nL 195.17699 239.758125 \r\nL 195.953788 239.758125 \r\nL 196.730587 239.758125 \r\nL 197.507385 239.758125 \r\nL 198.284183 239.758125 \r\nL 199.060981 239.758125 \r\nL 199.837779 239.758125 \r\nL 200.614577 239.758125 \r\nL 201.391375 239.758125 \r\nL 202.168174 239.758125 \r\nL 202.944972 239.758125 \r\nL 203.72177 239.758125 \r\nL 204.498568 239.758125 \r\nL 205.275366 239.758125 \r\nL 206.052164 239.758125 \r\nL 206.828962 239.758125 \r\nL 207.605761 239.758125 \r\nL 208.382559 239.758125 \r\nL 209.159357 239.758125 \r\nL 209.936155 239.758125 \r\nL 210.712953 239.758125 \r\nL 211.489751 239.758125 \r\nL 212.266549 239.758125 \r\nL 213.043348 239.758125 \r\nL 213.820146 239.758125 \r\nL 214.596944 239.758125 \r\nL 215.373742 239.758125 \r\nL 216.15054 239.758125 \r\nL 216.927338 239.758125 \r\nL 217.704136 239.758125 \r\nL 218.480935 239.758125 \r\nL 219.257733 239.758125 \r\nL 220.034531 239.758125 \r\nL 220.811329 239.758125 \r\nL 221.588127 239.758125 \r\nL 222.364925 239.758125 \r\nL 223.141723 239.758125 \r\nL 223.918522 239.758125 \r\nL 224.69532 239.758125 \r\nL 225.472118 239.758125 \r\nL 226.248916 239.758125 \r\nL 227.025714 239.758125 \r\nL 227.802512 239.758125 \r\nL 228.57931 239.758125 \r\nL 229.356109 239.758125 \r\nL 230.132907 239.758125 \r\nL 230.909705 239.758125 \r\nL 231.686503 239.758125 \r\nL 232.463301 239.758125 \r\nL 233.240099 239.758125 \r\nL 234.016897 239.758125 \r\nL 234.793696 239.758125 \r\nL 235.570494 239.758125 \r\nL 236.347292 239.758125 \r\nL 237.12409 239.758125 \r\nL 237.900888 239.758125 \r\nL 238.677686 239.758125 \r\nL 239.454484 239.758125 \r\nL 240.231283 239.758125 \r\nL 241.008081 239.758125 \r\nL 241.784879 239.758125 \r\nL 242.561677 239.758125 \r\nL 243.338475 239.758125 \r\nL 244.115273 239.758125 \r\nL 244.892071 239.758125 \r\nL 245.66887 239.758125 \r\nL 246.445668 239.758125 \r\nL 247.222466 239.758125 \r\nL 247.999264 239.758125 \r\nL 248.776062 239.758125 \r\nL 249.55286 239.758125 \r\nL 250.329658 239.758125 \r\nL 251.106457 239.758125 \r\nL 251.883255 239.758125 \r\nL 252.660053 239.758125 \r\nL 253.436851 239.758125 \r\nL 254.213649 239.758125 \r\nL 254.990447 239.758125 \r\nL 255.767246 239.758125 \r\nL 256.544044 239.758125 \r\nL 257.320842 239.758125 \r\nL 258.09764 239.758125 \r\nL 258.874438 239.758125 \r\nL 259.651236 239.758125 \r\nL 260.428034 239.758125 \r\nL 261.204833 239.758125 \r\nL 261.981631 239.758125 \r\nL 262.758429 239.758125 \r\nL 263.535227 239.758125 \r\nL 264.312025 239.758125 \r\nL 265.088823 239.758125 \r\nL 265.865621 239.758125 \r\nL 266.64242 239.758125 \r\nL 267.419218 239.758125 \r\nL 268.196016 239.758125 \r\nL 268.972814 239.758125 \r\nL 269.749612 239.758125 \r\nL 270.52641 239.758125 \r\nL 271.303208 239.758125 \r\nL 272.080007 239.758125 \r\nL 272.856805 239.758125 \r\nL 273.633603 239.758125 \r\nL 274.410401 239.758125 \r\nL 275.187199 239.758125 \r\nL 275.963997 239.758125 \r\nL 276.740795 239.758125 \r\nL 277.517594 239.758125 \r\nL 278.294392 239.758125 \r\nL 279.07119 239.758125 \r\nL 279.847988 239.758125 \r\nL 280.624786 239.758125 \r\nL 281.401584 239.758125 \r\nL 282.178382 239.758125 \r\nL 282.955181 239.758125 \r\nL 283.731979 239.758125 \r\nL 284.508777 239.758125 \r\nL 285.285575 239.758125 \r\nL 286.062373 239.758125 \r\nL 286.839171 239.758125 \r\nL 287.615969 239.758125 \r\nL 288.392768 239.758125 \r\nL 289.169566 239.758125 \r\nL 289.946364 239.758125 \r\nL 290.723162 239.758125 \r\nL 291.49996 239.758125 \r\nL 292.276758 239.758125 \r\nL 293.053556 239.758125 \r\nL 293.830355 239.758125 \r\nL 294.607153 239.758125 \r\nL 295.383951 239.758125 \r\nL 296.160749 239.758125 \r\nL 296.937547 239.758125 \r\nL 297.714345 239.758125 \r\nL 298.491143 239.758125 \r\nL 299.267942 239.758125 \r\nL 300.04474 239.758125 \r\nL 300.821538 239.758125 \r\nL 301.598336 239.758125 \r\nL 302.375134 239.758125 \r\nL 303.151932 239.758125 \r\nL 303.92873 239.758125 \r\nL 304.705529 239.758125 \r\nL 305.482327 239.758125 \r\nL 306.259125 239.758125 \r\nL 307.035923 239.758125 \r\nL 307.812721 239.758125 \r\nL 308.589519 239.758125 \r\nL 309.366317 239.758125 \r\nL 310.143116 239.758125 \r\nL 310.919914 239.758125 \r\nL 311.696712 239.758125 \r\nL 312.47351 239.758125 \r\nL 313.250308 239.758125 \r\nL 314.027106 239.758125 \r\nL 314.803904 239.758125 \r\nL 315.580703 239.758125 \r\nL 316.357501 239.758125 \r\nL 317.134299 239.758125 \r\nL 317.911097 239.758125 \r\nL 318.687895 239.758125 \r\nL 319.464693 239.758125 \r\nL 320.241491 239.758125 \r\nL 321.01829 239.758125 \r\nL 321.795088 239.758125 \r\nL 322.571886 239.758125 \r\nL 323.348684 239.758125 \r\nL 324.125482 239.758125 \r\nL 324.90228 239.758125 \r\nL 325.679078 239.758125 \r\nL 326.455877 239.758125 \r\nL 327.232675 239.758125 \r\nL 328.009473 239.758125 \r\nL 328.786271 239.758125 \r\nL 329.563069 239.758125 \r\nL 330.339867 239.758125 \r\nL 331.116665 239.758125 \r\nL 331.893464 239.758125 \r\nL 332.670262 239.758125 \r\nL 333.44706 239.758125 \r\nL 334.223858 239.758125 \r\nL 335.000656 239.758125 \r\nL 335.777454 239.758125 \r\nL 336.554252 239.758125 \r\nL 337.331051 239.758125 \r\nL 338.107849 239.758125 \r\nL 338.884647 239.758125 \r\nL 339.661445 239.758125 \r\nL 340.438243 239.758125 \r\nL 341.215041 239.758125 \r\nL 341.991839 239.758125 \r\nL 342.768638 239.758125 \r\nL 343.545436 239.758125 \r\nL 344.322234 239.758125 \r\nL 345.099032 239.758125 \r\nL 345.87583 239.758125 \r\nL 346.652628 239.758125 \r\nL 347.429426 239.758125 \r\nL 348.206225 239.758125 \r\nL 348.983023 239.758125 \r\nL 349.759821 239.758125 \r\nL 350.536619 239.758125 \r\nL 351.313417 239.758125 \r\nL 352.090215 239.758125 \r\nL 352.867013 239.758125 \r\nL 353.643812 239.758125 \r\nL 354.42061 239.758125 \r\nL 355.197408 239.758125 \r\nL 355.974206 239.758125 \r\nL 356.751004 239.758125 \r\nL 357.527802 239.758125 \r\nL 358.3046 239.758125 \r\nL 359.081399 239.758125 \r\nL 359.858197 239.758125 \r\nL 360.634995 239.758125 \r\nL 361.411793 239.758125 \r\nL 362.188591 239.758125 \r\nL 362.965389 239.758125 \r\nL 363.742188 239.758125 \r\nL 363.742188 239.000494 \r\nL 363.742188 238.242864 \r\nL 363.742188 237.485233 \r\nL 363.742188 236.727602 \r\nL 363.742188 235.969972 \r\nL 363.742188 235.212341 \r\nL 363.742188 234.45471 \r\nL 363.742188 233.69708 \r\nL 363.742188 232.939449 \r\nL 363.742188 232.181818 \r\nL 363.742188 231.424188 \r\nL 363.742188 230.666557 \r\nL 363.742188 229.908926 \r\nL 363.742188 229.151296 \r\nL 363.742188 228.393665 \r\nL 363.742188 227.636034 \r\nL 363.742188 226.878404 \r\nL 363.742188 226.120773 \r\nL 363.742188 225.363142 \r\nL 363.742188 224.605512 \r\nL 363.742188 223.847881 \r\nL 363.742188 223.09025 \r\nL 363.742188 222.33262 \r\nL 363.742188 221.574989 \r\nL 363.742188 220.817358 \r\nL 363.742188 220.059728 \r\nL 363.742188 219.302097 \r\nL 363.742188 218.544466 \r\nL 363.742188 217.786836 \r\nL 363.742188 217.029205 \r\nL 363.742188 216.271574 \r\nL 363.742188 215.513944 \r\nL 363.742188 214.756313 \r\nL 363.742188 213.998682 \r\nL 363.742188 213.241052 \r\nL 363.742188 212.483421 \r\nL 363.742188 211.725791 \r\nL 363.742188 210.96816 \r\nL 363.742188 210.210529 \r\nL 363.742188 209.452899 \r\nL 363.742188 208.695268 \r\nL 363.742188 207.937637 \r\nL 363.742188 207.180007 \r\nL 363.742188 206.422376 \r\nL 363.742188 205.664745 \r\nL 363.742188 204.907115 \r\nL 363.742188 204.149484 \r\nL 363.742188 203.391853 \r\nL 363.742188 202.634223 \r\nL 363.742188 201.876592 \r\nL 363.742188 201.118961 \r\nL 363.742188 200.361331 \r\nL 363.742188 199.6037 \r\nL 363.742188 198.846069 \r\nL 363.742188 198.088439 \r\nL 363.742188 197.330808 \r\nL 363.742188 196.573177 \r\nL 363.742188 195.815547 \r\nL 363.742188 195.057916 \r\nL 363.742188 194.300285 \r\nL 363.742188 193.542655 \r\nL 363.742188 192.785024 \r\nL 363.742188 192.027393 \r\nL 363.742188 191.269763 \r\nL 363.742188 190.512132 \r\nL 363.742188 189.754501 \r\nL 363.742188 188.996871 \r\nL 363.742188 188.23924 \r\nL 363.742188 187.481609 \r\nL 363.742188 186.723979 \r\nL 363.742188 185.966348 \r\nL 363.742188 185.208717 \r\nL 363.742188 184.451087 \r\nL 363.742188 183.693456 \r\nL 363.742188 182.935825 \r\nL 363.742188 182.178195 \r\nL 363.742188 181.420564 \r\nL 363.742188 180.662933 \r\nL 363.742188 179.905303 \r\nL 363.742188 179.147672 \r\nL 363.742188 178.390041 \r\nL 363.742188 177.632411 \r\nL 363.742188 176.87478 \r\nL 363.742188 176.117149 \r\nL 363.742188 175.359519 \r\nL 363.742188 174.601888 \r\nL 363.742188 173.844257 \r\nL 363.742188 173.086627 \r\nL 363.742188 172.328996 \r\nL 363.742188 171.571365 \r\nL 363.742188 170.813735 \r\nL 363.742188 170.056104 \r\nL 363.742188 169.298473 \r\nL 363.742188 168.540843 \r\nL 363.742188 167.783212 \r\nL 363.742188 167.025581 \r\nL 363.742188 166.267951 \r\nL 363.742188 165.51032 \r\nL 363.742188 164.752689 \r\nL 363.742188 163.995059 \r\nL 363.742188 163.237428 \r\nL 363.742188 162.479797 \r\nL 363.742188 161.722167 \r\nL 363.742188 160.964536 \r\nL 363.742188 160.206905 \r\nL 363.742188 159.449275 \r\nL 363.742188 158.691644 \r\nL 363.742188 157.934014 \r\nL 363.742188 157.176383 \r\nL 363.742188 156.418752 \r\nL 363.742188 155.661122 \r\nL 363.742188 154.903491 \r\nL 363.742188 154.14586 \r\nL 363.742188 153.38823 \r\nL 363.742188 152.630599 \r\nL 363.742188 151.872968 \r\nL 363.742188 151.115338 \r\nL 363.742188 150.357707 \r\nL 363.742188 149.600076 \r\nL 363.742188 148.842446 \r\nL 363.742188 148.084815 \r\nL 363.742188 147.327184 \r\nL 363.742188 146.569554 \r\nL 363.742188 145.811923 \r\nL 363.742188 145.054292 \r\nL 363.742188 144.296662 \r\nL 363.742188 143.539031 \r\nL 363.742188 142.7814 \r\nL 363.742188 142.02377 \r\nL 363.742188 141.266139 \r\nL 363.742188 140.508508 \r\nL 363.742188 139.750878 \r\nL 363.742188 138.993247 \r\nL 363.742188 138.235616 \r\nL 363.742188 137.477986 \r\nL 363.742188 136.720355 \r\nL 363.742188 135.962724 \r\nL 363.742188 135.205094 \r\nL 363.742188 134.447463 \r\nL 363.742188 133.689832 \r\nL 363.742188 132.932202 \r\nL 363.742188 132.174571 \r\nL 363.742188 131.41694 \r\nL 363.742188 130.65931 \r\nL 363.742188 129.901679 \r\nL 363.742188 129.144048 \r\nL 363.742188 128.386418 \r\nL 363.742188 127.628787 \r\nL 363.742188 126.871156 \r\nL 363.742188 126.113526 \r\nL 363.742188 125.355895 \r\nL 363.742188 124.598264 \r\nL 363.742188 123.840634 \r\nL 363.742188 123.083003 \r\nL 363.742188 122.325372 \r\nL 363.742188 121.567742 \r\nL 363.742188 120.810111 \r\nL 363.742188 120.05248 \r\nL 363.742188 119.29485 \r\nL 363.742188 118.537219 \r\nL 363.742188 117.779588 \r\nL 363.742188 117.021958 \r\nL 363.742188 116.264327 \r\nL 363.742188 115.506696 \r\nL 363.742188 114.749066 \r\nL 363.742188 113.991435 \r\nL 363.742188 113.233804 \r\nL 363.742188 112.476174 \r\nL 363.742188 111.718543 \r\nL 363.742188 110.960912 \r\nL 363.742188 110.203282 \r\nL 363.742188 109.445651 \r\nL 363.742188 108.68802 \r\nL 363.742188 107.93039 \r\nL 363.742188 107.172759 \r\nL 363.742188 106.415128 \r\nL 363.742188 105.657498 \r\nL 363.742188 104.899867 \r\nL 363.742188 104.142236 \r\nL 363.742188 103.384606 \r\nL 363.742188 102.626975 \r\nL 363.742188 101.869345 \r\nL 363.742188 101.111714 \r\nL 363.742188 100.354083 \r\nL 363.742188 99.596453 \r\nL 363.742188 98.838822 \r\nL 363.742188 98.081191 \r\nL 363.742188 97.323561 \r\nL 363.742188 96.56593 \r\nL 363.742188 95.808299 \r\nL 363.742188 95.050669 \r\nL 363.742188 94.293038 \r\nL 363.742188 93.535407 \r\nL 363.742188 92.777777 \r\nL 363.742188 92.020146 \r\nL 363.742188 91.262515 \r\nL 363.742188 90.504885 \r\nL 363.742188 89.747254 \r\nL 363.742188 88.989623 \r\nL 363.742188 88.231993 \r\nL 363.742188 87.474362 \r\nL 363.742188 86.716731 \r\nL 363.742188 85.959101 \r\nL 363.742188 85.20147 \r\nL 363.742188 84.443839 \r\nL 363.742188 83.686209 \r\nL 363.742188 82.928578 \r\nL 363.742188 82.170947 \r\nL 363.742188 81.413317 \r\nL 363.742188 80.655686 \r\nL 363.742188 79.898055 \r\nL 363.742188 79.140425 \r\nL 363.742188 78.382794 \r\nL 363.742188 77.625163 \r\nL 363.742188 76.867533 \r\nL 363.742188 76.109902 \r\nL 363.742188 75.352271 \r\nL 363.742188 74.594641 \r\nL 363.742188 73.83701 \r\nL 363.742188 73.079379 \r\nL 363.742188 72.321749 \r\nL 363.742188 71.564118 \r\nL 363.742188 70.806487 \r\nL 363.742188 70.048857 \r\nL 363.742188 69.291226 \r\nL 363.742188 68.533595 \r\nL 363.742188 67.775965 \r\nL 363.742188 67.018334 \r\nL 363.742188 66.260703 \r\nL 363.742188 65.503073 \r\nL 363.742188 64.745442 \r\nL 363.742188 63.987811 \r\nL 363.742188 63.230181 \r\nL 363.742188 62.47255 \r\nL 363.742188 61.714919 \r\nL 363.742188 60.957289 \r\nL 363.742188 60.199658 \r\nL 363.742188 59.442027 \r\nL 363.742188 58.684397 \r\nL 363.742188 57.926766 \r\nL 363.742188 57.169135 \r\nL 363.742188 56.411505 \r\nL 363.742188 55.653874 \r\nL 363.742188 54.896243 \r\nL 363.742188 54.138613 \r\nL 363.742188 53.380982 \r\nL 363.742188 52.623351 \r\nL 363.742188 51.865721 \r\nL 363.742188 51.10809 \r\nL 363.742188 50.350459 \r\nL 363.742188 49.592829 \r\nL 363.742188 48.835198 \r\nL 363.742188 48.077568 \r\nL 363.742188 47.319937 \r\nL 363.742188 46.562306 \r\nL 363.742188 45.804676 \r\nL 363.742188 45.047045 \r\nL 363.742188 44.289414 \r\nL 363.742188 43.531784 \r\nL 363.742188 42.774153 \r\nL 363.742188 42.016522 \r\nL 363.742188 41.258892 \r\nL 363.742188 40.501261 \r\nL 363.742188 39.74363 \r\nL 363.742188 38.986 \r\nL 363.742188 38.228369 \r\nL 363.742188 37.470738 \r\nL 363.742188 36.713108 \r\nL 363.742188 35.955477 \r\nL 363.742188 35.197846 \r\nL 363.742188 34.440216 \r\nL 363.742188 33.682585 \r\nL 363.742188 32.924954 \r\nL 363.742188 32.167324 \r\nL 363.742188 31.409693 \r\nL 363.742188 30.652062 \r\nL 363.742188 29.894432 \r\nL 363.742188 29.136801 \r\nL 363.742188 28.37917 \r\nL 363.742188 27.62154 \r\nL 363.742188 26.863909 \r\nL 363.742188 26.106278 \r\nL 363.742188 25.348648 \r\nL 363.742188 24.591017 \r\nL 363.742188 23.833386 \r\nL 363.742188 23.075756 \r\nL 363.742188 22.318125 \r\nL 362.965389 22.318125 \r\nL 362.188591 22.318125 \r\nL 361.411793 22.318125 \r\nL 360.634995 22.318125 \r\nL 359.858197 22.318125 \r\nL 359.081399 22.318125 \r\nL 358.3046 22.318125 \r\nL 357.527802 22.318125 \r\nL 356.751004 22.318125 \r\nL 355.974206 22.318125 \r\nL 355.197408 22.318125 \r\nL 354.42061 22.318125 \r\nL 353.643812 22.318125 \r\nL 352.867013 22.318125 \r\nL 352.090215 22.318125 \r\nL 351.313417 22.318125 \r\nL 350.536619 22.318125 \r\nL 349.759821 22.318125 \r\nL 348.983023 22.318125 \r\nL 348.206225 22.318125 \r\nL 347.429426 22.318125 \r\nL 346.652628 22.318125 \r\nL 345.87583 22.318125 \r\nL 345.099032 22.318125 \r\nL 344.322234 22.318125 \r\nL 343.545436 22.318125 \r\nL 342.768638 22.318125 \r\nL 341.991839 22.318125 \r\nL 341.215041 22.318125 \r\nL 340.438243 22.318125 \r\nL 339.661445 22.318125 \r\nL 338.884647 22.318125 \r\nL 338.107849 22.318125 \r\nL 337.331051 22.318125 \r\nL 336.554252 22.318125 \r\nL 335.777454 22.318125 \r\nL 335.000656 22.318125 \r\nL 334.223858 22.318125 \r\nL 333.44706 22.318125 \r\nL 332.670262 22.318125 \r\nL 331.893464 22.318125 \r\nL 331.116665 22.318125 \r\nL 330.339867 22.318125 \r\nL 329.563069 22.318125 \r\nL 328.786271 22.318125 \r\nL 328.009473 22.318125 \r\nL 327.232675 22.318125 \r\nL 326.455877 22.318125 \r\nL 325.679078 22.318125 \r\nL 324.90228 22.318125 \r\nL 324.125482 22.318125 \r\nL 323.348684 22.318125 \r\nL 322.571886 22.318125 \r\nL 321.795088 22.318125 \r\nL 321.01829 22.318125 \r\nL 320.241491 22.318125 \r\nL 319.464693 22.318125 \r\nL 318.687895 22.318125 \r\nL 317.911097 22.318125 \r\nL 317.134299 22.318125 \r\nL 316.357501 22.318125 \r\nL 315.580703 22.318125 \r\nL 314.803904 22.318125 \r\nL 314.027106 22.318125 \r\nL 313.250308 22.318125 \r\nL 312.47351 22.318125 \r\nL 311.696712 22.318125 \r\nL 310.919914 22.318125 \r\nL 310.143116 22.318125 \r\nL 309.366317 22.318125 \r\nL 308.589519 22.318125 \r\nL 307.812721 22.318125 \r\nL 307.035923 22.318125 \r\nL 306.259125 22.318125 \r\nL 305.482327 22.318125 \r\nL 304.705529 22.318125 \r\nL 303.92873 22.318125 \r\nL 303.151932 22.318125 \r\nL 302.375134 22.318125 \r\nL 301.598336 22.318125 \r\nL 300.821538 22.318125 \r\nL 300.04474 22.318125 \r\nL 299.267942 22.318125 \r\nL 298.491143 22.318125 \r\nL 297.714345 22.318125 \r\nL 296.937547 22.318125 \r\nL 296.160749 22.318125 \r\nL 295.383951 22.318125 \r\nL 294.607153 22.318125 \r\nL 293.830355 22.318125 \r\nL 293.053556 22.318125 \r\nL 292.276758 22.318125 \r\nL 291.49996 22.318125 \r\nL 290.723162 22.318125 \r\nL 289.946364 22.318125 \r\nL 289.169566 22.318125 \r\nL 288.392768 22.318125 \r\nL 287.615969 22.318125 \r\nL 286.839171 22.318125 \r\nL 286.062373 22.318125 \r\nL 285.285575 22.318125 \r\nL 284.508777 22.318125 \r\nL 283.731979 22.318125 \r\nL 282.955181 22.318125 \r\nL 282.178382 22.318125 \r\nL 281.401584 22.318125 \r\nL 280.624786 22.318125 \r\nL 279.847988 22.318125 \r\nL 279.07119 22.318125 \r\nL 278.294392 22.318125 \r\nL 277.517594 22.318125 \r\nL 276.740795 22.318125 \r\nL 275.963997 22.318125 \r\nL 275.187199 22.318125 \r\nL 274.410401 22.318125 \r\nL 273.633603 22.318125 \r\nL 272.856805 22.318125 \r\nL 272.080007 22.318125 \r\nL 271.303208 22.318125 \r\nL 270.52641 22.318125 \r\nL 269.749612 22.318125 \r\nL 268.972814 22.318125 \r\nL 268.196016 22.318125 \r\nL 267.419218 22.318125 \r\nL 266.64242 22.318125 \r\nL 265.865621 22.318125 \r\nL 265.088823 22.318125 \r\nL 264.312025 22.318125 \r\nL 263.535227 22.318125 \r\nL 262.758429 22.318125 \r\nL 261.981631 22.318125 \r\nL 261.204833 22.318125 \r\nL 260.428034 22.318125 \r\nL 259.651236 22.318125 \r\nL 258.874438 22.318125 \r\nL 258.09764 22.318125 \r\nL 257.320842 22.318125 \r\nL 256.544044 22.318125 \r\nL 255.767246 22.318125 \r\nL 254.990447 22.318125 \r\nL 254.213649 22.318125 \r\nL 253.436851 22.318125 \r\nL 252.660053 22.318125 \r\nL 251.883255 22.318125 \r\nL 251.106457 22.318125 \r\nL 250.329658 22.318125 \r\nL 249.55286 22.318125 \r\nL 248.776062 22.318125 \r\nL 247.999264 22.318125 \r\nL 247.222466 22.318125 \r\nL 246.445668 22.318125 \r\nL 245.66887 22.318125 \r\nL 244.892071 22.318125 \r\nL 244.115273 22.318125 \r\nL 243.338475 22.318125 \r\nL 242.561677 22.318125 \r\nL 241.784879 22.318125 \r\nL 241.008081 22.318125 \r\nL 240.231283 22.318125 \r\nL 239.454484 22.318125 \r\nL 238.677686 22.318125 \r\nL 237.900888 22.318125 \r\nL 237.12409 22.318125 \r\nL 236.347292 22.318125 \r\nL 235.570494 22.318125 \r\nL 234.793696 22.318125 \r\nL 234.016897 22.318125 \r\nL 233.240099 22.318125 \r\nL 232.463301 22.318125 \r\nL 231.686503 22.318125 \r\nL 230.909705 22.318125 \r\nL 230.132907 22.318125 \r\nL 229.356109 22.318125 \r\nL 228.57931 22.318125 \r\nL 227.802512 22.318125 \r\nL 227.025714 22.318125 \r\nL 226.248916 22.318125 \r\nL 225.472118 22.318125 \r\nL 224.69532 22.318125 \r\nL 223.918522 22.318125 \r\nL 223.141723 22.318125 \r\nL 222.364925 22.318125 \r\nL 221.588127 22.318125 \r\nL 220.811329 22.318125 \r\nL 220.034531 22.318125 \r\nL 219.257733 22.318125 \r\nL 218.480935 22.318125 \r\nL 217.704136 22.318125 \r\nL 216.927338 22.318125 \r\nL 216.15054 22.318125 \r\nL 215.373742 22.318125 \r\nL 214.596944 22.318125 \r\nL 213.820146 22.318125 \r\nL 213.043348 22.318125 \r\nL 212.266549 22.318125 \r\nL 211.489751 22.318125 \r\nL 210.712953 22.318125 \r\nL 209.936155 22.318125 \r\nL 209.159357 22.318125 \r\nL 208.382559 22.318125 \r\nL 207.605761 22.318125 \r\nL 206.828962 22.318125 \r\nL 206.052164 22.318125 \r\nL 205.275366 22.318125 \r\nL 204.498568 22.318125 \r\nL 203.72177 22.318125 \r\nL 202.944972 22.318125 \r\nL 202.168174 22.318125 \r\nL 201.391375 22.318125 \r\nL 200.614577 22.318125 \r\nL 199.837779 22.318125 \r\nL 199.060981 22.318125 \r\nL 198.284183 22.318125 \r\nL 197.507385 22.318125 \r\nL 196.730587 22.318125 \r\nL 195.953788 22.318125 \r\nL 195.17699 22.318125 \r\nL 194.400192 22.318125 \r\nL 193.623394 22.318125 \r\nL 192.846596 22.318125 \r\nL 192.069798 22.318125 \r\nL 191.293 22.318125 \r\nL 190.516201 22.318125 \r\nL 189.739403 22.318125 \r\nL 188.962605 22.318125 \r\nL 188.185807 22.318125 \r\nL 187.409009 22.318125 \r\nL 186.632211 22.318125 \r\nL 185.855413 22.318125 \r\nL 185.078614 22.318125 \r\nL 184.301816 22.318125 \r\nL 183.525018 22.318125 \r\nL 182.74822 22.318125 \r\nL 181.971422 22.318125 \r\nL 181.194624 22.318125 \r\nL 180.417826 22.318125 \r\nL 179.641027 22.318125 \r\nL 178.864229 22.318125 \r\nL 178.087431 22.318125 \r\nL 177.310633 22.318125 \r\nL 176.533835 22.318125 \r\nL 175.757037 22.318125 \r\nL 174.980239 22.318125 \r\nL 174.20344 22.318125 \r\nL 173.426642 22.318125 \r\nL 172.649844 22.318125 \r\nL 171.873046 22.318125 \r\nL 171.096248 22.318125 \r\nL 170.31945 22.318125 \r\nL 169.542652 22.318125 \r\nL 168.765853 22.318125 \r\nL 167.989055 22.318125 \r\nL 167.212257 22.318125 \r\nL 166.435459 22.318125 \r\nL 165.658661 22.318125 \r\nL 164.881863 22.318125 \r\nL 164.105065 22.318125 \r\nL 163.328266 22.318125 \r\nL 162.551468 22.318125 \r\nL 161.77467 22.318125 \r\nL 160.997872 22.318125 \r\nL 160.221074 22.318125 \r\nL 159.444276 22.318125 \r\nL 158.667478 22.318125 \r\nL 157.890679 22.318125 \r\nL 157.113881 22.318125 \r\nL 156.337083 22.318125 \r\nL 155.560285 22.318125 \r\nL 154.783487 22.318125 \r\nL 154.006689 22.318125 \r\nL 153.229891 22.318125 \r\nL 152.453092 22.318125 \r\nL 151.676294 22.318125 \r\nL 150.899496 22.318125 \r\nL 150.122698 22.318125 \r\nL 149.3459 22.318125 \r\nL 148.569102 22.318125 \r\nL 147.792304 22.318125 \r\nL 147.015505 22.318125 \r\nL 146.238707 22.318125 \r\nL 145.461909 22.318125 \r\nL 144.685111 22.318125 \r\nL 143.908313 22.318125 \r\nL 143.131515 22.318125 \r\nL 142.354717 22.318125 \r\nL 141.577918 22.318125 \r\nL 140.80112 22.318125 \r\nL 140.024322 22.318125 \r\nL 139.247524 22.318125 \r\nL 138.470726 22.318125 \r\nL 137.693928 22.318125 \r\nL 136.917129 22.318125 \r\nL 136.140331 22.318125 \r\nL 135.363533 22.318125 \r\nL 134.586735 22.318125 \r\nL 133.809937 22.318125 \r\nL 133.033139 22.318125 \r\nL 132.256341 22.318125 \r\nL 131.479542 22.318125 \r\nL 130.702744 22.318125 \r\nL 129.925946 22.318125 \r\nL 129.149148 22.318125 \r\nL 128.37235 22.318125 \r\nL 127.595552 22.318125 \r\nL 126.818754 22.318125 \r\nL 126.041955 22.318125 \r\nL 125.265157 22.318125 \r\nL 124.488359 22.318125 \r\nL 123.711561 22.318125 \r\nL 122.934763 22.318125 \r\nL 122.157965 22.318125 \r\nL 121.381167 22.318125 \r\nL 120.604368 22.318125 \r\nL 119.82757 22.318125 \r\nL 119.050772 22.318125 \r\nL 118.273974 22.318125 \r\nL 117.497176 22.318125 \r\nL 116.720378 22.318125 \r\nL 115.94358 22.318125 \r\nL 115.166781 22.318125 \r\nL 114.389983 22.318125 \r\nL 113.613185 22.318125 \r\nL 112.836387 22.318125 \r\nL 112.059589 22.318125 \r\nL 111.282791 22.318125 \r\nL 110.505993 22.318125 \r\nL 109.729194 22.318125 \r\nL 108.952396 22.318125 \r\nL 108.175598 22.318125 \r\nL 107.3988 22.318125 \r\nL 106.622002 22.318125 \r\nL 105.845204 22.318125 \r\nL 105.068406 22.318125 \r\nL 104.291607 22.318125 \r\nL 103.514809 22.318125 \r\nL 102.738011 22.318125 \r\nL 101.961213 22.318125 \r\nL 101.184415 22.318125 \r\nL 100.407617 22.318125 \r\nL 99.630819 22.318125 \r\nL 98.85402 22.318125 \r\nL 98.077222 22.318125 \r\nL 97.300424 22.318125 \r\nL 96.523626 22.318125 \r\nL 95.746828 22.318125 \r\nL 94.97003 22.318125 \r\nL 94.193232 22.318125 \r\nL 93.416433 22.318125 \r\nL 92.639635 22.318125 \r\nL 91.862837 22.318125 \r\nL 91.086039 22.318125 \r\nL 90.309241 22.318125 \r\nL 89.532443 22.318125 \r\nL 88.755645 22.318125 \r\nL 87.978846 22.318125 \r\nL 87.202048 22.318125 \r\nL 86.42525 22.318125 \r\nL 85.648452 22.318125 \r\nL 84.871654 22.318125 \r\nL 84.094856 22.318125 \r\nL 83.318058 22.318125 \r\nL 82.541259 22.318125 \r\nL 81.764461 22.318125 \r\nL 80.987663 22.318125 \r\nL 80.210865 22.318125 \r\nL 79.434067 22.318125 \r\nL 78.657269 22.318125 \r\nL 77.880471 22.318125 \r\nL 77.103672 22.318125 \r\nL 76.326874 22.318125 \r\nL 75.550076 22.318125 \r\nL 74.773278 22.318125 \r\nL 73.99648 22.318125 \r\nL 73.219682 22.318125 \r\nL 72.442884 22.318125 \r\nL 71.666085 22.318125 \r\nL 70.889287 22.318125 \r\nL 70.112489 22.318125 \r\nL 69.335691 22.318125 \r\nL 68.558893 22.318125 \r\nL 67.782095 22.318125 \r\nL 67.005297 22.318125 \r\nL 66.228498 22.318125 \r\nL 65.4517 22.318125 \r\nL 64.674902 22.318125 \r\nL 63.898104 22.318125 \r\nL 63.121306 22.318125 \r\nL 62.344508 22.318125 \r\nL 61.56771 22.318125 \r\nL 60.790911 22.318125 \r\nL 60.014113 22.318125 \r\nL 59.237315 22.318125 \r\nL 58.460517 22.318125 \r\nL 57.683719 22.318125 \r\nL 56.906921 22.318125 \r\nL 56.130123 22.318125 \r\nL 55.353324 22.318125 \r\nL 54.576526 22.318125 \r\nL 53.799728 22.318125 \r\nL 53.02293 22.318125 \r\nL 52.246132 22.318125 \r\nL 51.469334 22.318125 \r\nL 50.692536 22.318125 \r\nL 49.915737 22.318125 \r\nL 49.138939 22.318125 \r\nL 48.362141 22.318125 \r\nL 47.585343 22.318125 \r\nL 46.808545 22.318125 \r\nL 46.031747 22.318125 \r\nL 45.254949 22.318125 \r\nL 44.47815 22.318125 \r\nL 43.701352 22.318125 \r\nL 42.924554 22.318125 \r\nL 42.147756 22.318125 \r\nL 41.370958 22.318125 \r\nL 40.59416 22.318125 \r\nL 39.817362 22.318125 \r\nL 39.040563 22.318125 \r\nL 38.263765 22.318125 \r\nL 37.486967 22.318125 \r\nL 36.710169 22.318125 \r\nL 35.933371 22.318125 \r\nL 35.156573 22.318125 \r\nL 34.379775 22.318125 \r\nL 33.602976 22.318125 \r\nL 32.826178 22.318125 \r\nL 32.04938 22.318125 \r\nL 31.272582 22.318125 \r\nL 30.495784 22.318125 \r\nL 29.718986 22.318125 \r\nL 28.942187 22.318125 \r\nL 28.942187 23.075756 \r\nL 28.942187 23.833386 \r\nL 28.942187 24.591017 \r\nL 28.942187 25.348648 \r\nL 28.942187 26.106278 \r\nL 28.942187 26.863909 \r\nL 28.942187 27.62154 \r\nL 28.942187 28.37917 \r\nL 28.942187 29.136801 \r\nL 28.942187 29.894432 \r\nL 28.942187 30.652062 \r\nL 28.942187 31.409693 \r\nL 28.942187 32.167324 \r\nL 28.942187 32.924954 \r\nL 28.942187 33.682585 \r\nL 28.942187 34.440216 \r\nL 28.942187 35.197846 \r\nL 28.942187 35.955477 \r\nL 28.942187 36.713108 \r\nL 28.942187 37.470738 \r\nL 28.942187 38.228369 \r\nL 28.942187 38.986 \r\nL 28.942187 39.74363 \r\nL 28.942187 40.501261 \r\nL 28.942187 41.258892 \r\nL 28.942187 42.016522 \r\nL 28.942187 42.774153 \r\nL 28.942187 43.531784 \r\nL 28.942187 44.289414 \r\nL 28.942187 45.047045 \r\nL 28.942187 45.804676 \r\nL 28.942187 46.562306 \r\nL 28.942187 47.319937 \r\nL 28.942187 48.077568 \r\nL 28.942187 48.835198 \r\nL 28.942187 49.592829 \r\nL 28.942187 50.350459 \r\nL 28.942187 51.10809 \r\nL 28.942187 51.865721 \r\nL 28.942187 52.623351 \r\nL 28.942187 53.380982 \r\nL 28.942187 54.138613 \r\nL 28.942187 54.896243 \r\nL 28.942187 55.653874 \r\nL 28.942187 56.411505 \r\nL 28.942187 57.169135 \r\nL 28.942187 57.926766 \r\nL 28.942187 58.684397 \r\nL 28.942187 59.442027 \r\nL 28.942187 60.199658 \r\nL 28.942187 60.957289 \r\nL 28.942187 61.714919 \r\nL 28.942187 62.47255 \r\nL 28.942187 63.230181 \r\nL 28.942187 63.987811 \r\nL 28.942187 64.745442 \r\nL 28.942187 65.503073 \r\nL 28.942187 66.260703 \r\nL 28.942187 67.018334 \r\nL 28.942187 67.775965 \r\nL 28.942187 68.533595 \r\nL 28.942187 69.291226 \r\nL 28.942187 70.048857 \r\nL 28.942187 70.806487 \r\nL 28.942187 71.564118 \r\nL 28.942187 72.321749 \r\nL 28.942187 73.079379 \r\nL 28.942187 73.83701 \r\nL 28.942187 74.594641 \r\nL 28.942187 75.352271 \r\nL 28.942187 76.109902 \r\nL 28.942187 76.867533 \r\nL 28.942187 77.625163 \r\nL 28.942187 78.382794 \r\nL 28.942187 79.140425 \r\nL 28.942187 79.898055 \r\nL 28.942187 80.655686 \r\nL 28.942187 81.413317 \r\nL 28.942187 82.170947 \r\nL 28.942187 82.928578 \r\nL 28.942187 83.686209 \r\nL 28.942187 84.443839 \r\nL 28.942187 85.20147 \r\nL 28.942187 85.959101 \r\nL 28.942187 86.716731 \r\nL 28.942187 87.474362 \r\nL 28.942187 88.231993 \r\nL 28.942187 88.989623 \r\nL 28.942187 89.747254 \r\nL 28.942187 90.504885 \r\nL 28.942187 91.262515 \r\nL 28.942187 92.020146 \r\nL 28.942187 92.777777 \r\nL 28.942187 93.535407 \r\nL 28.942187 94.293038 \r\nL 28.942187 95.050669 \r\nL 28.942187 95.808299 \r\nL 28.942187 96.56593 \r\nL 28.942187 97.323561 \r\nL 28.942187 98.081191 \r\nL 28.942187 98.838822 \r\nL 28.942187 99.596453 \r\nL 28.942187 100.354083 \r\nL 28.942187 101.111714 \r\nL 28.942187 101.869345 \r\nL 28.942187 102.626975 \r\nL 28.942187 103.384606 \r\nL 28.942187 104.142236 \r\nL 28.942187 104.899867 \r\nL 28.942187 105.657498 \r\nL 28.942187 106.415128 \r\nL 28.942187 107.172759 \r\nL 28.942187 107.93039 \r\nL 28.942187 108.68802 \r\nL 28.942187 109.445651 \r\nL 28.942187 110.203282 \r\nL 28.942187 110.960912 \r\nL 28.942187 111.718543 \r\nL 28.942187 112.476174 \r\nL 28.942187 113.233804 \r\nL 28.942187 113.991435 \r\nL 28.942187 114.749066 \r\nL 28.942187 115.506696 \r\nL 28.942187 116.264327 \r\nL 28.942187 117.021958 \r\nL 28.942187 117.779588 \r\nL 28.942187 118.537219 \r\nL 28.942187 119.29485 \r\nL 28.942187 120.05248 \r\nL 28.942187 120.810111 \r\nL 28.942187 121.567742 \r\nL 28.942187 122.325372 \r\nL 28.942187 123.083003 \r\nL 28.942187 123.840634 \r\nL 28.942187 124.598264 \r\nL 28.942187 125.355895 \r\nL 28.942187 126.113526 \r\nL 28.942187 126.871156 \r\nL 28.942187 127.628787 \r\nL 28.942187 128.386418 \r\nL 28.942187 129.144048 \r\nL 28.942187 129.901679 \r\nL 28.942187 130.65931 \r\nL 28.942187 131.41694 \r\nL 28.942187 132.174571 \r\nL 28.942187 132.932202 \r\nL 28.942187 133.689832 \r\nL 28.942187 134.447463 \r\nL 28.942187 135.205094 \r\nL 28.942187 135.962724 \r\nL 28.942187 136.720355 \r\nL 28.942187 137.477986 \r\nL 28.942187 138.235616 \r\nL 28.942187 138.993247 \r\nL 28.942187 139.750878 \r\nL 28.942187 140.508508 \r\nL 28.942187 141.266139 \r\nL 28.942187 142.02377 \r\nL 28.942187 142.7814 \r\nL 28.942187 143.539031 \r\nL 28.942187 144.296662 \r\nL 28.942187 145.054292 \r\nL 28.942187 145.811923 \r\nL 28.942187 146.569554 \r\nL 28.942187 147.327184 \r\nL 28.942187 148.084815 \r\nL 28.942187 148.842446 \r\nL 28.942187 149.600076 \r\nL 28.942187 150.357707 \r\nL 28.942187 151.115338 \r\nL 28.942187 151.872968 \r\nL 28.942187 152.630599 \r\nL 28.942187 153.38823 \r\nL 28.942187 154.14586 \r\nL 28.942187 154.903491 \r\nL 28.942187 155.661122 \r\nL 28.942187 156.418752 \r\nL 28.942187 157.176383 \r\nL 28.942187 157.934014 \r\nL 28.942187 158.691644 \r\nL 28.942187 159.449275 \r\nL 28.942187 160.206905 \r\nL 28.942187 160.964536 \r\nL 28.942187 161.722167 \r\nL 28.942187 162.479797 \r\nL 28.942187 163.237428 \r\nL 28.942187 163.995059 \r\nL 28.942187 164.752689 \r\nL 28.942187 165.51032 \r\nL 28.942187 166.267951 \r\nL 28.942187 167.025581 \r\nL 28.942187 167.783212 \r\nL 28.942187 168.540843 \r\nL 28.942187 169.298473 \r\nL 28.942187 170.056104 \r\nL 28.942187 170.813735 \r\nL 28.942187 171.571365 \r\nL 28.942187 172.328996 \r\nL 28.942187 173.086627 \r\nL 28.942187 173.844257 \r\nL 28.942187 174.601888 \r\nL 28.942187 175.359519 \r\nL 28.942187 176.117149 \r\nL 28.942187 176.87478 \r\nL 28.942187 177.632411 \r\nL 28.942187 178.390041 \r\nL 28.942187 179.147672 \r\nL 28.942187 179.905303 \r\nL 28.942187 180.662933 \r\nL 28.942187 181.420564 \r\nL 28.942187 182.178195 \r\nL 28.942187 182.935825 \r\nL 28.942187 183.693456 \r\nL 28.942187 184.451087 \r\nL 28.942187 185.208717 \r\nL 28.942187 185.966348 \r\nL 28.942187 186.723979 \r\nL 28.942187 187.481609 \r\nL 28.942187 188.23924 \r\nL 28.942187 188.996871 \r\nL 28.942187 189.754501 \r\nL 28.942187 190.512132 \r\nL 28.942187 191.269763 \r\nL 28.942187 192.027393 \r\nL 28.942187 192.785024 \r\nL 28.942187 193.542655 \r\nL 28.942187 194.300285 \r\nL 28.942187 195.057916 \r\nL 28.942187 195.815547 \r\nL 28.942187 196.573177 \r\nL 28.942187 197.330808 \r\nL 28.942187 198.088439 \r\nL 28.942187 198.846069 \r\nL 28.942187 199.6037 \r\nL 28.942187 200.361331 \r\nL 28.942187 201.118961 \r\nL 28.942187 201.876592 \r\nL 28.942187 202.634223 \r\nL 28.942187 203.391853 \r\nL 28.942187 204.149484 \r\nL 28.942187 204.907115 \r\nL 28.942187 205.664745 \r\nL 28.942187 206.422376 \r\nL 28.942187 207.180007 \r\nL 28.942187 207.937637 \r\nL 28.942187 208.695268 \r\nL 28.942187 209.452899 \r\nL 28.942187 210.210529 \r\nL 28.942187 210.96816 \r\nL 28.942187 211.725791 \r\nL 28.942187 212.483421 \r\nL 28.942187 213.241052 \r\nL 28.942187 213.998682 \r\nL 28.942187 214.756313 \r\nL 28.942187 215.513944 \r\nL 28.942187 216.271574 \r\nL 28.942187 217.029205 \r\nL 28.942187 217.786836 \r\nL 28.942187 218.544466 \r\nL 28.942187 219.302097 \r\nL 28.942187 220.059728 \r\nL 28.942187 220.817358 \r\nL 28.942187 221.574989 \r\nL 28.942187 222.33262 \r\nL 28.942187 223.09025 \r\nL 28.942187 223.847881 \r\nL 28.942187 224.605512 \r\nL 28.942187 225.363142 \r\nL 28.942187 226.120773 \r\nL 28.942187 226.878404 \r\nL 28.942187 227.636034 \r\nL 28.942187 228.393665 \r\nL 28.942187 229.151296 \r\nL 28.942187 229.908926 \r\nL 28.942187 230.666557 \r\nL 28.942187 231.424188 \r\nL 28.942187 232.181818 \r\nL 28.942187 232.939449 \r\nL 28.942187 233.69708 \r\nL 28.942187 234.45471 \r\nL 28.942187 235.212341 \r\nL 28.942187 235.969972 \r\nL 28.942187 236.727602 \r\nL 28.942187 237.485233 \r\nL 28.942187 238.242864 \r\nL 28.942187 239.000494 \r\nL 28.942187 239.758125 \r\nz\r\n\" style=\"fill:#3ca02c;fill-opacity:0.45;\"/>\r\n   </g>\r\n   <g id=\"PathCollection_4\">\r\n    <defs>\r\n     <path d=\"M -3 3 \r\nL 3 3 \r\nL 3 -3 \r\nL -3 -3 \r\nz\r\n\" id=\"m125be88905\" style=\"stroke:#000000;stroke-opacity:0.8;\"/>\r\n    </defs>\r\n    <g clip-path=\"url(#p071a7da5e2)\">\r\n     <use style=\"fill:#1f77b4;fill-opacity:0.8;stroke:#000000;stroke-opacity:0.8;\" x=\"293.142311\" xlink:href=\"#m125be88905\" y=\"164.674495\"/>\r\n     <use style=\"fill:#1f77b4;fill-opacity:0.8;stroke:#000000;stroke-opacity:0.8;\" x=\"210.473115\" xlink:href=\"#m125be88905\" y=\"195.600993\"/>\r\n     <use style=\"fill:#1f77b4;fill-opacity:0.8;stroke:#000000;stroke-opacity:0.8;\" x=\"206.901239\" xlink:href=\"#m125be88905\" y=\"77.371241\"/>\r\n     <use style=\"fill:#1f77b4;fill-opacity:0.8;stroke:#000000;stroke-opacity:0.8;\" x=\"229.760079\" xlink:href=\"#m125be88905\" y=\"182.986433\"/>\r\n     <use style=\"fill:#1f77b4;fill-opacity:0.8;stroke:#000000;stroke-opacity:0.8;\" x=\"230.960139\" xlink:href=\"#m125be88905\" y=\"62.029411\"/>\r\n     <use style=\"fill:#1f77b4;fill-opacity:0.8;stroke:#000000;stroke-opacity:0.8;\" x=\"261.112837\" xlink:href=\"#m125be88905\" y=\"148.580709\"/>\r\n     <use style=\"fill:#1f77b4;fill-opacity:0.8;stroke:#000000;stroke-opacity:0.8;\" x=\"265.288858\" xlink:href=\"#m125be88905\" y=\"102.541107\"/>\r\n     <use style=\"fill:#1f77b4;fill-opacity:0.8;stroke:#000000;stroke-opacity:0.8;\" x=\"256.459227\" xlink:href=\"#m125be88905\" y=\"147.613388\"/>\r\n     <use style=\"fill:#1f77b4;fill-opacity:0.8;stroke:#000000;stroke-opacity:0.8;\" x=\"98.176798\" xlink:href=\"#m125be88905\" y=\"140.315187\"/>\r\n     <use style=\"fill:#1f77b4;fill-opacity:0.8;stroke:#000000;stroke-opacity:0.8;\" x=\"248.488653\" xlink:href=\"#m125be88905\" y=\"116.177771\"/>\r\n     <use style=\"fill:#1f77b4;fill-opacity:0.8;stroke:#000000;stroke-opacity:0.8;\" x=\"126.631457\" xlink:href=\"#m125be88905\" y=\"106.363146\"/>\r\n     <use style=\"fill:#1f77b4;fill-opacity:0.8;stroke:#000000;stroke-opacity:0.8;\" x=\"96.508632\" xlink:href=\"#m125be88905\" y=\"141.85088\"/>\r\n     <use style=\"fill:#1f77b4;fill-opacity:0.8;stroke:#000000;stroke-opacity:0.8;\" x=\"247.551735\" xlink:href=\"#m125be88905\" y=\"117.314565\"/>\r\n     <use style=\"fill:#1f77b4;fill-opacity:0.8;stroke:#000000;stroke-opacity:0.8;\" x=\"194.950832\" xlink:href=\"#m125be88905\" y=\"163.651738\"/>\r\n     <use style=\"fill:#1f77b4;fill-opacity:0.8;stroke:#000000;stroke-opacity:0.8;\" x=\"121.669656\" xlink:href=\"#m125be88905\" y=\"203.700057\"/>\r\n     <use style=\"fill:#1f77b4;fill-opacity:0.8;stroke:#000000;stroke-opacity:0.8;\" x=\"222.130508\" xlink:href=\"#m125be88905\" y=\"107.101692\"/>\r\n     <use style=\"fill:#1f77b4;fill-opacity:0.8;stroke:#000000;stroke-opacity:0.8;\" x=\"259.357326\" xlink:href=\"#m125be88905\" y=\"147.159704\"/>\r\n     <use style=\"fill:#1f77b4;fill-opacity:0.8;stroke:#000000;stroke-opacity:0.8;\" x=\"100.137979\" xlink:href=\"#m125be88905\" y=\"140.998297\"/>\r\n     <use style=\"fill:#1f77b4;fill-opacity:0.8;stroke:#000000;stroke-opacity:0.8;\" x=\"256.121163\" xlink:href=\"#m125be88905\" y=\"123.878588\"/>\r\n     <use style=\"fill:#1f77b4;fill-opacity:0.8;stroke:#000000;stroke-opacity:0.8;\" x=\"251.522085\" xlink:href=\"#m125be88905\" y=\"72.012857\"/>\r\n     <use style=\"fill:#1f77b4;fill-opacity:0.8;stroke:#000000;stroke-opacity:0.8;\" x=\"108.108553\" xlink:href=\"#m125be88905\" y=\"172.433914\"/>\r\n     <use style=\"fill:#1f77b4;fill-opacity:0.8;stroke:#000000;stroke-opacity:0.8;\" x=\"160.654924\" xlink:href=\"#m125be88905\" y=\"176.99515\"/>\r\n     <use style=\"fill:#1f77b4;fill-opacity:0.8;stroke:#000000;stroke-opacity:0.8;\" x=\"232.96637\" xlink:href=\"#m125be88905\" y=\"84.228517\"/>\r\n     <use style=\"fill:#1f77b4;fill-opacity:0.8;stroke:#000000;stroke-opacity:0.8;\" x=\"147.093821\" xlink:href=\"#m125be88905\" y=\"145.729006\"/>\r\n     <use style=\"fill:#1f77b4;fill-opacity:0.8;stroke:#000000;stroke-opacity:0.8;\" x=\"123.00211\" xlink:href=\"#m125be88905\" y=\"107.215729\"/>\r\n     <use style=\"fill:#1f77b4;fill-opacity:0.8;stroke:#000000;stroke-opacity:0.8;\" x=\"279.581209\" xlink:href=\"#m125be88905\" y=\"133.408351\"/>\r\n     <use style=\"fill:#1f77b4;fill-opacity:0.8;stroke:#000000;stroke-opacity:0.8;\" x=\"292.411063\" xlink:href=\"#m125be88905\" y=\"165.073394\"/>\r\n     <use style=\"fill:#1f77b4;fill-opacity:0.8;stroke:#000000;stroke-opacity:0.8;\" x=\"165.95479\" xlink:href=\"#m125be88905\" y=\"103.393038\"/>\r\n     <use style=\"fill:#1f77b4;fill-opacity:0.8;stroke:#000000;stroke-opacity:0.8;\" x=\"239.954975\" xlink:href=\"#m125be88905\" y=\"95.284931\"/>\r\n     <use style=\"fill:#1f77b4;fill-opacity:0.8;stroke:#000000;stroke-opacity:0.8;\" x=\"181.480012\" xlink:href=\"#m125be88905\" y=\"67.158368\"/>\r\n     <use style=\"fill:#1f77b4;fill-opacity:0.8;stroke:#000000;stroke-opacity:0.8;\" x=\"171.545318\" xlink:href=\"#m125be88905\" y=\"103.223566\"/>\r\n     <use style=\"fill:#1f77b4;fill-opacity:0.8;stroke:#000000;stroke-opacity:0.8;\" x=\"150.124315\" xlink:href=\"#m125be88905\" y=\"169.748016\"/>\r\n     <use style=\"fill:#1f77b4;fill-opacity:0.8;stroke:#000000;stroke-opacity:0.8;\" x=\"180.202091\" xlink:href=\"#m125be88905\" y=\"112.744286\"/>\r\n     <use style=\"fill:#1f77b4;fill-opacity:0.8;stroke:#000000;stroke-opacity:0.8;\" x=\"250.189631\" xlink:href=\"#m125be88905\" y=\"168.497186\"/>\r\n     <use style=\"fill:#1f77b4;fill-opacity:0.8;stroke:#000000;stroke-opacity:0.8;\" x=\"154.690581\" xlink:href=\"#m125be88905\" y=\"167.75864\"/>\r\n     <use style=\"fill:#1f77b4;fill-opacity:0.8;stroke:#000000;stroke-opacity:0.8;\" x=\"132.5958\" xlink:href=\"#m125be88905\" y=\"115.599656\"/>\r\n     <use style=\"fill:#1f77b4;fill-opacity:0.8;stroke:#000000;stroke-opacity:0.8;\" x=\"252.459004\" xlink:href=\"#m125be88905\" y=\"70.876064\"/>\r\n     <use style=\"fill:#1f77b4;fill-opacity:0.8;stroke:#000000;stroke-opacity:0.8;\" x=\"213.165544\" xlink:href=\"#m125be88905\" y=\"195.885203\"/>\r\n     <use style=\"fill:#1f77b4;fill-opacity:0.8;stroke:#000000;stroke-opacity:0.8;\" x=\"248.315795\" xlink:href=\"#m125be88905\" y=\"170.770773\"/>\r\n     <use style=\"fill:#1f77b4;fill-opacity:0.8;stroke:#000000;stroke-opacity:0.8;\" x=\"195.038176\" xlink:href=\"#m125be88905\" y=\"166.608436\"/>\r\n     <use style=\"fill:#1f77b4;fill-opacity:0.8;stroke:#000000;stroke-opacity:0.8;\" x=\"201.568561\" xlink:href=\"#m125be88905\" y=\"97.118246\"/>\r\n     <use style=\"fill:#1f77b4;fill-opacity:0.8;stroke:#000000;stroke-opacity:0.8;\" x=\"114.040085\" xlink:href=\"#m125be88905\" y=\"127.815316\"/>\r\n     <use style=\"fill:#1f77b4;fill-opacity:0.8;stroke:#000000;stroke-opacity:0.8;\" x=\"240.891894\" xlink:href=\"#m125be88905\" y=\"94.148138\"/>\r\n     <use style=\"fill:#1f77b4;fill-opacity:0.8;stroke:#000000;stroke-opacity:0.8;\" x=\"120.908534\" xlink:href=\"#m125be88905\" y=\"82.059925\"/>\r\n     <use style=\"fill:#1f77b4;fill-opacity:0.8;stroke:#000000;stroke-opacity:0.8;\" x=\"266.020106\" xlink:href=\"#m125be88905\" y=\"102.142207\"/>\r\n     <use style=\"fill:#1f77b4;fill-opacity:0.8;stroke:#000000;stroke-opacity:0.8;\" x=\"127.601187\" xlink:href=\"#m125be88905\" y=\"159.08146\"/>\r\n     <use style=\"fill:#1f77b4;fill-opacity:0.8;stroke:#000000;stroke-opacity:0.8;\" x=\"233.990632\" xlink:href=\"#m125be88905\" y=\"86.048421\"/>\r\n     <use style=\"fill:#1f77b4;fill-opacity:0.8;stroke:#000000;stroke-opacity:0.8;\" x=\"135.4939\" xlink:href=\"#m125be88905\" y=\"115.145973\"/>\r\n     <use style=\"fill:#1f77b4;fill-opacity:0.8;stroke:#000000;stroke-opacity:0.8;\" x=\"246.560284\" xlink:href=\"#m125be88905\" y=\"169.349768\"/>\r\n     <use style=\"fill:#1f77b4;fill-opacity:0.8;stroke:#000000;stroke-opacity:0.8;\" x=\"224.432692\" xlink:href=\"#m125be88905\" y=\"63.335677\"/>\r\n     <use style=\"fill:#1f77b4;fill-opacity:0.8;stroke:#000000;stroke-opacity:0.8;\" x=\"83.884448\" xlink:href=\"#m125be88905\" y=\"109.447943\"/>\r\n     <use style=\"fill:#1f77b4;fill-opacity:0.8;stroke:#000000;stroke-opacity:0.8;\" x=\"209.593668\" xlink:href=\"#m125be88905\" y=\"77.655452\"/>\r\n     <use style=\"fill:#1f77b4;fill-opacity:0.8;stroke:#000000;stroke-opacity:0.8;\" x=\"141.16229\" xlink:href=\"#m125be88905\" y=\"190.347604\"/>\r\n     <use style=\"fill:#1f77b4;fill-opacity:0.8;stroke:#000000;stroke-opacity:0.8;\" x=\"118.693695\" xlink:href=\"#m125be88905\" y=\"128.782637\"/>\r\n     <use style=\"fill:#1f77b4;fill-opacity:0.8;stroke:#000000;stroke-opacity:0.8;\" x=\"130.499287\" xlink:href=\"#m125be88905\" y=\"158.627777\"/>\r\n     <use style=\"fill:#1f77b4;fill-opacity:0.8;stroke:#000000;stroke-opacity:0.8;\" x=\"179.515892\" xlink:href=\"#m125be88905\" y=\"134.659182\"/>\r\n     <use style=\"fill:#1f77b4;fill-opacity:0.8;stroke:#000000;stroke-opacity:0.8;\" x=\"109.045472\" xlink:href=\"#m125be88905\" y=\"171.29712\"/>\r\n     <use style=\"fill:#1f77b4;fill-opacity:0.8;stroke:#000000;stroke-opacity:0.8;\" x=\"249.766574\" xlink:href=\"#m125be88905\" y=\"70.591853\"/>\r\n     <use style=\"fill:#1f77b4;fill-opacity:0.8;stroke:#000000;stroke-opacity:0.8;\" x=\"262.390759\" xlink:href=\"#m125be88905\" y=\"102.99479\"/>\r\n     <use style=\"fill:#1f77b4;fill-opacity:0.8;stroke:#000000;stroke-opacity:0.8;\" x=\"228.823161\" xlink:href=\"#m125be88905\" y=\"184.123226\"/>\r\n     <use style=\"fill:#1f77b4;fill-opacity:0.8;stroke:#000000;stroke-opacity:0.8;\" x=\"146.156903\" xlink:href=\"#m125be88905\" y=\"146.8658\"/>\r\n     <use style=\"fill:#1f77b4;fill-opacity:0.8;stroke:#000000;stroke-opacity:0.8;\" x=\"211.204363\" xlink:href=\"#m125be88905\" y=\"195.202093\"/>\r\n     <use style=\"fill:#1f77b4;fill-opacity:0.8;stroke:#000000;stroke-opacity:0.8;\" x=\"205.363115\" xlink:href=\"#m125be88905\" y=\"174.593463\"/>\r\n     <use style=\"fill:#1f77b4;fill-opacity:0.8;stroke:#000000;stroke-opacity:0.8;\" x=\"186.043339\" xlink:href=\"#m125be88905\" y=\"133.352916\"/>\r\n     <use style=\"fill:#1f77b4;fill-opacity:0.8;stroke:#000000;stroke-opacity:0.8;\" x=\"229.337022\" xlink:href=\"#m125be88905\" y=\"85.0811\"/>\r\n     <use style=\"fill:#1f77b4;fill-opacity:0.8;stroke:#000000;stroke-opacity:0.8;\" x=\"198.876132\" xlink:href=\"#m125be88905\" y=\"96.834035\"/>\r\n     <use style=\"fill:#1f77b4;fill-opacity:0.8;stroke:#000000;stroke-opacity:0.8;\" x=\"139.255642\" xlink:href=\"#m125be88905\" y=\"138.766083\"/>\r\n     <use style=\"fill:#1f77b4;fill-opacity:0.8;stroke:#000000;stroke-opacity:0.8;\" x=\"188.007459\" xlink:href=\"#m125be88905\" y=\"65.852102\"/>\r\n     <use style=\"fill:#1f77b4;fill-opacity:0.8;stroke:#000000;stroke-opacity:0.8;\" x=\"167.828626\" xlink:href=\"#m125be88905\" y=\"101.119451\"/>\r\n     <use style=\"fill:#1f77b4;fill-opacity:0.8;stroke:#000000;stroke-opacity:0.8;\" x=\"154.777925\" xlink:href=\"#m125be88905\" y=\"170.715337\"/>\r\n     <use style=\"fill:#1f77b4;fill-opacity:0.8;stroke:#000000;stroke-opacity:0.8;\" x=\"242.898125\" xlink:href=\"#m125be88905\" y=\"116.347244\"/>\r\n     <use style=\"fill:#1f77b4;fill-opacity:0.8;stroke:#000000;stroke-opacity:0.8;\" x=\"272.918429\" xlink:href=\"#m125be88905\" y=\"178.425848\"/>\r\n     <use style=\"fill:#1f77b4;fill-opacity:0.8;stroke:#000000;stroke-opacity:0.8;\" x=\"145.187173\" xlink:href=\"#m125be88905\" y=\"94.147486\"/>\r\n     <use style=\"fill:#1f77b4;fill-opacity:0.8;stroke:#000000;stroke-opacity:0.8;\" x=\"137.162066\" xlink:href=\"#m125be88905\" y=\"113.61028\"/>\r\n     <use style=\"fill:#1f77b4;fill-opacity:0.8;stroke:#000000;stroke-opacity:0.8;\" x=\"206.638097\" xlink:href=\"#m125be88905\" y=\"197.191469\"/>\r\n     <use style=\"fill:#1f77b4;fill-opacity:0.8;stroke:#000000;stroke-opacity:0.8;\" x=\"80.986348\" xlink:href=\"#m125be88905\" y=\"109.901626\"/>\r\n     <use style=\"fill:#1f77b4;fill-opacity:0.8;stroke:#000000;stroke-opacity:0.8;\" x=\"144.791637\" xlink:href=\"#m125be88905\" y=\"189.495021\"/>\r\n     <use style=\"fill:#1f77b4;fill-opacity:0.8;stroke:#000000;stroke-opacity:0.8;\" x=\"255.389914\" xlink:href=\"#m125be88905\" y=\"124.277488\"/>\r\n     <use style=\"fill:#1f77b4;fill-opacity:0.8;stroke:#000000;stroke-opacity:0.8;\" x=\"160.709457\" xlink:href=\"#m125be88905\" y=\"126.09674\"/>\r\n     <use style=\"fill:#1f77b4;fill-opacity:0.8;stroke:#000000;stroke-opacity:0.8;\" x=\"117.669432\" xlink:href=\"#m125be88905\" y=\"126.962733\"/>\r\n     <use style=\"fill:#1f77b4;fill-opacity:0.8;stroke:#000000;stroke-opacity:0.8;\" x=\"95.571713\" xlink:href=\"#m125be88905\" y=\"142.987674\"/>\r\n     <use style=\"fill:#1f77b4;fill-opacity:0.8;stroke:#000000;stroke-opacity:0.8;\" x=\"95.484369\" xlink:href=\"#m125be88905\" y=\"140.030976\"/>\r\n     <use style=\"fill:#1f77b4;fill-opacity:0.8;stroke:#000000;stroke-opacity:0.8;\" x=\"243.922387\" xlink:href=\"#m125be88905\" y=\"118.167148\"/>\r\n     <use style=\"fill:#1f77b4;fill-opacity:0.8;stroke:#000000;stroke-opacity:0.8;\" x=\"281.54239\" xlink:href=\"#m125be88905\" y=\"134.091461\"/>\r\n     <use style=\"fill:#1f77b4;fill-opacity:0.8;stroke:#000000;stroke-opacity:0.8;\" x=\"110.069734\" xlink:href=\"#m125be88905\" y=\"173.117024\"/>\r\n     <use style=\"fill:#1f77b4;fill-opacity:0.8;stroke:#000000;stroke-opacity:0.8;\" x=\"124.963291\" xlink:href=\"#m125be88905\" y=\"107.898839\"/>\r\n     <use style=\"fill:#1f77b4;fill-opacity:0.8;stroke:#000000;stroke-opacity:0.8;\" x=\"277.913042\" xlink:href=\"#m125be88905\" y=\"134.944044\"/>\r\n     <use style=\"fill:#1f77b4;fill-opacity:0.8;stroke:#000000;stroke-opacity:0.8;\" x=\"197.643261\" xlink:href=\"#m125be88905\" y=\"163.935949\"/>\r\n     <use style=\"fill:#1f77b4;fill-opacity:0.8;stroke:#000000;stroke-opacity:0.8;\" x=\"196.912013\" xlink:href=\"#m125be88905\" y=\"164.334849\"/>\r\n     <use style=\"fill:#1f77b4;fill-opacity:0.8;stroke:#000000;stroke-opacity:0.8;\" x=\"267.981287\" xlink:href=\"#m125be88905\" y=\"102.825318\"/>\r\n     <use style=\"fill:#1f77b4;fill-opacity:0.8;stroke:#000000;stroke-opacity:0.8;\" x=\"216.198976\" xlink:href=\"#m125be88905\" y=\"151.720289\"/>\r\n     <use style=\"fill:#1f77b4;fill-opacity:0.8;stroke:#000000;stroke-opacity:0.8;\" x=\"242.56006\" xlink:href=\"#m125be88905\" y=\"92.612444\"/>\r\n     <use style=\"fill:#1f77b4;fill-opacity:0.8;stroke:#000000;stroke-opacity:0.8;\" x=\"244.521241\" xlink:href=\"#m125be88905\" y=\"93.295555\"/>\r\n     <use style=\"fill:#1f77b4;fill-opacity:0.8;stroke:#000000;stroke-opacity:0.8;\" x=\"121.932797\" xlink:href=\"#m125be88905\" y=\"83.879829\"/>\r\n     <use style=\"fill:#1f77b4;fill-opacity:0.8;stroke:#000000;stroke-opacity:0.8;\" x=\"163.685417\" xlink:href=\"#m125be88905\" y=\"201.01416\"/>\r\n     <use style=\"fill:#1f77b4;fill-opacity:0.8;stroke:#000000;stroke-opacity:0.8;\" x=\"141.216823\" xlink:href=\"#m125be88905\" y=\"139.449194\"/>\r\n     <use style=\"fill:#1f77b4;fill-opacity:0.8;stroke:#000000;stroke-opacity:0.8;\" x=\"195.041114\" xlink:href=\"#m125be88905\" y=\"98.424512\"/>\r\n     <use style=\"fill:#1f77b4;fill-opacity:0.8;stroke:#000000;stroke-opacity:0.8;\" x=\"237.652791\" xlink:href=\"#m125be88905\" y=\"139.050946\"/>\r\n     <use style=\"fill:#1f77b4;fill-opacity:0.8;stroke:#000000;stroke-opacity:0.8;\" x=\"257.396145\" xlink:href=\"#m125be88905\" y=\"146.476594\"/>\r\n     <use style=\"fill:#1f77b4;fill-opacity:0.8;stroke:#000000;stroke-opacity:0.8;\" x=\"129.562368\" xlink:href=\"#m125be88905\" y=\"159.76457\"/>\r\n     <use style=\"fill:#1f77b4;fill-opacity:0.8;stroke:#000000;stroke-opacity:0.8;\" x=\"181.389729\" xlink:href=\"#m125be88905\" y=\"132.385595\"/>\r\n     <use style=\"fill:#1f77b4;fill-opacity:0.8;stroke:#000000;stroke-opacity:0.8;\" x=\"210.476054\" xlink:href=\"#m125be88905\" y=\"127.417068\"/>\r\n     <use style=\"fill:#1f77b4;fill-opacity:0.8;stroke:#000000;stroke-opacity:0.8;\" x=\"128.592638\" xlink:href=\"#m125be88905\" y=\"107.046257\"/>\r\n     <use style=\"fill:#1f77b4;fill-opacity:0.8;stroke:#000000;stroke-opacity:0.8;\" x=\"291.474145\" xlink:href=\"#m125be88905\" y=\"166.210188\"/>\r\n     <use style=\"fill:#1f77b4;fill-opacity:0.8;stroke:#000000;stroke-opacity:0.8;\" x=\"183.35091\" xlink:href=\"#m125be88905\" y=\"133.068705\"/>\r\n     <use style=\"fill:#1f77b4;fill-opacity:0.8;stroke:#000000;stroke-opacity:0.8;\" x=\"249.252713\" xlink:href=\"#m125be88905\" y=\"169.633979\"/>\r\n     <use style=\"fill:#1f77b4;fill-opacity:0.8;stroke:#000000;stroke-opacity:0.8;\" x=\"209.539135\" xlink:href=\"#m125be88905\" y=\"128.553862\"/>\r\n     <use style=\"fill:#1f77b4;fill-opacity:0.8;stroke:#000000;stroke-opacity:0.8;\" x=\"193.763193\" xlink:href=\"#m125be88905\" y=\"144.01043\"/>\r\n     <use style=\"fill:#1f77b4;fill-opacity:0.8;stroke:#000000;stroke-opacity:0.8;\" x=\"185.315029\" xlink:href=\"#m125be88905\" y=\"65.567891\"/>\r\n     <use style=\"fill:#1f77b4;fill-opacity:0.8;stroke:#000000;stroke-opacity:0.8;\" x=\"249.853919\" xlink:href=\"#m125be88905\" y=\"73.54855\"/>\r\n     <use style=\"fill:#1f77b4;fill-opacity:0.8;stroke:#000000;stroke-opacity:0.8;\" x=\"265.115999\" xlink:href=\"#m125be88905\" y=\"157.134108\"/>\r\n     <use style=\"fill:#1f77b4;fill-opacity:0.8;stroke:#000000;stroke-opacity:0.8;\" x=\"251.554897\" xlink:href=\"#m125be88905\" y=\"125.867964\"/>\r\n     <use style=\"fill:#1f77b4;fill-opacity:0.8;stroke:#000000;stroke-opacity:0.8;\" x=\"134.556981\" xlink:href=\"#m125be88905\" y=\"116.282766\"/>\r\n     <use style=\"fill:#1f77b4;fill-opacity:0.8;stroke:#000000;stroke-opacity:0.8;\" x=\"280.605471\" xlink:href=\"#m125be88905\" y=\"135.228255\"/>\r\n     <use style=\"fill:#1f77b4;fill-opacity:0.8;stroke:#000000;stroke-opacity:0.8;\" x=\"169.789807\" xlink:href=\"#m125be88905\" y=\"101.802561\"/>\r\n     <use style=\"fill:#1f77b4;fill-opacity:0.8;stroke:#000000;stroke-opacity:0.8;\" x=\"266.052918\" xlink:href=\"#m125be88905\" y=\"155.997315\"/>\r\n     <use style=\"fill:#1f77b4;fill-opacity:0.8;stroke:#000000;stroke-opacity:0.8;\" x=\"131.230535\" xlink:href=\"#m125be88905\" y=\"158.228877\"/>\r\n     <use style=\"fill:#1f77b4;fill-opacity:0.8;stroke:#000000;stroke-opacity:0.8;\" x=\"214.192745\" xlink:href=\"#m125be88905\" y=\"129.521183\"/>\r\n     <use style=\"fill:#1f77b4;fill-opacity:0.8;stroke:#000000;stroke-opacity:0.8;\" x=\"151.061233\" xlink:href=\"#m125be88905\" y=\"168.611223\"/>\r\n     <use style=\"fill:#1f77b4;fill-opacity:0.8;stroke:#000000;stroke-opacity:0.8;\" x=\"260.088575\" xlink:href=\"#m125be88905\" y=\"146.760805\"/>\r\n     <use style=\"fill:#1f77b4;fill-opacity:0.8;stroke:#000000;stroke-opacity:0.8;\" x=\"136.563212\" xlink:href=\"#m125be88905\" y=\"138.481873\"/>\r\n     <use style=\"fill:#1f77b4;fill-opacity:0.8;stroke:#000000;stroke-opacity:0.8;\" x=\"257.145425\" xlink:href=\"#m125be88905\" y=\"125.698492\"/>\r\n     <use style=\"fill:#1f77b4;fill-opacity:0.8;stroke:#000000;stroke-opacity:0.8;\" x=\"232.029451\" xlink:href=\"#m125be88905\" y=\"85.365311\"/>\r\n     <use style=\"fill:#1f77b4;fill-opacity:0.8;stroke:#000000;stroke-opacity:0.8;\" x=\"119.971616\" xlink:href=\"#m125be88905\" y=\"83.196719\"/>\r\n     <use style=\"fill:#1f77b4;fill-opacity:0.8;stroke:#000000;stroke-opacity:0.8;\" x=\"199.604442\" xlink:href=\"#m125be88905\" y=\"164.61906\"/>\r\n     <use style=\"fill:#1f77b4;fill-opacity:0.8;stroke:#000000;stroke-opacity:0.8;\" x=\"183.353848\" xlink:href=\"#m125be88905\" y=\"64.884781\"/>\r\n     <use style=\"fill:#1f77b4;fill-opacity:0.8;stroke:#000000;stroke-opacity:0.8;\" x=\"253.483266\" xlink:href=\"#m125be88905\" y=\"72.695968\"/>\r\n     <use style=\"fill:#1f77b4;fill-opacity:0.8;stroke:#000000;stroke-opacity:0.8;\" x=\"266.989836\" xlink:href=\"#m125be88905\" y=\"154.860521\"/>\r\n     <use style=\"fill:#1f77b4;fill-opacity:0.8;stroke:#000000;stroke-opacity:0.8;\" x=\"152.816744\" xlink:href=\"#m125be88905\" y=\"170.032227\"/>\r\n     <use style=\"fill:#1f77b4;fill-opacity:0.8;stroke:#000000;stroke-opacity:0.8;\" x=\"215.262058\" xlink:href=\"#m125be88905\" y=\"152.857083\"/>\r\n     <use style=\"fill:#1f77b4;fill-opacity:0.8;stroke:#000000;stroke-opacity:0.8;\" x=\"111.006653\" xlink:href=\"#m125be88905\" y=\"171.98023\"/>\r\n     <use style=\"fill:#1f77b4;fill-opacity:0.8;stroke:#000000;stroke-opacity:0.8;\" x=\"245.796224\" xlink:href=\"#m125be88905\" y=\"115.893561\"/>\r\n     <use style=\"fill:#1f77b4;fill-opacity:0.8;stroke:#000000;stroke-opacity:0.8;\" x=\"271.981511\" xlink:href=\"#m125be88905\" y=\"179.562642\"/>\r\n     <use style=\"fill:#1f77b4;fill-opacity:0.8;stroke:#000000;stroke-opacity:0.8;\" x=\"243.835043\" xlink:href=\"#m125be88905\" y=\"115.21045\"/>\r\n     <use style=\"fill:#1f77b4;fill-opacity:0.8;stroke:#000000;stroke-opacity:0.8;\" x=\"180.452811\" xlink:href=\"#m125be88905\" y=\"133.522388\"/>\r\n     <use style=\"fill:#1f77b4;fill-opacity:0.8;stroke:#000000;stroke-opacity:0.8;\" x=\"112.762164\" xlink:href=\"#m125be88905\" y=\"173.401235\"/>\r\n     <use style=\"fill:#1f77b4;fill-opacity:0.8;stroke:#000000;stroke-opacity:0.8;\" x=\"187.07054\" xlink:href=\"#m125be88905\" y=\"66.988895\"/>\r\n     <use style=\"fill:#1f77b4;fill-opacity:0.8;stroke:#000000;stroke-opacity:0.8;\" x=\"258.082344\" xlink:href=\"#m125be88905\" y=\"124.561699\"/>\r\n     <use style=\"fill:#1f77b4;fill-opacity:0.8;stroke:#000000;stroke-opacity:0.8;\" x=\"116.732514\" xlink:href=\"#m125be88905\" y=\"128.099527\"/>\r\n     <use style=\"fill:#1f77b4;fill-opacity:0.8;stroke:#000000;stroke-opacity:0.8;\" x=\"230.27394\" xlink:href=\"#m125be88905\" y=\"83.944307\"/>\r\n     <use style=\"fill:#1f77b4;fill-opacity:0.8;stroke:#000000;stroke-opacity:0.8;\" x=\"141.129478\" xlink:href=\"#m125be88905\" y=\"136.492496\"/>\r\n     <use style=\"fill:#1f77b4;fill-opacity:0.8;stroke:#000000;stroke-opacity:0.8;\" x=\"173.246296\" xlink:href=\"#m125be88905\" y=\"155.54298\"/>\r\n     <use style=\"fill:#1f77b4;fill-opacity:0.8;stroke:#000000;stroke-opacity:0.8;\" x=\"167.915971\" xlink:href=\"#m125be88905\" y=\"104.076149\"/>\r\n     <use style=\"fill:#1f77b4;fill-opacity:0.8;stroke:#000000;stroke-opacity:0.8;\" x=\"82.947529\" xlink:href=\"#m125be88905\" y=\"110.584737\"/>\r\n     <use style=\"fill:#1f77b4;fill-opacity:0.8;stroke:#000000;stroke-opacity:0.8;\" x=\"142.099208\" xlink:href=\"#m125be88905\" y=\"189.21081\"/>\r\n     <use style=\"fill:#1f77b4;fill-opacity:0.8;stroke:#000000;stroke-opacity:0.8;\" x=\"164.679807\" xlink:href=\"#m125be88905\" y=\"80.795032\"/>\r\n     <use style=\"fill:#1f77b4;fill-opacity:0.8;stroke:#000000;stroke-opacity:0.8;\" x=\"84.615696\" xlink:href=\"#m125be88905\" y=\"109.049043\"/>\r\n     <use style=\"fill:#1f77b4;fill-opacity:0.8;stroke:#000000;stroke-opacity:0.8;\" x=\"270.02033\" xlink:href=\"#m125be88905\" y=\"178.879531\"/>\r\n     <use style=\"fill:#1f77b4;fill-opacity:0.8;stroke:#000000;stroke-opacity:0.8;\" x=\"194.013913\" xlink:href=\"#m125be88905\" y=\"164.788532\"/>\r\n     <use style=\"fill:#1f77b4;fill-opacity:0.8;stroke:#000000;stroke-opacity:0.8;\" x=\"125.562145\" xlink:href=\"#m125be88905\" y=\"83.027246\"/>\r\n     <use style=\"fill:#1f77b4;fill-opacity:0.8;stroke:#000000;stroke-opacity:0.8;\" x=\"234.023444\" xlink:href=\"#m125be88905\" y=\"139.903529\"/>\r\n     <use style=\"fill:#1f77b4;fill-opacity:0.8;stroke:#000000;stroke-opacity:0.8;\" x=\"230.361285\" xlink:href=\"#m125be88905\" y=\"86.901004\"/>\r\n     <use style=\"fill:#1f77b4;fill-opacity:0.8;stroke:#000000;stroke-opacity:0.8;\" x=\"161.591842\" xlink:href=\"#m125be88905\" y=\"175.858356\"/>\r\n     <use style=\"fill:#1f77b4;fill-opacity:0.8;stroke:#000000;stroke-opacity:0.8;\" x=\"184.082158\" xlink:href=\"#m125be88905\" y=\"132.669806\"/>\r\n     <use style=\"fill:#1f77b4;fill-opacity:0.8;stroke:#000000;stroke-opacity:0.8;\" x=\"122.869715\" xlink:href=\"#m125be88905\" y=\"82.743036\"/>\r\n     <use style=\"fill:#1f77b4;fill-opacity:0.8;stroke:#000000;stroke-opacity:0.8;\" x=\"152.68435\" xlink:href=\"#m125be88905\" y=\"145.559534\"/>\r\n     <use style=\"fill:#1f77b4;fill-opacity:0.8;stroke:#000000;stroke-opacity:0.8;\" x=\"248.521465\" xlink:href=\"#m125be88905\" y=\"170.032879\"/>\r\n     <use style=\"fill:#1f77b4;fill-opacity:0.8;stroke:#000000;stroke-opacity:0.8;\" x=\"228.690766\" xlink:href=\"#m125be88905\" y=\"159.650533\"/>\r\n     <use style=\"fill:#1f77b4;fill-opacity:0.8;stroke:#000000;stroke-opacity:0.8;\" x=\"140.19256\" xlink:href=\"#m125be88905\" y=\"137.62929\"/>\r\n     <use style=\"fill:#1f77b4;fill-opacity:0.8;stroke:#000000;stroke-opacity:0.8;\" x=\"140.225371\" xlink:href=\"#m125be88905\" y=\"191.484397\"/>\r\n     <use style=\"fill:#1f77b4;fill-opacity:0.8;stroke:#000000;stroke-opacity:0.8;\" x=\"211.467505\" xlink:href=\"#m125be88905\" y=\"75.381865\"/>\r\n     <use style=\"fill:#1f77b4;fill-opacity:0.8;stroke:#000000;stroke-opacity:0.8;\" x=\"93.610532\" xlink:href=\"#m125be88905\" y=\"142.304563\"/>\r\n     <use style=\"fill:#1f77b4;fill-opacity:0.8;stroke:#000000;stroke-opacity:0.8;\" x=\"101.503245\" xlink:href=\"#m125be88905\" y=\"98.369076\"/>\r\n     <use style=\"fill:#1f77b4;fill-opacity:0.8;stroke:#000000;stroke-opacity:0.8;\" x=\"149.991921\" xlink:href=\"#m125be88905\" y=\"145.275323\"/>\r\n     <use style=\"fill:#1f77b4;fill-opacity:0.8;stroke:#000000;stroke-opacity:0.8;\" x=\"254.420185\" xlink:href=\"#m125be88905\" y=\"71.559174\"/>\r\n     <use style=\"fill:#1f77b4;fill-opacity:0.8;stroke:#000000;stroke-opacity:0.8;\" x=\"245.623365\" xlink:href=\"#m125be88905\" y=\"170.486562\"/>\r\n     <use style=\"fill:#1f77b4;fill-opacity:0.8;stroke:#000000;stroke-opacity:0.8;\" x=\"146.752818\" xlink:href=\"#m125be88905\" y=\"190.178131\"/>\r\n     <use style=\"fill:#1f77b4;fill-opacity:0.8;stroke:#000000;stroke-opacity:0.8;\" x=\"228.400104\" xlink:href=\"#m125be88905\" y=\"86.217894\"/>\r\n     <use style=\"fill:#1f77b4;fill-opacity:0.8;stroke:#000000;stroke-opacity:0.8;\" x=\"122.664045\" xlink:href=\"#m125be88905\" y=\"83.48093\"/>\r\n     <use style=\"fill:#1f77b4;fill-opacity:0.8;stroke:#000000;stroke-opacity:0.8;\" x=\"269.083411\" xlink:href=\"#m125be88905\" y=\"180.016325\"/>\r\n     <use style=\"fill:#1f77b4;fill-opacity:0.8;stroke:#000000;stroke-opacity:0.8;\" x=\"119.630613\" xlink:href=\"#m125be88905\" y=\"127.645844\"/>\r\n     <use style=\"fill:#1f77b4;fill-opacity:0.8;stroke:#000000;stroke-opacity:0.8;\" x=\"243.584323\" xlink:href=\"#m125be88905\" y=\"94.432348\"/>\r\n     <use style=\"fill:#1f77b4;fill-opacity:0.8;stroke:#000000;stroke-opacity:0.8;\" x=\"174.270559\" xlink:href=\"#m125be88905\" y=\"157.362884\"/>\r\n     <use style=\"fill:#1f77b4;fill-opacity:0.8;stroke:#000000;stroke-opacity:0.8;\" x=\"82.010611\" xlink:href=\"#m125be88905\" y=\"111.72153\"/>\r\n     <use style=\"fill:#1f77b4;fill-opacity:0.8;stroke:#000000;stroke-opacity:0.8;\" x=\"168.852889\" xlink:href=\"#m125be88905\" y=\"102.939355\"/>\r\n     <use style=\"fill:#1f77b4;fill-opacity:0.8;stroke:#000000;stroke-opacity:0.8;\" x=\"262.049756\" xlink:href=\"#m125be88905\" y=\"147.443915\"/>\r\n     <use style=\"fill:#1f77b4;fill-opacity:0.8;stroke:#000000;stroke-opacity:0.8;\" x=\"231.72126\" xlink:href=\"#m125be88905\" y=\"183.669543\"/>\r\n     <use style=\"fill:#1f77b4;fill-opacity:0.8;stroke:#000000;stroke-opacity:0.8;\" x=\"210.563398\" xlink:href=\"#m125be88905\" y=\"130.373766\"/>\r\n     <use style=\"fill:#1f77b4;fill-opacity:0.8;stroke:#000000;stroke-opacity:0.8;\" x=\"150.723169\" xlink:href=\"#m125be88905\" y=\"144.876423\"/>\r\n     <use style=\"fill:#1f77b4;fill-opacity:0.8;stroke:#000000;stroke-opacity:0.8;\" x=\"125.694539\" xlink:href=\"#m125be88905\" y=\"107.49994\"/>\r\n     <use style=\"fill:#1f77b4;fill-opacity:0.8;stroke:#000000;stroke-opacity:0.8;\" x=\"134.469637\" xlink:href=\"#m125be88905\" y=\"113.326069\"/>\r\n     <use style=\"fill:#1f77b4;fill-opacity:0.8;stroke:#000000;stroke-opacity:0.8;\" x=\"265.083188\" xlink:href=\"#m125be88905\" y=\"103.279001\"/>\r\n     <use style=\"fill:#1f77b4;fill-opacity:0.8;stroke:#000000;stroke-opacity:0.8;\" x=\"232.999181\" xlink:href=\"#m125be88905\" y=\"138.083625\"/>\r\n     <use style=\"fill:#1f77b4;fill-opacity:0.8;stroke:#000000;stroke-opacity:0.8;\" x=\"226.729585\" xlink:href=\"#m125be88905\" y=\"158.967423\"/>\r\n     <use style=\"fill:#1f77b4;fill-opacity:0.8;stroke:#000000;stroke-opacity:0.8;\" x=\"148.03074\" xlink:href=\"#m125be88905\" y=\"144.592213\"/>\r\n     <use style=\"fill:#1f77b4;fill-opacity:0.8;stroke:#000000;stroke-opacity:0.8;\" x=\"208.569405\" xlink:href=\"#m125be88905\" y=\"75.835548\"/>\r\n     <use style=\"fill:#1f77b4;fill-opacity:0.8;stroke:#000000;stroke-opacity:0.8;\" x=\"238.58971\" xlink:href=\"#m125be88905\" y=\"137.914152\"/>\r\n     <use style=\"fill:#1f77b4;fill-opacity:0.8;stroke:#000000;stroke-opacity:0.8;\" x=\"195.978033\" xlink:href=\"#m125be88905\" y=\"97.287718\"/>\r\n     <use style=\"fill:#1f77b4;fill-opacity:0.8;stroke:#000000;stroke-opacity:0.8;\" x=\"104.10833\" xlink:href=\"#m125be88905\" y=\"95.69659\"/>\r\n     <use style=\"fill:#1f77b4;fill-opacity:0.8;stroke:#000000;stroke-opacity:0.8;\" x=\"184.378111\" xlink:href=\"#m125be88905\" y=\"66.704685\"/>\r\n     <use style=\"fill:#1f77b4;fill-opacity:0.8;stroke:#000000;stroke-opacity:0.8;\" x=\"264.35194\" xlink:href=\"#m125be88905\" y=\"103.677901\"/>\r\n     <use style=\"fill:#1f77b4;fill-opacity:0.8;stroke:#000000;stroke-opacity:0.8;\" x=\"182.413992\" xlink:href=\"#m125be88905\" y=\"134.205499\"/>\r\n     <use style=\"fill:#1f77b4;fill-opacity:0.8;stroke:#000000;stroke-opacity:0.8;\" x=\"142.153741\" xlink:href=\"#m125be88905\" y=\"138.3124\"/>\r\n     <use style=\"fill:#1f77b4;fill-opacity:0.8;stroke:#000000;stroke-opacity:0.8;\" x=\"166.583517\" xlink:href=\"#m125be88905\" y=\"200.560477\"/>\r\n     <use style=\"fill:#1f77b4;fill-opacity:0.8;stroke:#000000;stroke-opacity:0.8;\" x=\"288.576045\" xlink:href=\"#m125be88905\" y=\"166.663871\"/>\r\n     <use style=\"fill:#1f77b4;fill-opacity:0.8;stroke:#000000;stroke-opacity:0.8;\" x=\"273.649677\" xlink:href=\"#m125be88905\" y=\"178.026948\"/>\r\n     <use style=\"fill:#1f77b4;fill-opacity:0.8;stroke:#000000;stroke-opacity:0.8;\" x=\"107.171635\" xlink:href=\"#m125be88905\" y=\"173.570707\"/>\r\n     <use style=\"fill:#1f77b4;fill-opacity:0.8;stroke:#000000;stroke-opacity:0.8;\" x=\"143.090659\" xlink:href=\"#m125be88905\" y=\"137.175607\"/>\r\n     <use style=\"fill:#1f77b4;fill-opacity:0.8;stroke:#000000;stroke-opacity:0.8;\" x=\"148.118084\" xlink:href=\"#m125be88905\" y=\"147.54891\"/>\r\n     <use style=\"fill:#1f77b4;fill-opacity:0.8;stroke:#000000;stroke-opacity:0.8;\" x=\"193.076995\" xlink:href=\"#m125be88905\" y=\"165.925326\"/>\r\n     <use style=\"fill:#1f77b4;fill-opacity:0.8;stroke:#000000;stroke-opacity:0.8;\" x=\"80.04943\" xlink:href=\"#m125be88905\" y=\"111.03842\"/>\r\n     <use style=\"fill:#1f77b4;fill-opacity:0.8;stroke:#000000;stroke-opacity:0.8;\" x=\"158.748276\" xlink:href=\"#m125be88905\" y=\"125.41363\"/>\r\n     <use style=\"fill:#1f77b4;fill-opacity:0.8;stroke:#000000;stroke-opacity:0.8;\" x=\"191.802012\" xlink:href=\"#m125be88905\" y=\"143.32732\"/>\r\n     <use style=\"fill:#1f77b4;fill-opacity:0.8;stroke:#000000;stroke-opacity:0.8;\" x=\"261.45384\" xlink:href=\"#m125be88905\" y=\"104.131584\"/>\r\n     <use style=\"fill:#1f77b4;fill-opacity:0.8;stroke:#000000;stroke-opacity:0.8;\" x=\"244.859306\" xlink:href=\"#m125be88905\" y=\"117.030354\"/>\r\n     <use style=\"fill:#1f77b4;fill-opacity:0.8;stroke:#000000;stroke-opacity:0.8;\" x=\"217.223239\" xlink:href=\"#m125be88905\" y=\"153.540193\"/>\r\n     <use style=\"fill:#1f77b4;fill-opacity:0.8;stroke:#000000;stroke-opacity:0.8;\" x=\"120.732737\" xlink:href=\"#m125be88905\" y=\"204.836851\"/>\r\n     <use style=\"fill:#1f77b4;fill-opacity:0.8;stroke:#000000;stroke-opacity:0.8;\" x=\"215.129664\" xlink:href=\"#m125be88905\" y=\"128.384389\"/>\r\n     <use style=\"fill:#1f77b4;fill-opacity:0.8;stroke:#000000;stroke-opacity:0.8;\" x=\"109.132816\" xlink:href=\"#m125be88905\" y=\"174.253817\"/>\r\n     <use style=\"fill:#1f77b4;fill-opacity:0.8;stroke:#000000;stroke-opacity:0.8;\" x=\"222.163319\" xlink:href=\"#m125be88905\" y=\"160.956799\"/>\r\n     <use style=\"fill:#1f77b4;fill-opacity:0.8;stroke:#000000;stroke-opacity:0.8;\" x=\"275.610858\" xlink:href=\"#m125be88905\" y=\"178.710059\"/>\r\n     <use style=\"fill:#1f77b4;fill-opacity:0.8;stroke:#000000;stroke-opacity:0.8;\" x=\"168.251683\" xlink:href=\"#m125be88905\" y=\"199.024784\"/>\r\n     <use style=\"fill:#1f77b4;fill-opacity:0.8;stroke:#000000;stroke-opacity:0.8;\" x=\"185.870481\" xlink:href=\"#m125be88905\" y=\"187.945917\"/>\r\n     <use style=\"fill:#1f77b4;fill-opacity:0.8;stroke:#000000;stroke-opacity:0.8;\" x=\"212.437235\" xlink:href=\"#m125be88905\" y=\"128.100179\"/>\r\n     <use style=\"fill:#1f77b4;fill-opacity:0.8;stroke:#000000;stroke-opacity:0.8;\" x=\"133.532719\" xlink:href=\"#m125be88905\" y=\"114.462862\"/>\r\n     <use style=\"fill:#1f77b4;fill-opacity:0.8;stroke:#000000;stroke-opacity:0.8;\" x=\"116.001266\" xlink:href=\"#m125be88905\" y=\"128.498427\"/>\r\n     <use style=\"fill:#1f77b4;fill-opacity:0.8;stroke:#000000;stroke-opacity:0.8;\" x=\"218.50116\" xlink:href=\"#m125be88905\" y=\"107.954274\"/>\r\n     <use style=\"fill:#1f77b4;fill-opacity:0.8;stroke:#000000;stroke-opacity:0.8;\" x=\"213.168483\" xlink:href=\"#m125be88905\" y=\"127.701279\"/>\r\n     <use style=\"fill:#1f77b4;fill-opacity:0.8;stroke:#000000;stroke-opacity:0.8;\" x=\"185.109359\" xlink:href=\"#m125be88905\" y=\"66.305785\"/>\r\n     <use style=\"fill:#1f77b4;fill-opacity:0.8;stroke:#000000;stroke-opacity:0.8;\" x=\"124.625226\" xlink:href=\"#m125be88905\" y=\"84.16404\"/>\r\n     <use style=\"fill:#1f77b4;fill-opacity:0.8;stroke:#000000;stroke-opacity:0.8;\" x=\"232.062263\" xlink:href=\"#m125be88905\" y=\"139.220418\"/>\r\n     <use style=\"fill:#1f77b4;fill-opacity:0.8;stroke:#000000;stroke-opacity:0.8;\" x=\"102.440163\" xlink:href=\"#m125be88905\" y=\"97.232283\"/>\r\n     <use style=\"fill:#1f77b4;fill-opacity:0.8;stroke:#000000;stroke-opacity:0.8;\" x=\"97.23988\" xlink:href=\"#m125be88905\" y=\"141.451981\"/>\r\n     <use style=\"fill:#1f77b4;fill-opacity:0.8;stroke:#000000;stroke-opacity:0.8;\" x=\"227.330791\" xlink:href=\"#m125be88905\" y=\"62.881994\"/>\r\n     <use style=\"fill:#1f77b4;fill-opacity:0.8;stroke:#000000;stroke-opacity:0.8;\" x=\"199.60738\" xlink:href=\"#m125be88905\" y=\"96.435135\"/>\r\n     <use style=\"fill:#1f77b4;fill-opacity:0.8;stroke:#000000;stroke-opacity:0.8;\" x=\"122.606574\" xlink:href=\"#m125be88905\" y=\"202.563264\"/>\r\n     <use style=\"fill:#1f77b4;fill-opacity:0.8;stroke:#000000;stroke-opacity:0.8;\" x=\"270.957248\" xlink:href=\"#m125be88905\" y=\"177.742738\"/>\r\n     <use style=\"fill:#1f77b4;fill-opacity:0.8;stroke:#000000;stroke-opacity:0.8;\" x=\"132.254798\" xlink:href=\"#m125be88905\" y=\"160.048781\"/>\r\n     <use style=\"fill:#1f77b4;fill-opacity:0.8;stroke:#000000;stroke-opacity:0.8;\" x=\"200.631643\" xlink:href=\"#m125be88905\" y=\"98.255039\"/>\r\n     <use style=\"fill:#1f77b4;fill-opacity:0.8;stroke:#000000;stroke-opacity:0.8;\" x=\"186.046278\" xlink:href=\"#m125be88905\" y=\"65.168992\"/>\r\n     <use style=\"fill:#1f77b4;fill-opacity:0.8;stroke:#000000;stroke-opacity:0.8;\" x=\"188.139853\" xlink:href=\"#m125be88905\" y=\"90.324795\"/>\r\n     <use style=\"fill:#1f77b4;fill-opacity:0.8;stroke:#000000;stroke-opacity:0.8;\" x=\"290.449882\" xlink:href=\"#m125be88905\" y=\"164.390284\"/>\r\n     <use style=\"fill:#1f77b4;fill-opacity:0.8;stroke:#000000;stroke-opacity:0.8;\" x=\"86.576877\" xlink:href=\"#m125be88905\" y=\"109.732154\"/>\r\n     <use style=\"fill:#1f77b4;fill-opacity:0.8;stroke:#000000;stroke-opacity:0.8;\" x=\"170.521056\" xlink:href=\"#m125be88905\" y=\"101.403662\"/>\r\n     <use style=\"fill:#1f77b4;fill-opacity:0.8;stroke:#000000;stroke-opacity:0.8;\" x=\"234.927551\" xlink:href=\"#m125be88905\" y=\"84.911628\"/>\r\n     <use style=\"fill:#1f77b4;fill-opacity:0.8;stroke:#000000;stroke-opacity:0.8;\" x=\"164.622336\" xlink:href=\"#m125be88905\" y=\"199.877366\"/>\r\n     <use style=\"fill:#1f77b4;fill-opacity:0.8;stroke:#000000;stroke-opacity:0.8;\" x=\"133.191716\" xlink:href=\"#m125be88905\" y=\"158.911988\"/>\r\n     <use style=\"fill:#1f77b4;fill-opacity:0.8;stroke:#000000;stroke-opacity:0.8;\" x=\"164.284271\" xlink:href=\"#m125be88905\" y=\"176.142567\"/>\r\n     <use style=\"fill:#1f77b4;fill-opacity:0.8;stroke:#000000;stroke-opacity:0.8;\" x=\"178.240909\" xlink:href=\"#m125be88905\" y=\"112.061176\"/>\r\n     <use style=\"fill:#1f77b4;fill-opacity:0.8;stroke:#000000;stroke-opacity:0.8;\" x=\"136.430818\" xlink:href=\"#m125be88905\" y=\"114.009179\"/>\r\n     <use style=\"fill:#1f77b4;fill-opacity:0.8;stroke:#000000;stroke-opacity:0.8;\" x=\"220.462341\" xlink:href=\"#m125be88905\" y=\"108.637385\"/>\r\n     <use style=\"fill:#1f77b4;fill-opacity:0.8;stroke:#000000;stroke-opacity:0.8;\" x=\"113.699082\" xlink:href=\"#m125be88905\" y=\"172.264441\"/>\r\n     <use style=\"fill:#1f77b4;fill-opacity:0.8;stroke:#000000;stroke-opacity:0.8;\" x=\"237.993794\" xlink:href=\"#m125be88905\" y=\"94.601821\"/>\r\n     <use style=\"fill:#1f77b4;fill-opacity:0.8;stroke:#000000;stroke-opacity:0.8;\" x=\"163.553023\" xlink:href=\"#m125be88905\" y=\"176.541467\"/>\r\n     <use style=\"fill:#1f77b4;fill-opacity:0.8;stroke:#000000;stroke-opacity:0.8;\" x=\"268.014099\" xlink:href=\"#m125be88905\" y=\"156.680425\"/>\r\n     <use style=\"fill:#1f77b4;fill-opacity:0.8;stroke:#000000;stroke-opacity:0.8;\" x=\"209.506324\" xlink:href=\"#m125be88905\" y=\"74.698754\"/>\r\n     <use style=\"fill:#1f77b4;fill-opacity:0.8;stroke:#000000;stroke-opacity:0.8;\" x=\"151.747431\" xlink:href=\"#m125be88905\" y=\"146.696327\"/>\r\n     <use style=\"fill:#1f77b4;fill-opacity:0.8;stroke:#000000;stroke-opacity:0.8;\" x=\"268.951017\" xlink:href=\"#m125be88905\" y=\"155.543632\"/>\r\n     <use style=\"fill:#1f77b4;fill-opacity:0.8;stroke:#000000;stroke-opacity:0.8;\" x=\"198.667523\" xlink:href=\"#m125be88905\" y=\"165.755853\"/>\r\n     <use style=\"fill:#1f77b4;fill-opacity:0.8;stroke:#000000;stroke-opacity:0.8;\" x=\"94.547451\" xlink:href=\"#m125be88905\" y=\"141.16777\"/>\r\n     <use style=\"fill:#1f77b4;fill-opacity:0.8;stroke:#000000;stroke-opacity:0.8;\" x=\"81.923267\" xlink:href=\"#m125be88905\" y=\"108.764833\"/>\r\n     <use style=\"fill:#1f77b4;fill-opacity:0.8;stroke:#000000;stroke-opacity:0.8;\" x=\"263.327677\" xlink:href=\"#m125be88905\" y=\"101.857997\"/>\r\n     <use style=\"fill:#1f77b4;fill-opacity:0.8;stroke:#000000;stroke-opacity:0.8;\" x=\"223.15477\" xlink:href=\"#m125be88905\" y=\"108.921596\"/>\r\n     <use style=\"fill:#1f77b4;fill-opacity:0.8;stroke:#000000;stroke-opacity:0.8;\" x=\"252.150812\" xlink:href=\"#m125be88905\" y=\"169.180296\"/>\r\n     <use style=\"fill:#1f77b4;fill-opacity:0.8;stroke:#000000;stroke-opacity:0.8;\" x=\"247.892738\" xlink:href=\"#m125be88905\" y=\"72.86544\"/>\r\n     <use style=\"fill:#1f77b4;fill-opacity:0.8;stroke:#000000;stroke-opacity:0.8;\" x=\"143.123471\" xlink:href=\"#m125be88905\" y=\"191.030714\"/>\r\n     <use style=\"fill:#1f77b4;fill-opacity:0.8;stroke:#000000;stroke-opacity:0.8;\" x=\"169.584137\" xlink:href=\"#m125be88905\" y=\"102.540455\"/>\r\n     <use style=\"fill:#1f77b4;fill-opacity:0.8;stroke:#000000;stroke-opacity:0.8;\" x=\"123.630837\" xlink:href=\"#m125be88905\" y=\"204.383168\"/>\r\n     <use style=\"fill:#1f77b4;fill-opacity:0.8;stroke:#000000;stroke-opacity:0.8;\" x=\"119.034698\" xlink:href=\"#m125be88905\" y=\"84.333512\"/>\r\n     <use style=\"fill:#1f77b4;fill-opacity:0.8;stroke:#000000;stroke-opacity:0.8;\" x=\"238.930713\" xlink:href=\"#m125be88905\" y=\"93.465027\"/>\r\n     <use style=\"fill:#1f77b4;fill-opacity:0.8;stroke:#000000;stroke-opacity:0.8;\" x=\"125.299003\" xlink:href=\"#m125be88905\" y=\"202.847475\"/>\r\n     <use style=\"fill:#1f77b4;fill-opacity:0.8;stroke:#000000;stroke-opacity:0.8;\" x=\"257.48349\" xlink:href=\"#m125be88905\" y=\"149.433291\"/>\r\n     <use style=\"fill:#1f77b4;fill-opacity:0.8;stroke:#000000;stroke-opacity:0.8;\" x=\"275.951861\" xlink:href=\"#m125be88905\" y=\"134.260934\"/>\r\n     <use style=\"fill:#1f77b4;fill-opacity:0.8;stroke:#000000;stroke-opacity:0.8;\" x=\"235.69161\" xlink:href=\"#m125be88905\" y=\"138.367835\"/>\r\n     <use style=\"fill:#1f77b4;fill-opacity:0.8;stroke:#000000;stroke-opacity:0.8;\" x=\"258.420408\" xlink:href=\"#m125be88905\" y=\"148.296498\"/>\r\n     <use style=\"fill:#1f77b4;fill-opacity:0.8;stroke:#000000;stroke-opacity:0.8;\" x=\"201.700955\" xlink:href=\"#m125be88905\" y=\"121.590939\"/>\r\n     <use style=\"fill:#1f77b4;fill-opacity:0.8;stroke:#000000;stroke-opacity:0.8;\" x=\"224.091689\" xlink:href=\"#m125be88905\" y=\"107.784802\"/>\r\n     <use style=\"fill:#1f77b4;fill-opacity:0.8;stroke:#000000;stroke-opacity:0.8;\" x=\"226.393873\" xlink:href=\"#m125be88905\" y=\"64.018787\"/>\r\n     <use style=\"fill:#1f77b4;fill-opacity:0.8;stroke:#000000;stroke-opacity:0.8;\" x=\"83.678777\" xlink:href=\"#m125be88905\" y=\"110.185837\"/>\r\n     <use style=\"fill:#1f77b4;fill-opacity:0.8;stroke:#000000;stroke-opacity:0.8;\" x=\"232.235121\" xlink:href=\"#m125be88905\" y=\"84.627417\"/>\r\n     <use style=\"fill:#1f77b4;fill-opacity:0.8;stroke:#000000;stroke-opacity:0.8;\" x=\"221.193589\" xlink:href=\"#m125be88905\" y=\"108.238485\"/>\r\n     <use style=\"fill:#1f77b4;fill-opacity:0.8;stroke:#000000;stroke-opacity:0.8;\" x=\"267.044369\" xlink:href=\"#m125be88905\" y=\"103.962111\"/>\r\n     <use style=\"fill:#1f77b4;fill-opacity:0.8;stroke:#000000;stroke-opacity:0.8;\" x=\"211.500316\" xlink:href=\"#m125be88905\" y=\"129.236972\"/>\r\n     <use style=\"fill:#1f77b4;fill-opacity:0.8;stroke:#000000;stroke-opacity:0.8;\" x=\"271.643446\" xlink:href=\"#m125be88905\" y=\"155.827842\"/>\r\n     <use style=\"fill:#1f77b4;fill-opacity:0.8;stroke:#000000;stroke-opacity:0.8;\" x=\"166.891708\" xlink:href=\"#m125be88905\" y=\"102.256245\"/>\r\n     <use style=\"fill:#1f77b4;fill-opacity:0.8;stroke:#000000;stroke-opacity:0.8;\" x=\"188.76858\" xlink:href=\"#m125be88905\" y=\"187.492234\"/>\r\n     <use style=\"fill:#1f77b4;fill-opacity:0.8;stroke:#000000;stroke-opacity:0.8;\" x=\"241.961206\" xlink:href=\"#m125be88905\" y=\"117.484037\"/>\r\n     <use style=\"fill:#1f77b4;fill-opacity:0.8;stroke:#000000;stroke-opacity:0.8;\" x=\"172.482237\" xlink:href=\"#m125be88905\" y=\"102.086772\"/>\r\n     <use style=\"fill:#1f77b4;fill-opacity:0.8;stroke:#000000;stroke-opacity:0.8;\" x=\"128.62545\" xlink:href=\"#m125be88905\" y=\"160.901364\"/>\r\n     <use style=\"fill:#1f77b4;fill-opacity:0.8;stroke:#000000;stroke-opacity:0.8;\" x=\"136.225148\" xlink:href=\"#m125be88905\" y=\"114.747073\"/>\r\n     <use style=\"fill:#1f77b4;fill-opacity:0.8;stroke:#000000;stroke-opacity:0.8;\" x=\"149.055002\" xlink:href=\"#m125be88905\" y=\"146.412117\"/>\r\n     <use style=\"fill:#1f77b4;fill-opacity:0.8;stroke:#000000;stroke-opacity:0.8;\" x=\"224.037156\" xlink:href=\"#m125be88905\" y=\"158.683212\"/>\r\n     <use style=\"fill:#1f77b4;fill-opacity:0.8;stroke:#000000;stroke-opacity:0.8;\" x=\"253.516078\" xlink:href=\"#m125be88905\" y=\"126.551075\"/>\r\n     <use style=\"fill:#1f77b4;fill-opacity:0.8;stroke:#000000;stroke-opacity:0.8;\" x=\"204.940058\" xlink:href=\"#m125be88905\" y=\"76.688131\"/>\r\n     <use style=\"fill:#1f77b4;fill-opacity:0.8;stroke:#000000;stroke-opacity:0.8;\" x=\"100.478982\" xlink:href=\"#m125be88905\" y=\"96.549172\"/>\r\n     <use style=\"fill:#1f77b4;fill-opacity:0.8;stroke:#000000;stroke-opacity:0.8;\" x=\"156.651762\" xlink:href=\"#m125be88905\" y=\"168.44175\"/>\r\n     <use style=\"fill:#1f77b4;fill-opacity:0.8;stroke:#000000;stroke-opacity:0.8;\" x=\"103.171411\" xlink:href=\"#m125be88905\" y=\"96.833383\"/>\r\n     <use style=\"fill:#1f77b4;fill-opacity:0.8;stroke:#000000;stroke-opacity:0.8;\" x=\"116.938184\" xlink:href=\"#m125be88905\" y=\"127.361633\"/>\r\n    </g>\r\n   </g>\r\n   <g id=\"PathCollection_5\">\r\n    <defs>\r\n     <path d=\"M 0 -3 \r\nL -3 3 \r\nL 3 3 \r\nz\r\n\" id=\"m13d02b67ea\" style=\"stroke:#000000;stroke-opacity:0.8;\"/>\r\n    </defs>\r\n    <g clip-path=\"url(#p071a7da5e2)\">\r\n     <use style=\"fill:#ff7f0e;fill-opacity:0.8;stroke:#000000;stroke-opacity:0.8;\" x=\"194.700111\" xlink:href=\"#m13d02b67ea\" y=\"142.873637\"/>\r\n     <use style=\"fill:#ff7f0e;fill-opacity:0.8;stroke:#000000;stroke-opacity:0.8;\" x=\"205.535973\" xlink:href=\"#m13d02b67ea\" y=\"120.000462\"/>\r\n     <use style=\"fill:#ff7f0e;fill-opacity:0.8;stroke:#000000;stroke-opacity:0.8;\" x=\"203.607604\" xlink:href=\"#m13d02b67ea\" y=\"173.172459\"/>\r\n     <use style=\"fill:#ff7f0e;fill-opacity:0.8;stroke:#000000;stroke-opacity:0.8;\" x=\"203.574792\" xlink:href=\"#m13d02b67ea\" y=\"119.317352\"/>\r\n     <use style=\"fill:#ff7f0e;fill-opacity:0.8;stroke:#000000;stroke-opacity:0.8;\" x=\"200.969707\" xlink:href=\"#m13d02b67ea\" y=\"121.989839\"/>\r\n     <use style=\"fill:#ff7f0e;fill-opacity:0.8;stroke:#000000;stroke-opacity:0.8;\" x=\"232.658178\" xlink:href=\"#m13d02b67ea\" y=\"182.53275\"/>\r\n     <use style=\"fill:#ff7f0e;fill-opacity:0.8;stroke:#000000;stroke-opacity:0.8;\" x=\"202.637874\" xlink:href=\"#m13d02b67ea\" y=\"120.454145\"/>\r\n     <use style=\"fill:#ff7f0e;fill-opacity:0.8;stroke:#000000;stroke-opacity:0.8;\" x=\"190.046501\" xlink:href=\"#m13d02b67ea\" y=\"141.906315\"/>\r\n     <use style=\"fill:#ff7f0e;fill-opacity:0.8;stroke:#000000;stroke-opacity:0.8;\" x=\"217.135895\" xlink:href=\"#m13d02b67ea\" y=\"150.583496\"/>\r\n     <use style=\"fill:#ff7f0e;fill-opacity:0.8;stroke:#000000;stroke-opacity:0.8;\" x=\"193.675849\" xlink:href=\"#m13d02b67ea\" y=\"141.053733\"/>\r\n     <use style=\"fill:#ff7f0e;fill-opacity:0.8;stroke:#000000;stroke-opacity:0.8;\" x=\"183.178051\" xlink:href=\"#m13d02b67ea\" y=\"187.661706\"/>\r\n     <use style=\"fill:#ff7f0e;fill-opacity:0.8;stroke:#000000;stroke-opacity:0.8;\" x=\"180.114746\" xlink:href=\"#m13d02b67ea\" y=\"109.787589\"/>\r\n     <use style=\"fill:#ff7f0e;fill-opacity:0.8;stroke:#000000;stroke-opacity:0.8;\" x=\"202.670685\" xlink:href=\"#m13d02b67ea\" y=\"174.309253\"/>\r\n     <use style=\"fill:#ff7f0e;fill-opacity:0.8;stroke:#000000;stroke-opacity:0.8;\" x=\"219.097076\" xlink:href=\"#m13d02b67ea\" y=\"151.266606\"/>\r\n     <use style=\"fill:#ff7f0e;fill-opacity:0.8;stroke:#000000;stroke-opacity:0.8;\" x=\"218.160157\" xlink:href=\"#m13d02b67ea\" y=\"152.403399\"/>\r\n     <use style=\"fill:#ff7f0e;fill-opacity:0.8;stroke:#000000;stroke-opacity:0.8;\" x=\"189.705498\" xlink:href=\"#m13d02b67ea\" y=\"186.35544\"/>\r\n     <use style=\"fill:#ff7f0e;fill-opacity:0.8;stroke:#000000;stroke-opacity:0.8;\" x=\"168.514825\" xlink:href=\"#m13d02b67ea\" y=\"79.204556\"/>\r\n     <use style=\"fill:#ff7f0e;fill-opacity:0.8;stroke:#000000;stroke-opacity:0.8;\" x=\"214.53081\" xlink:href=\"#m13d02b67ea\" y=\"153.255982\"/>\r\n     <use style=\"fill:#ff7f0e;fill-opacity:0.8;stroke:#000000;stroke-opacity:0.8;\" x=\"146.124091\" xlink:href=\"#m13d02b67ea\" y=\"93.010692\"/>\r\n     <use style=\"fill:#ff7f0e;fill-opacity:0.8;stroke:#000000;stroke-opacity:0.8;\" x=\"230.696997\" xlink:href=\"#m13d02b67ea\" y=\"181.849639\"/>\r\n     <use style=\"fill:#ff7f0e;fill-opacity:0.8;stroke:#000000;stroke-opacity:0.8;\" x=\"181.139009\" xlink:href=\"#m13d02b67ea\" y=\"111.607493\"/>\r\n     <use style=\"fill:#ff7f0e;fill-opacity:0.8;stroke:#000000;stroke-opacity:0.8;\" x=\"187.408605\" xlink:href=\"#m13d02b67ea\" y=\"90.723695\"/>\r\n     <use style=\"fill:#ff7f0e;fill-opacity:0.8;stroke:#000000;stroke-opacity:0.8;\" x=\"149.022191\" xlink:href=\"#m13d02b67ea\" y=\"92.557009\"/>\r\n     <use style=\"fill:#ff7f0e;fill-opacity:0.8;stroke:#000000;stroke-opacity:0.8;\" x=\"175.207477\" xlink:href=\"#m13d02b67ea\" y=\"156.22609\"/>\r\n     <use style=\"fill:#ff7f0e;fill-opacity:0.8;stroke:#000000;stroke-opacity:0.8;\" x=\"158.017027\" xlink:href=\"#m13d02b67ea\" y=\"125.812529\"/>\r\n     <use style=\"fill:#ff7f0e;fill-opacity:0.8;stroke:#000000;stroke-opacity:0.8;\" x=\"207.236951\" xlink:href=\"#m13d02b67ea\" y=\"172.319876\"/>\r\n     <use style=\"fill:#ff7f0e;fill-opacity:0.8;stroke:#000000;stroke-opacity:0.8;\" x=\"176.144396\" xlink:href=\"#m13d02b67ea\" y=\"155.089297\"/>\r\n     <use style=\"fill:#ff7f0e;fill-opacity:0.8;stroke:#000000;stroke-opacity:0.8;\" x=\"171.57813\" xlink:href=\"#m13d02b67ea\" y=\"157.078673\"/>\r\n     <use style=\"fill:#ff7f0e;fill-opacity:0.8;stroke:#000000;stroke-opacity:0.8;\" x=\"187.744317\" xlink:href=\"#m13d02b67ea\" y=\"185.67233\"/>\r\n     <use style=\"fill:#ff7f0e;fill-opacity:0.8;stroke:#000000;stroke-opacity:0.8;\" x=\"161.646375\" xlink:href=\"#m13d02b67ea\" y=\"124.959947\"/>\r\n     <use style=\"fill:#ff7f0e;fill-opacity:0.8;stroke:#000000;stroke-opacity:0.8;\" x=\"204.599055\" xlink:href=\"#m13d02b67ea\" y=\"121.137256\"/>\r\n     <use style=\"fill:#ff7f0e;fill-opacity:0.8;stroke:#000000;stroke-opacity:0.8;\" x=\"189.076771\" xlink:href=\"#m13d02b67ea\" y=\"89.188002\"/>\r\n     <use style=\"fill:#ff7f0e;fill-opacity:0.8;stroke:#000000;stroke-opacity:0.8;\" x=\"195.63703\" xlink:href=\"#m13d02b67ea\" y=\"141.736843\"/>\r\n     <use style=\"fill:#ff7f0e;fill-opacity:0.8;stroke:#000000;stroke-opacity:0.8;\" x=\"212.569629\" xlink:href=\"#m13d02b67ea\" y=\"152.572872\"/>\r\n     <use style=\"fill:#ff7f0e;fill-opacity:0.8;stroke:#000000;stroke-opacity:0.8;\" x=\"162.583293\" xlink:href=\"#m13d02b67ea\" y=\"123.823153\"/>\r\n     <use style=\"fill:#ff7f0e;fill-opacity:0.8;stroke:#000000;stroke-opacity:0.8;\" x=\"144.455925\" xlink:href=\"#m13d02b67ea\" y=\"94.546386\"/>\r\n     <use style=\"fill:#ff7f0e;fill-opacity:0.8;stroke:#000000;stroke-opacity:0.8;\" x=\"167.577906\" xlink:href=\"#m13d02b67ea\" y=\"80.341349\"/>\r\n     <use style=\"fill:#ff7f0e;fill-opacity:0.8;stroke:#000000;stroke-opacity:0.8;\" x=\"166.553644\" xlink:href=\"#m13d02b67ea\" y=\"78.521445\"/>\r\n     <use style=\"fill:#ff7f0e;fill-opacity:0.8;stroke:#000000;stroke-opacity:0.8;\" x=\"159.685194\" xlink:href=\"#m13d02b67ea\" y=\"124.276836\"/>\r\n     <use style=\"fill:#ff7f0e;fill-opacity:0.8;stroke:#000000;stroke-opacity:0.8;\" x=\"189.109583\" xlink:href=\"#m13d02b67ea\" y=\"143.043109\"/>\r\n     <use style=\"fill:#ff7f0e;fill-opacity:0.8;stroke:#000000;stroke-opacity:0.8;\" x=\"175.54848\" xlink:href=\"#m13d02b67ea\" y=\"111.776965\"/>\r\n     <use style=\"fill:#ff7f0e;fill-opacity:0.8;stroke:#000000;stroke-opacity:0.8;\" x=\"199.008526\" xlink:href=\"#m13d02b67ea\" y=\"121.306728\"/>\r\n     <use style=\"fill:#ff7f0e;fill-opacity:0.8;stroke:#000000;stroke-opacity:0.8;\" x=\"190.01369\" xlink:href=\"#m13d02b67ea\" y=\"88.051208\"/>\r\n     <use style=\"fill:#ff7f0e;fill-opacity:0.8;stroke:#000000;stroke-opacity:0.8;\" x=\"191.974871\" xlink:href=\"#m13d02b67ea\" y=\"88.734319\"/>\r\n     <use style=\"fill:#ff7f0e;fill-opacity:0.8;stroke:#000000;stroke-opacity:0.8;\" x=\"163.948559\" xlink:href=\"#m13d02b67ea\" y=\"81.193932\"/>\r\n     <use style=\"fill:#ff7f0e;fill-opacity:0.8;stroke:#000000;stroke-opacity:0.8;\" x=\"226.130731\" xlink:href=\"#m13d02b67ea\" y=\"183.839016\"/>\r\n     <use style=\"fill:#ff7f0e;fill-opacity:0.8;stroke:#000000;stroke-opacity:0.8;\" x=\"142.494744\" xlink:href=\"#m13d02b67ea\" y=\"93.863275\"/>\r\n     <use style=\"fill:#ff7f0e;fill-opacity:0.8;stroke:#000000;stroke-opacity:0.8;\" x=\"209.198132\" xlink:href=\"#m13d02b67ea\" y=\"173.002987\"/>\r\n     <use style=\"fill:#ff7f0e;fill-opacity:0.8;stroke:#000000;stroke-opacity:0.8;\" x=\"179.177828\" xlink:href=\"#m13d02b67ea\" y=\"110.924382\"/>\r\n     <use style=\"fill:#ff7f0e;fill-opacity:0.8;stroke:#000000;stroke-opacity:0.8;\" x=\"165.616725\" xlink:href=\"#m13d02b67ea\" y=\"79.658239\"/>\r\n     <use style=\"fill:#ff7f0e;fill-opacity:0.8;stroke:#000000;stroke-opacity:0.8;\" x=\"227.06765\" xlink:href=\"#m13d02b67ea\" y=\"182.702222\"/>\r\n    </g>\r\n   </g>\r\n   <g id=\"PathCollection_6\">\r\n    <defs>\r\n     <path d=\"M 0 3 \r\nC 0.795609 3 1.55874 2.683901 2.12132 2.12132 \r\nC 2.683901 1.55874 3 0.795609 3 0 \r\nC 3 -0.795609 2.683901 -1.55874 2.12132 -2.12132 \r\nC 1.55874 -2.683901 0.795609 -3 0 -3 \r\nC -0.795609 -3 -1.55874 -2.683901 -2.12132 -2.12132 \r\nC -2.683901 -1.55874 -3 -0.795609 -3 0 \r\nC -3 0.795609 -2.683901 1.55874 -2.12132 2.12132 \r\nC -1.55874 2.683901 -0.795609 3 0 3 \r\nz\r\n\" id=\"md720036fde\" style=\"stroke:#000000;stroke-opacity:0.8;\"/>\r\n    </defs>\r\n    <g clip-path=\"url(#p071a7da5e2)\">\r\n     <use style=\"fill:#3ca02c;fill-opacity:0.8;stroke:#000000;stroke-opacity:0.8;\" x=\"138.439987\" xlink:href=\"#md720036fde\" y=\"68.024361\"/>\r\n     <use style=\"fill:#3ca02c;fill-opacity:0.8;stroke:#000000;stroke-opacity:0.8;\" x=\"80.780678\" xlink:href=\"#md720036fde\" y=\"110.63952\"/>\r\n     <use style=\"fill:#3ca02c;fill-opacity:0.8;stroke:#000000;stroke-opacity:0.8;\" x=\"197.730605\" xlink:href=\"#md720036fde\" y=\"166.892647\"/>\r\n     <use style=\"fill:#3ca02c;fill-opacity:0.8;stroke:#000000;stroke-opacity:0.8;\" x=\"184.423161\" xlink:href=\"#md720036fde\" y=\"88.22068\"/>\r\n     <use style=\"fill:#3ca02c;fill-opacity:0.8;stroke:#000000;stroke-opacity:0.8;\" x=\"240.598879\" xlink:href=\"#md720036fde\" y=\"91.929334\"/>\r\n     <use style=\"fill:#3ca02c;fill-opacity:0.8;stroke:#000000;stroke-opacity:0.8;\" x=\"140.807526\" xlink:href=\"#md720036fde\" y=\"138.170295\"/>\r\n     <use style=\"fill:#3ca02c;fill-opacity:0.8;stroke:#000000;stroke-opacity:0.8;\" x=\"236.306577\" xlink:href=\"#md720036fde\" y=\"138.90884\"/>\r\n     <use style=\"fill:#3ca02c;fill-opacity:0.8;stroke:#000000;stroke-opacity:0.8;\" x=\"179.941888\" xlink:href=\"#md720036fde\" y=\"164.38059\"/>\r\n     <use style=\"fill:#3ca02c;fill-opacity:0.8;stroke:#000000;stroke-opacity:0.8;\" x=\"286.127706\" xlink:href=\"#md720036fde\" y=\"89.330759\"/>\r\n     <use style=\"fill:#3ca02c;fill-opacity:0.8;stroke:#000000;stroke-opacity:0.8;\" x=\"222.471511\" xlink:href=\"#md720036fde\" y=\"62.652567\"/>\r\n     <use style=\"fill:#3ca02c;fill-opacity:0.8;stroke:#000000;stroke-opacity:0.8;\" x=\"287.961079\" xlink:href=\"#md720036fde\" y=\"166.122866\"/>\r\n     <use style=\"fill:#3ca02c;fill-opacity:0.8;stroke:#000000;stroke-opacity:0.8;\" x=\"123.425167\" xlink:href=\"#md720036fde\" y=\"205.121062\"/>\r\n     <use style=\"fill:#3ca02c;fill-opacity:0.8;stroke:#000000;stroke-opacity:0.8;\" x=\"155.968502\" xlink:href=\"#md720036fde\" y=\"122.172721\"/>\r\n     <use style=\"fill:#3ca02c;fill-opacity:0.8;stroke:#000000;stroke-opacity:0.8;\" x=\"257.190475\" xlink:href=\"#md720036fde\" y=\"147.214488\"/>\r\n     <use style=\"fill:#3ca02c;fill-opacity:0.8;stroke:#000000;stroke-opacity:0.8;\" x=\"278.985293\" xlink:href=\"#md720036fde\" y=\"90.09602\"/>\r\n     <use style=\"fill:#3ca02c;fill-opacity:0.8;stroke:#000000;stroke-opacity:0.8;\" x=\"98.517801\" xlink:href=\"#md720036fde\" y=\"95.866062\"/>\r\n     <use style=\"fill:#3ca02c;fill-opacity:0.8;stroke:#000000;stroke-opacity:0.8;\" x=\"210.882411\" xlink:href=\"#md720036fde\" y=\"196.879891\"/>\r\n     <use style=\"fill:#3ca02c;fill-opacity:0.8;stroke:#000000;stroke-opacity:0.8;\" x=\"131.571538\" xlink:href=\"#md720036fde\" y=\"113.779752\"/>\r\n     <use style=\"fill:#3ca02c;fill-opacity:0.8;stroke:#000000;stroke-opacity:0.8;\" x=\"211.294646\" xlink:href=\"#md720036fde\" y=\"129.974866\"/>\r\n     <use style=\"fill:#3ca02c;fill-opacity:0.8;stroke:#000000;stroke-opacity:0.8;\" x=\"264.146269\" xlink:href=\"#md720036fde\" y=\"104.415794\"/>\r\n     <use style=\"fill:#3ca02c;fill-opacity:0.8;stroke:#000000;stroke-opacity:0.8;\" x=\"289.92226\" xlink:href=\"#md720036fde\" y=\"166.805976\"/>\r\n     <use style=\"fill:#3ca02c;fill-opacity:0.8;stroke:#000000;stroke-opacity:0.8;\" x=\"249.151608\" xlink:href=\"#md720036fde\" y=\"70.050848\"/>\r\n     <use style=\"fill:#3ca02c;fill-opacity:0.8;stroke:#000000;stroke-opacity:0.8;\" x=\"222.485271\" xlink:href=\"#md720036fde\" y=\"159.279\"/>\r\n     <use style=\"fill:#3ca02c;fill-opacity:0.8;stroke:#000000;stroke-opacity:0.8;\" x=\"288.897997\" xlink:href=\"#md720036fde\" y=\"164.986072\"/>\r\n     <use style=\"fill:#3ca02c;fill-opacity:0.8;stroke:#000000;stroke-opacity:0.8;\" x=\"178.186377\" xlink:href=\"#md720036fde\" y=\"162.959586\"/>\r\n     <use style=\"fill:#3ca02c;fill-opacity:0.8;stroke:#000000;stroke-opacity:0.8;\" x=\"127.923139\" xlink:href=\"#md720036fde\" y=\"157.403661\"/>\r\n     <use style=\"fill:#3ca02c;fill-opacity:0.8;stroke:#000000;stroke-opacity:0.8;\" x=\"153.347305\" xlink:href=\"#md720036fde\" y=\"99.43261\"/>\r\n     <use style=\"fill:#3ca02c;fill-opacity:0.8;stroke:#000000;stroke-opacity:0.8;\" x=\"199.285428\" xlink:href=\"#md720036fde\" y=\"98.112934\"/>\r\n     <use style=\"fill:#3ca02c;fill-opacity:0.8;stroke:#000000;stroke-opacity:0.8;\" x=\"228.413864\" xlink:href=\"#md720036fde\" y=\"182.844327\"/>\r\n     <use style=\"fill:#3ca02c;fill-opacity:0.8;stroke:#000000;stroke-opacity:0.8;\" x=\"164.944288\" xlink:href=\"#md720036fde\" y=\"198.199568\"/>\r\n     <use style=\"fill:#3ca02c;fill-opacity:0.8;stroke:#000000;stroke-opacity:0.8;\" x=\"111.141985\" xlink:href=\"#md720036fde\" y=\"128.268999\"/>\r\n     <use style=\"fill:#3ca02c;fill-opacity:0.8;stroke:#000000;stroke-opacity:0.8;\" x=\"144.469685\" xlink:href=\"#md720036fde\" y=\"191.172819\"/>\r\n     <use style=\"fill:#3ca02c;fill-opacity:0.8;stroke:#000000;stroke-opacity:0.8;\" x=\"271.775841\" xlink:href=\"#md720036fde\" y=\"180.300535\"/>\r\n     <use style=\"fill:#3ca02c;fill-opacity:0.8;stroke:#000000;stroke-opacity:0.8;\" x=\"220.784293\" xlink:href=\"#md720036fde\" y=\"106.959586\"/>\r\n     <use style=\"fill:#3ca02c;fill-opacity:0.8;stroke:#000000;stroke-opacity:0.8;\" x=\"113.015822\" xlink:href=\"#md720036fde\" y=\"125.995412\"/>\r\n     <use style=\"fill:#3ca02c;fill-opacity:0.8;stroke:#000000;stroke-opacity:0.8;\" x=\"182.738882\" xlink:href=\"#md720036fde\" y=\"64.343776\"/>\r\n     <use style=\"fill:#3ca02c;fill-opacity:0.8;stroke:#000000;stroke-opacity:0.8;\" x=\"254.774948\" xlink:href=\"#md720036fde\" y=\"123.736483\"/>\r\n     <use style=\"fill:#3ca02c;fill-opacity:0.8;stroke:#000000;stroke-opacity:0.8;\" x=\"107.902883\" xlink:href=\"#md720036fde\" y=\"173.171807\"/>\r\n     <use style=\"fill:#3ca02c;fill-opacity:0.8;stroke:#000000;stroke-opacity:0.8;\" x=\"108.839801\" xlink:href=\"#md720036fde\" y=\"172.035014\"/>\r\n     <use style=\"fill:#3ca02c;fill-opacity:0.8;stroke:#000000;stroke-opacity:0.8;\" x=\"147.825069\" xlink:href=\"#md720036fde\" y=\"145.330107\"/>\r\n     <use style=\"fill:#3ca02c;fill-opacity:0.8;stroke:#000000;stroke-opacity:0.8;\" x=\"135.200885\" xlink:href=\"#md720036fde\" y=\"112.927169\"/>\r\n     <use style=\"fill:#3ca02c;fill-opacity:0.8;stroke:#000000;stroke-opacity:0.8;\" x=\"107.084291\" xlink:href=\"#md720036fde\" y=\"170.61401\"/>\r\n     <use style=\"fill:#3ca02c;fill-opacity:0.8;stroke:#000000;stroke-opacity:0.8;\" x=\"227.753848\" xlink:href=\"#md720036fde\" y=\"160.787327\"/>\r\n     <use style=\"fill:#3ca02c;fill-opacity:0.8;stroke:#000000;stroke-opacity:0.8;\" x=\"226.86198\" xlink:href=\"#md720036fde\" y=\"183.440116\"/>\r\n     <use style=\"fill:#3ca02c;fill-opacity:0.8;stroke:#000000;stroke-opacity:0.8;\" x=\"184.172441\" xlink:href=\"#md720036fde\" y=\"67.442579\"/>\r\n     <use style=\"fill:#3ca02c;fill-opacity:0.8;stroke:#000000;stroke-opacity:0.8;\" x=\"257.805442\" xlink:href=\"#md720036fde\" y=\"147.755493\"/>\r\n     <use style=\"fill:#3ca02c;fill-opacity:0.8;stroke:#000000;stroke-opacity:0.8;\" x=\"165.03457\" xlink:href=\"#md720036fde\" y=\"132.972341\"/>\r\n     <use style=\"fill:#3ca02c;fill-opacity:0.8;stroke:#000000;stroke-opacity:0.8;\" x=\"299.073843\" xlink:href=\"#md720036fde\" y=\"120.055897\"/>\r\n     <use style=\"fill:#3ca02c;fill-opacity:0.8;stroke:#000000;stroke-opacity:0.8;\" x=\"204.953818\" xlink:href=\"#md720036fde\" y=\"173.314564\"/>\r\n     <use style=\"fill:#3ca02c;fill-opacity:0.8;stroke:#000000;stroke-opacity:0.8;\" x=\"94.956747\" xlink:href=\"#md720036fde\" y=\"142.446669\"/>\r\n     <use style=\"fill:#3ca02c;fill-opacity:0.8;stroke:#000000;stroke-opacity:0.8;\" x=\"264.058925\" xlink:href=\"#md720036fde\" y=\"101.459097\"/>\r\n     <use style=\"fill:#3ca02c;fill-opacity:0.8;stroke:#000000;stroke-opacity:0.8;\" x=\"225.366672\" xlink:href=\"#md720036fde\" y=\"130.382808\"/>\r\n     <use style=\"fill:#3ca02c;fill-opacity:0.8;stroke:#000000;stroke-opacity:0.8;\" x=\"187.148402\" xlink:href=\"#md720036fde\" y=\"142.359999\"/>\r\n     <use style=\"fill:#3ca02c;fill-opacity:0.8;stroke:#000000;stroke-opacity:0.8;\" x=\"141.747383\" xlink:href=\"#md720036fde\" y=\"68.849577\"/>\r\n     <use style=\"fill:#3ca02c;fill-opacity:0.8;stroke:#000000;stroke-opacity:0.8;\" x=\"163.333592\" xlink:href=\"#md720036fde\" y=\"80.652927\"/>\r\n     <use style=\"fill:#3ca02c;fill-opacity:0.8;stroke:#000000;stroke-opacity:0.8;\" x=\"176.807351\" xlink:href=\"#md720036fde\" y=\"108.962373\"/>\r\n     <use style=\"fill:#3ca02c;fill-opacity:0.8;stroke:#000000;stroke-opacity:0.8;\" x=\"204.338852\" xlink:href=\"#md720036fde\" y=\"172.773559\"/>\r\n     <use style=\"fill:#3ca02c;fill-opacity:0.8;stroke:#000000;stroke-opacity:0.8;\" x=\"95.278699\" xlink:href=\"#md720036fde\" y=\"140.76887\"/>\r\n     <use style=\"fill:#3ca02c;fill-opacity:0.8;stroke:#000000;stroke-opacity:0.8;\" x=\"97.580883\" xlink:href=\"#md720036fde\" y=\"97.002856\"/>\r\n     <use style=\"fill:#3ca02c;fill-opacity:0.8;stroke:#000000;stroke-opacity:0.8;\" x=\"171.136022\" xlink:href=\"#md720036fde\" y=\"101.944667\"/>\r\n     <use style=\"fill:#3ca02c;fill-opacity:0.8;stroke:#000000;stroke-opacity:0.8;\" x=\"211.954662\" xlink:href=\"#md720036fde\" y=\"152.031867\"/>\r\n     <use style=\"fill:#3ca02c;fill-opacity:0.8;stroke:#000000;stroke-opacity:0.8;\" x=\"172.924344\" xlink:href=\"#md720036fde\" y=\"157.220778\"/>\r\n     <use style=\"fill:#3ca02c;fill-opacity:0.8;stroke:#000000;stroke-opacity:0.8;\" x=\"111.415949\" xlink:href=\"#md720036fde\" y=\"173.259129\"/>\r\n     <use style=\"fill:#3ca02c;fill-opacity:0.8;stroke:#000000;stroke-opacity:0.8;\" x=\"120.117771\" xlink:href=\"#md720036fde\" y=\"204.295846\"/>\r\n     <use style=\"fill:#3ca02c;fill-opacity:0.8;stroke:#000000;stroke-opacity:0.8;\" x=\"237.288545\" xlink:href=\"#md720036fde\" y=\"159.288043\"/>\r\n     <use style=\"fill:#3ca02c;fill-opacity:0.8;stroke:#000000;stroke-opacity:0.8;\" x=\"189.022239\" xlink:href=\"#md720036fde\" y=\"140.086411\"/>\r\n     <use style=\"fill:#3ca02c;fill-opacity:0.8;stroke:#000000;stroke-opacity:0.8;\" x=\"101.21023\" xlink:href=\"#md720036fde\" y=\"96.150273\"/>\r\n     <use style=\"fill:#3ca02c;fill-opacity:0.8;stroke:#000000;stroke-opacity:0.8;\" x=\"128.947402\" xlink:href=\"#md720036fde\" y=\"159.223565\"/>\r\n     <use style=\"fill:#3ca02c;fill-opacity:0.8;stroke:#000000;stroke-opacity:0.8;\" x=\"238.725042\" xlink:href=\"#md720036fde\" y=\"94.202921\"/>\r\n     <use style=\"fill:#3ca02c;fill-opacity:0.8;stroke:#000000;stroke-opacity:0.8;\" x=\"118.419731\" xlink:href=\"#md720036fde\" y=\"83.792507\"/>\r\n     <use style=\"fill:#3ca02c;fill-opacity:0.8;stroke:#000000;stroke-opacity:0.8;\" x=\"265.028655\" xlink:href=\"#md720036fde\" y=\"154.177411\"/>\r\n     <use style=\"fill:#3ca02c;fill-opacity:0.8;stroke:#000000;stroke-opacity:0.8;\" x=\"252.195862\" xlink:href=\"#md720036fde\" y=\"190.696292\"/>\r\n     <use style=\"fill:#3ca02c;fill-opacity:0.8;stroke:#000000;stroke-opacity:0.8;\" x=\"271.688496\" xlink:href=\"#md720036fde\" y=\"177.343838\"/>\r\n     <use style=\"fill:#3ca02c;fill-opacity:0.8;stroke:#000000;stroke-opacity:0.8;\" x=\"145.802139\" xlink:href=\"#md720036fde\" y=\"94.688491\"/>\r\n     <use style=\"fill:#3ca02c;fill-opacity:0.8;stroke:#000000;stroke-opacity:0.8;\" x=\"281.268426\" xlink:href=\"#md720036fde\" y=\"89.101331\"/>\r\n     <use style=\"fill:#3ca02c;fill-opacity:0.8;stroke:#000000;stroke-opacity:0.8;\" x=\"221.106245\" xlink:href=\"#md720036fde\" y=\"105.281788\"/>\r\n     <use style=\"fill:#3ca02c;fill-opacity:0.8;stroke:#000000;stroke-opacity:0.8;\" x=\"231.005189\" xlink:href=\"#md720036fde\" y=\"83.545407\"/>\r\n     <use style=\"fill:#3ca02c;fill-opacity:0.8;stroke:#000000;stroke-opacity:0.8;\" x=\"180.878806\" xlink:href=\"#md720036fde\" y=\"163.243797\"/>\r\n     <use style=\"fill:#3ca02c;fill-opacity:0.8;stroke:#000000;stroke-opacity:0.8;\" x=\"129.356698\" xlink:href=\"#md720036fde\" y=\"160.502464\"/>\r\n     <use style=\"fill:#3ca02c;fill-opacity:0.8;stroke:#000000;stroke-opacity:0.8;\" x=\"216.813943\" xlink:href=\"#md720036fde\" y=\"152.261294\"/>\r\n     <use style=\"fill:#3ca02c;fill-opacity:0.8;stroke:#000000;stroke-opacity:0.8;\" x=\"294.829529\" xlink:href=\"#md720036fde\" y=\"120.367475\"/>\r\n     <use style=\"fill:#3ca02c;fill-opacity:0.8;stroke:#000000;stroke-opacity:0.8;\" x=\"295.853791\" xlink:href=\"#md720036fde\" y=\"122.187379\"/>\r\n     <use style=\"fill:#3ca02c;fill-opacity:0.8;stroke:#000000;stroke-opacity:0.8;\" x=\"212.482284\" xlink:href=\"#md720036fde\" y=\"149.616174\"/>\r\n     <use style=\"fill:#3ca02c;fill-opacity:0.8;stroke:#000000;stroke-opacity:0.8;\" x=\"231.707499\" xlink:href=\"#md720036fde\" y=\"87.043109\"/>\r\n     <use style=\"fill:#3ca02c;fill-opacity:0.8;stroke:#000000;stroke-opacity:0.8;\" x=\"174.933514\" xlink:href=\"#md720036fde\" y=\"111.23596\"/>\r\n     <use style=\"fill:#3ca02c;fill-opacity:0.8;stroke:#000000;stroke-opacity:0.8;\" x=\"135.948246\" xlink:href=\"#md720036fde\" y=\"137.940868\"/>\r\n     <use style=\"fill:#3ca02c;fill-opacity:0.8;stroke:#000000;stroke-opacity:0.8;\" x=\"141.484242\" xlink:href=\"#md720036fde\" y=\"188.669805\"/>\r\n     <use style=\"fill:#3ca02c;fill-opacity:0.8;stroke:#000000;stroke-opacity:0.8;\" x=\"207.98725\" xlink:href=\"#md720036fde\" y=\"129.14965\"/>\r\n     <use style=\"fill:#3ca02c;fill-opacity:0.8;stroke:#000000;stroke-opacity:0.8;\" x=\"140.810465\" xlink:href=\"#md720036fde\" y=\"69.98637\"/>\r\n     <use style=\"fill:#3ca02c;fill-opacity:0.8;stroke:#000000;stroke-opacity:0.8;\" x=\"114.771333\" xlink:href=\"#md720036fde\" y=\"127.416416\"/>\r\n     <use style=\"fill:#3ca02c;fill-opacity:0.8;stroke:#000000;stroke-opacity:0.8;\" x=\"211.822268\" xlink:href=\"#md720036fde\" y=\"127.559174\"/>\r\n     <use style=\"fill:#3ca02c;fill-opacity:0.8;stroke:#000000;stroke-opacity:0.8;\" x=\"108.51785\" xlink:href=\"#md720036fde\" y=\"173.712812\"/>\r\n     <use style=\"fill:#3ca02c;fill-opacity:0.8;stroke:#000000;stroke-opacity:0.8;\" x=\"84.293744\" xlink:href=\"#md720036fde\" y=\"110.726842\"/>\r\n     <use style=\"fill:#3ca02c;fill-opacity:0.8;stroke:#000000;stroke-opacity:0.8;\" x=\"110.800983\" xlink:href=\"#md720036fde\" y=\"172.718124\"/>\r\n     <use style=\"fill:#3ca02c;fill-opacity:0.8;stroke:#000000;stroke-opacity:0.8;\" x=\"122.078952\" xlink:href=\"#md720036fde\" y=\"204.978956\"/>\r\n     <use style=\"fill:#3ca02c;fill-opacity:0.8;stroke:#000000;stroke-opacity:0.8;\" x=\"153.434649\" xlink:href=\"#md720036fde\" y=\"102.389308\"/>\r\n     <use style=\"fill:#3ca02c;fill-opacity:0.8;stroke:#000000;stroke-opacity:0.8;\" x=\"178.595673\" xlink:href=\"#md720036fde\" y=\"164.238485\"/>\r\n     <use style=\"fill:#3ca02c;fill-opacity:0.8;stroke:#000000;stroke-opacity:0.8;\" x=\"121.317831\" xlink:href=\"#md720036fde\" y=\"83.338824\"/>\r\n     <use style=\"fill:#3ca02c;fill-opacity:0.8;stroke:#000000;stroke-opacity:0.8;\" x=\"118.010435\" xlink:href=\"#md720036fde\" y=\"82.513608\"/>\r\n     <use style=\"fill:#3ca02c;fill-opacity:0.8;stroke:#000000;stroke-opacity:0.8;\" x=\"248.930761\" xlink:href=\"#md720036fde\" y=\"171.311778\"/>\r\n     <use style=\"fill:#3ca02c;fill-opacity:0.8;stroke:#000000;stroke-opacity:0.8;\" x=\"122.914765\" xlink:href=\"#md720036fde\" y=\"104.259031\"/>\r\n     <use style=\"fill:#3ca02c;fill-opacity:0.8;stroke:#000000;stroke-opacity:0.8;\" x=\"209.330527\" xlink:href=\"#md720036fde\" y=\"197.47568\"/>\r\n     <use style=\"fill:#3ca02c;fill-opacity:0.8;stroke:#000000;stroke-opacity:0.8;\" x=\"295.444495\" xlink:href=\"#md720036fde\" y=\"120.90848\"/>\r\n     <use style=\"fill:#3ca02c;fill-opacity:0.8;stroke:#000000;stroke-opacity:0.8;\" x=\"286.537003\" xlink:href=\"#md720036fde\" y=\"90.609658\"/>\r\n     <use style=\"fill:#3ca02c;fill-opacity:0.8;stroke:#000000;stroke-opacity:0.8;\" x=\"190.628656\" xlink:href=\"#md720036fde\" y=\"88.592213\"/>\r\n     <use style=\"fill:#3ca02c;fill-opacity:0.8;stroke:#000000;stroke-opacity:0.8;\" x=\"223.817725\" xlink:href=\"#md720036fde\" y=\"62.794672\"/>\r\n     <use style=\"fill:#3ca02c;fill-opacity:0.8;stroke:#000000;stroke-opacity:0.8;\" x=\"273.99068\" xlink:href=\"#md720036fde\" y=\"133.577823\"/>\r\n     <use style=\"fill:#3ca02c;fill-opacity:0.8;stroke:#000000;stroke-opacity:0.8;\" x=\"247.906498\" xlink:href=\"#md720036fde\" y=\"169.491874\"/>\r\n     <use style=\"fill:#3ca02c;fill-opacity:0.8;stroke:#000000;stroke-opacity:0.8;\" x=\"99.454719\" xlink:href=\"#md720036fde\" y=\"94.729269\"/>\r\n     <use style=\"fill:#3ca02c;fill-opacity:0.8;stroke:#000000;stroke-opacity:0.8;\" x=\"137.777033\" xlink:href=\"#md720036fde\" y=\"114.151285\"/>\r\n     <use style=\"fill:#3ca02c;fill-opacity:0.8;stroke:#000000;stroke-opacity:0.8;\" x=\"228.996019\" xlink:href=\"#md720036fde\" y=\"129.530225\"/>\r\n     <use style=\"fill:#3ca02c;fill-opacity:0.8;stroke:#000000;stroke-opacity:0.8;\" x=\"309.414894\" xlink:href=\"#md720036fde\" y=\"153.453523\"/>\r\n     <use style=\"fill:#3ca02c;fill-opacity:0.8;stroke:#000000;stroke-opacity:0.8;\" x=\"135.815852\" xlink:href=\"#md720036fde\" y=\"113.468174\"/>\r\n     <use style=\"fill:#3ca02c;fill-opacity:0.8;stroke:#000000;stroke-opacity:0.8;\" x=\"142.186552\" xlink:href=\"#md720036fde\" y=\"192.167508\"/>\r\n     <use style=\"fill:#3ca02c;fill-opacity:0.8;stroke:#000000;stroke-opacity:0.8;\" x=\"114.449381\" xlink:href=\"#md720036fde\" y=\"129.094215\"/>\r\n     <use style=\"fill:#3ca02c;fill-opacity:0.8;stroke:#000000;stroke-opacity:0.8;\" x=\"247.584546\" xlink:href=\"#md720036fde\" y=\"171.169672\"/>\r\n     <use style=\"fill:#3ca02c;fill-opacity:0.8;stroke:#000000;stroke-opacity:0.8;\" x=\"184.436922\" xlink:href=\"#md720036fde\" y=\"184.847114\"/>\r\n     <use style=\"fill:#3ca02c;fill-opacity:0.8;stroke:#000000;stroke-opacity:0.8;\" x=\"180.147558\" xlink:href=\"#md720036fde\" y=\"163.642696\"/>\r\n     <use style=\"fill:#3ca02c;fill-opacity:0.8;stroke:#000000;stroke-opacity:0.8;\" x=\"129.269354\" xlink:href=\"#md720036fde\" y=\"157.545767\"/>\r\n     <use style=\"fill:#3ca02c;fill-opacity:0.8;stroke:#000000;stroke-opacity:0.8;\" x=\"166.908407\" xlink:href=\"#md720036fde\" y=\"130.698754\"/>\r\n     <use style=\"fill:#3ca02c;fill-opacity:0.8;stroke:#000000;stroke-opacity:0.8;\" x=\"182.826226\" xlink:href=\"#md720036fde\" y=\"67.300473\"/>\r\n     <use style=\"fill:#3ca02c;fill-opacity:0.8;stroke:#000000;stroke-opacity:0.8;\" x=\"211.512555\" xlink:href=\"#md720036fde\" y=\"96.897861\"/>\r\n     <use style=\"fill:#3ca02c;fill-opacity:0.8;stroke:#000000;stroke-opacity:0.8;\" x=\"79.434463\" xlink:href=\"#md720036fde\" y=\"110.497415\"/>\r\n     <use style=\"fill:#3ca02c;fill-opacity:0.8;stroke:#000000;stroke-opacity:0.8;\" x=\"183.148178\" xlink:href=\"#md720036fde\" y=\"65.622675\"/>\r\n     <use style=\"fill:#3ca02c;fill-opacity:0.8;stroke:#000000;stroke-opacity:0.8;\" x=\"117.756777\" xlink:href=\"#md720036fde\" y=\"129.919431\"/>\r\n     <use style=\"fill:#3ca02c;fill-opacity:0.8;stroke:#000000;stroke-opacity:0.8;\" x=\"166.276742\" xlink:href=\"#md720036fde\" y=\"101.71524\"/>\r\n     <use style=\"fill:#3ca02c;fill-opacity:0.8;stroke:#000000;stroke-opacity:0.8;\" x=\"275.746191\" xlink:href=\"#md720036fde\" y=\"134.998828\"/>\r\n     <use style=\"fill:#3ca02c;fill-opacity:0.8;stroke:#000000;stroke-opacity:0.8;\" x=\"247.142439\" xlink:href=\"#md720036fde\" y=\"116.035666\"/>\r\n     <use style=\"fill:#3ca02c;fill-opacity:0.8;stroke:#000000;stroke-opacity:0.8;\" x=\"207.984312\" xlink:href=\"#md720036fde\" y=\"197.333575\"/>\r\n     <use style=\"fill:#3ca02c;fill-opacity:0.8;stroke:#000000;stroke-opacity:0.8;\" x=\"130.293616\" xlink:href=\"#md720036fde\" y=\"159.365671\"/>\r\n     <use style=\"fill:#3ca02c;fill-opacity:0.8;stroke:#000000;stroke-opacity:0.8;\" x=\"252.286145\" xlink:href=\"#md720036fde\" y=\"125.469065\"/>\r\n     <use style=\"fill:#3ca02c;fill-opacity:0.8;stroke:#000000;stroke-opacity:0.8;\" x=\"170.303147\" xlink:href=\"#md720036fde\" y=\"134.480667\"/>\r\n     <use style=\"fill:#3ca02c;fill-opacity:0.8;stroke:#000000;stroke-opacity:0.8;\" x=\"187.422365\" xlink:href=\"#md720036fde\" y=\"187.350129\"/>\r\n     <use style=\"fill:#3ca02c;fill-opacity:0.8;stroke:#000000;stroke-opacity:0.8;\" x=\"169.278884\" xlink:href=\"#md720036fde\" y=\"132.660763\"/>\r\n     <use style=\"fill:#3ca02c;fill-opacity:0.8;stroke:#000000;stroke-opacity:0.8;\" x=\"113.834415\" xlink:href=\"#md720036fde\" y=\"128.55321\"/>\r\n     <use style=\"fill:#3ca02c;fill-opacity:0.8;stroke:#000000;stroke-opacity:0.8;\" x=\"157.756824\" xlink:href=\"#md720036fde\" y=\"177.448833\"/>\r\n     <use style=\"fill:#3ca02c;fill-opacity:0.8;stroke:#000000;stroke-opacity:0.8;\" x=\"182.21126\" xlink:href=\"#md720036fde\" y=\"66.759468\"/>\r\n     <use style=\"fill:#3ca02c;fill-opacity:0.8;stroke:#000000;stroke-opacity:0.8;\" x=\"83.356825\" xlink:href=\"#md720036fde\" y=\"111.863635\"/>\r\n     <use style=\"fill:#3ca02c;fill-opacity:0.8;stroke:#000000;stroke-opacity:0.8;\" x=\"246.96958\" xlink:href=\"#md720036fde\" y=\"170.628667\"/>\r\n     <use style=\"fill:#3ca02c;fill-opacity:0.8;stroke:#000000;stroke-opacity:0.8;\" x=\"163.962319\" xlink:href=\"#md720036fde\" y=\"177.820366\"/>\r\n     <use style=\"fill:#3ca02c;fill-opacity:0.8;stroke:#000000;stroke-opacity:0.8;\" x=\"165.207429\" xlink:href=\"#md720036fde\" y=\"78.37934\"/>\r\n     <use style=\"fill:#3ca02c;fill-opacity:0.8;stroke:#000000;stroke-opacity:0.8;\" x=\"183.763145\" xlink:href=\"#md720036fde\" y=\"66.16368\"/>\r\n     <use style=\"fill:#3ca02c;fill-opacity:0.8;stroke:#000000;stroke-opacity:0.8;\" x=\"223.19982\" xlink:href=\"#md720036fde\" y=\"130.437591\"/>\r\n     <use style=\"fill:#3ca02c;fill-opacity:0.8;stroke:#000000;stroke-opacity:0.8;\" x=\"202.315922\" xlink:href=\"#md720036fde\" y=\"122.131944\"/>\r\n     <use style=\"fill:#3ca02c;fill-opacity:0.8;stroke:#000000;stroke-opacity:0.8;\" x=\"167.622956\" xlink:href=\"#md720036fde\" y=\"101.857345\"/>\r\n     <use style=\"fill:#3ca02c;fill-opacity:0.8;stroke:#000000;stroke-opacity:0.8;\" x=\"164.930527\" xlink:href=\"#md720036fde\" y=\"101.573134\"/>\r\n     <use style=\"fill:#3ca02c;fill-opacity:0.8;stroke:#000000;stroke-opacity:0.8;\" x=\"210.16634\" xlink:href=\"#md720036fde\" y=\"96.755755\"/>\r\n     <use style=\"fill:#3ca02c;fill-opacity:0.8;stroke:#000000;stroke-opacity:0.8;\" x=\"170.215803\" xlink:href=\"#md720036fde\" y=\"131.52397\"/>\r\n     <use style=\"fill:#3ca02c;fill-opacity:0.8;stroke:#000000;stroke-opacity:0.8;\" x=\"203.929556\" xlink:href=\"#md720036fde\" y=\"171.494661\"/>\r\n     <use style=\"fill:#3ca02c;fill-opacity:0.8;stroke:#000000;stroke-opacity:0.8;\" x=\"107.493587\" xlink:href=\"#md720036fde\" y=\"171.892909\"/>\r\n     <use style=\"fill:#3ca02c;fill-opacity:0.8;stroke:#000000;stroke-opacity:0.8;\" x=\"297.405676\" xlink:href=\"#md720036fde\" y=\"121.591591\"/>\r\n     <use style=\"fill:#3ca02c;fill-opacity:0.8;stroke:#000000;stroke-opacity:0.8;\" x=\"252.813767\" xlink:href=\"#md720036fde\" y=\"123.053372\"/>\r\n     <use style=\"fill:#3ca02c;fill-opacity:0.8;stroke:#000000;stroke-opacity:0.8;\" x=\"85.230662\" xlink:href=\"#md720036fde\" y=\"109.590048\"/>\r\n     <use style=\"fill:#3ca02c;fill-opacity:0.8;stroke:#000000;stroke-opacity:0.8;\" x=\"227.798898\" xlink:href=\"#md720036fde\" y=\"182.303322\"/>\r\n     <use style=\"fill:#3ca02c;fill-opacity:0.8;stroke:#000000;stroke-opacity:0.8;\" x=\"297.814972\" xlink:href=\"#md720036fde\" y=\"122.870489\"/>\r\n     <use style=\"fill:#3ca02c;fill-opacity:0.8;stroke:#000000;stroke-opacity:0.8;\" x=\"166.992813\" xlink:href=\"#md720036fde\" y=\"201.839376\"/>\r\n     <use style=\"fill:#3ca02c;fill-opacity:0.8;stroke:#000000;stroke-opacity:0.8;\" x=\"275.336895\" xlink:href=\"#md720036fde\" y=\"133.719929\"/>\r\n     <use style=\"fill:#3ca02c;fill-opacity:0.8;stroke:#000000;stroke-opacity:0.8;\" x=\"249.560904\" xlink:href=\"#md720036fde\" y=\"71.329747\"/>\r\n     <use style=\"fill:#3ca02c;fill-opacity:0.8;stroke:#000000;stroke-opacity:0.8;\" x=\"175.870432\" xlink:href=\"#md720036fde\" y=\"110.099167\"/>\r\n     <use style=\"fill:#3ca02c;fill-opacity:0.8;stroke:#000000;stroke-opacity:0.8;\" x=\"260.838874\" xlink:href=\"#md720036fde\" y=\"103.590579\"/>\r\n     <use style=\"fill:#3ca02c;fill-opacity:0.8;stroke:#000000;stroke-opacity:0.8;\" x=\"145.541936\" xlink:href=\"#md720036fde\" y=\"146.324795\"/>\r\n     <use style=\"fill:#3ca02c;fill-opacity:0.8;stroke:#000000;stroke-opacity:0.8;\" x=\"224.768404\" xlink:href=\"#md720036fde\" y=\"158.284312\"/>\r\n     <use style=\"fill:#3ca02c;fill-opacity:0.8;stroke:#000000;stroke-opacity:0.8;\" x=\"121.463986\" xlink:href=\"#md720036fde\" y=\"204.437951\"/>\r\n     <use style=\"fill:#3ca02c;fill-opacity:0.8;stroke:#000000;stroke-opacity:0.8;\" x=\"226.438923\" xlink:href=\"#md720036fde\" y=\"85.534783\"/>\r\n     <use style=\"fill:#3ca02c;fill-opacity:0.8;stroke:#000000;stroke-opacity:0.8;\" x=\"272.303463\" xlink:href=\"#md720036fde\" y=\"177.884843\"/>\r\n     <use style=\"fill:#3ca02c;fill-opacity:0.8;stroke:#000000;stroke-opacity:0.8;\" x=\"165.562193\" xlink:href=\"#md720036fde\" y=\"130.556649\"/>\r\n     <use style=\"fill:#3ca02c;fill-opacity:0.8;stroke:#000000;stroke-opacity:0.8;\" x=\"259.151656\" xlink:href=\"#md720036fde\" y=\"147.897598\"/>\r\n     <use style=\"fill:#3ca02c;fill-opacity:0.8;stroke:#000000;stroke-opacity:0.8;\" x=\"119.35665\" xlink:href=\"#md720036fde\" y=\"82.655714\"/>\r\n     <use style=\"fill:#3ca02c;fill-opacity:0.8;stroke:#000000;stroke-opacity:0.8;\" x=\"253.07397\" xlink:href=\"#md720036fde\" y=\"71.417069\"/>\r\n     <use style=\"fill:#3ca02c;fill-opacity:0.8;stroke:#000000;stroke-opacity:0.8;\" x=\"212.231564\" xlink:href=\"#md720036fde\" y=\"128.838072\"/>\r\n     <use style=\"fill:#3ca02c;fill-opacity:0.8;stroke:#000000;stroke-opacity:0.8;\" x=\"221.721212\" xlink:href=\"#md720036fde\" y=\"105.822793\"/>\r\n     <use style=\"fill:#3ca02c;fill-opacity:0.8;stroke:#000000;stroke-opacity:0.8;\" x=\"282.820311\" xlink:href=\"#md720036fde\" y=\"88.505543\"/>\r\n     <use style=\"fill:#3ca02c;fill-opacity:0.8;stroke:#000000;stroke-opacity:0.8;\" x=\"243.662184\" xlink:href=\"#md720036fde\" y=\"169.803451\"/>\r\n     <use style=\"fill:#3ca02c;fill-opacity:0.8;stroke:#000000;stroke-opacity:0.8;\" x=\"155.308486\" xlink:href=\"#md720036fde\" y=\"100.115721\"/>\r\n     <use style=\"fill:#3ca02c;fill-opacity:0.8;stroke:#000000;stroke-opacity:0.8;\" x=\"308.068679\" xlink:href=\"#md720036fde\" y=\"153.311417\"/>\r\n     <use style=\"fill:#3ca02c;fill-opacity:0.8;stroke:#000000;stroke-opacity:0.8;\" x=\"195.68208\" xlink:href=\"#md720036fde\" y=\"163.252839\"/>\r\n     <use style=\"fill:#3ca02c;fill-opacity:0.8;stroke:#000000;stroke-opacity:0.8;\" x=\"154.049615\" xlink:href=\"#md720036fde\" y=\"102.930313\"/>\r\n     <use style=\"fill:#3ca02c;fill-opacity:0.8;stroke:#000000;stroke-opacity:0.8;\" x=\"206.914999\" xlink:href=\"#md720036fde\" y=\"173.997675\"/>\r\n     <use style=\"fill:#3ca02c;fill-opacity:0.8;stroke:#000000;stroke-opacity:0.8;\" x=\"280.946474\" xlink:href=\"#md720036fde\" y=\"90.77913\"/>\r\n     <use style=\"fill:#3ca02c;fill-opacity:0.8;stroke:#000000;stroke-opacity:0.8;\" x=\"208.160109\" xlink:href=\"#md720036fde\" y=\"74.556649\"/>\r\n     <use style=\"fill:#3ca02c;fill-opacity:0.8;stroke:#000000;stroke-opacity:0.8;\" x=\"210.12129\" xlink:href=\"#md720036fde\" y=\"75.239759\"/>\r\n     <use style=\"fill:#3ca02c;fill-opacity:0.8;stroke:#000000;stroke-opacity:0.8;\" x=\"185.139232\" xlink:href=\"#md720036fde\" y=\"188.344817\"/>\r\n     <use style=\"fill:#3ca02c;fill-opacity:0.8;stroke:#000000;stroke-opacity:0.8;\" x=\"230.683237\" xlink:href=\"#md720036fde\" y=\"85.223205\"/>\r\n     <use style=\"fill:#3ca02c;fill-opacity:0.8;stroke:#000000;stroke-opacity:0.8;\" x=\"211.81933\" xlink:href=\"#md720036fde\" y=\"195.743098\"/>\r\n     <use style=\"fill:#3ca02c;fill-opacity:0.8;stroke:#000000;stroke-opacity:0.8;\" x=\"137.249411\" xlink:href=\"#md720036fde\" y=\"116.566977\"/>\r\n     <use style=\"fill:#3ca02c;fill-opacity:0.8;stroke:#000000;stroke-opacity:0.8;\" x=\"210.781306\" xlink:href=\"#md720036fde\" y=\"97.29676\"/>\r\n     <use style=\"fill:#3ca02c;fill-opacity:0.8;stroke:#000000;stroke-opacity:0.8;\" x=\"268.059149\" xlink:href=\"#md720036fde\" y=\"178.196421\"/>\r\n     <use style=\"fill:#3ca02c;fill-opacity:0.8;stroke:#000000;stroke-opacity:0.8;\" x=\"152.819683\" xlink:href=\"#md720036fde\" y=\"101.848303\"/>\r\n     <use style=\"fill:#3ca02c;fill-opacity:0.8;stroke:#000000;stroke-opacity:0.8;\" x=\"139.168297\" xlink:href=\"#md720036fde\" y=\"135.809386\"/>\r\n     <use style=\"fill:#3ca02c;fill-opacity:0.8;stroke:#000000;stroke-opacity:0.8;\" x=\"138.231379\" xlink:href=\"#md720036fde\" y=\"136.946179\"/>\r\n     <use style=\"fill:#3ca02c;fill-opacity:0.8;stroke:#000000;stroke-opacity:0.8;\" x=\"143.093598\" xlink:href=\"#md720036fde\" y=\"68.991682\"/>\r\n     <use style=\"fill:#3ca02c;fill-opacity:0.8;stroke:#000000;stroke-opacity:0.8;\" x=\"170.963163\" xlink:href=\"#md720036fde\" y=\"156.537668\"/>\r\n     <use style=\"fill:#3ca02c;fill-opacity:0.8;stroke:#000000;stroke-opacity:0.8;\" x=\"161.06422\" xlink:href=\"#md720036fde\" y=\"178.274049\"/>\r\n     <use style=\"fill:#3ca02c;fill-opacity:0.8;stroke:#000000;stroke-opacity:0.8;\" x=\"207.896968\" xlink:href=\"#md720036fde\" y=\"194.376877\"/>\r\n     <use style=\"fill:#3ca02c;fill-opacity:0.8;stroke:#000000;stroke-opacity:0.8;\" x=\"185.769376\" xlink:href=\"#md720036fde\" y=\"88.362786\"/>\r\n     <use style=\"fill:#3ca02c;fill-opacity:0.8;stroke:#000000;stroke-opacity:0.8;\" x=\"112.352867\" xlink:href=\"#md720036fde\" y=\"172.122336\"/>\r\n     <use style=\"fill:#3ca02c;fill-opacity:0.8;stroke:#000000;stroke-opacity:0.8;\" x=\"200.676693\" xlink:href=\"#md720036fde\" y=\"119.771035\"/>\r\n     <use style=\"fill:#3ca02c;fill-opacity:0.8;stroke:#000000;stroke-opacity:0.8;\" x=\"166.586455\" xlink:href=\"#md720036fde\" y=\"132.376552\"/>\r\n     <use style=\"fill:#3ca02c;fill-opacity:0.8;stroke:#000000;stroke-opacity:0.8;\" x=\"254.77201\" xlink:href=\"#md720036fde\" y=\"191.920407\"/>\r\n     <use style=\"fill:#3ca02c;fill-opacity:0.8;stroke:#000000;stroke-opacity:0.8;\" x=\"312.634945\" xlink:href=\"#md720036fde\" y=\"151.322041\"/>\r\n     <use style=\"fill:#3ca02c;fill-opacity:0.8;stroke:#000000;stroke-opacity:0.8;\" x=\"179.123295\" xlink:href=\"#md720036fde\" y=\"161.822792\"/>\r\n     <use style=\"fill:#3ca02c;fill-opacity:0.8;stroke:#000000;stroke-opacity:0.8;\" x=\"143.753614\" xlink:href=\"#md720036fde\" y=\"91.048683\"/>\r\n     <use style=\"fill:#3ca02c;fill-opacity:0.8;stroke:#000000;stroke-opacity:0.8;\" x=\"168.956932\" xlink:href=\"#md720036fde\" y=\"134.338562\"/>\r\n     <use style=\"fill:#3ca02c;fill-opacity:0.8;stroke:#000000;stroke-opacity:0.8;\" x=\"227.389602\" xlink:href=\"#md720036fde\" y=\"181.024423\"/>\r\n     <use style=\"fill:#3ca02c;fill-opacity:0.8;stroke:#000000;stroke-opacity:0.8;\" x=\"206.286272\" xlink:href=\"#md720036fde\" y=\"76.830236\"/>\r\n     <use style=\"fill:#3ca02c;fill-opacity:0.8;stroke:#000000;stroke-opacity:0.8;\" x=\"150.810513\" xlink:href=\"#md720036fde\" y=\"147.833121\"/>\r\n     <use style=\"fill:#3ca02c;fill-opacity:0.8;stroke:#000000;stroke-opacity:0.8;\" x=\"218.823112\" xlink:href=\"#md720036fde\" y=\"106.276476\"/>\r\n     <use style=\"fill:#3ca02c;fill-opacity:0.8;stroke:#000000;stroke-opacity:0.8;\" x=\"130.634619\" xlink:href=\"#md720036fde\" y=\"114.916546\"/>\r\n     <use style=\"fill:#3ca02c;fill-opacity:0.8;stroke:#000000;stroke-opacity:0.8;\" x=\"270.283471\" xlink:href=\"#md720036fde\" y=\"59.059303\"/>\r\n     <use style=\"fill:#3ca02c;fill-opacity:0.8;stroke:#000000;stroke-opacity:0.8;\" x=\"197.324247\" xlink:href=\"#md720036fde\" y=\"97.429823\"/>\r\n     <use style=\"fill:#3ca02c;fill-opacity:0.8;stroke:#000000;stroke-opacity:0.8;\" x=\"283.551559\" xlink:href=\"#md720036fde\" y=\"88.106643\"/>\r\n     <use style=\"fill:#3ca02c;fill-opacity:0.8;stroke:#000000;stroke-opacity:0.8;\" x=\"126.309505\" xlink:href=\"#md720036fde\" y=\"108.040945\"/>\r\n     <use style=\"fill:#3ca02c;fill-opacity:0.8;stroke:#000000;stroke-opacity:0.8;\" x=\"287.473921\" xlink:href=\"#md720036fde\" y=\"89.472864\"/>\r\n     <use style=\"fill:#3ca02c;fill-opacity:0.8;stroke:#000000;stroke-opacity:0.8;\" x=\"224.136739\" xlink:href=\"#md720036fde\" y=\"129.300798\"/>\r\n     <use style=\"fill:#3ca02c;fill-opacity:0.8;stroke:#000000;stroke-opacity:0.8;\" x=\"180.24714\" xlink:href=\"#md720036fde\" y=\"134.260282\"/>\r\n     <use style=\"fill:#3ca02c;fill-opacity:0.8;stroke:#000000;stroke-opacity:0.8;\" x=\"225.106469\" xlink:href=\"#md720036fde\" y=\"182.019112\"/>\r\n     <use style=\"fill:#3ca02c;fill-opacity:0.8;stroke:#000000;stroke-opacity:0.8;\" x=\"229.438127\" xlink:href=\"#md720036fde\" y=\"184.664231\"/>\r\n     <use style=\"fill:#3ca02c;fill-opacity:0.8;stroke:#000000;stroke-opacity:0.8;\" x=\"227.649805\" xlink:href=\"#md720036fde\" y=\"129.38812\"/>\r\n     <use style=\"fill:#3ca02c;fill-opacity:0.8;stroke:#000000;stroke-opacity:0.8;\" x=\"259.766623\" xlink:href=\"#md720036fde\" y=\"148.438603\"/>\r\n     <use style=\"fill:#3ca02c;fill-opacity:0.8;stroke:#000000;stroke-opacity:0.8;\" x=\"252.283207\" xlink:href=\"#md720036fde\" y=\"193.652989\"/>\r\n     <use style=\"fill:#3ca02c;fill-opacity:0.8;stroke:#000000;stroke-opacity:0.8;\" x=\"210.270383\" xlink:href=\"#md720036fde\" y=\"128.154962\"/>\r\n     <use style=\"fill:#3ca02c;fill-opacity:0.8;stroke:#000000;stroke-opacity:0.8;\" x=\"277.707372\" xlink:href=\"#md720036fde\" y=\"135.681938\"/>\r\n     <use style=\"fill:#3ca02c;fill-opacity:0.8;stroke:#000000;stroke-opacity:0.8;\" x=\"157.678963\" xlink:href=\"#md720036fde\" y=\"102.07773\"/>\r\n     <use style=\"fill:#3ca02c;fill-opacity:0.8;stroke:#000000;stroke-opacity:0.8;\" x=\"251.112789\" xlink:href=\"#md720036fde\" y=\"70.733958\"/>\r\n     <use style=\"fill:#3ca02c;fill-opacity:0.8;stroke:#000000;stroke-opacity:0.8;\" x=\"251.876849\" xlink:href=\"#md720036fde\" y=\"124.190166\"/>\r\n     <use style=\"fill:#3ca02c;fill-opacity:0.8;stroke:#000000;stroke-opacity:0.8;\" x=\"245.268602\" xlink:href=\"#md720036fde\" y=\"118.309253\"/>\r\n     <use style=\"fill:#3ca02c;fill-opacity:0.8;stroke:#000000;stroke-opacity:0.8;\" x=\"196.297046\" xlink:href=\"#md720036fde\" y=\"163.793844\"/>\r\n     <use style=\"fill:#3ca02c;fill-opacity:0.8;stroke:#000000;stroke-opacity:0.8;\" x=\"150.401217\" xlink:href=\"#md720036fde\" y=\"146.554222\"/>\r\n     <use style=\"fill:#3ca02c;fill-opacity:0.8;stroke:#000000;stroke-opacity:0.8;\" x=\"255.434964\" xlink:href=\"#md720036fde\" y=\"145.793484\"/>\r\n     <use style=\"fill:#3ca02c;fill-opacity:0.8;stroke:#000000;stroke-opacity:0.8;\" x=\"267.07718\" xlink:href=\"#md720036fde\" y=\"157.817219\"/>\r\n     <use style=\"fill:#3ca02c;fill-opacity:0.8;stroke:#000000;stroke-opacity:0.8;\" x=\"279.259257\" xlink:href=\"#md720036fde\" y=\"135.08615\"/>\r\n     <use style=\"fill:#3ca02c;fill-opacity:0.8;stroke:#000000;stroke-opacity:0.8;\" x=\"256.868523\" xlink:href=\"#md720036fde\" y=\"148.892286\"/>\r\n     <use style=\"fill:#3ca02c;fill-opacity:0.8;stroke:#000000;stroke-opacity:0.8;\" x=\"210.267445\" xlink:href=\"#md720036fde\" y=\"196.338886\"/>\r\n     <use style=\"fill:#3ca02c;fill-opacity:0.8;stroke:#000000;stroke-opacity:0.8;\" x=\"164.592463\" xlink:href=\"#md720036fde\" y=\"77.838335\"/>\r\n     <use style=\"fill:#3ca02c;fill-opacity:0.8;stroke:#000000;stroke-opacity:0.8;\" x=\"136.885164\" xlink:href=\"#md720036fde\" y=\"136.804074\"/>\r\n     <use style=\"fill:#3ca02c;fill-opacity:0.8;stroke:#000000;stroke-opacity:0.8;\" x=\"169.938901\" xlink:href=\"#md720036fde\" y=\"154.717764\"/>\r\n     <use style=\"fill:#3ca02c;fill-opacity:0.8;stroke:#000000;stroke-opacity:0.8;\" x=\"217.750861\" xlink:href=\"#md720036fde\" y=\"151.124501\"/>\r\n     <use style=\"fill:#3ca02c;fill-opacity:0.8;stroke:#000000;stroke-opacity:0.8;\" x=\"309.942516\" xlink:href=\"#md720036fde\" y=\"151.03783\"/>\r\n     <use style=\"fill:#3ca02c;fill-opacity:0.8;stroke:#000000;stroke-opacity:0.8;\" x=\"301.035024\" xlink:href=\"#md720036fde\" y=\"120.739008\"/>\r\n     <use style=\"fill:#3ca02c;fill-opacity:0.8;stroke:#000000;stroke-opacity:0.8;\" x=\"209.861087\" xlink:href=\"#md720036fde\" y=\"126.876063\"/>\r\n     <use style=\"fill:#3ca02c;fill-opacity:0.8;stroke:#000000;stroke-opacity:0.8;\" x=\"152.00109\" xlink:href=\"#md720036fde\" y=\"99.290505\"/>\r\n     <use style=\"fill:#3ca02c;fill-opacity:0.8;stroke:#000000;stroke-opacity:0.8;\" x=\"93.523188\" xlink:href=\"#md720036fde\" y=\"139.347866\"/>\r\n     <use style=\"fill:#3ca02c;fill-opacity:0.8;stroke:#000000;stroke-opacity:0.8;\" x=\"187.831662\" xlink:href=\"#md720036fde\" y=\"188.629027\"/>\r\n     <use style=\"fill:#3ca02c;fill-opacity:0.8;stroke:#000000;stroke-opacity:0.8;\" x=\"256.253557\" xlink:href=\"#md720036fde\" y=\"148.351281\"/>\r\n     <use style=\"fill:#3ca02c;fill-opacity:0.8;stroke:#000000;stroke-opacity:0.8;\" x=\"142.816696\" xlink:href=\"#md720036fde\" y=\"92.185477\"/>\r\n     <use style=\"fill:#3ca02c;fill-opacity:0.8;stroke:#000000;stroke-opacity:0.8;\" x=\"167.301004\" xlink:href=\"#md720036fde\" y=\"103.535143\"/>\r\n     <use style=\"fill:#3ca02c;fill-opacity:0.8;stroke:#000000;stroke-opacity:0.8;\" x=\"269.259208\" xlink:href=\"#md720036fde\" y=\"57.239399\"/>\r\n     <use style=\"fill:#3ca02c;fill-opacity:0.8;stroke:#000000;stroke-opacity:0.8;\" x=\"200.709504\" xlink:href=\"#md720036fde\" y=\"173.626142\"/>\r\n     <use style=\"fill:#3ca02c;fill-opacity:0.8;stroke:#000000;stroke-opacity:0.8;\" x=\"186.793638\" xlink:href=\"#md720036fde\" y=\"90.18269\"/>\r\n     <use style=\"fill:#3ca02c;fill-opacity:0.8;stroke:#000000;stroke-opacity:0.8;\" x=\"202.055719\" xlink:href=\"#md720036fde\" y=\"173.768248\"/>\r\n     <use style=\"fill:#3ca02c;fill-opacity:0.8;stroke:#000000;stroke-opacity:0.8;\" x=\"208.820125\" xlink:href=\"#md720036fde\" y=\"96.61365\"/>\r\n     <use style=\"fill:#3ca02c;fill-opacity:0.8;stroke:#000000;stroke-opacity:0.8;\" x=\"228.059101\" xlink:href=\"#md720036fde\" y=\"130.667019\"/>\r\n     <use style=\"fill:#3ca02c;fill-opacity:0.8;stroke:#000000;stroke-opacity:0.8;\" x=\"155.031584\" xlink:href=\"#md720036fde\" y=\"123.309515\"/>\r\n     <use style=\"fill:#3ca02c;fill-opacity:0.8;stroke:#000000;stroke-opacity:0.8;\" x=\"227.740087\" xlink:href=\"#md720036fde\" y=\"64.160893\"/>\r\n     <use style=\"fill:#3ca02c;fill-opacity:0.8;stroke:#000000;stroke-opacity:0.8;\" x=\"168.647219\" xlink:href=\"#md720036fde\" y=\"103.677249\"/>\r\n     <use style=\"fill:#3ca02c;fill-opacity:0.8;stroke:#000000;stroke-opacity:0.8;\" x=\"146.069559\" xlink:href=\"#md720036fde\" y=\"143.909102\"/>\r\n     <use style=\"fill:#3ca02c;fill-opacity:0.8;stroke:#000000;stroke-opacity:0.8;\" x=\"142.771646\" xlink:href=\"#md720036fde\" y=\"70.669481\"/>\r\n     <use style=\"fill:#3ca02c;fill-opacity:0.8;stroke:#000000;stroke-opacity:0.8;\" x=\"149.78625\" xlink:href=\"#md720036fde\" y=\"146.013217\"/>\r\n     <use style=\"fill:#3ca02c;fill-opacity:0.8;stroke:#000000;stroke-opacity:0.8;\" x=\"209.945493\" xlink:href=\"#md720036fde\" y=\"198.016685\"/>\r\n     <use style=\"fill:#3ca02c;fill-opacity:0.8;stroke:#000000;stroke-opacity:0.8;\" x=\"268.11662\" xlink:href=\"#md720036fde\" y=\"59.114087\"/>\r\n     <use style=\"fill:#3ca02c;fill-opacity:0.8;stroke:#000000;stroke-opacity:0.8;\" x=\"212.228626\" xlink:href=\"#md720036fde\" y=\"197.021997\"/>\r\n     <use style=\"fill:#3ca02c;fill-opacity:0.8;stroke:#000000;stroke-opacity:0.8;\" x=\"243.307421\" xlink:href=\"#md720036fde\" y=\"117.626143\"/>\r\n     <use style=\"fill:#3ca02c;fill-opacity:0.8;stroke:#000000;stroke-opacity:0.8;\" x=\"248.22845\" xlink:href=\"#md720036fde\" y=\"167.814075\"/>\r\n     <use style=\"fill:#3ca02c;fill-opacity:0.8;stroke:#000000;stroke-opacity:0.8;\" x=\"256.118224\" xlink:href=\"#md720036fde\" y=\"192.062513\"/>\r\n     <use style=\"fill:#3ca02c;fill-opacity:0.8;stroke:#000000;stroke-opacity:0.8;\" x=\"184.169502\" xlink:href=\"#md720036fde\" y=\"135.626503\"/>\r\n     <use style=\"fill:#3ca02c;fill-opacity:0.8;stroke:#000000;stroke-opacity:0.8;\" x=\"150.855563\" xlink:href=\"#md720036fde\" y=\"169.349117\"/>\r\n     <use style=\"fill:#3ca02c;fill-opacity:0.8;stroke:#000000;stroke-opacity:0.8;\" x=\"206.550753\" xlink:href=\"#md720036fde\" y=\"194.234772\"/>\r\n     <use style=\"fill:#3ca02c;fill-opacity:0.8;stroke:#000000;stroke-opacity:0.8;\" x=\"267.298027\" xlink:href=\"#md720036fde\" y=\"56.556289\"/>\r\n     <use style=\"fill:#3ca02c;fill-opacity:0.8;stroke:#000000;stroke-opacity:0.8;\" x=\"296.79071\" xlink:href=\"#md720036fde\" y=\"121.050586\"/>\r\n     <use style=\"fill:#3ca02c;fill-opacity:0.8;stroke:#000000;stroke-opacity:0.8;\" x=\"239.252665\" xlink:href=\"#md720036fde\" y=\"91.787229\"/>\r\n     <use style=\"fill:#3ca02c;fill-opacity:0.8;stroke:#000000;stroke-opacity:0.8;\" x=\"144.195722\" xlink:href=\"#md720036fde\" y=\"146.182689\"/>\r\n     <use style=\"fill:#3ca02c;fill-opacity:0.8;stroke:#000000;stroke-opacity:0.8;\" x=\"81.395644\" xlink:href=\"#md720036fde\" y=\"111.180525\"/>\r\n     <use style=\"fill:#3ca02c;fill-opacity:0.8;stroke:#000000;stroke-opacity:0.8;\" x=\"211.909612\" xlink:href=\"#md720036fde\" y=\"130.515871\"/>\r\n     <use style=\"fill:#3ca02c;fill-opacity:0.8;stroke:#000000;stroke-opacity:0.8;\" x=\"279.668553\" xlink:href=\"#md720036fde\" y=\"136.365048\"/>\r\n     <use style=\"fill:#3ca02c;fill-opacity:0.8;stroke:#000000;stroke-opacity:0.8;\" x=\"183.486243\" xlink:href=\"#md720036fde\" y=\"89.357474\"/>\r\n     <use style=\"fill:#3ca02c;fill-opacity:0.8;stroke:#000000;stroke-opacity:0.8;\" x=\"256.736129\" xlink:href=\"#md720036fde\" y=\"124.419593\"/>\r\n     <use style=\"fill:#3ca02c;fill-opacity:0.8;stroke:#000000;stroke-opacity:0.8;\" x=\"154.094665\" xlink:href=\"#md720036fde\" y=\"124.446308\"/>\r\n     <use style=\"fill:#3ca02c;fill-opacity:0.8;stroke:#000000;stroke-opacity:0.8;\" x=\"229.131352\" xlink:href=\"#md720036fde\" y=\"85.818994\"/>\r\n     <use style=\"fill:#3ca02c;fill-opacity:0.8;stroke:#000000;stroke-opacity:0.8;\" x=\"256.781179\" xlink:href=\"#md720036fde\" y=\"145.935589\"/>\r\n     <use style=\"fill:#3ca02c;fill-opacity:0.8;stroke:#000000;stroke-opacity:0.8;\" x=\"96.830584\" xlink:href=\"#md720036fde\" y=\"140.173082\"/>\r\n     <use style=\"fill:#3ca02c;fill-opacity:0.8;stroke:#000000;stroke-opacity:0.8;\" x=\"214.237795\" xlink:href=\"#md720036fde\" y=\"151.037179\"/>\r\n     <use style=\"fill:#3ca02c;fill-opacity:0.8;stroke:#000000;stroke-opacity:0.8;\" x=\"293.757278\" xlink:href=\"#md720036fde\" y=\"165.2155\"/>\r\n     <use style=\"fill:#3ca02c;fill-opacity:0.8;stroke:#000000;stroke-opacity:0.8;\" x=\"220.169327\" xlink:href=\"#md720036fde\" y=\"106.418581\"/>\r\n     <use style=\"fill:#3ca02c;fill-opacity:0.8;stroke:#000000;stroke-opacity:0.8;\" x=\"229.086302\" xlink:href=\"#md720036fde\" y=\"64.302998\"/>\r\n     <use style=\"fill:#3ca02c;fill-opacity:0.8;stroke:#000000;stroke-opacity:0.8;\" x=\"251.87391\" xlink:href=\"#md720036fde\" y=\"192.37409\"/>\r\n     <use style=\"fill:#3ca02c;fill-opacity:0.8;stroke:#000000;stroke-opacity:0.8;\" x=\"194.016852\" xlink:href=\"#md720036fde\" y=\"96.604608\"/>\r\n     <use style=\"fill:#3ca02c;fill-opacity:0.8;stroke:#000000;stroke-opacity:0.8;\" x=\"260.703541\" xlink:href=\"#md720036fde\" y=\"147.30181\"/>\r\n     <use style=\"fill:#3ca02c;fill-opacity:0.8;stroke:#000000;stroke-opacity:0.8;\" x=\"184.801168\" xlink:href=\"#md720036fde\" y=\"164.610017\"/>\r\n     <use style=\"fill:#3ca02c;fill-opacity:0.8;stroke:#000000;stroke-opacity:0.8;\" x=\"249.912729\" xlink:href=\"#md720036fde\" y=\"191.69098\"/>\r\n     <use style=\"fill:#3ca02c;fill-opacity:0.8;stroke:#000000;stroke-opacity:0.8;\" x=\"155.39583\" xlink:href=\"#md720036fde\" y=\"103.072418\"/>\r\n     <use style=\"fill:#3ca02c;fill-opacity:0.8;stroke:#000000;stroke-opacity:0.8;\" x=\"178.768532\" xlink:href=\"#md720036fde\" y=\"109.645484\"/>\r\n     <use style=\"fill:#3ca02c;fill-opacity:0.8;stroke:#000000;stroke-opacity:0.8;\" x=\"204.189759\" xlink:href=\"#md720036fde\" y=\"119.858357\"/>\r\n     <use style=\"fill:#3ca02c;fill-opacity:0.8;stroke:#000000;stroke-opacity:0.8;\" x=\"181.184059\" xlink:href=\"#md720036fde\" y=\"133.123489\"/>\r\n     <use style=\"fill:#3ca02c;fill-opacity:0.8;stroke:#000000;stroke-opacity:0.8;\" x=\"119.765946\" xlink:href=\"#md720036fde\" y=\"83.934613\"/>\r\n     <use style=\"fill:#3ca02c;fill-opacity:0.8;stroke:#000000;stroke-opacity:0.8;\" x=\"229.658974\" xlink:href=\"#md720036fde\" y=\"83.403302\"/>\r\n     <use style=\"fill:#3ca02c;fill-opacity:0.8;stroke:#000000;stroke-opacity:0.8;\" x=\"142.407399\" xlink:href=\"#md720036fde\" y=\"90.906578\"/>\r\n     <use style=\"fill:#3ca02c;fill-opacity:0.8;stroke:#000000;stroke-opacity:0.8;\" x=\"244.566291\" xlink:href=\"#md720036fde\" y=\"114.811551\"/>\r\n     <use style=\"fill:#3ca02c;fill-opacity:0.8;stroke:#000000;stroke-opacity:0.8;\" x=\"211.190603\" xlink:href=\"#md720036fde\" y=\"98.575659\"/>\r\n     <use style=\"fill:#3ca02c;fill-opacity:0.8;stroke:#000000;stroke-opacity:0.8;\" x=\"222.075975\" xlink:href=\"#md720036fde\" y=\"158.000101\"/>\r\n     <use style=\"fill:#3ca02c;fill-opacity:0.8;stroke:#000000;stroke-opacity:0.8;\" x=\"283.229607\" xlink:href=\"#md720036fde\" y=\"89.784442\"/>\r\n     <use style=\"fill:#3ca02c;fill-opacity:0.8;stroke:#000000;stroke-opacity:0.8;\" x=\"151.470529\" xlink:href=\"#md720036fde\" y=\"169.890122\"/>\r\n     <use style=\"fill:#3ca02c;fill-opacity:0.8;stroke:#000000;stroke-opacity:0.8;\" x=\"266.784166\" xlink:href=\"#md720036fde\" y=\"155.598415\"/>\r\n     <use style=\"fill:#3ca02c;fill-opacity:0.8;stroke:#000000;stroke-opacity:0.8;\" x=\"261.775792\" xlink:href=\"#md720036fde\" y=\"102.453785\"/>\r\n     <use style=\"fill:#3ca02c;fill-opacity:0.8;stroke:#000000;stroke-opacity:0.8;\" x=\"240.936944\" xlink:href=\"#md720036fde\" y=\"115.664133\"/>\r\n     <use style=\"fill:#3ca02c;fill-opacity:0.8;stroke:#000000;stroke-opacity:0.8;\" x=\"146.478855\" xlink:href=\"#md720036fde\" y=\"145.188001\"/>\r\n     <use style=\"fill:#3ca02c;fill-opacity:0.8;stroke:#000000;stroke-opacity:0.8;\" x=\"227.476946\" xlink:href=\"#md720036fde\" y=\"183.981121\"/>\r\n     <use style=\"fill:#3ca02c;fill-opacity:0.8;stroke:#000000;stroke-opacity:0.8;\" x=\"118.771556\" xlink:href=\"#md720036fde\" y=\"204.15374\"/>\r\n     <use style=\"fill:#3ca02c;fill-opacity:0.8;stroke:#000000;stroke-opacity:0.8;\" x=\"167.610718\" xlink:href=\"#md720036fde\" y=\"134.196456\"/>\r\n     <use style=\"fill:#3ca02c;fill-opacity:0.8;stroke:#000000;stroke-opacity:0.8;\" x=\"164.416666\" xlink:href=\"#md720036fde\" y=\"200.61526\"/>\r\n     <use style=\"fill:#3ca02c;fill-opacity:0.8;stroke:#000000;stroke-opacity:0.8;\" x=\"208.292503\" xlink:href=\"#md720036fde\" y=\"99.029342\"/>\r\n     <use style=\"fill:#3ca02c;fill-opacity:0.8;stroke:#000000;stroke-opacity:0.8;\" x=\"148.761988\" xlink:href=\"#md720036fde\" y=\"144.193313\"/>\r\n     <use style=\"fill:#3ca02c;fill-opacity:0.8;stroke:#000000;stroke-opacity:0.8;\" x=\"221.808556\" xlink:href=\"#md720036fde\" y=\"108.77949\"/>\r\n     <use style=\"fill:#3ca02c;fill-opacity:0.8;stroke:#000000;stroke-opacity:0.8;\" x=\"212.742487\" xlink:href=\"#md720036fde\" y=\"97.979871\"/>\r\n     <use style=\"fill:#3ca02c;fill-opacity:0.8;stroke:#000000;stroke-opacity:0.8;\" x=\"216.539979\" xlink:href=\"#md720036fde\" y=\"107.271164\"/>\r\n     <use style=\"fill:#3ca02c;fill-opacity:0.8;stroke:#000000;stroke-opacity:0.8;\" x=\"162.30933\" xlink:href=\"#md720036fde\" y=\"78.833023\"/>\r\n     <use style=\"fill:#3ca02c;fill-opacity:0.8;stroke:#000000;stroke-opacity:0.8;\" x=\"219.847375\" xlink:href=\"#md720036fde\" y=\"108.09638\"/>\r\n     <use style=\"fill:#3ca02c;fill-opacity:0.8;stroke:#000000;stroke-opacity:0.8;\" x=\"163.347353\" xlink:href=\"#md720036fde\" y=\"177.279361\"/>\r\n     <use style=\"fill:#3ca02c;fill-opacity:0.8;stroke:#000000;stroke-opacity:0.8;\" x=\"250.804598\" xlink:href=\"#md720036fde\" y=\"169.038191\"/>\r\n     <use style=\"fill:#3ca02c;fill-opacity:0.8;stroke:#000000;stroke-opacity:0.8;\" x=\"143.180942\" xlink:href=\"#md720036fde\" y=\"71.94838\"/>\r\n     <use style=\"fill:#3ca02c;fill-opacity:0.8;stroke:#000000;stroke-opacity:0.8;\" x=\"278.64429\" xlink:href=\"#md720036fde\" y=\"134.545145\"/>\r\n     <use style=\"fill:#3ca02c;fill-opacity:0.8;stroke:#000000;stroke-opacity:0.8;\" x=\"296.175743\" xlink:href=\"#md720036fde\" y=\"120.50958\"/>\r\n     <use style=\"fill:#3ca02c;fill-opacity:0.8;stroke:#000000;stroke-opacity:0.8;\" x=\"162.938057\" xlink:href=\"#md720036fde\" y=\"176.000462\"/>\r\n     <use style=\"fill:#3ca02c;fill-opacity:0.8;stroke:#000000;stroke-opacity:0.8;\" x=\"209.333465\" xlink:href=\"#md720036fde\" y=\"129.291756\"/>\r\n     <use style=\"fill:#3ca02c;fill-opacity:0.8;stroke:#000000;stroke-opacity:0.8;\" x=\"291.796097\" xlink:href=\"#md720036fde\" y=\"164.532389\"/>\r\n     <use style=\"fill:#3ca02c;fill-opacity:0.8;stroke:#000000;stroke-opacity:0.8;\" x=\"238.927774\" xlink:href=\"#md720036fde\" y=\"161.648952\"/>\r\n     <use style=\"fill:#3ca02c;fill-opacity:0.8;stroke:#000000;stroke-opacity:0.8;\" x=\"165.646598\" xlink:href=\"#md720036fde\" y=\"201.69727\"/>\r\n     <use style=\"fill:#3ca02c;fill-opacity:0.8;stroke:#000000;stroke-opacity:0.8;\" x=\"241.873862\" xlink:href=\"#md720036fde\" y=\"114.52734\"/>\r\n     <use style=\"fill:#3ca02c;fill-opacity:0.8;stroke:#000000;stroke-opacity:0.8;\" x=\"223.682393\" xlink:href=\"#md720036fde\" y=\"106.505903\"/>\r\n     <use style=\"fill:#3ca02c;fill-opacity:0.8;stroke:#000000;stroke-opacity:0.8;\" x=\"242.283158\" xlink:href=\"#md720036fde\" y=\"115.806239\"/>\r\n     <use style=\"fill:#3ca02c;fill-opacity:0.8;stroke:#000000;stroke-opacity:0.8;\" x=\"201.291659\" xlink:href=\"#md720036fde\" y=\"120.31204\"/>\r\n     <use style=\"fill:#3ca02c;fill-opacity:0.8;stroke:#000000;stroke-opacity:0.8;\" x=\"265.847248\" xlink:href=\"#md720036fde\" y=\"156.735208\"/>\r\n     <use style=\"fill:#3ca02c;fill-opacity:0.8;stroke:#000000;stroke-opacity:0.8;\" x=\"267.399132\" xlink:href=\"#md720036fde\" y=\"156.13942\"/>\r\n     <use style=\"fill:#3ca02c;fill-opacity:0.8;stroke:#000000;stroke-opacity:0.8;\" x=\"125.640006\" xlink:href=\"#md720036fde\" y=\"158.398349\"/>\r\n     <use style=\"fill:#3ca02c;fill-opacity:0.8;stroke:#000000;stroke-opacity:0.8;\" x=\"271.629686\" xlink:href=\"#md720036fde\" y=\"59.201408\"/>\r\n     <use style=\"fill:#3ca02c;fill-opacity:0.8;stroke:#000000;stroke-opacity:0.8;\" x=\"309.005598\" xlink:href=\"#md720036fde\" y=\"152.174624\"/>\r\n     <use style=\"fill:#3ca02c;fill-opacity:0.8;stroke:#000000;stroke-opacity:0.8;\" x=\"169.529605\" xlink:href=\"#md720036fde\" y=\"153.438865\"/>\r\n     <use style=\"fill:#3ca02c;fill-opacity:0.8;stroke:#000000;stroke-opacity:0.8;\" x=\"284.166525\" xlink:href=\"#md720036fde\" y=\"88.647648\"/>\r\n     <use style=\"fill:#3ca02c;fill-opacity:0.8;stroke:#000000;stroke-opacity:0.8;\" x=\"284.25387\" xlink:href=\"#md720036fde\" y=\"91.604346\"/>\r\n     <use style=\"fill:#3ca02c;fill-opacity:0.8;stroke:#000000;stroke-opacity:0.8;\" x=\"156.377798\" xlink:href=\"#md720036fde\" y=\"123.45162\"/>\r\n     <use style=\"fill:#3ca02c;fill-opacity:0.8;stroke:#000000;stroke-opacity:0.8;\" x=\"141.470481\" xlink:href=\"#md720036fde\" y=\"92.043371\"/>\r\n     <use style=\"fill:#3ca02c;fill-opacity:0.8;stroke:#000000;stroke-opacity:0.8;\" x=\"106.556669\" xlink:href=\"#md720036fde\" y=\"173.029702\"/>\r\n     <use style=\"fill:#3ca02c;fill-opacity:0.8;stroke:#000000;stroke-opacity:0.8;\" x=\"179.792794\" xlink:href=\"#md720036fde\" y=\"111.465387\"/>\r\n     <use style=\"fill:#3ca02c;fill-opacity:0.8;stroke:#000000;stroke-opacity:0.8;\" x=\"102.234493\" xlink:href=\"#md720036fde\" y=\"97.970177\"/>\r\n     <use style=\"fill:#3ca02c;fill-opacity:0.8;stroke:#000000;stroke-opacity:0.8;\" x=\"138.527332\" xlink:href=\"#md720036fde\" y=\"70.981059\"/>\r\n     <use style=\"fill:#3ca02c;fill-opacity:0.8;stroke:#000000;stroke-opacity:0.8;\" x=\"81.3083\" xlink:href=\"#md720036fde\" y=\"108.223828\"/>\r\n     <use style=\"fill:#3ca02c;fill-opacity:0.8;stroke:#000000;stroke-opacity:0.8;\" x=\"154.780864\" xlink:href=\"#md720036fde\" y=\"102.531413\"/>\r\n     <use style=\"fill:#3ca02c;fill-opacity:0.8;stroke:#000000;stroke-opacity:0.8;\" x=\"182.120977\" xlink:href=\"#md720036fde\" y=\"131.986695\"/>\r\n     <use style=\"fill:#3ca02c;fill-opacity:0.8;stroke:#000000;stroke-opacity:0.8;\" x=\"240.273989\" xlink:href=\"#md720036fde\" y=\"161.791057\"/>\r\n     <use style=\"fill:#3ca02c;fill-opacity:0.8;stroke:#000000;stroke-opacity:0.8;\" x=\"208.92123\" xlink:href=\"#md720036fde\" y=\"196.196781\"/>\r\n     <use style=\"fill:#3ca02c;fill-opacity:0.8;stroke:#000000;stroke-opacity:0.8;\" x=\"140.547323\" xlink:href=\"#md720036fde\" y=\"189.806599\"/>\r\n     <use style=\"fill:#3ca02c;fill-opacity:0.8;stroke:#000000;stroke-opacity:0.8;\" x=\"265.437951\" xlink:href=\"#md720036fde\" y=\"155.45631\"/>\r\n     <use style=\"fill:#3ca02c;fill-opacity:0.8;stroke:#000000;stroke-opacity:0.8;\" x=\"126.576925\" xlink:href=\"#md720036fde\" y=\"157.261556\"/>\r\n     <use style=\"fill:#3ca02c;fill-opacity:0.8;stroke:#000000;stroke-opacity:0.8;\" x=\"149.509348\" xlink:href=\"#md720036fde\" y=\"169.207011\"/>\r\n     <use style=\"fill:#3ca02c;fill-opacity:0.8;stroke:#000000;stroke-opacity:0.8;\" x=\"183.090707\" xlink:href=\"#md720036fde\" y=\"184.705009\"/>\r\n     <use style=\"fill:#3ca02c;fill-opacity:0.8;stroke:#000000;stroke-opacity:0.8;\" x=\"228.677006\" xlink:href=\"#md720036fde\" y=\"63.024099\"/>\r\n     <use style=\"fill:#3ca02c;fill-opacity:0.8;stroke:#000000;stroke-opacity:0.8;\" x=\"99.864016\" xlink:href=\"#md720036fde\" y=\"96.008167\"/>\r\n     <use style=\"fill:#3ca02c;fill-opacity:0.8;stroke:#000000;stroke-opacity:0.8;\" x=\"292.205393\" xlink:href=\"#md720036fde\" y=\"165.811288\"/>\r\n     <use style=\"fill:#3ca02c;fill-opacity:0.8;stroke:#000000;stroke-opacity:0.8;\" x=\"254.247326\" xlink:href=\"#md720036fde\" y=\"126.152175\"/>\r\n     <use style=\"fill:#3ca02c;fill-opacity:0.8;stroke:#000000;stroke-opacity:0.8;\" x=\"212.214865\" xlink:href=\"#md720036fde\" y=\"100.395563\"/>\r\n     <use style=\"fill:#3ca02c;fill-opacity:0.8;stroke:#000000;stroke-opacity:0.8;\" x=\"284.781492\" xlink:href=\"#md720036fde\" y=\"89.188653\"/>\r\n     <use style=\"fill:#3ca02c;fill-opacity:0.8;stroke:#000000;stroke-opacity:0.8;\" x=\"206.946289\" xlink:href=\"#md720036fde\" y=\"98.887237\"/>\r\n     <use style=\"fill:#3ca02c;fill-opacity:0.8;stroke:#000000;stroke-opacity:0.8;\" x=\"154.693519\" xlink:href=\"#md720036fde\" y=\"99.574716\"/>\r\n     <use style=\"fill:#3ca02c;fill-opacity:0.8;stroke:#000000;stroke-opacity:0.8;\" x=\"139.873546\" xlink:href=\"#md720036fde\" y=\"71.123164\"/>\r\n     <use style=\"fill:#3ca02c;fill-opacity:0.8;stroke:#000000;stroke-opacity:0.8;\" x=\"225.778906\" xlink:href=\"#md720036fde\" y=\"63.477782\"/>\r\n     <use style=\"fill:#3ca02c;fill-opacity:0.8;stroke:#000000;stroke-opacity:0.8;\" x=\"244.599103\" xlink:href=\"#md720036fde\" y=\"168.666658\"/>\r\n     <use style=\"fill:#3ca02c;fill-opacity:0.8;stroke:#000000;stroke-opacity:0.8;\" x=\"236.029675\" xlink:href=\"#md720036fde\" y=\"162.102635\"/>\r\n     <use style=\"fill:#3ca02c;fill-opacity:0.8;stroke:#000000;stroke-opacity:0.8;\" x=\"116.323218\" xlink:href=\"#md720036fde\" y=\"126.820628\"/>\r\n     <use style=\"fill:#3ca02c;fill-opacity:0.8;stroke:#000000;stroke-opacity:0.8;\" x=\"137.294461\" xlink:href=\"#md720036fde\" y=\"138.082973\"/>\r\n     <use style=\"fill:#3ca02c;fill-opacity:0.8;stroke:#000000;stroke-opacity:0.8;\" x=\"93.932484\" xlink:href=\"#md720036fde\" y=\"140.626765\"/>\r\n     <use style=\"fill:#3ca02c;fill-opacity:0.8;stroke:#000000;stroke-opacity:0.8;\" x=\"183.045657\" xlink:href=\"#md720036fde\" y=\"163.189013\"/>\r\n     <use style=\"fill:#3ca02c;fill-opacity:0.8;stroke:#000000;stroke-opacity:0.8;\" x=\"238.722104\" xlink:href=\"#md720036fde\" y=\"162.386845\"/>\r\n     <use style=\"fill:#3ca02c;fill-opacity:0.8;stroke:#000000;stroke-opacity:0.8;\" x=\"141.571586\" xlink:href=\"#md720036fde\" y=\"191.626502\"/>\r\n     <use style=\"fill:#3ca02c;fill-opacity:0.8;stroke:#000000;stroke-opacity:0.8;\" x=\"100.800934\" xlink:href=\"#md720036fde\" y=\"94.871374\"/>\r\n     <use style=\"fill:#3ca02c;fill-opacity:0.8;stroke:#000000;stroke-opacity:0.8;\" x=\"145.714795\" xlink:href=\"#md720036fde\" y=\"91.731794\"/>\r\n     <use style=\"fill:#3ca02c;fill-opacity:0.8;stroke:#000000;stroke-opacity:0.8;\" x=\"194.745161\" xlink:href=\"#md720036fde\" y=\"164.389632\"/>\r\n     <use style=\"fill:#3ca02c;fill-opacity:0.8;stroke:#000000;stroke-opacity:0.8;\" x=\"191.392716\" xlink:href=\"#md720036fde\" y=\"142.048421\"/>\r\n     <use style=\"fill:#3ca02c;fill-opacity:0.8;stroke:#000000;stroke-opacity:0.8;\" x=\"236.760923\" xlink:href=\"#md720036fde\" y=\"161.703735\"/>\r\n     <use style=\"fill:#3ca02c;fill-opacity:0.8;stroke:#000000;stroke-opacity:0.8;\" x=\"188.052509\" xlink:href=\"#md720036fde\" y=\"87.368098\"/>\r\n     <use style=\"fill:#3ca02c;fill-opacity:0.8;stroke:#000000;stroke-opacity:0.8;\" x=\"267.707324\" xlink:href=\"#md720036fde\" y=\"57.835188\"/>\r\n     <use style=\"fill:#3ca02c;fill-opacity:0.8;stroke:#000000;stroke-opacity:0.8;\" x=\"237.990856\" xlink:href=\"#md720036fde\" y=\"162.785745\"/>\r\n     <use style=\"fill:#3ca02c;fill-opacity:0.8;stroke:#000000;stroke-opacity:0.8;\" x=\"185.461184\" xlink:href=\"#md720036fde\" y=\"186.667018\"/>\r\n     <use style=\"fill:#3ca02c;fill-opacity:0.8;stroke:#000000;stroke-opacity:0.8;\" x=\"197.646199\" xlink:href=\"#md720036fde\" y=\"95.752025\"/>\r\n     <use style=\"fill:#3ca02c;fill-opacity:0.8;stroke:#000000;stroke-opacity:0.8;\" x=\"143.532767\" xlink:href=\"#md720036fde\" y=\"192.309613\"/>\r\n     <use style=\"fill:#3ca02c;fill-opacity:0.8;stroke:#000000;stroke-opacity:0.8;\" x=\"169.484555\" xlink:href=\"#md720036fde\" y=\"131.922869\"/>\r\n     <use style=\"fill:#3ca02c;fill-opacity:0.8;stroke:#000000;stroke-opacity:0.8;\" x=\"251.551958\" xlink:href=\"#md720036fde\" y=\"194.051889\"/>\r\n     <use style=\"fill:#3ca02c;fill-opacity:0.8;stroke:#000000;stroke-opacity:0.8;\" x=\"199.739774\" xlink:href=\"#md720036fde\" y=\"120.907828\"/>\r\n     <use style=\"fill:#3ca02c;fill-opacity:0.8;stroke:#000000;stroke-opacity:0.8;\" x=\"207.324296\" xlink:href=\"#md720036fde\" y=\"175.276574\"/>\r\n     <use style=\"fill:#3ca02c;fill-opacity:0.8;stroke:#000000;stroke-opacity:0.8;\" x=\"240.595941\" xlink:href=\"#md720036fde\" y=\"160.113258\"/>\r\n     <use style=\"fill:#3ca02c;fill-opacity:0.8;stroke:#000000;stroke-opacity:0.8;\" x=\"193.808243\" xlink:href=\"#md720036fde\" y=\"165.526426\"/>\r\n     <use style=\"fill:#3ca02c;fill-opacity:0.8;stroke:#000000;stroke-opacity:0.8;\" x=\"229.746318\" xlink:href=\"#md720036fde\" y=\"86.359999\"/>\r\n     <use style=\"fill:#3ca02c;fill-opacity:0.8;stroke:#000000;stroke-opacity:0.8;\" x=\"181.801964\" xlink:href=\"#md720036fde\" y=\"65.480569\"/>\r\n     <use style=\"fill:#3ca02c;fill-opacity:0.8;stroke:#000000;stroke-opacity:0.8;\" x=\"209.184372\" xlink:href=\"#md720036fde\" y=\"76.376553\"/>\r\n     <use style=\"fill:#3ca02c;fill-opacity:0.8;stroke:#000000;stroke-opacity:0.8;\" x=\"159.275898\" xlink:href=\"#md720036fde\" y=\"122.997937\"/>\r\n     <use style=\"fill:#3ca02c;fill-opacity:0.8;stroke:#000000;stroke-opacity:0.8;\" x=\"282.292689\" xlink:href=\"#md720036fde\" y=\"90.921235\"/>\r\n     <use style=\"fill:#3ca02c;fill-opacity:0.8;stroke:#000000;stroke-opacity:0.8;\" x=\"181.392667\" xlink:href=\"#md720036fde\" y=\"64.20167\"/>\r\n     <use style=\"fill:#3ca02c;fill-opacity:0.8;stroke:#000000;stroke-opacity:0.8;\" x=\"210.868651\" xlink:href=\"#md720036fde\" y=\"100.253458\"/>\r\n     <use style=\"fill:#3ca02c;fill-opacity:0.8;stroke:#000000;stroke-opacity:0.8;\" x=\"152.088434\" xlink:href=\"#md720036fde\" y=\"102.247202\"/>\r\n     <use style=\"fill:#3ca02c;fill-opacity:0.8;stroke:#000000;stroke-opacity:0.8;\" x=\"253.561128\" xlink:href=\"#md720036fde\" y=\"148.067071\"/>\r\n     <use style=\"fill:#3ca02c;fill-opacity:0.8;stroke:#000000;stroke-opacity:0.8;\" x=\"270.605423\" xlink:href=\"#md720036fde\" y=\"57.381505\"/>\r\n     <use style=\"fill:#3ca02c;fill-opacity:0.8;stroke:#000000;stroke-opacity:0.8;\" x=\"79.025167\" xlink:href=\"#md720036fde\" y=\"109.218516\"/>\r\n     <use style=\"fill:#3ca02c;fill-opacity:0.8;stroke:#000000;stroke-opacity:0.8;\" x=\"106.147372\" xlink:href=\"#md720036fde\" y=\"171.750803\"/>\r\n     <use style=\"fill:#3ca02c;fill-opacity:0.8;stroke:#000000;stroke-opacity:0.8;\" x=\"294.507577\" xlink:href=\"#md720036fde\" y=\"122.045274\"/>\r\n     <use style=\"fill:#3ca02c;fill-opacity:0.8;stroke:#000000;stroke-opacity:0.8;\" x=\"151.473468\" xlink:href=\"#md720036fde\" y=\"101.706197\"/>\r\n     <use style=\"fill:#3ca02c;fill-opacity:0.8;stroke:#000000;stroke-opacity:0.8;\" x=\"227.652743\" xlink:href=\"#md720036fde\" y=\"61.204195\"/>\r\n     <use style=\"fill:#3ca02c;fill-opacity:0.8;stroke:#000000;stroke-opacity:0.8;\" x=\"237.375889\" xlink:href=\"#md720036fde\" y=\"162.24474\"/>\r\n     <use style=\"fill:#3ca02c;fill-opacity:0.8;stroke:#000000;stroke-opacity:0.8;\" x=\"241.210907\" xlink:href=\"#md720036fde\" y=\"160.654263\"/>\r\n     <use style=\"fill:#3ca02c;fill-opacity:0.8;stroke:#000000;stroke-opacity:0.8;\" x=\"229.350783\" xlink:href=\"#md720036fde\" y=\"181.707534\"/>\r\n     <use style=\"fill:#3ca02c;fill-opacity:0.8;stroke:#000000;stroke-opacity:0.8;\" x=\"124.362085\" xlink:href=\"#md720036fde\" y=\"203.984268\"/>\r\n     <use style=\"fill:#3ca02c;fill-opacity:0.8;stroke:#000000;stroke-opacity:0.8;\" x=\"184.846218\" xlink:href=\"#md720036fde\" y=\"186.126013\"/>\r\n     <use style=\"fill:#3ca02c;fill-opacity:0.8;stroke:#000000;stroke-opacity:0.8;\" x=\"247.291532\" xlink:href=\"#md720036fde\" y=\"168.950869\"/>\r\n     <use style=\"fill:#3ca02c;fill-opacity:0.8;stroke:#000000;stroke-opacity:0.8;\" x=\"165.339823\" xlink:href=\"#md720036fde\" y=\"102.852033\"/>\r\n     <use style=\"fill:#3ca02c;fill-opacity:0.8;stroke:#000000;stroke-opacity:0.8;\" x=\"292.820359\" xlink:href=\"#md720036fde\" y=\"166.352293\"/>\r\n     <use style=\"fill:#3ca02c;fill-opacity:0.8;stroke:#000000;stroke-opacity:0.8;\" x=\"291.18113\" xlink:href=\"#md720036fde\" y=\"163.991384\"/>\r\n     <use style=\"fill:#3ca02c;fill-opacity:0.8;stroke:#000000;stroke-opacity:0.8;\" x=\"204.0169\" xlink:href=\"#md720036fde\" y=\"174.451358\"/>\r\n     <use style=\"fill:#3ca02c;fill-opacity:0.8;stroke:#000000;stroke-opacity:0.8;\" x=\"274.67394\" xlink:href=\"#md720036fde\" y=\"179.846852\"/>\r\n     <use style=\"fill:#3ca02c;fill-opacity:0.8;stroke:#000000;stroke-opacity:0.8;\" x=\"253.220125\" xlink:href=\"#md720036fde\" y=\"192.516196\"/>\r\n     <use style=\"fill:#3ca02c;fill-opacity:0.8;stroke:#000000;stroke-opacity:0.8;\" x=\"270.429626\" xlink:href=\"#md720036fde\" y=\"180.15843\"/>\r\n     <use style=\"fill:#3ca02c;fill-opacity:0.8;stroke:#000000;stroke-opacity:0.8;\" x=\"205.27577\" xlink:href=\"#md720036fde\" y=\"171.636766\"/>\r\n     <use style=\"fill:#3ca02c;fill-opacity:0.8;stroke:#000000;stroke-opacity:0.8;\" x=\"207.883207\" xlink:href=\"#md720036fde\" y=\"97.750443\"/>\r\n     <use style=\"fill:#3ca02c;fill-opacity:0.8;stroke:#000000;stroke-opacity:0.8;\" x=\"290.537226\" xlink:href=\"#md720036fde\" y=\"167.346981\"/>\r\n     <use style=\"fill:#3ca02c;fill-opacity:0.8;stroke:#000000;stroke-opacity:0.8;\" x=\"224.429753\" xlink:href=\"#md720036fde\" y=\"131.519601\"/>\r\n     <use style=\"fill:#3ca02c;fill-opacity:0.8;stroke:#000000;stroke-opacity:0.8;\" x=\"244.244339\" xlink:href=\"#md720036fde\" y=\"116.489349\"/>\r\n     <use style=\"fill:#3ca02c;fill-opacity:0.8;stroke:#000000;stroke-opacity:0.8;\" x=\"229.613924\" xlink:href=\"#md720036fde\" y=\"61.887306\"/>\r\n     <use style=\"fill:#3ca02c;fill-opacity:0.8;stroke:#000000;stroke-opacity:0.8;\" x=\"197.733543\" xlink:href=\"#md720036fde\" y=\"98.708722\"/>\r\n     <use style=\"fill:#3ca02c;fill-opacity:0.8;stroke:#000000;stroke-opacity:0.8;\" x=\"165.308534\" xlink:href=\"#md720036fde\" y=\"177.962471\"/>\r\n     <use style=\"fill:#3ca02c;fill-opacity:0.8;stroke:#000000;stroke-opacity:0.8;\" x=\"213.828499\" xlink:href=\"#md720036fde\" y=\"149.75828\"/>\r\n     <use style=\"fill:#3ca02c;fill-opacity:0.8;stroke:#000000;stroke-opacity:0.8;\" x=\"181.21687\" xlink:href=\"#md720036fde\" y=\"186.978596\"/>\r\n     <use style=\"fill:#3ca02c;fill-opacity:0.8;stroke:#000000;stroke-opacity:0.8;\" x=\"268.996067\" xlink:href=\"#md720036fde\" y=\"177.059627\"/>\r\n     <use style=\"fill:#3ca02c;fill-opacity:0.8;stroke:#000000;stroke-opacity:0.8;\" x=\"97.854846\" xlink:href=\"#md720036fde\" y=\"141.992986\"/>\r\n     <use style=\"fill:#3ca02c;fill-opacity:0.8;stroke:#000000;stroke-opacity:0.8;\" x=\"178.49163\" xlink:href=\"#md720036fde\" y=\"132.839278\"/>\r\n     <use style=\"fill:#3ca02c;fill-opacity:0.8;stroke:#000000;stroke-opacity:0.8;\" x=\"280.196175\" xlink:href=\"#md720036fde\" y=\"133.949356\"/>\r\n     <use style=\"fill:#3ca02c;fill-opacity:0.8;stroke:#000000;stroke-opacity:0.8;\" x=\"157.724013\" xlink:href=\"#md720036fde\" y=\"123.593726\"/>\r\n     <use style=\"fill:#3ca02c;fill-opacity:0.8;stroke:#000000;stroke-opacity:0.8;\" x=\"121.991608\" xlink:href=\"#md720036fde\" y=\"202.022259\"/>\r\n     <use style=\"fill:#3ca02c;fill-opacity:0.8;stroke:#000000;stroke-opacity:0.8;\" x=\"245.008399\" xlink:href=\"#md720036fde\" y=\"169.945557\"/>\r\n     <use style=\"fill:#3ca02c;fill-opacity:0.8;stroke:#000000;stroke-opacity:0.8;\" x=\"273.912819\" xlink:href=\"#md720036fde\" y=\"58.20672\"/>\r\n     <use style=\"fill:#3ca02c;fill-opacity:0.8;stroke:#000000;stroke-opacity:0.8;\" x=\"82.741859\" xlink:href=\"#md720036fde\" y=\"111.32263\"/>\r\n     <use style=\"fill:#3ca02c;fill-opacity:0.8;stroke:#000000;stroke-opacity:0.8;\" x=\"147.503117\" xlink:href=\"#md720036fde\" y=\"147.007905\"/>\r\n     <use style=\"fill:#3ca02c;fill-opacity:0.8;stroke:#000000;stroke-opacity:0.8;\" x=\"312.312993\" xlink:href=\"#md720036fde\" y=\"152.99984\"/>\r\n     <use style=\"fill:#3ca02c;fill-opacity:0.8;stroke:#000000;stroke-opacity:0.8;\" x=\"267.721084\" xlink:href=\"#md720036fde\" y=\"154.461621\"/>\r\n     <use style=\"fill:#3ca02c;fill-opacity:0.8;stroke:#000000;stroke-opacity:0.8;\" x=\"274.399976\" xlink:href=\"#md720036fde\" y=\"134.856722\"/>\r\n     <use style=\"fill:#3ca02c;fill-opacity:0.8;stroke:#000000;stroke-opacity:0.8;\" x=\"299.688809\" xlink:href=\"#md720036fde\" y=\"120.596902\"/>\r\n     <use style=\"fill:#3ca02c;fill-opacity:0.8;stroke:#000000;stroke-opacity:0.8;\" x=\"181.903069\" xlink:href=\"#md720036fde\" y=\"165.0637\"/>\r\n     <use style=\"fill:#3ca02c;fill-opacity:0.8;stroke:#000000;stroke-opacity:0.8;\" x=\"133.854671\" xlink:href=\"#md720036fde\" y=\"112.785064\"/>\r\n     <use style=\"fill:#3ca02c;fill-opacity:0.8;stroke:#000000;stroke-opacity:0.8;\" x=\"207.851918\" xlink:href=\"#md720036fde\" y=\"172.860881\"/>\r\n     <use style=\"fill:#3ca02c;fill-opacity:0.8;stroke:#000000;stroke-opacity:0.8;\" x=\"246.868475\" xlink:href=\"#md720036fde\" y=\"71.045536\"/>\r\n     <use style=\"fill:#3ca02c;fill-opacity:0.8;stroke:#000000;stroke-opacity:0.8;\" x=\"222.468572\" xlink:href=\"#md720036fde\" y=\"130.836491\"/>\r\n     <use style=\"fill:#3ca02c;fill-opacity:0.8;stroke:#000000;stroke-opacity:0.8;\" x=\"264.673891\" xlink:href=\"#md720036fde\" y=\"102.000102\"/>\r\n     <use style=\"fill:#3ca02c;fill-opacity:0.8;stroke:#000000;stroke-opacity:0.8;\" x=\"238.315746\" xlink:href=\"#md720036fde\" y=\"92.924022\"/>\r\n     <use style=\"fill:#3ca02c;fill-opacity:0.8;stroke:#000000;stroke-opacity:0.8;\" x=\"163.655544\" xlink:href=\"#md720036fde\" y=\"78.975128\"/>\r\n     <use style=\"fill:#3ca02c;fill-opacity:0.8;stroke:#000000;stroke-opacity:0.8;\" x=\"273.327725\" xlink:href=\"#md720036fde\" y=\"179.704747\"/>\r\n     <use style=\"fill:#3ca02c;fill-opacity:0.8;stroke:#000000;stroke-opacity:0.8;\" x=\"250.585167\" xlink:href=\"#md720036fde\" y=\"73.149651\"/>\r\n     <use style=\"fill:#3ca02c;fill-opacity:0.8;stroke:#000000;stroke-opacity:0.8;\" x=\"236.969532\" xlink:href=\"#md720036fde\" y=\"92.781917\"/>\r\n     <use style=\"fill:#3ca02c;fill-opacity:0.8;stroke:#000000;stroke-opacity:0.8;\" x=\"223.727443\" xlink:href=\"#md720036fde\" y=\"128.021899\"/>\r\n     <use style=\"fill:#3ca02c;fill-opacity:0.8;stroke:#000000;stroke-opacity:0.8;\" x=\"291.268475\" xlink:href=\"#md720036fde\" y=\"166.948082\"/>\r\n     <use style=\"fill:#3ca02c;fill-opacity:0.8;stroke:#000000;stroke-opacity:0.8;\" x=\"311.698027\" xlink:href=\"#md720036fde\" y=\"152.458835\"/>\r\n     <use style=\"fill:#3ca02c;fill-opacity:0.8;stroke:#000000;stroke-opacity:0.8;\" x=\"223.831486\" xlink:href=\"#md720036fde\" y=\"159.421106\"/>\r\n     <use style=\"fill:#3ca02c;fill-opacity:0.8;stroke:#000000;stroke-opacity:0.8;\" x=\"270.077801\" xlink:href=\"#md720036fde\" y=\"59.797197\"/>\r\n     <use style=\"fill:#3ca02c;fill-opacity:0.8;stroke:#000000;stroke-opacity:0.8;\" x=\"168.339028\" xlink:href=\"#md720036fde\" y=\"201.981481\"/>\r\n     <use style=\"fill:#3ca02c;fill-opacity:0.8;stroke:#000000;stroke-opacity:0.8;\" x=\"167.929731\" xlink:href=\"#md720036fde\" y=\"200.702582\"/>\r\n     <use style=\"fill:#3ca02c;fill-opacity:0.8;stroke:#000000;stroke-opacity:0.8;\" x=\"103.786378\" xlink:href=\"#md720036fde\" y=\"97.374388\"/>\r\n     <use style=\"fill:#3ca02c;fill-opacity:0.8;stroke:#000000;stroke-opacity:0.8;\" x=\"182.563085\" xlink:href=\"#md720036fde\" y=\"187.120701\"/>\r\n     <use style=\"fill:#3ca02c;fill-opacity:0.8;stroke:#000000;stroke-opacity:0.8;\" x=\"247.805393\" xlink:href=\"#md720036fde\" y=\"69.908742\"/>\r\n     <use style=\"fill:#3ca02c;fill-opacity:0.8;stroke:#000000;stroke-opacity:0.8;\" x=\"213.255827\" xlink:href=\"#md720036fde\" y=\"130.657976\"/>\r\n     <use style=\"fill:#3ca02c;fill-opacity:0.8;stroke:#000000;stroke-opacity:0.8;\" x=\"151.064172\" xlink:href=\"#md720036fde\" y=\"100.427298\"/>\r\n     <use style=\"fill:#3ca02c;fill-opacity:0.8;stroke:#000000;stroke-opacity:0.8;\" x=\"285.190788\" xlink:href=\"#md720036fde\" y=\"90.467552\"/>\r\n     <use style=\"fill:#3ca02c;fill-opacity:0.8;stroke:#000000;stroke-opacity:0.8;\" x=\"138.849284\" xlink:href=\"#md720036fde\" y=\"69.30326\"/>\r\n     <use style=\"fill:#3ca02c;fill-opacity:0.8;stroke:#000000;stroke-opacity:0.8;\" x=\"126.323266\" xlink:href=\"#md720036fde\" y=\"204.667378\"/>\r\n     <use style=\"fill:#3ca02c;fill-opacity:0.8;stroke:#000000;stroke-opacity:0.8;\" x=\"225.775968\" xlink:href=\"#md720036fde\" y=\"131.661707\"/>\r\n     <use style=\"fill:#3ca02c;fill-opacity:0.8;stroke:#000000;stroke-opacity:0.8;\" x=\"247.629596\" xlink:href=\"#md720036fde\" y=\"192.685668\"/>\r\n     <use style=\"fill:#3ca02c;fill-opacity:0.8;stroke:#000000;stroke-opacity:0.8;\" x=\"250.936992\" xlink:href=\"#md720036fde\" y=\"193.510884\"/>\r\n     <use style=\"fill:#3ca02c;fill-opacity:0.8;stroke:#000000;stroke-opacity:0.8;\" x=\"266.635073\" xlink:href=\"#md720036fde\" y=\"102.683212\"/>\r\n     <use style=\"fill:#3ca02c;fill-opacity:0.8;stroke:#000000;stroke-opacity:0.8;\" x=\"249.867679\" xlink:href=\"#md720036fde\" y=\"170.174984\"/>\r\n     <use style=\"fill:#3ca02c;fill-opacity:0.8;stroke:#000000;stroke-opacity:0.8;\" x=\"192.329634\" xlink:href=\"#md720036fde\" y=\"140.911627\"/>\r\n     <use style=\"fill:#3ca02c;fill-opacity:0.8;stroke:#000000;stroke-opacity:0.8;\" x=\"78.088249\" xlink:href=\"#md720036fde\" y=\"110.355309\"/>\r\n     <use style=\"fill:#3ca02c;fill-opacity:0.8;stroke:#000000;stroke-opacity:0.8;\" x=\"227.375841\" xlink:href=\"#md720036fde\" y=\"84.39799\"/>\r\n     <use style=\"fill:#3ca02c;fill-opacity:0.8;stroke:#000000;stroke-opacity:0.8;\" x=\"266.10745\" xlink:href=\"#md720036fde\" y=\"105.098905\"/>\r\n     <use style=\"fill:#3ca02c;fill-opacity:0.8;stroke:#000000;stroke-opacity:0.8;\" x=\"204.631866\" xlink:href=\"#md720036fde\" y=\"174.992363\"/>\r\n     <use style=\"fill:#3ca02c;fill-opacity:0.8;stroke:#000000;stroke-opacity:0.8;\" x=\"186.706294\" xlink:href=\"#md720036fde\" y=\"87.225992\"/>\r\n     <use style=\"fill:#3ca02c;fill-opacity:0.8;stroke:#000000;stroke-opacity:0.8;\" x=\"296.468758\" xlink:href=\"#md720036fde\" y=\"122.728384\"/>\r\n     <use style=\"fill:#3ca02c;fill-opacity:0.8;stroke:#000000;stroke-opacity:0.8;\" x=\"123.688308\" xlink:href=\"#md720036fde\" y=\"85.300833\"/>\r\n     <use style=\"fill:#3ca02c;fill-opacity:0.8;stroke:#000000;stroke-opacity:0.8;\" x=\"167.317703\" xlink:href=\"#md720036fde\" y=\"131.977653\"/>\r\n     <use style=\"fill:#3ca02c;fill-opacity:0.8;stroke:#000000;stroke-opacity:0.8;\" x=\"124.26098\" xlink:href=\"#md720036fde\" y=\"104.401137\"/>\r\n     <use style=\"fill:#3ca02c;fill-opacity:0.8;stroke:#000000;stroke-opacity:0.8;\" x=\"267.12223\" xlink:href=\"#md720036fde\" y=\"179.333214\"/>\r\n     <use style=\"fill:#3ca02c;fill-opacity:0.8;stroke:#000000;stroke-opacity:0.8;\" x=\"254.907342\" xlink:href=\"#md720036fde\" y=\"148.209176\"/>\r\n     <use style=\"fill:#3ca02c;fill-opacity:0.8;stroke:#000000;stroke-opacity:0.8;\" x=\"183.776905\" xlink:href=\"#md720036fde\" y=\"162.790113\"/>\r\n     <use style=\"fill:#3ca02c;fill-opacity:0.8;stroke:#000000;stroke-opacity:0.8;\" x=\"204.852713\" xlink:href=\"#md720036fde\" y=\"73.731433\"/>\r\n     <use style=\"fill:#3ca02c;fill-opacity:0.8;stroke:#000000;stroke-opacity:0.8;\" x=\"214.852762\" xlink:href=\"#md720036fde\" y=\"151.578184\"/>\r\n     <use style=\"fill:#3ca02c;fill-opacity:0.8;stroke:#000000;stroke-opacity:0.8;\" x=\"166.231692\" xlink:href=\"#md720036fde\" y=\"80.199244\"/>\r\n     <use style=\"fill:#3ca02c;fill-opacity:0.8;stroke:#000000;stroke-opacity:0.8;\" x=\"237.697841\" xlink:href=\"#md720036fde\" y=\"160.566942\"/>\r\n     <use style=\"fill:#3ca02c;fill-opacity:0.8;stroke:#000000;stroke-opacity:0.8;\" x=\"181.17182\" xlink:href=\"#md720036fde\" y=\"165.4626\"/>\r\n     <use style=\"fill:#3ca02c;fill-opacity:0.8;stroke:#000000;stroke-opacity:0.8;\" x=\"205.978081\" xlink:href=\"#md720036fde\" y=\"175.134468\"/>\r\n     <use style=\"fill:#3ca02c;fill-opacity:0.8;stroke:#000000;stroke-opacity:0.8;\" x=\"117.34748\" xlink:href=\"#md720036fde\" y=\"128.640532\"/>\r\n     <use style=\"fill:#3ca02c;fill-opacity:0.8;stroke:#000000;stroke-opacity:0.8;\" x=\"225.691562\" xlink:href=\"#md720036fde\" y=\"60.521085\"/>\r\n     <use style=\"fill:#3ca02c;fill-opacity:0.8;stroke:#000000;stroke-opacity:0.8;\" x=\"197.321309\" xlink:href=\"#md720036fde\" y=\"165.613748\"/>\r\n     <use style=\"fill:#3ca02c;fill-opacity:0.8;stroke:#000000;stroke-opacity:0.8;\" x=\"196.709281\" xlink:href=\"#md720036fde\" y=\"96.888818\"/>\r\n     <use style=\"fill:#3ca02c;fill-opacity:0.8;stroke:#000000;stroke-opacity:0.8;\" x=\"246.614816\" xlink:href=\"#md720036fde\" y=\"118.451358\"/>\r\n     <use style=\"fill:#3ca02c;fill-opacity:0.8;stroke:#000000;stroke-opacity:0.8;\" x=\"168.592686\" xlink:href=\"#md720036fde\" y=\"154.575659\"/>\r\n     <use style=\"fill:#3ca02c;fill-opacity:0.8;stroke:#000000;stroke-opacity:0.8;\" x=\"192.416978\" xlink:href=\"#md720036fde\" y=\"143.868325\"/>\r\n     <use style=\"fill:#3ca02c;fill-opacity:0.8;stroke:#000000;stroke-opacity:0.8;\" x=\"313.659208\" xlink:href=\"#md720036fde\" y=\"153.141945\"/>\r\n     <use style=\"fill:#3ca02c;fill-opacity:0.8;stroke:#000000;stroke-opacity:0.8;\" x=\"245.181258\" xlink:href=\"#md720036fde\" y=\"115.352556\"/>\r\n     <use style=\"fill:#3ca02c;fill-opacity:0.8;stroke:#000000;stroke-opacity:0.8;\" x=\"274.927598\" xlink:href=\"#md720036fde\" y=\"132.44103\"/>\r\n     <use style=\"fill:#3ca02c;fill-opacity:0.8;stroke:#000000;stroke-opacity:0.8;\" x=\"190.455797\" xlink:href=\"#md720036fde\" y=\"143.185214\"/>\r\n     <use style=\"fill:#3ca02c;fill-opacity:0.8;stroke:#000000;stroke-opacity:0.8;\" x=\"168.559875\" xlink:href=\"#md720036fde\" y=\"100.720551\"/>\r\n     <use style=\"fill:#3ca02c;fill-opacity:0.8;stroke:#000000;stroke-opacity:0.8;\" x=\"164.899238\" xlink:href=\"#md720036fde\" y=\"176.683572\"/>\r\n     <use style=\"fill:#3ca02c;fill-opacity:0.8;stroke:#000000;stroke-opacity:0.8;\" x=\"140.533563\" xlink:href=\"#md720036fde\" y=\"93.180165\"/>\r\n     <use style=\"fill:#3ca02c;fill-opacity:0.8;stroke:#000000;stroke-opacity:0.8;\" x=\"222.894568\" xlink:href=\"#md720036fde\" y=\"160.557899\"/>\r\n     <use style=\"fill:#3ca02c;fill-opacity:0.8;stroke:#000000;stroke-opacity:0.8;\" x=\"217.886194\" xlink:href=\"#md720036fde\" y=\"107.413269\"/>\r\n     <use style=\"fill:#3ca02c;fill-opacity:0.8;stroke:#000000;stroke-opacity:0.8;\" x=\"266.37487\" xlink:href=\"#md720036fde\" y=\"154.319516\"/>\r\n     <use style=\"fill:#3ca02c;fill-opacity:0.8;stroke:#000000;stroke-opacity:0.8;\" x=\"226.452683\" xlink:href=\"#md720036fde\" y=\"182.161217\"/>\r\n     <use style=\"fill:#3ca02c;fill-opacity:0.8;stroke:#000000;stroke-opacity:0.8;\" x=\"206.608224\" xlink:href=\"#md720036fde\" y=\"75.152438\"/>\r\n     <use style=\"fill:#3ca02c;fill-opacity:0.8;stroke:#000000;stroke-opacity:0.8;\" x=\"82.654515\" xlink:href=\"#md720036fde\" y=\"108.365933\"/>\r\n     <use style=\"fill:#3ca02c;fill-opacity:0.8;stroke:#000000;stroke-opacity:0.8;\" x=\"253.83803\" xlink:href=\"#md720036fde\" y=\"124.873276\"/>\r\n     <use style=\"fill:#3ca02c;fill-opacity:0.8;stroke:#000000;stroke-opacity:0.8;\" x=\"132.508456\" xlink:href=\"#md720036fde\" y=\"112.642959\"/>\r\n     <use style=\"fill:#3ca02c;fill-opacity:0.8;stroke:#000000;stroke-opacity:0.8;\" x=\"168.86665\" xlink:href=\"#md720036fde\" y=\"199.565789\"/>\r\n     <use style=\"fill:#3ca02c;fill-opacity:0.8;stroke:#000000;stroke-opacity:0.8;\" x=\"81.717596\" xlink:href=\"#md720036fde\" y=\"109.502726\"/>\r\n     <use style=\"fill:#3ca02c;fill-opacity:0.8;stroke:#000000;stroke-opacity:0.8;\" x=\"125.607195\" xlink:href=\"#md720036fde\" y=\"104.543242\"/>\r\n     <use style=\"fill:#3ca02c;fill-opacity:0.8;stroke:#000000;stroke-opacity:0.8;\" x=\"252.898173\" xlink:href=\"#md720036fde\" y=\"194.193994\"/>\r\n     <use style=\"fill:#3ca02c;fill-opacity:0.8;stroke:#000000;stroke-opacity:0.8;\" x=\"196.706342\" xlink:href=\"#md720036fde\" y=\"165.072743\"/>\r\n     <use style=\"fill:#3ca02c;fill-opacity:0.8;stroke:#000000;stroke-opacity:0.8;\" x=\"101.825197\" xlink:href=\"#md720036fde\" y=\"96.691278\"/>\r\n     <use style=\"fill:#3ca02c;fill-opacity:0.8;stroke:#000000;stroke-opacity:0.8;\" x=\"95.893665\" xlink:href=\"#md720036fde\" y=\"141.309875\"/>\r\n     <use style=\"fill:#3ca02c;fill-opacity:0.8;stroke:#000000;stroke-opacity:0.8;\" x=\"145.099829\" xlink:href=\"#md720036fde\" y=\"91.190788\"/>\r\n     <use style=\"fill:#3ca02c;fill-opacity:0.8;stroke:#000000;stroke-opacity:0.8;\" x=\"148.163134\" xlink:href=\"#md720036fde\" y=\"169.064906\"/>\r\n     <use style=\"fill:#3ca02c;fill-opacity:0.8;stroke:#000000;stroke-opacity:0.8;\" x=\"269.346553\" xlink:href=\"#md720036fde\" y=\"60.196097\"/>\r\n     <use style=\"fill:#3ca02c;fill-opacity:0.8;stroke:#000000;stroke-opacity:0.8;\" x=\"165.96855\" xlink:href=\"#md720036fde\" y=\"200.019472\"/>\r\n     <use style=\"fill:#3ca02c;fill-opacity:0.8;stroke:#000000;stroke-opacity:0.8;\" x=\"152.7294\" xlink:href=\"#md720036fde\" y=\"167.07553\"/>\r\n     <use style=\"fill:#3ca02c;fill-opacity:0.8;stroke:#000000;stroke-opacity:0.8;\" x=\"118.284399\" xlink:href=\"#md720036fde\" y=\"127.503738\"/>\r\n     <use style=\"fill:#3ca02c;fill-opacity:0.8;stroke:#000000;stroke-opacity:0.8;\" x=\"160.026197\" xlink:href=\"#md720036fde\" y=\"79.827711\"/>\r\n     <use style=\"fill:#3ca02c;fill-opacity:0.8;stroke:#000000;stroke-opacity:0.8;\" x=\"183.9093\" xlink:href=\"#md720036fde\" y=\"187.262807\"/>\r\n     <use style=\"fill:#3ca02c;fill-opacity:0.8;stroke:#000000;stroke-opacity:0.8;\" x=\"193.079933\" xlink:href=\"#md720036fde\" y=\"97.741401\"/>\r\n     <use style=\"fill:#3ca02c;fill-opacity:0.8;stroke:#000000;stroke-opacity:0.8;\" x=\"272.566604\" xlink:href=\"#md720036fde\" y=\"58.064615\"/>\r\n     <use style=\"fill:#3ca02c;fill-opacity:0.8;stroke:#000000;stroke-opacity:0.8;\" x=\"114.362037\" xlink:href=\"#md720036fde\" y=\"126.137518\"/>\r\n     <use style=\"fill:#3ca02c;fill-opacity:0.8;stroke:#000000;stroke-opacity:0.8;\" x=\"192.462028\" xlink:href=\"#md720036fde\" y=\"165.38432\"/>\r\n     <use style=\"fill:#3ca02c;fill-opacity:0.8;stroke:#000000;stroke-opacity:0.8;\" x=\"185.783136\" xlink:href=\"#md720036fde\" y=\"184.98922\"/>\r\n     <use style=\"fill:#3ca02c;fill-opacity:0.8;stroke:#000000;stroke-opacity:0.8;\" x=\"163.688356\" xlink:href=\"#md720036fde\" y=\"132.830236\"/>\r\n     <use style=\"fill:#3ca02c;fill-opacity:0.8;stroke:#000000;stroke-opacity:0.8;\" x=\"183.760206\" xlink:href=\"#md720036fde\" y=\"134.347604\"/>\r\n     <use style=\"fill:#3ca02c;fill-opacity:0.8;stroke:#000000;stroke-opacity:0.8;\" x=\"111.825245\" xlink:href=\"#md720036fde\" y=\"174.538028\"/>\r\n     <use style=\"fill:#3ca02c;fill-opacity:0.8;stroke:#000000;stroke-opacity:0.8;\" x=\"215.877024\" xlink:href=\"#md720036fde\" y=\"153.398088\"/>\r\n     <use style=\"fill:#3ca02c;fill-opacity:0.8;stroke:#000000;stroke-opacity:0.8;\" x=\"154.371567\" xlink:href=\"#md720036fde\" y=\"101.252514\"/>\r\n     <use style=\"fill:#3ca02c;fill-opacity:0.8;stroke:#000000;stroke-opacity:0.8;\" x=\"133.327049\" xlink:href=\"#md720036fde\" y=\"115.200756\"/>\r\n     <use style=\"fill:#3ca02c;fill-opacity:0.8;stroke:#000000;stroke-opacity:0.8;\" x=\"208.306264\" xlink:href=\"#md720036fde\" y=\"195.655776\"/>\r\n     <use style=\"fill:#3ca02c;fill-opacity:0.8;stroke:#000000;stroke-opacity:0.8;\" x=\"227.785137\" xlink:href=\"#md720036fde\" y=\"85.676889\"/>\r\n     <use style=\"fill:#3ca02c;fill-opacity:0.8;stroke:#000000;stroke-opacity:0.8;\" x=\"231.620155\" xlink:href=\"#md720036fde\" y=\"84.086412\"/>\r\n     <use style=\"fill:#3ca02c;fill-opacity:0.8;stroke:#000000;stroke-opacity:0.8;\" x=\"166.290502\" xlink:href=\"#md720036fde\" y=\"198.341673\"/>\r\n     <use style=\"fill:#3ca02c;fill-opacity:0.8;stroke:#000000;stroke-opacity:0.8;\" x=\"224.751705\" xlink:href=\"#md720036fde\" y=\"129.841803\"/>\r\n     <use style=\"fill:#3ca02c;fill-opacity:0.8;stroke:#000000;stroke-opacity:0.8;\" x=\"116.410562\" xlink:href=\"#md720036fde\" y=\"129.777325\"/>\r\n     <use style=\"fill:#3ca02c;fill-opacity:0.8;stroke:#000000;stroke-opacity:0.8;\" x=\"233.581336\" xlink:href=\"#md720036fde\" y=\"84.769522\"/>\r\n     <use style=\"fill:#3ca02c;fill-opacity:0.8;stroke:#000000;stroke-opacity:0.8;\" x=\"219.760031\" xlink:href=\"#md720036fde\" y=\"105.139682\"/>\r\n     <use style=\"fill:#3ca02c;fill-opacity:0.8;stroke:#000000;stroke-opacity:0.8;\" x=\"221.548353\" xlink:href=\"#md720036fde\" y=\"160.415794\"/>\r\n     <use style=\"fill:#3ca02c;fill-opacity:0.8;stroke:#000000;stroke-opacity:0.8;\" x=\"83.269481\" xlink:href=\"#md720036fde\" y=\"108.906938\"/>\r\n     <use style=\"fill:#3ca02c;fill-opacity:0.8;stroke:#000000;stroke-opacity:0.8;\" x=\"121.727127\" xlink:href=\"#md720036fde\" y=\"84.617723\"/>\r\n     <use style=\"fill:#3ca02c;fill-opacity:0.8;stroke:#000000;stroke-opacity:0.8;\" x=\"153.025353\" xlink:href=\"#md720036fde\" y=\"101.110409\"/>\r\n     <use style=\"fill:#3ca02c;fill-opacity:0.8;stroke:#000000;stroke-opacity:0.8;\" x=\"250.276976\" xlink:href=\"#md720036fde\" y=\"171.453883\"/>\r\n     <use style=\"fill:#3ca02c;fill-opacity:0.8;stroke:#000000;stroke-opacity:0.8;\" x=\"234.667348\" xlink:href=\"#md720036fde\" y=\"136.547931\"/>\r\n     <use style=\"fill:#3ca02c;fill-opacity:0.8;stroke:#000000;stroke-opacity:0.8;\" x=\"308.799927\" xlink:href=\"#md720036fde\" y=\"152.912518\"/>\r\n     <use style=\"fill:#3ca02c;fill-opacity:0.8;stroke:#000000;stroke-opacity:0.8;\" x=\"239.340009\" xlink:href=\"#md720036fde\" y=\"94.743926\"/>\r\n     <use style=\"fill:#3ca02c;fill-opacity:0.8;stroke:#000000;stroke-opacity:0.8;\" x=\"198.34851\" xlink:href=\"#md720036fde\" y=\"99.249727\"/>\r\n     <use style=\"fill:#3ca02c;fill-opacity:0.8;stroke:#000000;stroke-opacity:0.8;\" x=\"270.751578\" xlink:href=\"#md720036fde\" y=\"178.480632\"/>\r\n     <use style=\"fill:#3ca02c;fill-opacity:0.8;stroke:#000000;stroke-opacity:0.8;\" x=\"272.9759\" xlink:href=\"#md720036fde\" y=\"59.343514\"/>\r\n     <use style=\"fill:#3ca02c;fill-opacity:0.8;stroke:#000000;stroke-opacity:0.8;\" x=\"215.434917\" xlink:href=\"#md720036fde\" y=\"98.264081\"/>\r\n     <use style=\"fill:#3ca02c;fill-opacity:0.8;stroke:#000000;stroke-opacity:0.8;\" x=\"276.683109\" xlink:href=\"#md720036fde\" y=\"133.862034\"/>\r\n     <use style=\"fill:#3ca02c;fill-opacity:0.8;stroke:#000000;stroke-opacity:0.8;\" x=\"144.16291\" xlink:href=\"#md720036fde\" y=\"92.327582\"/>\r\n     <use style=\"fill:#3ca02c;fill-opacity:0.8;stroke:#000000;stroke-opacity:0.8;\" x=\"224.855749\" xlink:href=\"#md720036fde\" y=\"161.24101\"/>\r\n     <use style=\"fill:#3ca02c;fill-opacity:0.8;stroke:#000000;stroke-opacity:0.8;\" x=\"258.74236\" xlink:href=\"#md720036fde\" y=\"146.618699\"/>\r\n     <use style=\"fill:#3ca02c;fill-opacity:0.8;stroke:#000000;stroke-opacity:0.8;\" x=\"276.273813\" xlink:href=\"#md720036fde\" y=\"132.583135\"/>\r\n     <use style=\"fill:#3ca02c;fill-opacity:0.8;stroke:#000000;stroke-opacity:0.8;\" x=\"118.947353\" xlink:href=\"#md720036fde\" y=\"81.376815\"/>\r\n     <use style=\"fill:#3ca02c;fill-opacity:0.8;stroke:#000000;stroke-opacity:0.8;\" x=\"293.89261\" xlink:href=\"#md720036fde\" y=\"121.504269\"/>\r\n     <use style=\"fill:#3ca02c;fill-opacity:0.8;stroke:#000000;stroke-opacity:0.8;\" x=\"98.927097\" xlink:href=\"#md720036fde\" y=\"97.144961\"/>\r\n     <use style=\"fill:#3ca02c;fill-opacity:0.8;stroke:#000000;stroke-opacity:0.8;\" x=\"173.587299\" xlink:href=\"#md720036fde\" y=\"111.093855\"/>\r\n     <use style=\"fill:#3ca02c;fill-opacity:0.8;stroke:#000000;stroke-opacity:0.8;\" x=\"147.415773\" xlink:href=\"#md720036fde\" y=\"144.051208\"/>\r\n     <use style=\"fill:#3ca02c;fill-opacity:0.8;stroke:#000000;stroke-opacity:0.8;\" x=\"183.500003\" xlink:href=\"#md720036fde\" y=\"185.983908\"/>\r\n     <use style=\"fill:#3ca02c;fill-opacity:0.8;stroke:#000000;stroke-opacity:0.8;\" x=\"193.353897\" xlink:href=\"#md720036fde\" y=\"142.731531\"/>\r\n     <use style=\"fill:#3ca02c;fill-opacity:0.8;stroke:#000000;stroke-opacity:0.8;\" x=\"309.736846\" xlink:href=\"#md720036fde\" y=\"151.775724\"/>\r\n     <use style=\"fill:#3ca02c;fill-opacity:0.8;stroke:#000000;stroke-opacity:0.8;\" x=\"235.414708\" xlink:href=\"#md720036fde\" y=\"161.56163\"/>\r\n     <use style=\"fill:#3ca02c;fill-opacity:0.8;stroke:#000000;stroke-opacity:0.8;\" x=\"100.273312\" xlink:href=\"#md720036fde\" y=\"97.287066\"/>\r\n     <use style=\"fill:#3ca02c;fill-opacity:0.8;stroke:#000000;stroke-opacity:0.8;\" x=\"254.498046\" xlink:href=\"#md720036fde\" y=\"146.930277\"/>\r\n     <use style=\"fill:#3ca02c;fill-opacity:0.8;stroke:#000000;stroke-opacity:0.8;\" x=\"151.338135\" xlink:href=\"#md720036fde\" y=\"145.417428\"/>\r\n     <use style=\"fill:#3ca02c;fill-opacity:0.8;stroke:#000000;stroke-opacity:0.8;\" x=\"175.461136\" xlink:href=\"#md720036fde\" y=\"108.820268\"/>\r\n     <use style=\"fill:#3ca02c;fill-opacity:0.8;stroke:#000000;stroke-opacity:0.8;\" x=\"260.175919\" xlink:href=\"#md720036fde\" y=\"149.717502\"/>\r\n     <use style=\"fill:#3ca02c;fill-opacity:0.8;stroke:#000000;stroke-opacity:0.8;\" x=\"205.890737\" xlink:href=\"#md720036fde\" y=\"172.177771\"/>\r\n     <use style=\"fill:#3ca02c;fill-opacity:0.8;stroke:#000000;stroke-opacity:0.8;\" x=\"198.921182\" xlink:href=\"#md720036fde\" y=\"118.350031\"/>\r\n     <use style=\"fill:#3ca02c;fill-opacity:0.8;stroke:#000000;stroke-opacity:0.8;\" x=\"121.977847\" xlink:href=\"#md720036fde\" y=\"105.395825\"/>\r\n     <use style=\"fill:#3ca02c;fill-opacity:0.8;stroke:#000000;stroke-opacity:0.8;\" x=\"96.302962\" xlink:href=\"#md720036fde\" y=\"142.588774\"/>\r\n     <use style=\"fill:#3ca02c;fill-opacity:0.8;stroke:#000000;stroke-opacity:0.8;\" x=\"182.108739\" xlink:href=\"#md720036fde\" y=\"164.325807\"/>\r\n     <use style=\"fill:#3ca02c;fill-opacity:0.8;stroke:#000000;stroke-opacity:0.8;\" x=\"283.638903\" xlink:href=\"#md720036fde\" y=\"91.063341\"/>\r\n     <use style=\"fill:#3ca02c;fill-opacity:0.8;stroke:#000000;stroke-opacity:0.8;\" x=\"211.291708\" xlink:href=\"#md720036fde\" y=\"198.15879\"/>\r\n     <use style=\"fill:#3ca02c;fill-opacity:0.8;stroke:#000000;stroke-opacity:0.8;\" x=\"294.166574\" xlink:href=\"#md720036fde\" y=\"166.494399\"/>\r\n     <use style=\"fill:#3ca02c;fill-opacity:0.8;stroke:#000000;stroke-opacity:0.8;\" x=\"160.039957\" xlink:href=\"#md720036fde\" y=\"176.454145\"/>\r\n     <use style=\"fill:#3ca02c;fill-opacity:0.8;stroke:#000000;stroke-opacity:0.8;\" x=\"248.566515\" xlink:href=\"#md720036fde\" y=\"191.548875\"/>\r\n     <use style=\"fill:#3ca02c;fill-opacity:0.8;stroke:#000000;stroke-opacity:0.8;\" x=\"152.407448\" xlink:href=\"#md720036fde\" y=\"168.753328\"/>\r\n     <use style=\"fill:#3ca02c;fill-opacity:0.8;stroke:#000000;stroke-opacity:0.8;\" x=\"254.244388\" xlink:href=\"#md720036fde\" y=\"194.3361\"/>\r\n     <use style=\"fill:#3ca02c;fill-opacity:0.8;stroke:#000000;stroke-opacity:0.8;\" x=\"188.667475\" xlink:href=\"#md720036fde\" y=\"87.909103\"/>\r\n     <use style=\"fill:#3ca02c;fill-opacity:0.8;stroke:#000000;stroke-opacity:0.8;\" x=\"195.769424\" xlink:href=\"#md720036fde\" y=\"166.209536\"/>\r\n     <use style=\"fill:#3ca02c;fill-opacity:0.8;stroke:#000000;stroke-opacity:0.8;\" x=\"180.865045\" xlink:href=\"#md720036fde\" y=\"66.617363\"/>\r\n     <use style=\"fill:#3ca02c;fill-opacity:0.8;stroke:#000000;stroke-opacity:0.8;\" x=\"102.762115\" xlink:href=\"#md720036fde\" y=\"95.554484\"/>\r\n     <use style=\"fill:#3ca02c;fill-opacity:0.8;stroke:#000000;stroke-opacity:0.8;\" x=\"236.351627\" xlink:href=\"#md720036fde\" y=\"160.424836\"/>\r\n     <use style=\"fill:#3ca02c;fill-opacity:0.8;stroke:#000000;stroke-opacity:0.8;\" x=\"163.070451\" xlink:href=\"#md720036fde\" y=\"200.473155\"/>\r\n     <use style=\"fill:#3ca02c;fill-opacity:0.8;stroke:#000000;stroke-opacity:0.8;\" x=\"307.981335\" xlink:href=\"#md720036fde\" y=\"150.35472\"/>\r\n     <use style=\"fill:#3ca02c;fill-opacity:0.8;stroke:#000000;stroke-opacity:0.8;\" x=\"153.962271\" xlink:href=\"#md720036fde\" y=\"99.973615\"/>\r\n     <use style=\"fill:#3ca02c;fill-opacity:0.8;stroke:#000000;stroke-opacity:0.8;\" x=\"102.849459\" xlink:href=\"#md720036fde\" y=\"98.511182\"/>\r\n     <use style=\"fill:#3ca02c;fill-opacity:0.8;stroke:#000000;stroke-opacity:0.8;\" x=\"224.754644\" xlink:href=\"#md720036fde\" y=\"61.657878\"/>\r\n     <use style=\"fill:#3ca02c;fill-opacity:0.8;stroke:#000000;stroke-opacity:0.8;\" x=\"240.276927\" xlink:href=\"#md720036fde\" y=\"93.607133\"/>\r\n     <use style=\"fill:#3ca02c;fill-opacity:0.8;stroke:#000000;stroke-opacity:0.8;\" x=\"151.383185\" xlink:href=\"#md720036fde\" y=\"166.933424\"/>\r\n     <use style=\"fill:#3ca02c;fill-opacity:0.8;stroke:#000000;stroke-opacity:0.8;\" x=\"228.722056\" xlink:href=\"#md720036fde\" y=\"84.540095\"/>\r\n     <use style=\"fill:#3ca02c;fill-opacity:0.8;stroke:#000000;stroke-opacity:0.8;\" x=\"258.127394\" xlink:href=\"#md720036fde\" y=\"146.077694\"/>\r\n     <use style=\"fill:#3ca02c;fill-opacity:0.8;stroke:#000000;stroke-opacity:0.8;\" x=\"240.683285\" xlink:href=\"#md720036fde\" y=\"163.069956\"/>\r\n     <use style=\"fill:#3ca02c;fill-opacity:0.8;stroke:#000000;stroke-opacity:0.8;\" x=\"271.044592\" xlink:href=\"#md720036fde\" y=\"180.699435\"/>\r\n     <use style=\"fill:#3ca02c;fill-opacity:0.8;stroke:#000000;stroke-opacity:0.8;\" x=\"249.238952\" xlink:href=\"#md720036fde\" y=\"73.007545\"/>\r\n     <use style=\"fill:#3ca02c;fill-opacity:0.8;stroke:#000000;stroke-opacity:0.8;\" x=\"98.264143\" xlink:href=\"#md720036fde\" y=\"143.271885\"/>\r\n     <use style=\"fill:#3ca02c;fill-opacity:0.8;stroke:#000000;stroke-opacity:0.8;\" x=\"196.387329\" xlink:href=\"#md720036fde\" y=\"98.566617\"/>\r\n     <use style=\"fill:#3ca02c;fill-opacity:0.8;stroke:#000000;stroke-opacity:0.8;\" x=\"121.040929\" xlink:href=\"#md720036fde\" y=\"106.532618\"/>\r\n     <use style=\"fill:#3ca02c;fill-opacity:0.8;stroke:#000000;stroke-opacity:0.8;\" x=\"155.44088\" xlink:href=\"#md720036fde\" y=\"124.588414\"/>\r\n     <use style=\"fill:#3ca02c;fill-opacity:0.8;stroke:#000000;stroke-opacity:0.8;\" x=\"246.354614\" xlink:href=\"#md720036fde\" y=\"170.087662\"/>\r\n     <use style=\"fill:#3ca02c;fill-opacity:0.8;stroke:#000000;stroke-opacity:0.8;\" x=\"168.341966\" xlink:href=\"#md720036fde\" y=\"133.797557\"/>\r\n     <use style=\"fill:#3ca02c;fill-opacity:0.8;stroke:#000000;stroke-opacity:0.8;\" x=\"156.742045\" xlink:href=\"#md720036fde\" y=\"103.214523\"/>\r\n     <use style=\"fill:#3ca02c;fill-opacity:0.8;stroke:#000000;stroke-opacity:0.8;\" x=\"144.11786\" xlink:href=\"#md720036fde\" y=\"70.811586\"/>\r\n     <use style=\"fill:#3ca02c;fill-opacity:0.8;stroke:#000000;stroke-opacity:0.8;\" x=\"196.38439\" xlink:href=\"#md720036fde\" y=\"166.750541\"/>\r\n     <use style=\"fill:#3ca02c;fill-opacity:0.8;stroke:#000000;stroke-opacity:0.8;\" x=\"255.184244\" xlink:href=\"#md720036fde\" y=\"125.015382\"/>\r\n     <use style=\"fill:#3ca02c;fill-opacity:0.8;stroke:#000000;stroke-opacity:0.8;\" x=\"189.431535\" xlink:href=\"#md720036fde\" y=\"141.36531\"/>\r\n     <use style=\"fill:#3ca02c;fill-opacity:0.8;stroke:#000000;stroke-opacity:0.8;\" x=\"206.641036\" xlink:href=\"#md720036fde\" y=\"129.007545\"/>\r\n     <use style=\"fill:#3ca02c;fill-opacity:0.8;stroke:#000000;stroke-opacity:0.8;\" x=\"162.661155\" xlink:href=\"#md720036fde\" y=\"199.194256\"/>\r\n     <use style=\"fill:#3ca02c;fill-opacity:0.8;stroke:#000000;stroke-opacity:0.8;\" x=\"237.243495\" xlink:href=\"#md720036fde\" y=\"137.772047\"/>\r\n     <use style=\"fill:#3ca02c;fill-opacity:0.8;stroke:#000000;stroke-opacity:0.8;\" x=\"225.16394\" xlink:href=\"#md720036fde\" y=\"62.936777\"/>\r\n     <use style=\"fill:#3ca02c;fill-opacity:0.8;stroke:#000000;stroke-opacity:0.8;\" x=\"220.507391\" xlink:href=\"#md720036fde\" y=\"130.153381\"/>\r\n     <use style=\"fill:#3ca02c;fill-opacity:0.8;stroke:#000000;stroke-opacity:0.8;\" x=\"272.712759\" xlink:href=\"#md720036fde\" y=\"179.163742\"/>\r\n     <use style=\"fill:#3ca02c;fill-opacity:0.8;stroke:#000000;stroke-opacity:0.8;\" x=\"282.205344\" xlink:href=\"#md720036fde\" y=\"87.964538\"/>\r\n     <use style=\"fill:#3ca02c;fill-opacity:0.8;stroke:#000000;stroke-opacity:0.8;\" x=\"234.345396\" xlink:href=\"#md720036fde\" y=\"138.22573\"/>\r\n     <use style=\"fill:#3ca02c;fill-opacity:0.8;stroke:#000000;stroke-opacity:0.8;\" x=\"173.861263\" xlink:href=\"#md720036fde\" y=\"156.083985\"/>\r\n     <use style=\"fill:#3ca02c;fill-opacity:0.8;stroke:#000000;stroke-opacity:0.8;\" x=\"182.518035\" xlink:href=\"#md720036fde\" y=\"165.604705\"/>\r\n     <use style=\"fill:#3ca02c;fill-opacity:0.8;stroke:#000000;stroke-opacity:0.8;\" x=\"104.195674\" xlink:href=\"#md720036fde\" y=\"98.653287\"/>\r\n     <use style=\"fill:#3ca02c;fill-opacity:0.8;stroke:#000000;stroke-opacity:0.8;\" x=\"196.299985\" xlink:href=\"#md720036fde\" y=\"95.609919\"/>\r\n     <use style=\"fill:#3ca02c;fill-opacity:0.8;stroke:#000000;stroke-opacity:0.8;\" x=\"190.368453\" xlink:href=\"#md720036fde\" y=\"140.228517\"/>\r\n     <use style=\"fill:#3ca02c;fill-opacity:0.8;stroke:#000000;stroke-opacity:0.8;\" x=\"180.46951\" xlink:href=\"#md720036fde\" y=\"161.964898\"/>\r\n     <use style=\"fill:#3ca02c;fill-opacity:0.8;stroke:#000000;stroke-opacity:0.8;\" x=\"226.81693\" xlink:href=\"#md720036fde\" y=\"161.92412\"/>\r\n     <use style=\"fill:#3ca02c;fill-opacity:0.8;stroke:#000000;stroke-opacity:0.8;\" x=\"128.332435\" xlink:href=\"#md720036fde\" y=\"158.68256\"/>\r\n     <use style=\"fill:#3ca02c;fill-opacity:0.8;stroke:#000000;stroke-opacity:0.8;\" x=\"267.808429\" xlink:href=\"#md720036fde\" y=\"157.418319\"/>\r\n     <use style=\"fill:#3ca02c;fill-opacity:0.8;stroke:#000000;stroke-opacity:0.8;\" x=\"162.718626\" xlink:href=\"#md720036fde\" y=\"80.111922\"/>\r\n     <use style=\"fill:#3ca02c;fill-opacity:0.8;stroke:#000000;stroke-opacity:0.8;\" x=\"115.795596\" xlink:href=\"#md720036fde\" y=\"129.23632\"/>\r\n     <use style=\"fill:#3ca02c;fill-opacity:0.8;stroke:#000000;stroke-opacity:0.8;\" x=\"197.047345\" xlink:href=\"#md720036fde\" y=\"120.623618\"/>\r\n     <use style=\"fill:#3ca02c;fill-opacity:0.8;stroke:#000000;stroke-opacity:0.8;\" x=\"192.989651\" xlink:href=\"#md720036fde\" y=\"162.968628\"/>\r\n     <use style=\"fill:#3ca02c;fill-opacity:0.8;stroke:#000000;stroke-opacity:0.8;\" x=\"243.175027\" xlink:href=\"#md720036fde\" y=\"93.153449\"/>\r\n     <use style=\"fill:#3ca02c;fill-opacity:0.8;stroke:#000000;stroke-opacity:0.8;\" x=\"179.837844\" xlink:href=\"#md720036fde\" y=\"132.981383\"/>\r\n     <use style=\"fill:#3ca02c;fill-opacity:0.8;stroke:#000000;stroke-opacity:0.8;\" x=\"205.26201\" xlink:href=\"#md720036fde\" y=\"75.010332\"/>\r\n     <use style=\"fill:#3ca02c;fill-opacity:0.8;stroke:#000000;stroke-opacity:0.8;\" x=\"164.625274\" xlink:href=\"#md720036fde\" y=\"131.693442\"/>\r\n     <use style=\"fill:#3ca02c;fill-opacity:0.8;stroke:#000000;stroke-opacity:0.8;\" x=\"204.325091\" xlink:href=\"#md720036fde\" y=\"76.147126\"/>\r\n     <use style=\"fill:#3ca02c;fill-opacity:0.8;stroke:#000000;stroke-opacity:0.8;\" x=\"167.16861\" xlink:href=\"#md720036fde\" y=\"79.06245\"/>\r\n     <use style=\"fill:#3ca02c;fill-opacity:0.8;stroke:#000000;stroke-opacity:0.8;\" x=\"160.976876\" xlink:href=\"#md720036fde\" y=\"175.317351\"/>\r\n     <use style=\"fill:#3ca02c;fill-opacity:0.8;stroke:#000000;stroke-opacity:0.8;\" x=\"109.77672\" xlink:href=\"#md720036fde\" y=\"170.89822\"/>\r\n     <use style=\"fill:#3ca02c;fill-opacity:0.8;stroke:#000000;stroke-opacity:0.8;\" x=\"159.103039\" xlink:href=\"#md720036fde\" y=\"177.590938\"/>\r\n     <use style=\"fill:#3ca02c;fill-opacity:0.8;stroke:#000000;stroke-opacity:0.8;\" x=\"91.649351\" xlink:href=\"#md720036fde\" y=\"141.621453\"/>\r\n     <use style=\"fill:#3ca02c;fill-opacity:0.8;stroke:#000000;stroke-opacity:0.8;\" x=\"250.93993\" xlink:href=\"#md720036fde\" y=\"125.326959\"/>\r\n     <use style=\"fill:#3ca02c;fill-opacity:0.8;stroke:#000000;stroke-opacity:0.8;\" x=\"221.139057\" xlink:href=\"#md720036fde\" y=\"159.136895\"/>\r\n     <use style=\"fill:#3ca02c;fill-opacity:0.8;stroke:#000000;stroke-opacity:0.8;\" x=\"225.792667\" xlink:href=\"#md720036fde\" y=\"160.104216\"/>\r\n     <use style=\"fill:#3ca02c;fill-opacity:0.8;stroke:#000000;stroke-opacity:0.8;\" x=\"167.93267\" xlink:href=\"#md720036fde\" y=\"132.518658\"/>\r\n     <use style=\"fill:#3ca02c;fill-opacity:0.8;stroke:#000000;stroke-opacity:0.8;\" x=\"129.971665\" xlink:href=\"#md720036fde\" y=\"161.043469\"/>\r\n     <use style=\"fill:#3ca02c;fill-opacity:0.8;stroke:#000000;stroke-opacity:0.8;\" x=\"263.736973\" xlink:href=\"#md720036fde\" y=\"103.136895\"/>\r\n     <use style=\"fill:#3ca02c;fill-opacity:0.8;stroke:#000000;stroke-opacity:0.8;\" x=\"241.213846\" xlink:href=\"#md720036fde\" y=\"92.470339\"/>\r\n     <use style=\"fill:#3ca02c;fill-opacity:0.8;stroke:#000000;stroke-opacity:0.8;\" x=\"120.702864\" xlink:href=\"#md720036fde\" y=\"82.797819\"/>\r\n     <use style=\"fill:#3ca02c;fill-opacity:0.8;stroke:#000000;stroke-opacity:0.8;\" x=\"227.037777\" xlink:href=\"#md720036fde\" y=\"60.66319\"/>\r\n     <use style=\"fill:#3ca02c;fill-opacity:0.8;stroke:#000000;stroke-opacity:0.8;\" x=\"181.799025\" xlink:href=\"#md720036fde\" y=\"133.664494\"/>\r\n     <use style=\"fill:#3ca02c;fill-opacity:0.8;stroke:#000000;stroke-opacity:0.8;\" x=\"184.391872\" xlink:href=\"#md720036fde\" y=\"163.331118\"/>\r\n     <use style=\"fill:#3ca02c;fill-opacity:0.8;stroke:#000000;stroke-opacity:0.8;\" x=\"110.479031\" xlink:href=\"#md720036fde\" y=\"174.395923\"/>\r\n     <use style=\"fill:#3ca02c;fill-opacity:0.8;stroke:#000000;stroke-opacity:0.8;\" x=\"239.659022\" xlink:href=\"#md720036fde\" y=\"161.250052\"/>\r\n     <use style=\"fill:#3ca02c;fill-opacity:0.8;stroke:#000000;stroke-opacity:0.8;\" x=\"239.864692\" xlink:href=\"#md720036fde\" y=\"160.512158\"/>\r\n     <use style=\"fill:#3ca02c;fill-opacity:0.8;stroke:#000000;stroke-opacity:0.8;\" x=\"231.038\" xlink:href=\"#md720036fde\" y=\"137.400514\"/>\r\n     <use style=\"fill:#3ca02c;fill-opacity:0.8;stroke:#000000;stroke-opacity:0.8;\" x=\"224.345347\" xlink:href=\"#md720036fde\" y=\"60.37898\"/>\r\n     <use style=\"fill:#3ca02c;fill-opacity:0.8;stroke:#000000;stroke-opacity:0.8;\" x=\"154.368629\" xlink:href=\"#md720036fde\" y=\"169.436439\"/>\r\n     <use style=\"fill:#3ca02c;fill-opacity:0.8;stroke:#000000;stroke-opacity:0.8;\" x=\"209.948431\" xlink:href=\"#md720036fde\" y=\"129.832761\"/>\r\n     <use style=\"fill:#3ca02c;fill-opacity:0.8;stroke:#000000;stroke-opacity:0.8;\" x=\"211.545366\" xlink:href=\"#md720036fde\" y=\"150.752968\"/>\r\n     <use style=\"fill:#3ca02c;fill-opacity:0.8;stroke:#000000;stroke-opacity:0.8;\" x=\"213.300877\" xlink:href=\"#md720036fde\" y=\"152.173972\"/>\r\n     <use style=\"fill:#3ca02c;fill-opacity:0.8;stroke:#000000;stroke-opacity:0.8;\" x=\"79.962085\" xlink:href=\"#md720036fde\" y=\"108.081722\"/>\r\n     <use style=\"fill:#3ca02c;fill-opacity:0.8;stroke:#000000;stroke-opacity:0.8;\" x=\"222.790524\" xlink:href=\"#md720036fde\" y=\"129.158692\"/>\r\n     <use style=\"fill:#3ca02c;fill-opacity:0.8;stroke:#000000;stroke-opacity:0.8;\" x=\"271.220389\" xlink:href=\"#md720036fde\" y=\"57.92251\"/>\r\n     <use style=\"fill:#3ca02c;fill-opacity:0.8;stroke:#000000;stroke-opacity:0.8;\" x=\"182.735944\" xlink:href=\"#md720036fde\" y=\"132.5277\"/>\r\n     <use style=\"fill:#3ca02c;fill-opacity:0.8;stroke:#000000;stroke-opacity:0.8;\" x=\"98.791765\" xlink:href=\"#md720036fde\" y=\"140.856192\"/>\r\n     <use style=\"fill:#3ca02c;fill-opacity:0.8;stroke:#000000;stroke-opacity:0.8;\" x=\"153.43171\" xlink:href=\"#md720036fde\" y=\"170.573232\"/>\r\n     <use style=\"fill:#3ca02c;fill-opacity:0.8;stroke:#000000;stroke-opacity:0.8;\" x=\"270.342282\" xlink:href=\"#md720036fde\" y=\"177.201733\"/>\r\n     <use style=\"fill:#3ca02c;fill-opacity:0.8;stroke:#000000;stroke-opacity:0.8;\" x=\"171.240065\" xlink:href=\"#md720036fde\" y=\"133.343874\"/>\r\n     <use style=\"fill:#3ca02c;fill-opacity:0.8;stroke:#000000;stroke-opacity:0.8;\" x=\"155.717782\" xlink:href=\"#md720036fde\" y=\"101.39462\"/>\r\n     <use style=\"fill:#3ca02c;fill-opacity:0.8;stroke:#000000;stroke-opacity:0.8;\" x=\"156.787094\" xlink:href=\"#md720036fde\" y=\"124.730519\"/>\r\n     <use style=\"fill:#3ca02c;fill-opacity:0.8;stroke:#000000;stroke-opacity:0.8;\" x=\"271.014719\" xlink:href=\"#md720036fde\" y=\"58.660403\"/>\r\n     <use style=\"fill:#3ca02c;fill-opacity:0.8;stroke:#000000;stroke-opacity:0.8;\" x=\"112.4882\" xlink:href=\"#md720036fde\" y=\"128.411105\"/>\r\n     <use style=\"fill:#3ca02c;fill-opacity:0.8;stroke:#000000;stroke-opacity:0.8;\" x=\"177.249458\" xlink:href=\"#md720036fde\" y=\"164.096379\"/>\r\n     <use style=\"fill:#3ca02c;fill-opacity:0.8;stroke:#000000;stroke-opacity:0.8;\" x=\"232.793511\" xlink:href=\"#md720036fde\" y=\"138.821518\"/>\r\n     <use style=\"fill:#3ca02c;fill-opacity:0.8;stroke:#000000;stroke-opacity:0.8;\" x=\"296.381413\" xlink:href=\"#md720036fde\" y=\"119.771687\"/>\r\n     <use style=\"fill:#3ca02c;fill-opacity:0.8;stroke:#000000;stroke-opacity:0.8;\" x=\"104.723296\" xlink:href=\"#md720036fde\" y=\"96.237595\"/>\r\n     <use style=\"fill:#3ca02c;fill-opacity:0.8;stroke:#000000;stroke-opacity:0.8;\" x=\"201.646423\" xlink:href=\"#md720036fde\" y=\"172.489349\"/>\r\n     <use style=\"fill:#3ca02c;fill-opacity:0.8;stroke:#000000;stroke-opacity:0.8;\" x=\"133.942015\" xlink:href=\"#md720036fde\" y=\"115.741761\"/>\r\n     <use style=\"fill:#3ca02c;fill-opacity:0.8;stroke:#000000;stroke-opacity:0.8;\" x=\"170.348197\" xlink:href=\"#md720036fde\" y=\"155.996663\"/>\r\n     <use style=\"fill:#3ca02c;fill-opacity:0.8;stroke:#000000;stroke-opacity:0.8;\" x=\"213.783449\" xlink:href=\"#md720036fde\" y=\"128.242284\"/>\r\n     <use style=\"fill:#3ca02c;fill-opacity:0.8;stroke:#000000;stroke-opacity:0.8;\" x=\"142.917801\" xlink:href=\"#md720036fde\" y=\"191.768608\"/>\r\n     <use style=\"fill:#3ca02c;fill-opacity:0.8;stroke:#000000;stroke-opacity:0.8;\" x=\"270.706528\" xlink:href=\"#md720036fde\" y=\"156.964636\"/>\r\n     <use style=\"fill:#3ca02c;fill-opacity:0.8;stroke:#000000;stroke-opacity:0.8;\" x=\"188.359284\" xlink:href=\"#md720036fde\" y=\"186.213335\"/>\r\n     <use style=\"fill:#3ca02c;fill-opacity:0.8;stroke:#000000;stroke-opacity:0.8;\" x=\"180.455749\" xlink:href=\"#md720036fde\" y=\"65.338464\"/>\r\n     <use style=\"fill:#3ca02c;fill-opacity:0.8;stroke:#000000;stroke-opacity:0.8;\" x=\"285.51274\" xlink:href=\"#md720036fde\" y=\"88.789754\"/>\r\n     <use style=\"fill:#3ca02c;fill-opacity:0.8;stroke:#000000;stroke-opacity:0.8;\" x=\"136.566151\" xlink:href=\"#md720036fde\" y=\"70.297948\"/>\r\n     <use style=\"fill:#3ca02c;fill-opacity:0.8;stroke:#000000;stroke-opacity:0.8;\" x=\"157.269667\" xlink:href=\"#md720036fde\" y=\"100.798831\"/>\r\n     <use style=\"fill:#3ca02c;fill-opacity:0.8;stroke:#000000;stroke-opacity:0.8;\" x=\"289.834916\" xlink:href=\"#md720036fde\" y=\"163.849279\"/>\r\n     <use style=\"fill:#3ca02c;fill-opacity:0.8;stroke:#000000;stroke-opacity:0.8;\" x=\"220.202138\" xlink:href=\"#md720036fde\" y=\"160.273689\"/>\r\n     <use style=\"fill:#3ca02c;fill-opacity:0.8;stroke:#000000;stroke-opacity:0.8;\" x=\"238.312808\" xlink:href=\"#md720036fde\" y=\"161.107947\"/>\r\n     <use style=\"fill:#3ca02c;fill-opacity:0.8;stroke:#000000;stroke-opacity:0.8;\" x=\"225.470715\" xlink:href=\"#md720036fde\" y=\"161.782015\"/>\r\n     <use style=\"fill:#3ca02c;fill-opacity:0.8;stroke:#000000;stroke-opacity:0.8;\" x=\"166.686038\" xlink:href=\"#md720036fde\" y=\"102.994138\"/>\r\n     <use style=\"fill:#3ca02c;fill-opacity:0.8;stroke:#000000;stroke-opacity:0.8;\" x=\"217.476898\" xlink:href=\"#md720036fde\" y=\"106.13437\"/>\r\n     <use style=\"fill:#3ca02c;fill-opacity:0.8;stroke:#000000;stroke-opacity:0.8;\" x=\"130.908583\" xlink:href=\"#md720036fde\" y=\"159.906676\"/>\r\n     <use style=\"fill:#3ca02c;fill-opacity:0.8;stroke:#000000;stroke-opacity:0.8;\" x=\"154.986534\" xlink:href=\"#md720036fde\" y=\"101.793519\"/>\r\n     <use style=\"fill:#3ca02c;fill-opacity:0.8;stroke:#000000;stroke-opacity:0.8;\" x=\"225.688624\" xlink:href=\"#md720036fde\" y=\"128.705009\"/>\r\n     <use style=\"fill:#3ca02c;fill-opacity:0.8;stroke:#000000;stroke-opacity:0.8;\" x=\"225.073657\" xlink:href=\"#md720036fde\" y=\"128.164004\"/>\r\n     <use style=\"fill:#3ca02c;fill-opacity:0.8;stroke:#000000;stroke-opacity:0.8;\" x=\"186.661244\" xlink:href=\"#md720036fde\" y=\"65.709997\"/>\r\n     <use style=\"fill:#3ca02c;fill-opacity:0.8;stroke:#000000;stroke-opacity:0.8;\" x=\"126.222161\" xlink:href=\"#md720036fde\" y=\"105.084247\"/>\r\n     <use style=\"fill:#3ca02c;fill-opacity:0.8;stroke:#000000;stroke-opacity:0.8;\" x=\"255.181306\" xlink:href=\"#md720036fde\" y=\"193.199306\"/>\r\n     <use style=\"fill:#3ca02c;fill-opacity:0.8;stroke:#000000;stroke-opacity:0.8;\" x=\"209.638718\" xlink:href=\"#md720036fde\" y=\"99.171448\"/>\r\n     <use style=\"fill:#3ca02c;fill-opacity:0.8;stroke:#000000;stroke-opacity:0.8;\" x=\"234.068494\" xlink:href=\"#md720036fde\" y=\"161.419524\"/>\r\n     <use style=\"fill:#3ca02c;fill-opacity:0.8;stroke:#000000;stroke-opacity:0.8;\" x=\"253.223063\" xlink:href=\"#md720036fde\" y=\"124.332271\"/>\r\n     <use style=\"fill:#3ca02c;fill-opacity:0.8;stroke:#000000;stroke-opacity:0.8;\" x=\"210.253684\" xlink:href=\"#md720036fde\" y=\"99.712453\"/>\r\n     <use style=\"fill:#3ca02c;fill-opacity:0.8;stroke:#000000;stroke-opacity:0.8;\" x=\"265.698154\" xlink:href=\"#md720036fde\" y=\"103.820006\"/>\r\n     <use style=\"fill:#3ca02c;fill-opacity:0.8;stroke:#000000;stroke-opacity:0.8;\" x=\"297.200006\" xlink:href=\"#md720036fde\" y=\"122.329484\"/>\r\n     <use style=\"fill:#3ca02c;fill-opacity:0.8;stroke:#000000;stroke-opacity:0.8;\" x=\"142.508504\" xlink:href=\"#md720036fde\" y=\"190.489709\"/>\r\n     <use style=\"fill:#3ca02c;fill-opacity:0.8;stroke:#000000;stroke-opacity:0.8;\" x=\"297.112662\" xlink:href=\"#md720036fde\" y=\"119.372787\"/>\r\n     <use style=\"fill:#3ca02c;fill-opacity:0.8;stroke:#000000;stroke-opacity:0.8;\" x=\"233.321133\" xlink:href=\"#md720036fde\" y=\"136.405826\"/>\r\n     <use style=\"fill:#3ca02c;fill-opacity:0.8;stroke:#000000;stroke-opacity:0.8;\" x=\"174.798181\" xlink:href=\"#md720036fde\" y=\"154.947191\"/>\r\n     <use style=\"fill:#3ca02c;fill-opacity:0.8;stroke:#000000;stroke-opacity:0.8;\" x=\"263.154818\" xlink:href=\"#md720036fde\" y=\"156.450998\"/>\r\n     <use style=\"fill:#3ca02c;fill-opacity:0.8;stroke:#000000;stroke-opacity:0.8;\" x=\"272.390807\" xlink:href=\"#md720036fde\" y=\"180.841541\"/>\r\n     <use style=\"fill:#3ca02c;fill-opacity:0.8;stroke:#000000;stroke-opacity:0.8;\" x=\"246.882236\" xlink:href=\"#md720036fde\" y=\"167.67197\"/>\r\n     <use style=\"fill:#3ca02c;fill-opacity:0.8;stroke:#000000;stroke-opacity:0.8;\" x=\"208.90747\" xlink:href=\"#md720036fde\" y=\"99.570347\"/>\r\n     <use style=\"fill:#3ca02c;fill-opacity:0.8;stroke:#000000;stroke-opacity:0.8;\" x=\"166.905469\" xlink:href=\"#md720036fde\" y=\"198.882678\"/>\r\n     <use style=\"fill:#3ca02c;fill-opacity:0.8;stroke:#000000;stroke-opacity:0.8;\" x=\"141.879777\" xlink:href=\"#md720036fde\" y=\"93.32227\"/>\r\n     <use style=\"fill:#3ca02c;fill-opacity:0.8;stroke:#000000;stroke-opacity:0.8;\" x=\"268.745347\" xlink:href=\"#md720036fde\" y=\"156.281525\"/>\r\n     <use style=\"fill:#3ca02c;fill-opacity:0.8;stroke:#000000;stroke-opacity:0.8;\" x=\"117.073517\" xlink:href=\"#md720036fde\" y=\"83.650402\"/>\r\n     <use style=\"fill:#3ca02c;fill-opacity:0.8;stroke:#000000;stroke-opacity:0.8;\" x=\"236.032613\" xlink:href=\"#md720036fde\" y=\"93.91871\"/>\r\n     <use style=\"fill:#3ca02c;fill-opacity:0.8;stroke:#000000;stroke-opacity:0.8;\" x=\"248.623986\" xlink:href=\"#md720036fde\" y=\"72.46654\"/>\r\n     <use style=\"fill:#3ca02c;fill-opacity:0.8;stroke:#000000;stroke-opacity:0.8;\" x=\"282.907655\" xlink:href=\"#md720036fde\" y=\"91.46224\"/>\r\n     <use style=\"fill:#3ca02c;fill-opacity:0.8;stroke:#000000;stroke-opacity:0.8;\" x=\"120.645393\" xlink:href=\"#md720036fde\" y=\"201.880153\"/>\r\n     <use style=\"fill:#3ca02c;fill-opacity:0.8;stroke:#000000;stroke-opacity:0.8;\" x=\"223.408429\" xlink:href=\"#md720036fde\" y=\"61.515773\"/>\r\n     <use style=\"fill:#3ca02c;fill-opacity:0.8;stroke:#000000;stroke-opacity:0.8;\" x=\"161.372411\" xlink:href=\"#md720036fde\" y=\"79.969816\"/>\r\n     <use style=\"fill:#3ca02c;fill-opacity:0.8;stroke:#000000;stroke-opacity:0.8;\" x=\"174.524218\" xlink:href=\"#md720036fde\" y=\"109.957061\"/>\r\n     <use style=\"fill:#3ca02c;fill-opacity:0.8;stroke:#000000;stroke-opacity:0.8;\" x=\"177.831613\" xlink:href=\"#md720036fde\" y=\"110.782277\"/>\r\n     <use style=\"fill:#3ca02c;fill-opacity:0.8;stroke:#000000;stroke-opacity:0.8;\" x=\"115.386299\" xlink:href=\"#md720036fde\" y=\"127.957422\"/>\r\n     <use style=\"fill:#3ca02c;fill-opacity:0.8;stroke:#000000;stroke-opacity:0.8;\" x=\"198.39356\" xlink:href=\"#md720036fde\" y=\"120.765723\"/>\r\n     <use style=\"fill:#3ca02c;fill-opacity:0.8;stroke:#000000;stroke-opacity:0.8;\" x=\"194.290815\" xlink:href=\"#md720036fde\" y=\"141.594738\"/>\r\n     <use style=\"fill:#3ca02c;fill-opacity:0.8;stroke:#000000;stroke-opacity:0.8;\" x=\"80.371382\" xlink:href=\"#md720036fde\" y=\"109.360621\"/>\r\n     <use style=\"fill:#3ca02c;fill-opacity:0.8;stroke:#000000;stroke-opacity:0.8;\" x=\"153.344366\" xlink:href=\"#md720036fde\" y=\"167.616535\"/>\r\n     <use style=\"fill:#3ca02c;fill-opacity:0.8;stroke:#000000;stroke-opacity:0.8;\" x=\"202.978877\" xlink:href=\"#md720036fde\" y=\"76.00502\"/>\r\n     <use style=\"fill:#3ca02c;fill-opacity:0.8;stroke:#000000;stroke-opacity:0.8;\" x=\"214.088702\" xlink:href=\"#md720036fde\" y=\"98.121976\"/>\r\n     <use style=\"fill:#3ca02c;fill-opacity:0.8;stroke:#000000;stroke-opacity:0.8;\" x=\"182.208321\" xlink:href=\"#md720036fde\" y=\"134.943393\"/>\r\n     <use style=\"fill:#3ca02c;fill-opacity:0.8;stroke:#000000;stroke-opacity:0.8;\" x=\"164.270511\" xlink:href=\"#md720036fde\" y=\"79.516133\"/>\r\n     <use style=\"fill:#3ca02c;fill-opacity:0.8;stroke:#000000;stroke-opacity:0.8;\" x=\"131.980834\" xlink:href=\"#md720036fde\" y=\"115.058651\"/>\r\n     <use style=\"fill:#3ca02c;fill-opacity:0.8;stroke:#000000;stroke-opacity:0.8;\" x=\"198.258227\" xlink:href=\"#md720036fde\" y=\"164.476954\"/>\r\n     <use style=\"fill:#3ca02c;fill-opacity:0.8;stroke:#000000;stroke-opacity:0.8;\" x=\"170.875819\" xlink:href=\"#md720036fde\" y=\"153.580971\"/>\r\n     <use style=\"fill:#3ca02c;fill-opacity:0.8;stroke:#000000;stroke-opacity:0.8;\" x=\"293.229656\" xlink:href=\"#md720036fde\" y=\"167.631192\"/>\r\n     <use style=\"fill:#3ca02c;fill-opacity:0.8;stroke:#000000;stroke-opacity:0.8;\" x=\"194.423209\" xlink:href=\"#md720036fde\" y=\"166.067431\"/>\r\n     <use style=\"fill:#3ca02c;fill-opacity:0.8;stroke:#000000;stroke-opacity:0.8;\" x=\"209.243182\" xlink:href=\"#md720036fde\" y=\"194.518983\"/>\r\n     <use style=\"fill:#3ca02c;fill-opacity:0.8;stroke:#000000;stroke-opacity:0.8;\" x=\"281.883392\" xlink:href=\"#md720036fde\" y=\"89.642336\"/>\r\n     <use style=\"fill:#3ca02c;fill-opacity:0.8;stroke:#000000;stroke-opacity:0.8;\" x=\"314.596126\" xlink:href=\"#md720036fde\" y=\"152.005151\"/>\r\n     <use style=\"fill:#3ca02c;fill-opacity:0.8;stroke:#000000;stroke-opacity:0.8;\" x=\"161.724236\" xlink:href=\"#md720036fde\" y=\"200.33105\"/>\r\n     <use style=\"fill:#3ca02c;fill-opacity:0.8;stroke:#000000;stroke-opacity:0.8;\" x=\"289.307294\" xlink:href=\"#md720036fde\" y=\"166.264971\"/>\r\n     <use style=\"fill:#3ca02c;fill-opacity:0.8;stroke:#000000;stroke-opacity:0.8;\" x=\"113.425118\" xlink:href=\"#md720036fde\" y=\"127.274311\"/>\r\n     <use style=\"fill:#3ca02c;fill-opacity:0.8;stroke:#000000;stroke-opacity:0.8;\" x=\"121.639783\" xlink:href=\"#md720036fde\" y=\"81.661026\"/>\r\n     <use style=\"fill:#3ca02c;fill-opacity:0.8;stroke:#000000;stroke-opacity:0.8;\" x=\"200.222347\" xlink:href=\"#md720036fde\" y=\"96.97614\"/>\r\n     <use style=\"fill:#3ca02c;fill-opacity:0.8;stroke:#000000;stroke-opacity:0.8;\" x=\"251.258944\" xlink:href=\"#md720036fde\" y=\"191.833085\"/>\r\n     <use style=\"fill:#3ca02c;fill-opacity:0.8;stroke:#000000;stroke-opacity:0.8;\" x=\"221.44431\" xlink:href=\"#md720036fde\" y=\"129.016587\"/>\r\n     <use style=\"fill:#3ca02c;fill-opacity:0.8;stroke:#000000;stroke-opacity:0.8;\" x=\"171.285115\" xlink:href=\"#md720036fde\" y=\"154.859869\"/>\r\n     <use style=\"fill:#3ca02c;fill-opacity:0.8;stroke:#000000;stroke-opacity:0.8;\" x=\"213.56108\" xlink:href=\"#md720036fde\" y=\"100.537668\"/>\r\n     <use style=\"fill:#3ca02c;fill-opacity:0.8;stroke:#000000;stroke-opacity:0.8;\" x=\"135.53895\" xlink:href=\"#md720036fde\" y=\"136.661969\"/>\r\n     <use style=\"fill:#3ca02c;fill-opacity:0.8;stroke:#000000;stroke-opacity:0.8;\" x=\"260.429577\" xlink:href=\"#md720036fde\" y=\"102.31168\"/>\r\n     <use style=\"fill:#3ca02c;fill-opacity:0.8;stroke:#000000;stroke-opacity:0.8;\" x=\"297.727628\" xlink:href=\"#md720036fde\" y=\"119.913792\"/>\r\n     <use style=\"fill:#3ca02c;fill-opacity:0.8;stroke:#000000;stroke-opacity:0.8;\" x=\"188.494616\" xlink:href=\"#md720036fde\" y=\"142.502104\"/>\r\n     <use style=\"fill:#3ca02c;fill-opacity:0.8;stroke:#000000;stroke-opacity:0.8;\" x=\"142.156679\" xlink:href=\"#md720036fde\" y=\"70.128476\"/>\r\n     <use style=\"fill:#3ca02c;fill-opacity:0.8;stroke:#000000;stroke-opacity:0.8;\" x=\"264.761236\" xlink:href=\"#md720036fde\" y=\"104.956799\"/>\r\n     <use style=\"fill:#3ca02c;fill-opacity:0.8;stroke:#000000;stroke-opacity:0.8;\" x=\"165.649537\" xlink:href=\"#md720036fde\" y=\"133.513346\"/>\r\n     <use style=\"fill:#3ca02c;fill-opacity:0.8;stroke:#000000;stroke-opacity:0.8;\" x=\"195.772362\" xlink:href=\"#md720036fde\" y=\"98.025612\"/>\r\n     <use style=\"fill:#3ca02c;fill-opacity:0.8;stroke:#000000;stroke-opacity:0.8;\" x=\"250.527696\" xlink:href=\"#md720036fde\" y=\"192.231985\"/>\r\n     <use style=\"fill:#3ca02c;fill-opacity:0.8;stroke:#000000;stroke-opacity:0.8;\" x=\"146.739058\" xlink:href=\"#md720036fde\" y=\"93.551697\"/>\r\n     <use style=\"fill:#3ca02c;fill-opacity:0.8;stroke:#000000;stroke-opacity:0.8;\" x=\"138.846345\" xlink:href=\"#md720036fde\" y=\"137.487184\"/>\r\n     <use style=\"fill:#3ca02c;fill-opacity:0.8;stroke:#000000;stroke-opacity:0.8;\" x=\"218.413816\" xlink:href=\"#md720036fde\" y=\"104.997577\"/>\r\n     <use style=\"fill:#3ca02c;fill-opacity:0.8;stroke:#000000;stroke-opacity:0.8;\" x=\"226.715825\" xlink:href=\"#md720036fde\" y=\"62.340989\"/>\r\n     <use style=\"fill:#3ca02c;fill-opacity:0.8;stroke:#000000;stroke-opacity:0.8;\" x=\"124.670276\" xlink:href=\"#md720036fde\" y=\"105.680036\"/>\r\n     <use style=\"fill:#3ca02c;fill-opacity:0.8;stroke:#000000;stroke-opacity:0.8;\" x=\"311.903697\" xlink:href=\"#md720036fde\" y=\"151.720941\"/>\r\n     <use style=\"fill:#3ca02c;fill-opacity:0.8;stroke:#000000;stroke-opacity:0.8;\" x=\"219.232408\" xlink:href=\"#md720036fde\" y=\"107.555375\"/>\r\n     <use style=\"fill:#3ca02c;fill-opacity:0.8;stroke:#000000;stroke-opacity:0.8;\" x=\"239.249726\" xlink:href=\"#md720036fde\" y=\"159.971153\"/>\r\n     <use style=\"fill:#3ca02c;fill-opacity:0.8;stroke:#000000;stroke-opacity:0.8;\" x=\"237.90645\" xlink:href=\"#md720036fde\" y=\"91.645123\"/>\r\n     <use style=\"fill:#3ca02c;fill-opacity:0.8;stroke:#000000;stroke-opacity:0.8;\" x=\"102.147149\" xlink:href=\"#md720036fde\" y=\"95.013479\"/>\r\n     <use style=\"fill:#3ca02c;fill-opacity:0.8;stroke:#000000;stroke-opacity:0.8;\" x=\"123.733358\" xlink:href=\"#md720036fde\" y=\"106.816829\"/>\r\n     <use style=\"fill:#3ca02c;fill-opacity:0.8;stroke:#000000;stroke-opacity:0.8;\" x=\"92.58627\" xlink:href=\"#md720036fde\" y=\"140.484659\"/>\r\n     <use style=\"fill:#3ca02c;fill-opacity:0.8;stroke:#000000;stroke-opacity:0.8;\" x=\"235.005412\" xlink:href=\"#md720036fde\" y=\"160.282731\"/>\r\n     <use style=\"fill:#3ca02c;fill-opacity:0.8;stroke:#000000;stroke-opacity:0.8;\" x=\"123.279012\" xlink:href=\"#md720036fde\" y=\"84.021935\"/>\r\n     <use style=\"fill:#3ca02c;fill-opacity:0.8;stroke:#000000;stroke-opacity:0.8;\" x=\"194.335865\" xlink:href=\"#md720036fde\" y=\"163.110733\"/>\r\n     <use style=\"fill:#3ca02c;fill-opacity:0.8;stroke:#000000;stroke-opacity:0.8;\" x=\"268.468445\" xlink:href=\"#md720036fde\" y=\"179.47532\"/>\r\n     <use style=\"fill:#3ca02c;fill-opacity:0.8;stroke:#000000;stroke-opacity:0.8;\" x=\"227.122182\" xlink:href=\"#md720036fde\" y=\"131.803812\"/>\r\n     <use style=\"fill:#3ca02c;fill-opacity:0.8;stroke:#000000;stroke-opacity:0.8;\" x=\"187.11559\" xlink:href=\"#md720036fde\" y=\"88.504891\"/>\r\n     <use style=\"fill:#3ca02c;fill-opacity:0.8;stroke:#000000;stroke-opacity:0.8;\" x=\"183.86425\" xlink:href=\"#md720036fde\" y=\"165.746811\"/>\r\n     <use style=\"fill:#3ca02c;fill-opacity:0.8;stroke:#000000;stroke-opacity:0.8;\" x=\"151.792481\" xlink:href=\"#md720036fde\" y=\"168.212323\"/>\r\n     <use style=\"fill:#3ca02c;fill-opacity:0.8;stroke:#000000;stroke-opacity:0.8;\" x=\"182.823288\" xlink:href=\"#md720036fde\" y=\"135.484398\"/>\r\n     <use style=\"fill:#3ca02c;fill-opacity:0.8;stroke:#000000;stroke-opacity:0.8;\" x=\"195.363066\" xlink:href=\"#md720036fde\" y=\"96.746713\"/>\r\n     <use style=\"fill:#3ca02c;fill-opacity:0.8;stroke:#000000;stroke-opacity:0.8;\" x=\"247.277771\" xlink:href=\"#md720036fde\" y=\"72.324435\"/>\r\n     <use style=\"fill:#3ca02c;fill-opacity:0.8;stroke:#000000;stroke-opacity:0.8;\" x=\"200.354741\" xlink:href=\"#md720036fde\" y=\"121.448833\"/>\r\n     <use style=\"fill:#3ca02c;fill-opacity:0.8;stroke:#000000;stroke-opacity:0.8;\" x=\"268.32229\" xlink:href=\"#md720036fde\" y=\"58.376193\"/>\r\n     <use style=\"fill:#3ca02c;fill-opacity:0.8;stroke:#000000;stroke-opacity:0.8;\" x=\"189.840831\" xlink:href=\"#md720036fde\" y=\"142.644209\"/>\r\n     <use style=\"fill:#3ca02c;fill-opacity:0.8;stroke:#000000;stroke-opacity:0.8;\" x=\"223.509534\" xlink:href=\"#md720036fde\" y=\"161.098904\"/>\r\n     <use style=\"fill:#3ca02c;fill-opacity:0.8;stroke:#000000;stroke-opacity:0.8;\" x=\"152.410386\" xlink:href=\"#md720036fde\" y=\"100.569404\"/>\r\n     <use style=\"fill:#3ca02c;fill-opacity:0.8;stroke:#000000;stroke-opacity:0.8;\" x=\"182.839987\" xlink:href=\"#md720036fde\" y=\"163.926907\"/>\r\n     <use style=\"fill:#3ca02c;fill-opacity:0.8;stroke:#000000;stroke-opacity:0.8;\" x=\"230.375045\" xlink:href=\"#md720036fde\" y=\"183.527438\"/>\r\n     <use style=\"fill:#3ca02c;fill-opacity:0.8;stroke:#000000;stroke-opacity:0.8;\" x=\"186.133622\" xlink:href=\"#md720036fde\" y=\"68.125689\"/>\r\n     <use style=\"fill:#3ca02c;fill-opacity:0.8;stroke:#000000;stroke-opacity:0.8;\" x=\"262.71271\" xlink:href=\"#md720036fde\" y=\"101.316992\"/>\r\n     <use style=\"fill:#3ca02c;fill-opacity:0.8;stroke:#000000;stroke-opacity:0.8;\" x=\"131.845501\" xlink:href=\"#md720036fde\" y=\"158.769882\"/>\r\n     <use style=\"fill:#3ca02c;fill-opacity:0.8;stroke:#000000;stroke-opacity:0.8;\" x=\"230.784342\" xlink:href=\"#md720036fde\" y=\"184.806337\"/>\r\n     <use style=\"fill:#3ca02c;fill-opacity:0.8;stroke:#000000;stroke-opacity:0.8;\" x=\"295.766447\" xlink:href=\"#md720036fde\" y=\"119.230682\"/>\r\n     <use style=\"fill:#3ca02c;fill-opacity:0.8;stroke:#000000;stroke-opacity:0.8;\" x=\"143.445423\" xlink:href=\"#md720036fde\" y=\"189.352915\"/>\r\n     <use style=\"fill:#3ca02c;fill-opacity:0.8;stroke:#000000;stroke-opacity:0.8;\" x=\"310.351812\" xlink:href=\"#md720036fde\" y=\"152.316729\"/>\r\n     <use style=\"fill:#3ca02c;fill-opacity:0.8;stroke:#000000;stroke-opacity:0.8;\" x=\"266.462214\" xlink:href=\"#md720036fde\" y=\"157.276214\"/>\r\n     <use style=\"fill:#3ca02c;fill-opacity:0.8;stroke:#000000;stroke-opacity:0.8;\" x=\"169.174841\" xlink:href=\"#md720036fde\" y=\"101.261556\"/>\r\n     <use style=\"fill:#3ca02c;fill-opacity:0.8;stroke:#000000;stroke-opacity:0.8;\" x=\"268.644242\" xlink:href=\"#md720036fde\" y=\"56.698394\"/>\r\n     <use style=\"fill:#3ca02c;fill-opacity:0.8;stroke:#000000;stroke-opacity:0.8;\" x=\"165.867445\" xlink:href=\"#md720036fde\" y=\"100.436341\"/>\r\n     <use style=\"fill:#3ca02c;fill-opacity:0.8;stroke:#000000;stroke-opacity:0.8;\" x=\"245.945317\" xlink:href=\"#md720036fde\" y=\"168.808763\"/>\r\n     <use style=\"fill:#3ca02c;fill-opacity:0.8;stroke:#000000;stroke-opacity:0.8;\" x=\"126.049302\" xlink:href=\"#md720036fde\" y=\"159.677248\"/>\r\n     <use style=\"fill:#3ca02c;fill-opacity:0.8;stroke:#000000;stroke-opacity:0.8;\" x=\"149.100052\" xlink:href=\"#md720036fde\" y=\"167.928112\"/>\r\n     <use style=\"fill:#3ca02c;fill-opacity:0.8;stroke:#000000;stroke-opacity:0.8;\" x=\"213.151784\" xlink:href=\"#md720036fde\" y=\"99.25877\"/>\r\n     <use style=\"fill:#3ca02c;fill-opacity:0.8;stroke:#000000;stroke-opacity:0.8;\" x=\"207.223191\" xlink:href=\"#md720036fde\" y=\"75.693443\"/>\r\n     <use style=\"fill:#3ca02c;fill-opacity:0.8;stroke:#000000;stroke-opacity:0.8;\" x=\"94.341781\" xlink:href=\"#md720036fde\" y=\"141.905664\"/>\r\n     <use style=\"fill:#3ca02c;fill-opacity:0.8;stroke:#000000;stroke-opacity:0.8;\" x=\"254.157043\" xlink:href=\"#md720036fde\" y=\"191.379402\"/>\r\n     <use style=\"fill:#3ca02c;fill-opacity:0.8;stroke:#000000;stroke-opacity:0.8;\" x=\"120.293568\" xlink:href=\"#md720036fde\" y=\"81.51892\"/>\r\n     <use style=\"fill:#3ca02c;fill-opacity:0.8;stroke:#000000;stroke-opacity:0.8;\" x=\"270.692767\" xlink:href=\"#md720036fde\" y=\"60.338202\"/>\r\n     <use style=\"fill:#3ca02c;fill-opacity:0.8;stroke:#000000;stroke-opacity:0.8;\" x=\"241.34624\" xlink:href=\"#md720036fde\" y=\"116.943032\"/>\r\n     <use style=\"fill:#3ca02c;fill-opacity:0.8;stroke:#000000;stroke-opacity:0.8;\" x=\"252.488877\" xlink:href=\"#md720036fde\" y=\"192.915095\"/>\r\n     <use style=\"fill:#3ca02c;fill-opacity:0.8;stroke:#000000;stroke-opacity:0.8;\" x=\"313.249912\" xlink:href=\"#md720036fde\" y=\"151.863046\"/>\r\n     <use style=\"fill:#3ca02c;fill-opacity:0.8;stroke:#000000;stroke-opacity:0.8;\" x=\"165.353584\" xlink:href=\"#md720036fde\" y=\"199.478467\"/>\r\n     <use style=\"fill:#3ca02c;fill-opacity:0.8;stroke:#000000;stroke-opacity:0.8;\" x=\"184.524266\" xlink:href=\"#md720036fde\" y=\"187.803812\"/>\r\n     <use style=\"fill:#3ca02c;fill-opacity:0.8;stroke:#000000;stroke-opacity:0.8;\" x=\"243.220077\" xlink:href=\"#md720036fde\" y=\"114.669445\"/>\r\n     <use style=\"fill:#3ca02c;fill-opacity:0.8;stroke:#000000;stroke-opacity:0.8;\" x=\"212.536817\" xlink:href=\"#md720036fde\" y=\"98.717765\"/>\r\n     <use style=\"fill:#3ca02c;fill-opacity:0.8;stroke:#000000;stroke-opacity:0.8;\" x=\"237.378828\" xlink:href=\"#md720036fde\" y=\"94.060816\"/>\r\n     <use style=\"fill:#3ca02c;fill-opacity:0.8;stroke:#000000;stroke-opacity:0.8;\" x=\"258.829704\" xlink:href=\"#md720036fde\" y=\"149.575397\"/>\r\n     <use style=\"fill:#3ca02c;fill-opacity:0.8;stroke:#000000;stroke-opacity:0.8;\" x=\"204.676916\" xlink:href=\"#md720036fde\" y=\"196.508359\"/>\r\n     <use style=\"fill:#3ca02c;fill-opacity:0.8;stroke:#000000;stroke-opacity:0.8;\" x=\"244.653635\" xlink:href=\"#md720036fde\" y=\"117.768248\"/>\r\n     <use style=\"fill:#3ca02c;fill-opacity:0.8;stroke:#000000;stroke-opacity:0.8;\" x=\"115.708251\" xlink:href=\"#md720036fde\" y=\"126.279623\"/>\r\n     <use style=\"fill:#3ca02c;fill-opacity:0.8;stroke:#000000;stroke-opacity:0.8;\" x=\"226.407633\" xlink:href=\"#md720036fde\" y=\"160.645221\"/>\r\n     <use style=\"fill:#3ca02c;fill-opacity:0.8;stroke:#000000;stroke-opacity:0.8;\" x=\"215.174714\" xlink:href=\"#md720036fde\" y=\"149.900385\"/>\r\n     <use style=\"fill:#3ca02c;fill-opacity:0.8;stroke:#000000;stroke-opacity:0.8;\" x=\"139.783264\" xlink:href=\"#md720036fde\" y=\"136.350391\"/>\r\n     <use style=\"fill:#3ca02c;fill-opacity:0.8;stroke:#000000;stroke-opacity:0.8;\" x=\"222.381228\" xlink:href=\"#md720036fde\" y=\"127.879794\"/>\r\n     <use style=\"fill:#3ca02c;fill-opacity:0.8;stroke:#000000;stroke-opacity:0.8;\" x=\"211.207302\" xlink:href=\"#md720036fde\" y=\"127.018169\"/>\r\n     <use style=\"fill:#3ca02c;fill-opacity:0.8;stroke:#000000;stroke-opacity:0.8;\" x=\"124.977051\" xlink:href=\"#md720036fde\" y=\"204.525273\"/>\r\n     <use style=\"fill:#3ca02c;fill-opacity:0.8;stroke:#000000;stroke-opacity:0.8;\" x=\"256.208507\" xlink:href=\"#md720036fde\" y=\"126.835286\"/>\r\n     <use style=\"fill:#3ca02c;fill-opacity:0.8;stroke:#000000;stroke-opacity:0.8;\" x=\"135.903196\" xlink:href=\"#md720036fde\" y=\"116.424872\"/>\r\n     <use style=\"fill:#3ca02c;fill-opacity:0.8;stroke:#000000;stroke-opacity:0.8;\" x=\"128.010484\" xlink:href=\"#md720036fde\" y=\"160.360359\"/>\r\n     <use style=\"fill:#3ca02c;fill-opacity:0.8;stroke:#000000;stroke-opacity:0.8;\" x=\"227.125121\" xlink:href=\"#md720036fde\" y=\"63.619888\"/>\r\n     <use style=\"fill:#3ca02c;fill-opacity:0.8;stroke:#000000;stroke-opacity:0.8;\" x=\"207.545143\" xlink:href=\"#md720036fde\" y=\"74.015644\"/>\r\n     <use style=\"fill:#3ca02c;fill-opacity:0.8;stroke:#000000;stroke-opacity:0.8;\" x=\"264.091737\" xlink:href=\"#md720036fde\" y=\"155.314204\"/>\r\n     <use style=\"fill:#3ca02c;fill-opacity:0.8;stroke:#000000;stroke-opacity:0.8;\" x=\"207.369346\" xlink:href=\"#md720036fde\" y=\"196.79257\"/>\r\n     <use style=\"fill:#3ca02c;fill-opacity:0.8;stroke:#000000;stroke-opacity:0.8;\" x=\"157.402061\" xlink:href=\"#md720036fde\" y=\"125.271524\"/>\r\n     <use style=\"fill:#3ca02c;fill-opacity:0.8;stroke:#000000;stroke-opacity:0.8;\" x=\"170.6084\" xlink:href=\"#md720036fde\" y=\"104.360359\"/>\r\n     <use style=\"fill:#3ca02c;fill-opacity:0.8;stroke:#000000;stroke-opacity:0.8;\" x=\"144.878982\" xlink:href=\"#md720036fde\" y=\"192.451718\"/>\r\n     <use style=\"fill:#3ca02c;fill-opacity:0.8;stroke:#000000;stroke-opacity:0.8;\" x=\"269.81466\" xlink:href=\"#md720036fde\" y=\"179.617425\"/>\r\n     <use style=\"fill:#3ca02c;fill-opacity:0.8;stroke:#000000;stroke-opacity:0.8;\" x=\"212.127521\" xlink:href=\"#md720036fde\" y=\"97.438866\"/>\r\n     <use style=\"fill:#3ca02c;fill-opacity:0.8;stroke:#000000;stroke-opacity:0.8;\" x=\"269.053538\" xlink:href=\"#md720036fde\" y=\"57.977293\"/>\r\n     <use style=\"fill:#3ca02c;fill-opacity:0.8;stroke:#000000;stroke-opacity:0.8;\" x=\"254.862292\" xlink:href=\"#md720036fde\" y=\"126.69318\"/>\r\n     <use style=\"fill:#3ca02c;fill-opacity:0.8;stroke:#000000;stroke-opacity:0.8;\" x=\"180.729713\" xlink:href=\"#md720036fde\" y=\"110.328594\"/>\r\n     <use style=\"fill:#3ca02c;fill-opacity:0.8;stroke:#000000;stroke-opacity:0.8;\" x=\"96.917928\" xlink:href=\"#md720036fde\" y=\"143.129779\"/>\r\n     <use style=\"fill:#3ca02c;fill-opacity:0.8;stroke:#000000;stroke-opacity:0.8;\" x=\"246.20552\" xlink:href=\"#md720036fde\" y=\"117.17246\"/>\r\n     <use style=\"fill:#3ca02c;fill-opacity:0.8;stroke:#000000;stroke-opacity:0.8;\" x=\"267.385372\" xlink:href=\"#md720036fde\" y=\"59.512986\"/>\r\n     <use style=\"fill:#3ca02c;fill-opacity:0.8;stroke:#000000;stroke-opacity:0.8;\" x=\"231.447296\" xlink:href=\"#md720036fde\" y=\"138.679413\"/>\r\n     <use style=\"fill:#3ca02c;fill-opacity:0.8;stroke:#000000;stroke-opacity:0.8;\" x=\"145.406604\" xlink:href=\"#md720036fde\" y=\"190.036026\"/>\r\n     <use style=\"fill:#3ca02c;fill-opacity:0.8;stroke:#000000;stroke-opacity:0.8;\" x=\"282.614641\" xlink:href=\"#md720036fde\" y=\"89.243437\"/>\r\n     <use style=\"fill:#3ca02c;fill-opacity:0.8;stroke:#000000;stroke-opacity:0.8;\" x=\"278.234994\" xlink:href=\"#md720036fde\" y=\"133.266246\"/>\r\n     <use style=\"fill:#3ca02c;fill-opacity:0.8;stroke:#000000;stroke-opacity:0.8;\" x=\"158.660931\" xlink:href=\"#md720036fde\" y=\"122.456932\"/>\r\n     <use style=\"fill:#3ca02c;fill-opacity:0.8;stroke:#000000;stroke-opacity:0.8;\" x=\"137.909427\" xlink:href=\"#md720036fde\" y=\"138.623978\"/>\r\n     <use style=\"fill:#3ca02c;fill-opacity:0.8;stroke:#000000;stroke-opacity:0.8;\" x=\"271.366544\" xlink:href=\"#md720036fde\" y=\"179.021637\"/>\r\n     <use style=\"fill:#3ca02c;fill-opacity:0.8;stroke:#000000;stroke-opacity:0.8;\" x=\"263.122007\" xlink:href=\"#md720036fde\" y=\"102.59589\"/>\r\n     <use style=\"fill:#3ca02c;fill-opacity:0.8;stroke:#000000;stroke-opacity:0.8;\" x=\"140.95662\" xlink:href=\"#md720036fde\" y=\"191.085497\"/>\r\n     <use style=\"fill:#3ca02c;fill-opacity:0.8;stroke:#000000;stroke-opacity:0.8;\" x=\"203.401934\" xlink:href=\"#md720036fde\" y=\"173.910353\"/>\r\n     <use style=\"fill:#3ca02c;fill-opacity:0.8;stroke:#000000;stroke-opacity:0.8;\" x=\"176.894695\" xlink:href=\"#md720036fde\" y=\"111.919071\"/>\r\n     <use style=\"fill:#3ca02c;fill-opacity:0.8;stroke:#000000;stroke-opacity:0.8;\" x=\"253.835091\" xlink:href=\"#md720036fde\" y=\"193.057201\"/>\r\n     <use style=\"fill:#3ca02c;fill-opacity:0.8;stroke:#000000;stroke-opacity:0.8;\" x=\"292.546396\" xlink:href=\"#md720036fde\" y=\"121.362163\"/>\r\n     <use style=\"fill:#3ca02c;fill-opacity:0.8;stroke:#000000;stroke-opacity:0.8;\" x=\"228.091912\" xlink:href=\"#md720036fde\" y=\"184.522126\"/>\r\n     <use style=\"fill:#3ca02c;fill-opacity:0.8;stroke:#000000;stroke-opacity:0.8;\" x=\"269.76961\" xlink:href=\"#md720036fde\" y=\"158.101429\"/>\r\n     <use style=\"fill:#3ca02c;fill-opacity:0.8;stroke:#000000;stroke-opacity:0.8;\" x=\"158.615881\" xlink:href=\"#md720036fde\" y=\"100.940936\"/>\r\n     <use style=\"fill:#3ca02c;fill-opacity:0.8;stroke:#000000;stroke-opacity:0.8;\" x=\"146.888151\" xlink:href=\"#md720036fde\" y=\"146.4669\"/>\r\n     <use style=\"fill:#3ca02c;fill-opacity:0.8;stroke:#000000;stroke-opacity:0.8;\" x=\"237.903511\" xlink:href=\"#md720036fde\" y=\"159.829048\"/>\r\n     <use style=\"fill:#3ca02c;fill-opacity:0.8;stroke:#000000;stroke-opacity:0.8;\" x=\"273.053762\" xlink:href=\"#md720036fde\" y=\"134.714617\"/>\r\n     <use style=\"fill:#3ca02c;fill-opacity:0.8;stroke:#000000;stroke-opacity:0.8;\" x=\"122.400904\" xlink:href=\"#md720036fde\" y=\"203.301158\"/>\r\n     <use style=\"fill:#3ca02c;fill-opacity:0.8;stroke:#000000;stroke-opacity:0.8;\" x=\"119.708475\" xlink:href=\"#md720036fde\" y=\"203.016947\"/>\r\n     <use style=\"fill:#3ca02c;fill-opacity:0.8;stroke:#000000;stroke-opacity:0.8;\" x=\"84.70304\" xlink:href=\"#md720036fde\" y=\"112.005741\"/>\r\n     <use style=\"fill:#3ca02c;fill-opacity:0.8;stroke:#000000;stroke-opacity:0.8;\" x=\"189.691738\" xlink:href=\"#md720036fde\" y=\"89.729007\"/>\r\n     <use style=\"fill:#3ca02c;fill-opacity:0.8;stroke:#000000;stroke-opacity:0.8;\" x=\"233.053714\" xlink:href=\"#md720036fde\" y=\"87.185215\"/>\r\n     <use style=\"fill:#3ca02c;fill-opacity:0.8;stroke:#000000;stroke-opacity:0.8;\" x=\"162.001138\" xlink:href=\"#md720036fde\" y=\"177.137255\"/>\r\n     <use style=\"fill:#3ca02c;fill-opacity:0.8;stroke:#000000;stroke-opacity:0.8;\" x=\"129.88432\" xlink:href=\"#md720036fde\" y=\"158.086772\"/>\r\n     <use style=\"fill:#3ca02c;fill-opacity:0.8;stroke:#000000;stroke-opacity:0.8;\" x=\"161.237079\" xlink:href=\"#md720036fde\" y=\"123.681048\"/>\r\n     <use style=\"fill:#3ca02c;fill-opacity:0.8;stroke:#000000;stroke-opacity:0.8;\" x=\"272.038982\" xlink:href=\"#md720036fde\" y=\"60.480307\"/>\r\n     <use style=\"fill:#3ca02c;fill-opacity:0.8;stroke:#000000;stroke-opacity:0.8;\" x=\"181.084476\" xlink:href=\"#md720036fde\" y=\"162.505903\"/>\r\n     <use style=\"fill:#3ca02c;fill-opacity:0.8;stroke:#000000;stroke-opacity:0.8;\" x=\"139.610405\" xlink:href=\"#md720036fde\" y=\"190.943392\"/>\r\n     <use style=\"fill:#3ca02c;fill-opacity:0.8;stroke:#000000;stroke-opacity:0.8;\" x=\"205.613835\" xlink:href=\"#md720036fde\" y=\"195.371565\"/>\r\n     <use style=\"fill:#3ca02c;fill-opacity:0.8;stroke:#000000;stroke-opacity:0.8;\" x=\"249.503433\" xlink:href=\"#md720036fde\" y=\"190.412081\"/>\r\n     <use style=\"fill:#3ca02c;fill-opacity:0.8;stroke:#000000;stroke-opacity:0.8;\" x=\"145.8159\" xlink:href=\"#md720036fde\" y=\"191.314925\"/>\r\n     <use style=\"fill:#3ca02c;fill-opacity:0.8;stroke:#000000;stroke-opacity:0.8;\" x=\"285.600084\" xlink:href=\"#md720036fde\" y=\"91.746451\"/>\r\n     <use style=\"fill:#3ca02c;fill-opacity:0.8;stroke:#000000;stroke-opacity:0.8;\" x=\"100.888278\" xlink:href=\"#md720036fde\" y=\"97.828071\"/>\r\n     <use style=\"fill:#3ca02c;fill-opacity:0.8;stroke:#000000;stroke-opacity:0.8;\" x=\"145.054779\" xlink:href=\"#md720036fde\" y=\"69.674793\"/>\r\n     <use style=\"fill:#3ca02c;fill-opacity:0.8;stroke:#000000;stroke-opacity:0.8;\" x=\"143.225992\" xlink:href=\"#md720036fde\" y=\"93.464376\"/>\r\n     <use style=\"fill:#3ca02c;fill-opacity:0.8;stroke:#000000;stroke-opacity:0.8;\" x=\"182.153789\" xlink:href=\"#md720036fde\" y=\"185.841802\"/>\r\n     <use style=\"fill:#3ca02c;fill-opacity:0.8;stroke:#000000;stroke-opacity:0.8;\" x=\"226.09792\" xlink:href=\"#md720036fde\" y=\"129.983908\"/>\r\n     <use style=\"fill:#3ca02c;fill-opacity:0.8;stroke:#000000;stroke-opacity:0.8;\" x=\"269.990457\" xlink:href=\"#md720036fde\" y=\"56.8405\"/>\r\n     <use style=\"fill:#3ca02c;fill-opacity:0.8;stroke:#000000;stroke-opacity:0.8;\" x=\"123.01587\" xlink:href=\"#md720036fde\" y=\"203.842163\"/>\r\n     <use style=\"fill:#3ca02c;fill-opacity:0.8;stroke:#000000;stroke-opacity:0.8;\" x=\"134.263967\" xlink:href=\"#md720036fde\" y=\"114.063963\"/>\r\n     <use style=\"fill:#3ca02c;fill-opacity:0.8;stroke:#000000;stroke-opacity:0.8;\" x=\"251.200133\" xlink:href=\"#md720036fde\" y=\"73.690656\"/>\r\n     <use style=\"fill:#3ca02c;fill-opacity:0.8;stroke:#000000;stroke-opacity:0.8;\" x=\"96.215617\" xlink:href=\"#md720036fde\" y=\"139.632077\"/>\r\n     <use style=\"fill:#3ca02c;fill-opacity:0.8;stroke:#000000;stroke-opacity:0.8;\" x=\"125.285243\" xlink:href=\"#md720036fde\" y=\"106.221041\"/>\r\n     <use style=\"fill:#3ca02c;fill-opacity:0.8;stroke:#000000;stroke-opacity:0.8;\" x=\"248.843417\" xlink:href=\"#md720036fde\" y=\"168.35508\"/>\r\n     <use style=\"fill:#3ca02c;fill-opacity:0.8;stroke:#000000;stroke-opacity:0.8;\" x=\"94.869403\" xlink:href=\"#md720036fde\" y=\"139.489971\"/>\r\n     <use style=\"fill:#3ca02c;fill-opacity:0.8;stroke:#000000;stroke-opacity:0.8;\" x=\"261.366496\" xlink:href=\"#md720036fde\" y=\"101.174886\"/>\r\n     <use style=\"fill:#3ca02c;fill-opacity:0.8;stroke:#000000;stroke-opacity:0.8;\" x=\"179.428548\" xlink:href=\"#md720036fde\" y=\"131.702484\"/>\r\n     <use style=\"fill:#3ca02c;fill-opacity:0.8;stroke:#000000;stroke-opacity:0.8;\" x=\"184.085097\" xlink:href=\"#md720036fde\" y=\"64.485881\"/>\r\n     <use style=\"fill:#3ca02c;fill-opacity:0.8;stroke:#000000;stroke-opacity:0.8;\" x=\"140.138027\" xlink:href=\"#md720036fde\" y=\"188.5277\"/>\r\n     <use style=\"fill:#3ca02c;fill-opacity:0.8;stroke:#000000;stroke-opacity:0.8;\" x=\"210.608448\" xlink:href=\"#md720036fde\" y=\"151.889761\"/>\r\n     <use style=\"fill:#3ca02c;fill-opacity:0.8;stroke:#000000;stroke-opacity:0.8;\" x=\"172.222034\" xlink:href=\"#md720036fde\" y=\"153.723076\"/>\r\n     <use style=\"fill:#3ca02c;fill-opacity:0.8;stroke:#000000;stroke-opacity:0.8;\" x=\"122.693918\" xlink:href=\"#md720036fde\" y=\"205.519961\"/>\r\n     <use style=\"fill:#3ca02c;fill-opacity:0.8;stroke:#000000;stroke-opacity:0.8;\" x=\"148.849332\" xlink:href=\"#md720036fde\" y=\"147.15001\"/>\r\n    </g>\r\n   </g>\r\n   <g id=\"PathCollection_7\">\r\n    <defs>\r\n     <path d=\"M -3 3 \r\nL 3 -3 \r\nM -3 -3 \r\nL 3 3 \r\n\" id=\"m501bd92ff5\" style=\"stroke:#d62728;stroke-opacity:0.8;stroke-width:1.5;\"/>\r\n    </defs>\r\n    <g clip-path=\"url(#p071a7da5e2)\">\r\n     <use style=\"fill:#d62728;fill-opacity:0.8;stroke:#d62728;stroke-opacity:0.8;stroke-width:1.5;\" x=\"139.461312\" xlink:href=\"#m501bd92ff5\" y=\"138.028189\"/>\r\n     <use style=\"fill:#d62728;fill-opacity:0.8;stroke:#d62728;stroke-opacity:0.8;stroke-width:1.5;\" x=\"187.32126\" xlink:href=\"#m501bd92ff5\" y=\"87.766997\"/>\r\n     <use style=\"fill:#d62728;fill-opacity:0.8;stroke:#d62728;stroke-opacity:0.8;stroke-width:1.5;\" x=\"202.843544\" xlink:href=\"#m501bd92ff5\" y=\"119.716251\"/>\r\n     <use style=\"fill:#d62728;fill-opacity:0.8;stroke:#d62728;stroke-opacity:0.8;stroke-width:1.5;\" x=\"153.022414\" xlink:href=\"#m501bd92ff5\" y=\"169.294333\"/>\r\n     <use style=\"fill:#d62728;fill-opacity:0.8;stroke:#d62728;stroke-opacity:0.8;stroke-width:1.5;\" x=\"137.500131\" xlink:href=\"#m501bd92ff5\" y=\"137.345079\"/>\r\n     <use style=\"fill:#d62728;fill-opacity:0.8;stroke:#d62728;stroke-opacity:0.8;stroke-width:1.5;\" x=\"188.345523\" xlink:href=\"#m501bd92ff5\" y=\"89.586901\"/>\r\n     <use style=\"fill:#d62728;fill-opacity:0.8;stroke:#d62728;stroke-opacity:0.8;stroke-width:1.5;\" x=\"146.329761\" xlink:href=\"#m501bd92ff5\" y=\"92.272799\"/>\r\n     <use style=\"fill:#d62728;fill-opacity:0.8;stroke:#d62728;stroke-opacity:0.8;stroke-width:1.5;\" x=\"125.900209\" xlink:href=\"#m501bd92ff5\" y=\"106.762046\"/>\r\n     <use style=\"fill:#d62728;fill-opacity:0.8;stroke:#d62728;stroke-opacity:0.8;stroke-width:1.5;\" x=\"185.051888\" xlink:href=\"#m501bd92ff5\" y=\"185.388119\"/>\r\n     <use style=\"fill:#d62728;fill-opacity:0.8;stroke:#d62728;stroke-opacity:0.8;stroke-width:1.5;\" x=\"207.838157\" xlink:href=\"#m501bd92ff5\" y=\"76.234448\"/>\r\n     <use style=\"fill:#d62728;fill-opacity:0.8;stroke:#d62728;stroke-opacity:0.8;stroke-width:1.5;\" x=\"189.282441\" xlink:href=\"#m501bd92ff5\" y=\"88.450108\"/>\r\n     <use style=\"fill:#d62728;fill-opacity:0.8;stroke:#d62728;stroke-opacity:0.8;stroke-width:1.5;\" x=\"187.013069\" xlink:href=\"#m501bd92ff5\" y=\"186.07123\"/>\r\n     <use style=\"fill:#d62728;fill-opacity:0.8;stroke:#d62728;stroke-opacity:0.8;stroke-width:1.5;\" x=\"171.490786\" xlink:href=\"#m501bd92ff5\" y=\"154.121976\"/>\r\n     <use style=\"fill:#d62728;fill-opacity:0.8;stroke:#d62728;stroke-opacity:0.8;stroke-width:1.5;\" x=\"249.458383\" xlink:href=\"#m501bd92ff5\" y=\"168.896085\"/>\r\n     <use style=\"fill:#d62728;fill-opacity:0.8;stroke:#d62728;stroke-opacity:0.8;stroke-width:1.5;\" x=\"216.404647\" xlink:href=\"#m501bd92ff5\" y=\"150.982395\"/>\r\n     <use style=\"fill:#d62728;fill-opacity:0.8;stroke:#d62728;stroke-opacity:0.8;stroke-width:1.5;\" x=\"143.431662\" xlink:href=\"#m501bd92ff5\" y=\"92.726482\"/>\r\n     <use style=\"fill:#d62728;fill-opacity:0.8;stroke:#d62728;stroke-opacity:0.8;stroke-width:1.5;\" x=\"173.451967\" xlink:href=\"#m501bd92ff5\" y=\"154.805086\"/>\r\n     <use style=\"fill:#d62728;fill-opacity:0.8;stroke:#d62728;stroke-opacity:0.8;stroke-width:1.5;\" x=\"176.485399\" xlink:href=\"#m501bd92ff5\" y=\"110.640172\"/>\r\n     <use style=\"fill:#d62728;fill-opacity:0.8;stroke:#d62728;stroke-opacity:0.8;stroke-width:1.5;\" x=\"167.520435\" xlink:href=\"#m501bd92ff5\" y=\"199.423683\"/>\r\n     <use style=\"fill:#d62728;fill-opacity:0.8;stroke:#d62728;stroke-opacity:0.8;stroke-width:1.5;\" x=\"144.36858\" xlink:href=\"#m501bd92ff5\" y=\"91.589688\"/>\r\n     <use style=\"fill:#d62728;fill-opacity:0.8;stroke:#d62728;stroke-opacity:0.8;stroke-width:1.5;\" x=\"163.861214\" xlink:href=\"#m501bd92ff5\" y=\"78.237234\"/>\r\n     <use style=\"fill:#d62728;fill-opacity:0.8;stroke:#d62728;stroke-opacity:0.8;stroke-width:1.5;\" x=\"123.939028\" xlink:href=\"#m501bd92ff5\" y=\"106.078935\"/>\r\n     <use style=\"fill:#d62728;fill-opacity:0.8;stroke:#d62728;stroke-opacity:0.8;stroke-width:1.5;\" x=\"205.876976\" xlink:href=\"#m501bd92ff5\" y=\"75.551337\"/>\r\n     <use style=\"fill:#d62728;fill-opacity:0.8;stroke:#d62728;stroke-opacity:0.8;stroke-width:1.5;\" x=\"153.959333\" xlink:href=\"#m501bd92ff5\" y=\"168.15754\"/>\r\n     <use style=\"fill:#d62728;fill-opacity:0.8;stroke:#d62728;stroke-opacity:0.8;stroke-width:1.5;\" x=\"208.775075\" xlink:href=\"#m501bd92ff5\" y=\"75.097654\"/>\r\n     <use style=\"fill:#d62728;fill-opacity:0.8;stroke:#d62728;stroke-opacity:0.8;stroke-width:1.5;\" x=\"165.822395\" xlink:href=\"#m501bd92ff5\" y=\"78.920345\"/>\r\n     <use style=\"fill:#d62728;fill-opacity:0.8;stroke:#d62728;stroke-opacity:0.8;stroke-width:1.5;\" x=\"199.945445\" xlink:href=\"#m501bd92ff5\" y=\"120.169935\"/>\r\n     <use style=\"fill:#d62728;fill-opacity:0.8;stroke:#d62728;stroke-opacity:0.8;stroke-width:1.5;\" x=\"215.467728\" xlink:href=\"#m501bd92ff5\" y=\"152.119189\"/>\r\n     <use style=\"fill:#d62728;fill-opacity:0.8;stroke:#d62728;stroke-opacity:0.8;stroke-width:1.5;\" x=\"159.890864\" xlink:href=\"#m501bd92ff5\" y=\"123.538942\"/>\r\n     <use style=\"fill:#d62728;fill-opacity:0.8;stroke:#d62728;stroke-opacity:0.8;stroke-width:1.5;\" x=\"204.544522\" xlink:href=\"#m501bd92ff5\" y=\"172.035666\"/>\r\n     <use style=\"fill:#d62728;fill-opacity:0.8;stroke:#d62728;stroke-opacity:0.8;stroke-width:1.5;\" x=\"201.906626\" xlink:href=\"#m501bd92ff5\" y=\"120.853045\"/>\r\n     <use style=\"fill:#d62728;fill-opacity:0.8;stroke:#d62728;stroke-opacity:0.8;stroke-width:1.5;\" x=\"192.007682\" xlink:href=\"#m501bd92ff5\" y=\"142.589426\"/>\r\n     <use style=\"fill:#d62728;fill-opacity:0.8;stroke:#d62728;stroke-opacity:0.8;stroke-width:1.5;\" x=\"138.437049\" xlink:href=\"#m501bd92ff5\" y=\"136.208286\"/>\r\n     <use style=\"fill:#d62728;fill-opacity:0.8;stroke:#d62728;stroke-opacity:0.8;stroke-width:1.5;\" x=\"145.392843\" xlink:href=\"#m501bd92ff5\" y=\"93.409592\"/>\r\n     <use style=\"fill:#d62728;fill-opacity:0.8;stroke:#d62728;stroke-opacity:0.8;stroke-width:1.5;\" x=\"221.39926\" xlink:href=\"#m501bd92ff5\" y=\"107.500591\"/>\r\n     <use style=\"fill:#d62728;fill-opacity:0.8;stroke:#d62728;stroke-opacity:0.8;stroke-width:1.5;\" x=\"222.336178\" xlink:href=\"#m501bd92ff5\" y=\"106.363798\"/>\r\n     <use style=\"fill:#d62728;fill-opacity:0.8;stroke:#d62728;stroke-opacity:0.8;stroke-width:1.5;\" x=\"158.953946\" xlink:href=\"#m501bd92ff5\" y=\"124.675736\"/>\r\n     <use style=\"fill:#d62728;fill-opacity:0.8;stroke:#d62728;stroke-opacity:0.8;stroke-width:1.5;\" x=\"214.443466\" xlink:href=\"#m501bd92ff5\" y=\"150.299285\"/>\r\n     <use style=\"fill:#d62728;fill-opacity:0.8;stroke:#d62728;stroke-opacity:0.8;stroke-width:1.5;\" x=\"179.383498\" xlink:href=\"#m501bd92ff5\" y=\"110.186489\"/>\r\n     <use style=\"fill:#d62728;fill-opacity:0.8;stroke:#d62728;stroke-opacity:0.8;stroke-width:1.5;\" x=\"151.998152\" xlink:href=\"#m501bd92ff5\" y=\"167.474429\"/>\r\n     <use style=\"fill:#d62728;fill-opacity:0.8;stroke:#d62728;stroke-opacity:0.8;stroke-width:1.5;\" x=\"228.004568\" xlink:href=\"#m501bd92ff5\" y=\"181.565429\"/>\r\n     <use style=\"fill:#d62728;fill-opacity:0.8;stroke:#d62728;stroke-opacity:0.8;stroke-width:1.5;\" x=\"172.515048\" xlink:href=\"#m501bd92ff5\" y=\"155.94188\"/>\r\n     <use style=\"fill:#d62728;fill-opacity:0.8;stroke:#d62728;stroke-opacity:0.8;stroke-width:1.5;\" x=\"140.39823\" xlink:href=\"#m501bd92ff5\" y=\"136.891396\"/>\r\n     <use style=\"fill:#d62728;fill-opacity:0.8;stroke:#d62728;stroke-opacity:0.8;stroke-width:1.5;\" x=\"126.837127\" xlink:href=\"#m501bd92ff5\" y=\"105.625252\"/>\r\n     <use style=\"fill:#d62728;fill-opacity:0.8;stroke:#d62728;stroke-opacity:0.8;stroke-width:1.5;\" x=\"165.559254\" xlink:href=\"#m501bd92ff5\" y=\"198.740573\"/>\r\n    </g>\r\n   </g>\r\n   <g id=\"matplotlib.axis_1\">\r\n    <g id=\"xtick_1\">\r\n     <g id=\"line2d_1\">\r\n      <defs>\r\n       <path d=\"M 0 0 \r\nL 0 3.5 \r\n\" id=\"mb8ab8f1795\" style=\"stroke:#000000;stroke-width:0.8;\"/>\r\n      </defs>\r\n      <g>\r\n       <use style=\"stroke:#000000;stroke-width:0.8;\" x=\"48.089748\" xlink:href=\"#mb8ab8f1795\" y=\"239.758125\"/>\r\n      </g>\r\n     </g>\r\n     <g id=\"text_1\">\r\n      <!-- −3 -->\r\n      <defs>\r\n       <path d=\"M 10.59375 35.5 \r\nL 73.1875 35.5 \r\nL 73.1875 27.203125 \r\nL 10.59375 27.203125 \r\nz\r\n\" id=\"DejaVuSans-8722\"/>\r\n       <path d=\"M 40.578125 39.3125 \r\nQ 47.65625 37.796875 51.625 33 \r\nQ 55.609375 28.21875 55.609375 21.1875 \r\nQ 55.609375 10.40625 48.1875 4.484375 \r\nQ 40.765625 -1.421875 27.09375 -1.421875 \r\nQ 22.515625 -1.421875 17.65625 -0.515625 \r\nQ 12.796875 0.390625 7.625 2.203125 \r\nL 7.625 11.71875 \r\nQ 11.71875 9.328125 16.59375 8.109375 \r\nQ 21.484375 6.890625 26.8125 6.890625 \r\nQ 36.078125 6.890625 40.9375 10.546875 \r\nQ 45.796875 14.203125 45.796875 21.1875 \r\nQ 45.796875 27.640625 41.28125 31.265625 \r\nQ 36.765625 34.90625 28.71875 34.90625 \r\nL 20.21875 34.90625 \r\nL 20.21875 43.015625 \r\nL 29.109375 43.015625 \r\nQ 36.375 43.015625 40.234375 45.921875 \r\nQ 44.09375 48.828125 44.09375 54.296875 \r\nQ 44.09375 59.90625 40.109375 62.90625 \r\nQ 36.140625 65.921875 28.71875 65.921875 \r\nQ 24.65625 65.921875 20.015625 65.03125 \r\nQ 15.375 64.15625 9.8125 62.3125 \r\nL 9.8125 71.09375 \r\nQ 15.4375 72.65625 20.34375 73.4375 \r\nQ 25.25 74.21875 29.59375 74.21875 \r\nQ 40.828125 74.21875 47.359375 69.109375 \r\nQ 53.90625 64.015625 53.90625 55.328125 \r\nQ 53.90625 49.265625 50.4375 45.09375 \r\nQ 46.96875 40.921875 40.578125 39.3125 \r\nz\r\n\" id=\"DejaVuSans-51\"/>\r\n      </defs>\r\n      <g transform=\"translate(40.718654 254.356562)scale(0.1 -0.1)\">\r\n       <use xlink:href=\"#DejaVuSans-8722\"/>\r\n       <use x=\"83.789062\" xlink:href=\"#DejaVuSans-51\"/>\r\n      </g>\r\n     </g>\r\n    </g>\r\n    <g id=\"xtick_2\">\r\n     <g id=\"line2d_2\">\r\n      <g>\r\n       <use style=\"stroke:#000000;stroke-width:0.8;\" x=\"97.235809\" xlink:href=\"#mb8ab8f1795\" y=\"239.758125\"/>\r\n      </g>\r\n     </g>\r\n     <g id=\"text_2\">\r\n      <!-- −2 -->\r\n      <defs>\r\n       <path d=\"M 19.1875 8.296875 \r\nL 53.609375 8.296875 \r\nL 53.609375 0 \r\nL 7.328125 0 \r\nL 7.328125 8.296875 \r\nQ 12.9375 14.109375 22.625 23.890625 \r\nQ 32.328125 33.6875 34.8125 36.53125 \r\nQ 39.546875 41.84375 41.421875 45.53125 \r\nQ 43.3125 49.21875 43.3125 52.78125 \r\nQ 43.3125 58.59375 39.234375 62.25 \r\nQ 35.15625 65.921875 28.609375 65.921875 \r\nQ 23.96875 65.921875 18.8125 64.3125 \r\nQ 13.671875 62.703125 7.8125 59.421875 \r\nL 7.8125 69.390625 \r\nQ 13.765625 71.78125 18.9375 73 \r\nQ 24.125 74.21875 28.421875 74.21875 \r\nQ 39.75 74.21875 46.484375 68.546875 \r\nQ 53.21875 62.890625 53.21875 53.421875 \r\nQ 53.21875 48.921875 51.53125 44.890625 \r\nQ 49.859375 40.875 45.40625 35.40625 \r\nQ 44.1875 33.984375 37.640625 27.21875 \r\nQ 31.109375 20.453125 19.1875 8.296875 \r\nz\r\n\" id=\"DejaVuSans-50\"/>\r\n      </defs>\r\n      <g transform=\"translate(89.864716 254.356562)scale(0.1 -0.1)\">\r\n       <use xlink:href=\"#DejaVuSans-8722\"/>\r\n       <use x=\"83.789062\" xlink:href=\"#DejaVuSans-50\"/>\r\n      </g>\r\n     </g>\r\n    </g>\r\n    <g id=\"xtick_3\">\r\n     <g id=\"line2d_3\">\r\n      <g>\r\n       <use style=\"stroke:#000000;stroke-width:0.8;\" x=\"146.381871\" xlink:href=\"#mb8ab8f1795\" y=\"239.758125\"/>\r\n      </g>\r\n     </g>\r\n     <g id=\"text_3\">\r\n      <!-- −1 -->\r\n      <defs>\r\n       <path d=\"M 12.40625 8.296875 \r\nL 28.515625 8.296875 \r\nL 28.515625 63.921875 \r\nL 10.984375 60.40625 \r\nL 10.984375 69.390625 \r\nL 28.421875 72.90625 \r\nL 38.28125 72.90625 \r\nL 38.28125 8.296875 \r\nL 54.390625 8.296875 \r\nL 54.390625 0 \r\nL 12.40625 0 \r\nz\r\n\" id=\"DejaVuSans-49\"/>\r\n      </defs>\r\n      <g transform=\"translate(139.010777 254.356562)scale(0.1 -0.1)\">\r\n       <use xlink:href=\"#DejaVuSans-8722\"/>\r\n       <use x=\"83.789062\" xlink:href=\"#DejaVuSans-49\"/>\r\n      </g>\r\n     </g>\r\n    </g>\r\n    <g id=\"xtick_4\">\r\n     <g id=\"line2d_4\">\r\n      <g>\r\n       <use style=\"stroke:#000000;stroke-width:0.8;\" x=\"195.527932\" xlink:href=\"#mb8ab8f1795\" y=\"239.758125\"/>\r\n      </g>\r\n     </g>\r\n     <g id=\"text_4\">\r\n      <!-- 0 -->\r\n      <defs>\r\n       <path d=\"M 31.78125 66.40625 \r\nQ 24.171875 66.40625 20.328125 58.90625 \r\nQ 16.5 51.421875 16.5 36.375 \r\nQ 16.5 21.390625 20.328125 13.890625 \r\nQ 24.171875 6.390625 31.78125 6.390625 \r\nQ 39.453125 6.390625 43.28125 13.890625 \r\nQ 47.125 21.390625 47.125 36.375 \r\nQ 47.125 51.421875 43.28125 58.90625 \r\nQ 39.453125 66.40625 31.78125 66.40625 \r\nz\r\nM 31.78125 74.21875 \r\nQ 44.046875 74.21875 50.515625 64.515625 \r\nQ 56.984375 54.828125 56.984375 36.375 \r\nQ 56.984375 17.96875 50.515625 8.265625 \r\nQ 44.046875 -1.421875 31.78125 -1.421875 \r\nQ 19.53125 -1.421875 13.0625 8.265625 \r\nQ 6.59375 17.96875 6.59375 36.375 \r\nQ 6.59375 54.828125 13.0625 64.515625 \r\nQ 19.53125 74.21875 31.78125 74.21875 \r\nz\r\n\" id=\"DejaVuSans-48\"/>\r\n      </defs>\r\n      <g transform=\"translate(192.346682 254.356562)scale(0.1 -0.1)\">\r\n       <use xlink:href=\"#DejaVuSans-48\"/>\r\n      </g>\r\n     </g>\r\n    </g>\r\n    <g id=\"xtick_5\">\r\n     <g id=\"line2d_5\">\r\n      <g>\r\n       <use style=\"stroke:#000000;stroke-width:0.8;\" x=\"244.673993\" xlink:href=\"#mb8ab8f1795\" y=\"239.758125\"/>\r\n      </g>\r\n     </g>\r\n     <g id=\"text_5\">\r\n      <!-- 1 -->\r\n      <g transform=\"translate(241.492743 254.356562)scale(0.1 -0.1)\">\r\n       <use xlink:href=\"#DejaVuSans-49\"/>\r\n      </g>\r\n     </g>\r\n    </g>\r\n    <g id=\"xtick_6\">\r\n     <g id=\"line2d_6\">\r\n      <g>\r\n       <use style=\"stroke:#000000;stroke-width:0.8;\" x=\"293.820054\" xlink:href=\"#mb8ab8f1795\" y=\"239.758125\"/>\r\n      </g>\r\n     </g>\r\n     <g id=\"text_6\">\r\n      <!-- 2 -->\r\n      <g transform=\"translate(290.638804 254.356562)scale(0.1 -0.1)\">\r\n       <use xlink:href=\"#DejaVuSans-50\"/>\r\n      </g>\r\n     </g>\r\n    </g>\r\n    <g id=\"xtick_7\">\r\n     <g id=\"line2d_7\">\r\n      <g>\r\n       <use style=\"stroke:#000000;stroke-width:0.8;\" x=\"342.966116\" xlink:href=\"#mb8ab8f1795\" y=\"239.758125\"/>\r\n      </g>\r\n     </g>\r\n     <g id=\"text_7\">\r\n      <!-- 3 -->\r\n      <g transform=\"translate(339.784866 254.356562)scale(0.1 -0.1)\">\r\n       <use xlink:href=\"#DejaVuSans-51\"/>\r\n      </g>\r\n     </g>\r\n    </g>\r\n    <g id=\"text_8\">\r\n     <!-- length in cm -->\r\n     <defs>\r\n      <path d=\"M 9.421875 75.984375 \r\nL 18.40625 75.984375 \r\nL 18.40625 0 \r\nL 9.421875 0 \r\nz\r\n\" id=\"DejaVuSans-108\"/>\r\n      <path d=\"M 56.203125 29.59375 \r\nL 56.203125 25.203125 \r\nL 14.890625 25.203125 \r\nQ 15.484375 15.921875 20.484375 11.0625 \r\nQ 25.484375 6.203125 34.421875 6.203125 \r\nQ 39.59375 6.203125 44.453125 7.46875 \r\nQ 49.3125 8.734375 54.109375 11.28125 \r\nL 54.109375 2.78125 \r\nQ 49.265625 0.734375 44.1875 -0.34375 \r\nQ 39.109375 -1.421875 33.890625 -1.421875 \r\nQ 20.796875 -1.421875 13.15625 6.1875 \r\nQ 5.515625 13.8125 5.515625 26.8125 \r\nQ 5.515625 40.234375 12.765625 48.109375 \r\nQ 20.015625 56 32.328125 56 \r\nQ 43.359375 56 49.78125 48.890625 \r\nQ 56.203125 41.796875 56.203125 29.59375 \r\nz\r\nM 47.21875 32.234375 \r\nQ 47.125 39.59375 43.09375 43.984375 \r\nQ 39.0625 48.390625 32.421875 48.390625 \r\nQ 24.90625 48.390625 20.390625 44.140625 \r\nQ 15.875 39.890625 15.1875 32.171875 \r\nz\r\n\" id=\"DejaVuSans-101\"/>\r\n      <path d=\"M 54.890625 33.015625 \r\nL 54.890625 0 \r\nL 45.90625 0 \r\nL 45.90625 32.71875 \r\nQ 45.90625 40.484375 42.875 44.328125 \r\nQ 39.84375 48.1875 33.796875 48.1875 \r\nQ 26.515625 48.1875 22.3125 43.546875 \r\nQ 18.109375 38.921875 18.109375 30.90625 \r\nL 18.109375 0 \r\nL 9.078125 0 \r\nL 9.078125 54.6875 \r\nL 18.109375 54.6875 \r\nL 18.109375 46.1875 \r\nQ 21.34375 51.125 25.703125 53.5625 \r\nQ 30.078125 56 35.796875 56 \r\nQ 45.21875 56 50.046875 50.171875 \r\nQ 54.890625 44.34375 54.890625 33.015625 \r\nz\r\n\" id=\"DejaVuSans-110\"/>\r\n      <path d=\"M 45.40625 27.984375 \r\nQ 45.40625 37.75 41.375 43.109375 \r\nQ 37.359375 48.484375 30.078125 48.484375 \r\nQ 22.859375 48.484375 18.828125 43.109375 \r\nQ 14.796875 37.75 14.796875 27.984375 \r\nQ 14.796875 18.265625 18.828125 12.890625 \r\nQ 22.859375 7.515625 30.078125 7.515625 \r\nQ 37.359375 7.515625 41.375 12.890625 \r\nQ 45.40625 18.265625 45.40625 27.984375 \r\nz\r\nM 54.390625 6.78125 \r\nQ 54.390625 -7.171875 48.1875 -13.984375 \r\nQ 42 -20.796875 29.203125 -20.796875 \r\nQ 24.46875 -20.796875 20.265625 -20.09375 \r\nQ 16.0625 -19.390625 12.109375 -17.921875 \r\nL 12.109375 -9.1875 \r\nQ 16.0625 -11.328125 19.921875 -12.34375 \r\nQ 23.78125 -13.375 27.78125 -13.375 \r\nQ 36.625 -13.375 41.015625 -8.765625 \r\nQ 45.40625 -4.15625 45.40625 5.171875 \r\nL 45.40625 9.625 \r\nQ 42.625 4.78125 38.28125 2.390625 \r\nQ 33.9375 0 27.875 0 \r\nQ 17.828125 0 11.671875 7.65625 \r\nQ 5.515625 15.328125 5.515625 27.984375 \r\nQ 5.515625 40.671875 11.671875 48.328125 \r\nQ 17.828125 56 27.875 56 \r\nQ 33.9375 56 38.28125 53.609375 \r\nQ 42.625 51.21875 45.40625 46.390625 \r\nL 45.40625 54.6875 \r\nL 54.390625 54.6875 \r\nz\r\n\" id=\"DejaVuSans-103\"/>\r\n      <path d=\"M 18.3125 70.21875 \r\nL 18.3125 54.6875 \r\nL 36.8125 54.6875 \r\nL 36.8125 47.703125 \r\nL 18.3125 47.703125 \r\nL 18.3125 18.015625 \r\nQ 18.3125 11.328125 20.140625 9.421875 \r\nQ 21.96875 7.515625 27.59375 7.515625 \r\nL 36.8125 7.515625 \r\nL 36.8125 0 \r\nL 27.59375 0 \r\nQ 17.1875 0 13.234375 3.875 \r\nQ 9.28125 7.765625 9.28125 18.015625 \r\nL 9.28125 47.703125 \r\nL 2.6875 47.703125 \r\nL 2.6875 54.6875 \r\nL 9.28125 54.6875 \r\nL 9.28125 70.21875 \r\nz\r\n\" id=\"DejaVuSans-116\"/>\r\n      <path d=\"M 54.890625 33.015625 \r\nL 54.890625 0 \r\nL 45.90625 0 \r\nL 45.90625 32.71875 \r\nQ 45.90625 40.484375 42.875 44.328125 \r\nQ 39.84375 48.1875 33.796875 48.1875 \r\nQ 26.515625 48.1875 22.3125 43.546875 \r\nQ 18.109375 38.921875 18.109375 30.90625 \r\nL 18.109375 0 \r\nL 9.078125 0 \r\nL 9.078125 75.984375 \r\nL 18.109375 75.984375 \r\nL 18.109375 46.1875 \r\nQ 21.34375 51.125 25.703125 53.5625 \r\nQ 30.078125 56 35.796875 56 \r\nQ 45.21875 56 50.046875 50.171875 \r\nQ 54.890625 44.34375 54.890625 33.015625 \r\nz\r\n\" id=\"DejaVuSans-104\"/>\r\n      <path id=\"DejaVuSans-32\"/>\r\n      <path d=\"M 9.421875 54.6875 \r\nL 18.40625 54.6875 \r\nL 18.40625 0 \r\nL 9.421875 0 \r\nz\r\nM 9.421875 75.984375 \r\nL 18.40625 75.984375 \r\nL 18.40625 64.59375 \r\nL 9.421875 64.59375 \r\nz\r\n\" id=\"DejaVuSans-105\"/>\r\n      <path d=\"M 48.78125 52.59375 \r\nL 48.78125 44.1875 \r\nQ 44.96875 46.296875 41.140625 47.34375 \r\nQ 37.3125 48.390625 33.40625 48.390625 \r\nQ 24.65625 48.390625 19.8125 42.84375 \r\nQ 14.984375 37.3125 14.984375 27.296875 \r\nQ 14.984375 17.28125 19.8125 11.734375 \r\nQ 24.65625 6.203125 33.40625 6.203125 \r\nQ 37.3125 6.203125 41.140625 7.25 \r\nQ 44.96875 8.296875 48.78125 10.40625 \r\nL 48.78125 2.09375 \r\nQ 45.015625 0.34375 40.984375 -0.53125 \r\nQ 36.96875 -1.421875 32.421875 -1.421875 \r\nQ 20.0625 -1.421875 12.78125 6.34375 \r\nQ 5.515625 14.109375 5.515625 27.296875 \r\nQ 5.515625 40.671875 12.859375 48.328125 \r\nQ 20.21875 56 33.015625 56 \r\nQ 37.15625 56 41.109375 55.140625 \r\nQ 45.0625 54.296875 48.78125 52.59375 \r\nz\r\n\" id=\"DejaVuSans-99\"/>\r\n      <path d=\"M 52 44.1875 \r\nQ 55.375 50.25 60.0625 53.125 \r\nQ 64.75 56 71.09375 56 \r\nQ 79.640625 56 84.28125 50.015625 \r\nQ 88.921875 44.046875 88.921875 33.015625 \r\nL 88.921875 0 \r\nL 79.890625 0 \r\nL 79.890625 32.71875 \r\nQ 79.890625 40.578125 77.09375 44.375 \r\nQ 74.3125 48.1875 68.609375 48.1875 \r\nQ 61.625 48.1875 57.5625 43.546875 \r\nQ 53.515625 38.921875 53.515625 30.90625 \r\nL 53.515625 0 \r\nL 44.484375 0 \r\nL 44.484375 32.71875 \r\nQ 44.484375 40.625 41.703125 44.40625 \r\nQ 38.921875 48.1875 33.109375 48.1875 \r\nQ 26.21875 48.1875 22.15625 43.53125 \r\nQ 18.109375 38.875 18.109375 30.90625 \r\nL 18.109375 0 \r\nL 9.078125 0 \r\nL 9.078125 54.6875 \r\nL 18.109375 54.6875 \r\nL 18.109375 46.1875 \r\nQ 21.1875 51.21875 25.484375 53.609375 \r\nQ 29.78125 56 35.6875 56 \r\nQ 41.65625 56 45.828125 52.96875 \r\nQ 50 49.953125 52 44.1875 \r\nz\r\n\" id=\"DejaVuSans-109\"/>\r\n     </defs>\r\n     <g transform=\"translate(165.049219 268.034687)scale(0.1 -0.1)\">\r\n      <use xlink:href=\"#DejaVuSans-108\"/>\r\n      <use x=\"27.783203\" xlink:href=\"#DejaVuSans-101\"/>\r\n      <use x=\"89.306641\" xlink:href=\"#DejaVuSans-110\"/>\r\n      <use x=\"152.685547\" xlink:href=\"#DejaVuSans-103\"/>\r\n      <use x=\"216.162109\" xlink:href=\"#DejaVuSans-116\"/>\r\n      <use x=\"255.371094\" xlink:href=\"#DejaVuSans-104\"/>\r\n      <use x=\"318.75\" xlink:href=\"#DejaVuSans-32\"/>\r\n      <use x=\"350.537109\" xlink:href=\"#DejaVuSans-105\"/>\r\n      <use x=\"378.320312\" xlink:href=\"#DejaVuSans-110\"/>\r\n      <use x=\"441.699219\" xlink:href=\"#DejaVuSans-32\"/>\r\n      <use x=\"473.486328\" xlink:href=\"#DejaVuSans-99\"/>\r\n      <use x=\"528.466797\" xlink:href=\"#DejaVuSans-109\"/>\r\n     </g>\r\n    </g>\r\n   </g>\r\n   <g id=\"matplotlib.axis_2\">\r\n    <g id=\"ytick_1\">\r\n     <g id=\"line2d_8\">\r\n      <defs>\r\n       <path d=\"M 0 0 \r\nL -3.5 0 \r\n\" id=\"mdcf96b86ad\" style=\"stroke:#000000;stroke-width:0.8;\"/>\r\n      </defs>\r\n      <g>\r\n       <use style=\"stroke:#000000;stroke-width:0.8;\" x=\"28.942188\" xlink:href=\"#mdcf96b86ad\" y=\"234.246832\"/>\r\n      </g>\r\n     </g>\r\n     <g id=\"text_9\">\r\n      <!-- −3 -->\r\n      <g transform=\"translate(7.2 238.046051)scale(0.1 -0.1)\">\r\n       <use xlink:href=\"#DejaVuSans-8722\"/>\r\n       <use x=\"83.789062\" xlink:href=\"#DejaVuSans-51\"/>\r\n      </g>\r\n     </g>\r\n    </g>\r\n    <g id=\"ytick_2\">\r\n     <g id=\"line2d_9\">\r\n      <g>\r\n       <use style=\"stroke:#000000;stroke-width:0.8;\" x=\"28.942188\" xlink:href=\"#mdcf96b86ad\" y=\"200.008668\"/>\r\n      </g>\r\n     </g>\r\n     <g id=\"text_10\">\r\n      <!-- −2 -->\r\n      <g transform=\"translate(7.2 203.807887)scale(0.1 -0.1)\">\r\n       <use xlink:href=\"#DejaVuSans-8722\"/>\r\n       <use x=\"83.789062\" xlink:href=\"#DejaVuSans-50\"/>\r\n      </g>\r\n     </g>\r\n    </g>\r\n    <g id=\"ytick_3\">\r\n     <g id=\"line2d_10\">\r\n      <g>\r\n       <use style=\"stroke:#000000;stroke-width:0.8;\" x=\"28.942188\" xlink:href=\"#mdcf96b86ad\" y=\"165.770505\"/>\r\n      </g>\r\n     </g>\r\n     <g id=\"text_11\">\r\n      <!-- −1 -->\r\n      <g transform=\"translate(7.2 169.569723)scale(0.1 -0.1)\">\r\n       <use xlink:href=\"#DejaVuSans-8722\"/>\r\n       <use x=\"83.789062\" xlink:href=\"#DejaVuSans-49\"/>\r\n      </g>\r\n     </g>\r\n    </g>\r\n    <g id=\"ytick_4\">\r\n     <g id=\"line2d_11\">\r\n      <g>\r\n       <use style=\"stroke:#000000;stroke-width:0.8;\" x=\"28.942188\" xlink:href=\"#mdcf96b86ad\" y=\"131.532341\"/>\r\n      </g>\r\n     </g>\r\n     <g id=\"text_12\">\r\n      <!-- 0 -->\r\n      <g transform=\"translate(15.579688 135.33156)scale(0.1 -0.1)\">\r\n       <use xlink:href=\"#DejaVuSans-48\"/>\r\n      </g>\r\n     </g>\r\n    </g>\r\n    <g id=\"ytick_5\">\r\n     <g id=\"line2d_12\">\r\n      <g>\r\n       <use style=\"stroke:#000000;stroke-width:0.8;\" x=\"28.942188\" xlink:href=\"#mdcf96b86ad\" y=\"97.294177\"/>\r\n      </g>\r\n     </g>\r\n     <g id=\"text_13\">\r\n      <!-- 1 -->\r\n      <g transform=\"translate(15.579688 101.093396)scale(0.1 -0.1)\">\r\n       <use xlink:href=\"#DejaVuSans-49\"/>\r\n      </g>\r\n     </g>\r\n    </g>\r\n    <g id=\"ytick_6\">\r\n     <g id=\"line2d_13\">\r\n      <g>\r\n       <use style=\"stroke:#000000;stroke-width:0.8;\" x=\"28.942188\" xlink:href=\"#mdcf96b86ad\" y=\"63.056013\"/>\r\n      </g>\r\n     </g>\r\n     <g id=\"text_14\">\r\n      <!-- 2 -->\r\n      <g transform=\"translate(15.579688 66.855232)scale(0.1 -0.1)\">\r\n       <use xlink:href=\"#DejaVuSans-50\"/>\r\n      </g>\r\n     </g>\r\n    </g>\r\n    <g id=\"ytick_7\">\r\n     <g id=\"line2d_14\">\r\n      <g>\r\n       <use style=\"stroke:#000000;stroke-width:0.8;\" x=\"28.942188\" xlink:href=\"#mdcf96b86ad\" y=\"28.817849\"/>\r\n      </g>\r\n     </g>\r\n     <g id=\"text_15\">\r\n      <!-- 3 -->\r\n      <g transform=\"translate(15.579688 32.617068)scale(0.1 -0.1)\">\r\n       <use xlink:href=\"#DejaVuSans-51\"/>\r\n      </g>\r\n     </g>\r\n    </g>\r\n   </g>\r\n   <g id=\"LineCollection_1\"/>\r\n   <g id=\"text_16\">\r\n    <!-- Logistic Regession on Cars Training Data -->\r\n    <defs>\r\n     <path d=\"M 9.8125 72.90625 \r\nL 19.671875 72.90625 \r\nL 19.671875 8.296875 \r\nL 55.171875 8.296875 \r\nL 55.171875 0 \r\nL 9.8125 0 \r\nz\r\n\" id=\"DejaVuSans-76\"/>\r\n     <path d=\"M 30.609375 48.390625 \r\nQ 23.390625 48.390625 19.1875 42.75 \r\nQ 14.984375 37.109375 14.984375 27.296875 \r\nQ 14.984375 17.484375 19.15625 11.84375 \r\nQ 23.34375 6.203125 30.609375 6.203125 \r\nQ 37.796875 6.203125 41.984375 11.859375 \r\nQ 46.1875 17.53125 46.1875 27.296875 \r\nQ 46.1875 37.015625 41.984375 42.703125 \r\nQ 37.796875 48.390625 30.609375 48.390625 \r\nz\r\nM 30.609375 56 \r\nQ 42.328125 56 49.015625 48.375 \r\nQ 55.71875 40.765625 55.71875 27.296875 \r\nQ 55.71875 13.875 49.015625 6.21875 \r\nQ 42.328125 -1.421875 30.609375 -1.421875 \r\nQ 18.84375 -1.421875 12.171875 6.21875 \r\nQ 5.515625 13.875 5.515625 27.296875 \r\nQ 5.515625 40.765625 12.171875 48.375 \r\nQ 18.84375 56 30.609375 56 \r\nz\r\n\" id=\"DejaVuSans-111\"/>\r\n     <path d=\"M 44.28125 53.078125 \r\nL 44.28125 44.578125 \r\nQ 40.484375 46.53125 36.375 47.5 \r\nQ 32.28125 48.484375 27.875 48.484375 \r\nQ 21.1875 48.484375 17.84375 46.4375 \r\nQ 14.5 44.390625 14.5 40.28125 \r\nQ 14.5 37.15625 16.890625 35.375 \r\nQ 19.28125 33.59375 26.515625 31.984375 \r\nL 29.59375 31.296875 \r\nQ 39.15625 29.25 43.1875 25.515625 \r\nQ 47.21875 21.78125 47.21875 15.09375 \r\nQ 47.21875 7.46875 41.1875 3.015625 \r\nQ 35.15625 -1.421875 24.609375 -1.421875 \r\nQ 20.21875 -1.421875 15.453125 -0.5625 \r\nQ 10.6875 0.296875 5.421875 2 \r\nL 5.421875 11.28125 \r\nQ 10.40625 8.6875 15.234375 7.390625 \r\nQ 20.0625 6.109375 24.8125 6.109375 \r\nQ 31.15625 6.109375 34.5625 8.28125 \r\nQ 37.984375 10.453125 37.984375 14.40625 \r\nQ 37.984375 18.0625 35.515625 20.015625 \r\nQ 33.0625 21.96875 24.703125 23.78125 \r\nL 21.578125 24.515625 \r\nQ 13.234375 26.265625 9.515625 29.90625 \r\nQ 5.8125 33.546875 5.8125 39.890625 \r\nQ 5.8125 47.609375 11.28125 51.796875 \r\nQ 16.75 56 26.8125 56 \r\nQ 31.78125 56 36.171875 55.265625 \r\nQ 40.578125 54.546875 44.28125 53.078125 \r\nz\r\n\" id=\"DejaVuSans-115\"/>\r\n     <path d=\"M 44.390625 34.1875 \r\nQ 47.5625 33.109375 50.5625 29.59375 \r\nQ 53.5625 26.078125 56.59375 19.921875 \r\nL 66.609375 0 \r\nL 56 0 \r\nL 46.6875 18.703125 \r\nQ 43.0625 26.03125 39.671875 28.421875 \r\nQ 36.28125 30.8125 30.421875 30.8125 \r\nL 19.671875 30.8125 \r\nL 19.671875 0 \r\nL 9.8125 0 \r\nL 9.8125 72.90625 \r\nL 32.078125 72.90625 \r\nQ 44.578125 72.90625 50.734375 67.671875 \r\nQ 56.890625 62.453125 56.890625 51.90625 \r\nQ 56.890625 45.015625 53.6875 40.46875 \r\nQ 50.484375 35.9375 44.390625 34.1875 \r\nz\r\nM 19.671875 64.796875 \r\nL 19.671875 38.921875 \r\nL 32.078125 38.921875 \r\nQ 39.203125 38.921875 42.84375 42.21875 \r\nQ 46.484375 45.515625 46.484375 51.90625 \r\nQ 46.484375 58.296875 42.84375 61.546875 \r\nQ 39.203125 64.796875 32.078125 64.796875 \r\nz\r\n\" id=\"DejaVuSans-82\"/>\r\n     <path d=\"M 64.40625 67.28125 \r\nL 64.40625 56.890625 \r\nQ 59.421875 61.53125 53.78125 63.8125 \r\nQ 48.140625 66.109375 41.796875 66.109375 \r\nQ 29.296875 66.109375 22.65625 58.46875 \r\nQ 16.015625 50.828125 16.015625 36.375 \r\nQ 16.015625 21.96875 22.65625 14.328125 \r\nQ 29.296875 6.6875 41.796875 6.6875 \r\nQ 48.140625 6.6875 53.78125 8.984375 \r\nQ 59.421875 11.28125 64.40625 15.921875 \r\nL 64.40625 5.609375 \r\nQ 59.234375 2.09375 53.4375 0.328125 \r\nQ 47.65625 -1.421875 41.21875 -1.421875 \r\nQ 24.65625 -1.421875 15.125 8.703125 \r\nQ 5.609375 18.84375 5.609375 36.375 \r\nQ 5.609375 53.953125 15.125 64.078125 \r\nQ 24.65625 74.21875 41.21875 74.21875 \r\nQ 47.75 74.21875 53.53125 72.484375 \r\nQ 59.328125 70.75 64.40625 67.28125 \r\nz\r\n\" id=\"DejaVuSans-67\"/>\r\n     <path d=\"M 34.28125 27.484375 \r\nQ 23.390625 27.484375 19.1875 25 \r\nQ 14.984375 22.515625 14.984375 16.5 \r\nQ 14.984375 11.71875 18.140625 8.90625 \r\nQ 21.296875 6.109375 26.703125 6.109375 \r\nQ 34.1875 6.109375 38.703125 11.40625 \r\nQ 43.21875 16.703125 43.21875 25.484375 \r\nL 43.21875 27.484375 \r\nz\r\nM 52.203125 31.203125 \r\nL 52.203125 0 \r\nL 43.21875 0 \r\nL 43.21875 8.296875 \r\nQ 40.140625 3.328125 35.546875 0.953125 \r\nQ 30.953125 -1.421875 24.3125 -1.421875 \r\nQ 15.921875 -1.421875 10.953125 3.296875 \r\nQ 6 8.015625 6 15.921875 \r\nQ 6 25.140625 12.171875 29.828125 \r\nQ 18.359375 34.515625 30.609375 34.515625 \r\nL 43.21875 34.515625 \r\nL 43.21875 35.40625 \r\nQ 43.21875 41.609375 39.140625 45 \r\nQ 35.0625 48.390625 27.6875 48.390625 \r\nQ 23 48.390625 18.546875 47.265625 \r\nQ 14.109375 46.140625 10.015625 43.890625 \r\nL 10.015625 52.203125 \r\nQ 14.9375 54.109375 19.578125 55.046875 \r\nQ 24.21875 56 28.609375 56 \r\nQ 40.484375 56 46.34375 49.84375 \r\nQ 52.203125 43.703125 52.203125 31.203125 \r\nz\r\n\" id=\"DejaVuSans-97\"/>\r\n     <path d=\"M 41.109375 46.296875 \r\nQ 39.59375 47.171875 37.8125 47.578125 \r\nQ 36.03125 48 33.890625 48 \r\nQ 26.265625 48 22.1875 43.046875 \r\nQ 18.109375 38.09375 18.109375 28.8125 \r\nL 18.109375 0 \r\nL 9.078125 0 \r\nL 9.078125 54.6875 \r\nL 18.109375 54.6875 \r\nL 18.109375 46.1875 \r\nQ 20.953125 51.171875 25.484375 53.578125 \r\nQ 30.03125 56 36.53125 56 \r\nQ 37.453125 56 38.578125 55.875 \r\nQ 39.703125 55.765625 41.0625 55.515625 \r\nz\r\n\" id=\"DejaVuSans-114\"/>\r\n     <path d=\"M -0.296875 72.90625 \r\nL 61.375 72.90625 \r\nL 61.375 64.59375 \r\nL 35.5 64.59375 \r\nL 35.5 0 \r\nL 25.59375 0 \r\nL 25.59375 64.59375 \r\nL -0.296875 64.59375 \r\nz\r\n\" id=\"DejaVuSans-84\"/>\r\n     <path d=\"M 19.671875 64.796875 \r\nL 19.671875 8.109375 \r\nL 31.59375 8.109375 \r\nQ 46.6875 8.109375 53.6875 14.9375 \r\nQ 60.6875 21.78125 60.6875 36.53125 \r\nQ 60.6875 51.171875 53.6875 57.984375 \r\nQ 46.6875 64.796875 31.59375 64.796875 \r\nz\r\nM 9.8125 72.90625 \r\nL 30.078125 72.90625 \r\nQ 51.265625 72.90625 61.171875 64.09375 \r\nQ 71.09375 55.28125 71.09375 36.53125 \r\nQ 71.09375 17.671875 61.125 8.828125 \r\nQ 51.171875 0 30.078125 0 \r\nL 9.8125 0 \r\nz\r\n\" id=\"DejaVuSans-68\"/>\r\n    </defs>\r\n    <g transform=\"translate(74.565625 16.318125)scale(0.12 -0.12)\">\r\n     <use xlink:href=\"#DejaVuSans-76\"/>\r\n     <use x=\"53.962891\" xlink:href=\"#DejaVuSans-111\"/>\r\n     <use x=\"115.144531\" xlink:href=\"#DejaVuSans-103\"/>\r\n     <use x=\"178.621094\" xlink:href=\"#DejaVuSans-105\"/>\r\n     <use x=\"206.404297\" xlink:href=\"#DejaVuSans-115\"/>\r\n     <use x=\"258.503906\" xlink:href=\"#DejaVuSans-116\"/>\r\n     <use x=\"297.712891\" xlink:href=\"#DejaVuSans-105\"/>\r\n     <use x=\"325.496094\" xlink:href=\"#DejaVuSans-99\"/>\r\n     <use x=\"380.476562\" xlink:href=\"#DejaVuSans-32\"/>\r\n     <use x=\"412.263672\" xlink:href=\"#DejaVuSans-82\"/>\r\n     <use x=\"477.246094\" xlink:href=\"#DejaVuSans-101\"/>\r\n     <use x=\"538.769531\" xlink:href=\"#DejaVuSans-103\"/>\r\n     <use x=\"602.246094\" xlink:href=\"#DejaVuSans-101\"/>\r\n     <use x=\"663.769531\" xlink:href=\"#DejaVuSans-115\"/>\r\n     <use x=\"715.869141\" xlink:href=\"#DejaVuSans-115\"/>\r\n     <use x=\"767.96875\" xlink:href=\"#DejaVuSans-105\"/>\r\n     <use x=\"795.751953\" xlink:href=\"#DejaVuSans-111\"/>\r\n     <use x=\"856.933594\" xlink:href=\"#DejaVuSans-110\"/>\r\n     <use x=\"920.3125\" xlink:href=\"#DejaVuSans-32\"/>\r\n     <use x=\"952.099609\" xlink:href=\"#DejaVuSans-111\"/>\r\n     <use x=\"1013.28125\" xlink:href=\"#DejaVuSans-110\"/>\r\n     <use x=\"1076.660156\" xlink:href=\"#DejaVuSans-32\"/>\r\n     <use x=\"1108.447266\" xlink:href=\"#DejaVuSans-67\"/>\r\n     <use x=\"1178.271484\" xlink:href=\"#DejaVuSans-97\"/>\r\n     <use x=\"1239.550781\" xlink:href=\"#DejaVuSans-114\"/>\r\n     <use x=\"1280.664062\" xlink:href=\"#DejaVuSans-115\"/>\r\n     <use x=\"1332.763672\" xlink:href=\"#DejaVuSans-32\"/>\r\n     <use x=\"1364.550781\" xlink:href=\"#DejaVuSans-84\"/>\r\n     <use x=\"1410.884766\" xlink:href=\"#DejaVuSans-114\"/>\r\n     <use x=\"1451.998047\" xlink:href=\"#DejaVuSans-97\"/>\r\n     <use x=\"1513.277344\" xlink:href=\"#DejaVuSans-105\"/>\r\n     <use x=\"1541.060547\" xlink:href=\"#DejaVuSans-110\"/>\r\n     <use x=\"1604.439453\" xlink:href=\"#DejaVuSans-105\"/>\r\n     <use x=\"1632.222656\" xlink:href=\"#DejaVuSans-110\"/>\r\n     <use x=\"1695.601562\" xlink:href=\"#DejaVuSans-103\"/>\r\n     <use x=\"1759.078125\" xlink:href=\"#DejaVuSans-32\"/>\r\n     <use x=\"1790.865234\" xlink:href=\"#DejaVuSans-68\"/>\r\n     <use x=\"1867.867188\" xlink:href=\"#DejaVuSans-97\"/>\r\n     <use x=\"1929.146484\" xlink:href=\"#DejaVuSans-116\"/>\r\n     <use x=\"1968.355469\" xlink:href=\"#DejaVuSans-97\"/>\r\n    </g>\r\n   </g>\r\n   <g id=\"legend_1\">\r\n    <g id=\"patch_3\">\r\n     <path d=\"M 35.942188 89.030625 \r\nL 74.304688 89.030625 \r\nQ 76.304688 89.030625 76.304688 87.030625 \r\nL 76.304688 29.318125 \r\nQ 76.304688 27.318125 74.304688 27.318125 \r\nL 35.942188 27.318125 \r\nQ 33.942188 27.318125 33.942188 29.318125 \r\nL 33.942188 87.030625 \r\nQ 33.942188 89.030625 35.942188 89.030625 \r\nz\r\n\" style=\"fill:#ffffff;opacity:0.3;stroke:#cccccc;stroke-linejoin:miter;\"/>\r\n    </g>\r\n    <g id=\"PathCollection_8\">\r\n     <g>\r\n      <use style=\"fill:#1f77b4;fill-opacity:0.8;stroke:#000000;stroke-opacity:0.8;\" x=\"47.942188\" xlink:href=\"#m125be88905\" y=\"36.291562\"/>\r\n     </g>\r\n    </g>\r\n    <g id=\"text_17\">\r\n     <!-- 0 -->\r\n     <g transform=\"translate(65.942188 38.916562)scale(0.1 -0.1)\">\r\n      <use xlink:href=\"#DejaVuSans-48\"/>\r\n     </g>\r\n    </g>\r\n    <g id=\"PathCollection_9\">\r\n     <g>\r\n      <use style=\"fill:#ff7f0e;fill-opacity:0.8;stroke:#000000;stroke-opacity:0.8;\" x=\"47.942188\" xlink:href=\"#m13d02b67ea\" y=\"50.969687\"/>\r\n     </g>\r\n    </g>\r\n    <g id=\"text_18\">\r\n     <!-- 1 -->\r\n     <g transform=\"translate(65.942188 53.594687)scale(0.1 -0.1)\">\r\n      <use xlink:href=\"#DejaVuSans-49\"/>\r\n     </g>\r\n    </g>\r\n    <g id=\"PathCollection_10\">\r\n     <g>\r\n      <use style=\"fill:#3ca02c;fill-opacity:0.8;stroke:#000000;stroke-opacity:0.8;\" x=\"47.942188\" xlink:href=\"#md720036fde\" y=\"65.647812\"/>\r\n     </g>\r\n    </g>\r\n    <g id=\"text_19\">\r\n     <!-- 2 -->\r\n     <g transform=\"translate(65.942188 68.272812)scale(0.1 -0.1)\">\r\n      <use xlink:href=\"#DejaVuSans-50\"/>\r\n     </g>\r\n    </g>\r\n    <g id=\"PathCollection_11\">\r\n     <g>\r\n      <use style=\"fill:#d62728;fill-opacity:0.8;stroke:#d62728;stroke-opacity:0.8;stroke-width:1.5;\" x=\"47.942188\" xlink:href=\"#m501bd92ff5\" y=\"80.325938\"/>\r\n     </g>\r\n    </g>\r\n    <g id=\"text_20\">\r\n     <!-- 3 -->\r\n     <g transform=\"translate(65.942188 82.950938)scale(0.1 -0.1)\">\r\n      <use xlink:href=\"#DejaVuSans-51\"/>\r\n     </g>\r\n    </g>\r\n   </g>\r\n  </g>\r\n </g>\r\n <defs>\r\n  <clipPath id=\"p071a7da5e2\">\r\n   <rect height=\"217.44\" width=\"334.8\" x=\"28.942188\" y=\"22.318125\"/>\r\n  </clipPath>\r\n </defs>\r\n</svg>\r\n",
      "image/png": "[encoded data removed]"
     },
     "metadata": {
      "needs_background": "light"
     }
    }
   ],
   "source": [
    "#decision boundary on training data set\n",
    "y_train_new = y_train_new.reshape(1295,)\n",
    "plot_decision_regions(x_train_new,y_train_new.astype(np.integer), clf=lr_new, legend=2)\n",
    "plt.xlabel('length in cm')\n",
    "plt.title('Logistic Regession on Cars Training Data')\n",
    "plt.show()"
   ]
  },
  {
   "cell_type": "code",
   "execution_count": 168,
   "metadata": {},
   "outputs": [],
   "source": []
  },
  {
   "cell_type": "code",
   "execution_count": null,
   "metadata": {},
   "outputs": [],
   "source": []
  }
 ]
}