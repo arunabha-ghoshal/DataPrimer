{
 "nbformat": 4,
 "nbformat_minor": 2,
 "metadata": {
  "language_info": {
   "name": "python",
   "codemirror_mode": {
    "name": "ipython",
    "version": 3
   },
   "version": "3.6.3-final"
  },
  "orig_nbformat": 2,
  "file_extension": ".py",
  "mimetype": "text/x-python",
  "name": "python",
  "npconvert_exporter": "python",
  "pygments_lexer": "ipython3",
  "version": 3,
  "kernelspec": {
   "name": "python36364bita9a49919cc0d4ea58e0bce147c0e2f18",
   "display_name": "Python 3.6.3 64-bit"
  }
 },
 "cells": [
  {
   "cell_type": "code",
   "execution_count": 1,
   "metadata": {},
   "outputs": [],
   "source": [
    "import os"
   ]
  },
  {
   "cell_type": "code",
   "execution_count": 2,
   "metadata": {},
   "outputs": [],
   "source": [
    "# queue for level-order traversal\n",
    "class Queue(object):\n",
    "    def __init__(self):\n",
    "        self.items = []\n",
    "    def is_empty(self):\n",
    "        return len(self.items) == 0\n",
    "    def enqueue(self,item):\n",
    "        self.items.append(item)\n",
    "    def dequeue():\n",
    "        if not self.is_empty():\n",
    "            return self.items.pop(0)\n",
    "    def peek(self):\n",
    "        if not self.is_empty():\n",
    "            return self.items[0].police_id\n",
    "    def size(self):\n",
    "        return len(self.items)\n",
    ""
   ]
  },
  {
   "cell_type": "code",
   "execution_count": 3,
   "metadata": {},
   "outputs": [],
   "source": [
    "class Stack(object):\n",
    "    def __init__(self):\n",
    "        self.items = []\n",
    "\n",
    "    def __len__(self):\n",
    "        return self.size()\n",
    "     \n",
    "    def size(self):\n",
    "        return len(self.items)\n",
    "\n",
    "    def push(self, item):\n",
    "        self.items.append(item)\n",
    "\n",
    "    def pop(self):  \n",
    "        if not self.is_empty():\n",
    "            return self.items.pop()\n",
    "\n",
    "    def peek(self):\n",
    "        if not self.is_empty():\n",
    "            return self.items[-1]\n",
    "\n",
    "    def is_empty(self):\n",
    "        return len(self.items) == 0\n",
    "\n",
    "    def __str__(self):\n",
    "        s = \"\"\n",
    "        for i in range(len(self.items)):\n",
    "            s += str(self.items[i].value) + \"-\"\n",
    "        return s\n",
    ""
   ]
  },
  {
   "cell_type": "code",
   "execution_count": 22,
   "metadata": {},
   "outputs": [],
   "source": [
    "# to print the tree elements with in-order traversal\n",
    "def inorder(node): \n",
    "  \n",
    "    if (not node): \n",
    "        return\n",
    "  \n",
    "    inorder(node.left)  \n",
    "    nodeVal = (node.police_id,node.fine_amt,node.bookingCount)\n",
    "    print(nodeVal,end = \" \") \n",
    "    inorder(node.right)"
   ]
  },
  {
   "cell_type": "code",
   "execution_count": 6,
   "metadata": {},
   "outputs": [],
   "source": [
    "class PoliceNode:\n",
    "    def __init__(self, police_id, fine_amt):\n",
    "        self.police_id = police_id\n",
    "        self.fine_amt = fine_amt\n",
    "        self.bookingCount = 1\n",
    "        self.left = None\n",
    "        self.right = None\n",
    "\n",
    "        def initialize_hash(self):\n",
    "            size = 30\n",
    "            self.table = [[] for i in range(30)]\n",
    "\n",
    "    def insert_hash(self, driver_hash, lic):\n",
    "        assert driver_hash, tuple # driver_hash is a tuple in the format (lic, violations)\n",
    "        def hash_map(key):\n",
    "            return hash(key) % len(self.table) # hashing the key is lic has alphabets, hash(num) = num\n",
    "\n",
    "        hash_index = hash_map(lic)\n",
    "        key_present = False\n",
    "        create_bucket = self.table[hash_index]\n",
    "        for i, kv in enumerate(create_bucket):\n",
    "            k, v = kv\n",
    "\n",
    "            if lic == k:\n",
    "                key_present = True\n",
    "                break\n",
    "        if key_present:\n",
    "            print(\"This License Number is already present, updating only the violations\")\n",
    "            create_bucket[i].append(lic,driver_hash[1] + v) # This is assuming driver_hash is a tuple\n",
    "        else:\n",
    "            print(\"This License Number is not present, updating the key, val\")\n",
    "            create_bucket.append(driver_hash)\n",
    "\n",
    "\n",
    "    def print_violators(self, driver_hash):\n",
    "        assert driver_hash, tuple\n",
    "        \"\"\"\n",
    "        --------------Violators-------------\n",
    "        <license no>, no of violations\n",
    "        \"\"\"\n",
    "        with open('Violators.txt', 'w') as f:\n",
    "            for i, kv in enumerate(self.table):\n",
    "                for k, v in kv:\n",
    "                    if v > 3:\n",
    "                        f.write(\"{}, {} \\n\".format(k, v))\n",
    "        \n",
    "\n",
    "\n",
    "    def destroy_hash(self, driver_hash):\n",
    "        \"\"\"\n",
    "        def destroyHash (driverhash): This function destroys all the entries inside the hash table. This\n",
    "        is a clean-up code.\n",
    "        \"\"\"\n",
    "        self.table = [None]\n",
    "\n",
    "    def insertByPoliceId(self,policeRoot,policeId,amount):\n",
    "        if policeRoot == None:\n",
    "            root = PoliceNode(policeId,amount)\n",
    "            return root\n",
    "\n",
    "        if policeId == policeRoot.police_id:\n",
    "            policeRoot.bookingCount += 1\n",
    "            policeRoot.fine_amt += amount\n",
    "            return policeRoot\n",
    "        if policeId < policeRoot.police_id:\n",
    "            policeRoot.left = self.insertByPoliceId(policeRoot.left,policeId,amount)\n",
    "        else:\n",
    "            policeRoot.right = self.insertByPoliceId(policeRoot.right,policeId,amount)\n",
    "        return policeRoot\n",
    "\n",
    "    def inorder_items(self, start):\n",
    "        s = Stack()\n",
    "\n",
    "        cur = start\n",
    "        is_done = False\n",
    "\n",
    "        items = []\n",
    "        while not is_done:\n",
    "            if cur is not None:\n",
    "                s.push(cur)\n",
    "                cur = cur.left\n",
    "            else:\n",
    "                if len(s) > 0:\n",
    "                    cur = s.pop()\n",
    "                    item = (cur.police_id,cur.fine_amt,cur.bookingCount)\n",
    "                    items.append(item)\n",
    "                    cur = cur.right\n",
    "                else:\n",
    "                    is_done = True\n",
    "        return items\n",
    "\n",
    "    def insertByBookingCount(self,root,id,amt,cnt):\n",
    "        if root == None:\n",
    "            r = PoliceNodeReOrder(id,amt,cnt)\n",
    "            return r\n",
    "        if cnt < root.bookingCount:\n",
    "            root.left = self.insertByBookingCount(root.left,id,amt,cnt)\n",
    "        else:\n",
    "            root.right = self.insertByBookingCount(root.right,id,amt,cnt)\n",
    "        return root\n",
    "        \n",
    "\n",
    "\n",
    "    def reorderPoliceTree(self,policeRoot):\n",
    "        if policeRoot == None:\n",
    "            print('there is no element in original police tree to reorder')\n",
    "            return None\n",
    "        elements = self.inorder_items(policeRoot)\n",
    "        node = PoliceNodeReOrder(elements[0][0],elements[0][1],elements[0][2])\n",
    "        elements.pop(0)\n",
    "        if len(elements)==0:\n",
    "            return node\n",
    "        for elem in elements:\n",
    "            op_node = self.insertByBookingCount(node,elem[0],elem[1],elem[2])\n",
    "        return op_node\n",
    "        \n",
    "    def printPolicemen(self,policeRoot):\n",
    "        if policeRoot == None:\n",
    "            print('the is no police details in the ordered binary tree')\n",
    "            return None\n",
    "        elements = self.inorder_items(policeRoot)\n",
    "        if os.path.isfile('./police.txt') == False:\n",
    "            with open('police.txt','w') as f:\n",
    "                f.write('--------------------Police List------------------\\n')\n",
    "                f.write('Police ID, No of Bookings\\n')\n",
    "        with open('police.txt', 'a') as f:\n",
    "            for elem in elements:\n",
    "                if elem[2]<10:\n",
    "                    data = str(elem[0]) + ',' + str(elem[2])\n",
    "                    f.write(data)\n",
    "                    f.write('\\n')\n",
    "\n",
    "    def printTopTen(self,policeRoot):\n",
    "        if policeRoot == None:\n",
    "            print('the is no police details in the ordered binary tree')\n",
    "            return None\n",
    "        elements = self.inorder_items(policeRoot)\n",
    "        elements.sort(key = lambda x: x[2],reverse=True)\n",
    "        if len(elements)>10:\n",
    "            elements = elements[:10]\n",
    "        with open('police.txt', 'a') as f:\n",
    "            f.write('--------------------Police Top 10------------------\\n')\n",
    "            f.write('Police ID, No of Bookings, total fine amount\\n')\n",
    "            for elem in elements:\n",
    "                    data = str(elem[0]) + ',' + str(elem[2]) + ',' + str(elem[1])\n",
    "                    f.write(data)\n",
    "                    f.write('\\n')\n",
    "\n",
    "    def printTree(self,policeRoot):\n",
    "        if (not policeRoot): \n",
    "            #print('The police Tree is empty')\n",
    "            return None\n",
    "  \n",
    "        self.printTree(policeRoot.left)  \n",
    "        nodeVal = (policeRoot.police_id,policeRoot.fine_amt,policeRoot.bookingCount)\n",
    "        print(nodeVal,end = \" \") \n",
    "        self.printTree(policeRoot.right)\n",
    "\n",
    "    def destroyTree(self):\n",
    "        self.police_id = None\n",
    "        self.fine_amt = None\n",
    "        self.bookingCount = None\n",
    "        self.left = None\n",
    "        self.right = None\n",
    "        \n",
    "    \n",
    "\n",
    "\n",
    ""
   ]
  },
  {
   "cell_type": "code",
   "execution_count": 7,
   "metadata": {},
   "outputs": [],
   "source": [
    "class PoliceNodeReOrder(PoliceNode):\n",
    "    def __init__(self, police_id, fine_amt, bookingCount):\n",
    "        self.police_id = police_id\n",
    "        self.fine_amt = fine_amt\n",
    "        self.bookingCount = bookingCount\n",
    "        self.left = None\n",
    "        self.right = None"
   ]
  },
  {
   "cell_type": "code",
   "execution_count": 31,
   "metadata": {},
   "outputs": [],
   "source": [
    "new = PoliceNode(100,5000)"
   ]
  },
  {
   "cell_type": "code",
   "execution_count": 15,
   "metadata": {},
   "outputs": [
    {
     "output_type": "execute_result",
     "data": {
      "text/plain": "<__main__.PoliceNode at 0x179a6b05710>"
     },
     "metadata": {},
     "execution_count": 15
    }
   ],
   "source": [
    "new"
   ]
  },
  {
   "cell_type": "code",
   "execution_count": 52,
   "metadata": {},
   "outputs": [
    {
     "output_type": "execute_result",
     "data": {
      "text/plain": "<__main__.PoliceNode at 0x179a6b15748>"
     },
     "metadata": {},
     "execution_count": 52
    }
   ],
   "source": [
    "new.insertByPoliceId(new,100,700)"
   ]
  },
  {
   "cell_type": "code",
   "execution_count": 53,
   "metadata": {},
   "outputs": [
    {
     "output_type": "stream",
     "name": "stdout",
     "text": "(100, 12000, 11) (300, 700, 1) (600, 1400, 2)"
    }
   ],
   "source": [
    "inorder(new)"
   ]
  },
  {
   "cell_type": "code",
   "execution_count": 54,
   "metadata": {},
   "outputs": [],
   "source": [
    "order = new.reorderPoliceTree(new)"
   ]
  },
  {
   "cell_type": "code",
   "execution_count": 55,
   "metadata": {},
   "outputs": [
    {
     "output_type": "stream",
     "name": "stdout",
     "text": "(300, 700, 1) (600, 1400, 2) (100, 12000, 11)"
    }
   ],
   "source": [
    "inorder(order)"
   ]
  },
  {
   "cell_type": "code",
   "execution_count": 56,
   "metadata": {},
   "outputs": [],
   "source": [
    "order.printPolicemen(order)"
   ]
  },
  {
   "cell_type": "code",
   "execution_count": 28,
   "metadata": {},
   "outputs": [
    {
     "output_type": "stream",
     "name": "stdout",
     "text": "(100, 5000, 1) (600, 4200, 6)"
    }
   ],
   "source": [
    "order.printTree(order)"
   ]
  },
  {
   "cell_type": "code",
   "execution_count": 29,
   "metadata": {},
   "outputs": [],
   "source": [
    "order.printPolicemen(order)"
   ]
  },
  {
   "cell_type": "code",
   "execution_count": 57,
   "metadata": {},
   "outputs": [],
   "source": [
    "order.printTopTen(order)"
   ]
  },
  {
   "cell_type": "code",
   "execution_count": null,
   "metadata": {},
   "outputs": [],
   "source": []
  }
 ]
}