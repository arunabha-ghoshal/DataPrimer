{
 "cells": [
  {
   "cell_type": "code",
   "execution_count": 6,
   "metadata": {},
   "outputs": [],
   "source": [
    "# Definition for a binary tree node. for implementation\n",
    "from binarytree import Node\n",
    "binary1 = Node(3)\n",
    "binary1.left = Node(2)\n",
    "binary1.right = Node(4)\n",
    "binary1.left.right = Node(1)\n",
    "binary1.left.right.left = Node(6)\n",
    "binary1.left.right.right = Node(7)\n",
    "binary1.left.right.right.left = Node(8)\n",
    "binary1.right.left = Node(3)\n",
    "binary1.right.left.left = Node(4)\n",
    "binary1.right.left.right = Node(5)"
   ]
  },
  {
   "cell_type": "code",
   "execution_count": 7,
   "metadata": {},
   "outputs": [
    {
     "name": "stdout",
     "output_type": "stream",
     "text": [
      "The Bindary Tree:  \n",
      "  ________3______\n",
      " /               \\\n",
      "2__             __4\n",
      "   \\           /\n",
      "    1__       3\n",
      "   /   \\     / \\\n",
      "  6     7   4   5\n",
      "       /\n",
      "      8\n",
      "\n"
     ]
    }
   ],
   "source": [
    "# for visualization\n",
    "print('The Bindary Tree: ', binary1)"
   ]
  },
  {
   "cell_type": "code",
   "execution_count": 8,
   "metadata": {},
   "outputs": [
    {
     "name": "stdout",
     "output_type": "stream",
     "text": [
      "properties of the binary tree:  {'height': 4, 'size': 10, 'is_max_heap': False, 'is_min_heap': False, 'is_perfect': False, 'is_strict': False, 'is_complete': False, 'leaf_count': 4, 'min_node_value': 1, 'max_node_value': 8, 'min_leaf_depth': 3, 'max_leaf_depth': 4, 'is_balanced': False, 'is_bst': False, 'is_symmetric': False}\n"
     ]
    }
   ],
   "source": [
    "# for visualization\n",
    "print('properties of the binary tree: ',binary1.properties)"
   ]
  },
  {
   "cell_type": "code",
   "execution_count": 9,
   "metadata": {},
   "outputs": [],
   "source": [
    "# Definition for a binary tree node. for implementation\n",
    "from typing import Any, Dict, List, Optional, Tuple, Union\n",
    "class TreeNode:\n",
    "    def __init__(self, val=0, left=None, right=None):\n",
    "        self.val = val\n",
    "        self.left = left\n",
    "        self.right = right\n"
   ]
  },
  {
   "cell_type": "code",
   "execution_count": 10,
   "metadata": {},
   "outputs": [],
   "source": [
    "binary1 = TreeNode(3)\n",
    "binary1.left = TreeNode(2)\n",
    "binary1.right = TreeNode(4)\n",
    "binary1.left.right = TreeNode(1)\n",
    "binary1.left.right.left = TreeNode(6)\n",
    "binary1.left.right.right = TreeNode(7)\n",
    "binary1.left.right.right.left = TreeNode(8)\n",
    "binary1.right.left = TreeNode(3)\n",
    "binary1.right.left.left = TreeNode(4)\n",
    "binary1.right.left.right = TreeNode(5)"
   ]
  },
  {
   "cell_type": "code",
   "execution_count": 15,
   "metadata": {},
   "outputs": [],
   "source": [
    "#tree traversal : iterative & recursioin\n",
    "class TreeTraversal:\n",
    "    def preorder_iteration(self, root: Optional[TreeNode]) -> List[int]:\n",
    "        stack, output = [root,], []\n",
    "        \n",
    "        while stack:\n",
    "            node = stack.pop()\n",
    "            if node is not None:\n",
    "                output.append(node.val)\n",
    "                if node.right is not None:\n",
    "                    stack.append(node.right)\n",
    "                if node.left is not None:\n",
    "                    stack.append(node.left)\n",
    "\n",
    "        return output\n",
    "\n",
    "    def preorder_recursion(self, root: Optional[TreeNode]) -> List[int]:\n",
    "        return [] if root is None else [root.val] + self.preorder_iteration(root.left) + self.preorder_iteration(root.right)\n",
    "\n",
    "    def inorder_iteration(self, root: Optional[TreeNode]) -> List[int]:\n",
    "        stack, current, output = [], root, []\n",
    "\n",
    "        while stack or current:\n",
    "            while current is not None:\n",
    "                stack.append(current)\n",
    "                current = current.left\n",
    "\n",
    "            current = stack.pop()\n",
    "            output.append(current.val)\n",
    "            current = current.right\n",
    "\n",
    "        return output\n",
    "\n",
    "    def inorder_recursion(self, root: Optional[TreeNode]) -> List[int]:\n",
    "        return [] if root is None else self.inorder_iteration(root.left) + [root.val] + self.inorder_recursion(root.right)\n",
    "\n",
    "    def postorder_iteration(self, root: Optional[TreeNode]) -> List[int]:\n",
    "        stack, output = [root,] , []\n",
    "\n",
    "        while stack:\n",
    "            node = stack.pop()\n",
    "            if node is not None:\n",
    "                output.append(node.val)\n",
    "                if node.left is not None:\n",
    "                    stack.append(node.left)\n",
    "                if node.right is not None:\n",
    "                    stack.append(node.right)\n",
    "\n",
    "        return output[::-1]\n",
    "\n",
    "    def postorder_recursion(self, root: Optional[TreeNode]) -> List[int]:\n",
    "        return [] if root is None else self.postorder_recursion(root.left) + self.postorder_recursion(root.right) + [root.val]"
   ]
  },
  {
   "cell_type": "code",
   "execution_count": 16,
   "metadata": {},
   "outputs": [
    {
     "name": "stdout",
     "output_type": "stream",
     "text": [
      "preorder iteration: [3, 2, 1, 6, 7, 8, 4, 3, 4, 5]\n",
      "preorder recursion: [3, 2, 1, 6, 7, 8, 4, 3, 4, 5]\n",
      "inorder iteration: [2, 6, 1, 8, 7, 3, 4, 3, 5, 4]\n",
      "inorder recursion: [2, 6, 1, 8, 7, 3, 4, 3, 5, 4]\n",
      "postorder iteration: [6, 8, 7, 1, 2, 4, 5, 3, 4, 3]\n",
      "postorder recursion: [6, 8, 7, 1, 2, 4, 5, 3, 4, 3]\n"
     ]
    }
   ],
   "source": [
    "traversal = TreeTraversal()\n",
    "print('preorder iteration:', traversal.preorder_iteration(binary1))\n",
    "print('preorder recursion:', traversal.preorder_recursion(binary1))\n",
    "print('inorder iteration:', traversal.inorder_iteration(binary1))\n",
    "print('inorder recursion:', traversal.inorder_recursion(binary1))\n",
    "print('postorder iteration:', traversal.postorder_iteration(binary1))\n",
    "print('postorder recursion:', traversal.postorder_recursion(binary1))"
   ]
  },
  {
   "cell_type": "code",
   "execution_count": 1,
   "metadata": {},
   "outputs": [],
   "source": [
    "#breath-first-search"
   ]
  },
  {
   "cell_type": "code",
   "execution_count": null,
   "metadata": {},
   "outputs": [],
   "source": []
  },
  {
   "cell_type": "code",
   "execution_count": null,
   "metadata": {},
   "outputs": [],
   "source": []
  }
 ],
 "metadata": {
  "interpreter": {
   "hash": "0522294e501174b5d0c65d0e90dd27ba113e479d3ce323f8b9eeb76687342f5a"
  },
  "kernelspec": {
   "display_name": "Python 3.9.7 ('py_39')",
   "language": "python",
   "name": "python3"
  },
  "language_info": {
   "codemirror_mode": {
    "name": "ipython",
    "version": 3
   },
   "file_extension": ".py",
   "mimetype": "text/x-python",
   "name": "python",
   "nbconvert_exporter": "python",
   "pygments_lexer": "ipython3",
   "version": "3.10.2"
  },
  "orig_nbformat": 4
 },
 "nbformat": 4,
 "nbformat_minor": 2
}
