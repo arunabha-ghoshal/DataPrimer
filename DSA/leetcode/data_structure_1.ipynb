{
 "cells": [
  {
   "cell_type": "code",
   "execution_count": 1,
   "metadata": {},
   "outputs": [
    {
     "name": "stdout",
     "output_type": "stream",
     "text": [
      "3.10.2 (main, Feb  2 2022, 08:42:42) [Clang 13.0.0 (clang-1300.0.29.3)]\n"
     ]
    }
   ],
   "source": [
    "import sys\n",
    "print(sys.version)"
   ]
  },
  {
   "cell_type": "code",
   "execution_count": 5,
   "metadata": {},
   "outputs": [
    {
     "name": "stdout",
     "output_type": "stream",
     "text": [
      "-inf\n"
     ]
    }
   ],
   "source": [
    "from typing import List\n",
    "import math\n",
    "print(-math.inf)"
   ]
  },
  {
   "cell_type": "code",
   "execution_count": 8,
   "metadata": {},
   "outputs": [],
   "source": [
    "#input for max subarray\n",
    "nums = [-2,1,-3,4,-1,2,1,-5,4]\n",
    "nums = [-64,-23]"
   ]
  },
  {
   "cell_type": "code",
   "execution_count": 4,
   "metadata": {},
   "outputs": [
    {
     "name": "stdout",
     "output_type": "stream",
     "text": [
      "6\n"
     ]
    }
   ],
   "source": [
    "#Approach 1 : Optimized Brute Force\n",
    "\n",
    "max_subarray = -math.inf\n",
    "for i in range(len(nums)):\n",
    "    current_subarray = 0\n",
    "    for j in range(i,len(nums)):\n",
    "        current_subarray += nums[j]\n",
    "        max_subarray = max(max_subarray,current_subarray)\n",
    "    \n",
    "print(max_subarray)\n"
   ]
  },
  {
   "cell_type": "code",
   "execution_count": 9,
   "metadata": {},
   "outputs": [
    {
     "name": "stdout",
     "output_type": "stream",
     "text": [
      "-23\n"
     ]
    }
   ],
   "source": [
    "#Approach 2 : Kadane's Algo - Dynamic Programming\n",
    "\n",
    "current_subarray = max_subarray = nums[0]\n",
    "\n",
    "for num in nums[1:]:\n",
    "    current_subarray = max(num, current_subarray + num)\n",
    "    max_subarray = max(max_subarray,current_subarray)\n",
    "\n",
    "\n",
    "print(max_subarray)"
   ]
  },
  {
   "cell_type": "code",
   "execution_count": null,
   "metadata": {},
   "outputs": [],
   "source": [
    "#Approach 3: Recursion -  Divide & Conquer\n",
    "class Solution:\n",
    "    def maxSubArray(self, nums: List[int]) -> int:\n",
    "        def findBestSubarray(nums, left, right):\n",
    "            # Base case - empty array.\n",
    "            if left > right:\n",
    "                return -math.inf\n",
    "\n",
    "            mid = (left + right) // 2\n",
    "            curr = best_left_sum = best_right_sum = 0\n",
    "\n",
    "            # Iterate from the middle to the beginning.\n",
    "            for i in range(mid - 1, left - 1, -1):\n",
    "                curr += nums[i]\n",
    "                best_left_sum = max(best_left_sum, curr)\n",
    "\n",
    "            # Reset curr and iterate from the middle to the end.\n",
    "            curr = 0\n",
    "            for i in range(mid + 1, right + 1):\n",
    "                curr += nums[i]\n",
    "                best_right_sum = max(best_right_sum, curr)\n",
    "\n",
    "            # The best_combined_sum uses the middle element and\n",
    "            # the best possible sum from each half.\n",
    "            best_combined_sum = nums[mid] + best_left_sum + best_right_sum\n",
    "\n",
    "            # Find the best subarray possible from both halves.\n",
    "            left_half = findBestSubarray(nums, left, mid - 1)\n",
    "            right_half = findBestSubarray(nums, mid + 1, right)\n",
    "\n",
    "            # The largest of the 3 is the answer for any given input array.\n",
    "            return max(best_combined_sum, left_half, right_half)\n",
    "        \n",
    "        # Our helper function is designed to solve this problem for\n",
    "        # any array - so just call it using the entire input!\n",
    "        return findBestSubarray(nums, 0, len(nums) - 1)\n"
   ]
  },
  {
   "cell_type": "code",
   "execution_count": 3,
   "metadata": {},
   "outputs": [],
   "source": [
    "#two sum\n",
    "def twoSum( nums: List[int], target: int) -> List[int]:\n",
    "    hashmap = {}\n",
    "    for i in range(len(nums)):\n",
    "        complement = target - nums[i]\n",
    "        if complement in hashmap:\n",
    "            return [i,hashmap[complement]]\n",
    "        hashmap[nums[i]] = i"
   ]
  },
  {
   "cell_type": "code",
   "execution_count": 4,
   "metadata": {},
   "outputs": [
    {
     "name": "stdout",
     "output_type": "stream",
     "text": [
      "[1, 0]\n"
     ]
    }
   ],
   "source": [
    "#two sum - input\n",
    "nums = [2,7,11,15] \n",
    "target = 9\n",
    "print(twoSum(nums,target))"
   ]
  },
  {
   "cell_type": "code",
   "execution_count": 57,
   "metadata": {},
   "outputs": [],
   "source": [
    "#merge sorted arrays - input\n",
    "# nums1 = [0]\n",
    "# m = 0\n",
    "# nums2 = [2,5,6]\n",
    "# n = 3\n",
    "# nums3 = []\n",
    "\n",
    "nums1 = [4,0,0,0,0,0]\n",
    "m = 1\n",
    "nums2 = [1,2,3,5,6]\n",
    "n = 5\n",
    "\n",
    "nums1 = [1,2,3,0,0,0]\n",
    "m = 3\n",
    "nums2 = [2,5,6]\n",
    "n = 3"
   ]
  },
  {
   "cell_type": "code",
   "execution_count": 58,
   "metadata": {},
   "outputs": [],
   "source": [
    "def merge( nums1: List[int], m: int, nums2: List[int], n: int) -> None:\n",
    "    \"\"\"\n",
    "    Do not return anything, modify nums1 in-place instead.\n",
    "    \"\"\"\n",
    "    if n == 0:\n",
    "        print('at n == 0')\n",
    "        pass\n",
    "    elif m == 0 and n == 0:\n",
    "        print('at m== 0 , n ==0')\n",
    "        pass\n",
    "    elif m==0 and n!= 0:\n",
    "        print('at m ==0 n != 0')\n",
    "        nums1[:] = nums2\n",
    "\n",
    "    else:\n",
    "        print('at main code')\n",
    "        start = 0\n",
    "        cnt = n\n",
    "        for j in range(n):\n",
    "            for i in range(start,m+n):\n",
    "                if nums1[i] >= nums2[j]:\n",
    "                    nums1.insert(i,nums2[j])\n",
    "                    nums1.pop()\n",
    "                    start = i\n",
    "                    print(i)\n",
    "                    print(nums1)\n",
    "                    cnt -= 1\n",
    "                    print('cnt:',cnt)\n",
    "                    break\n",
    "        if cnt != 0:\n",
    "            print('running this')\n",
    "            nums1[-cnt:] = nums2[-cnt:]\n",
    "\n"
   ]
  },
  {
   "cell_type": "code",
   "execution_count": 59,
   "metadata": {},
   "outputs": [
    {
     "name": "stdout",
     "output_type": "stream",
     "text": [
      "[1, 2, 3, 0, 0, 0] [2, 5, 6]\n",
      "at main code\n",
      "1\n",
      "[1, 2, 2, 3, 0, 0]\n",
      "cnt: 2\n",
      "running this\n",
      "[1, 2, 2, 3, 5, 6]\n"
     ]
    }
   ],
   "source": [
    "print(nums1,nums2)\n",
    "merge(nums1,m,nums2,n)\n",
    "#nums1 = nums2\n",
    "print(nums1)"
   ]
  },
  {
   "cell_type": "code",
   "execution_count": null,
   "metadata": {},
   "outputs": [],
   "source": []
  },
  {
   "cell_type": "code",
   "execution_count": null,
   "metadata": {},
   "outputs": [],
   "source": []
  },
  {
   "cell_type": "code",
   "execution_count": 65,
   "metadata": {},
   "outputs": [
    {
     "name": "stdout",
     "output_type": "stream",
     "text": [
      "[2, 5, 6]\n"
     ]
    }
   ],
   "source": [
    "#merge sorted arrays - input\n",
    "nums1 = [0,0,0]\n",
    "m = 0\n",
    "nums2 = [2,5,6]\n",
    "n = 3\n",
    "\n",
    "from typing import List\n",
    "def merge( nums1: List[int], m: int, nums2: List[int], n: int) -> None:\n",
    "    \"\"\"\n",
    "    Do not return anything, modify nums1 in-place instead.\n",
    "    \"\"\"\n",
    "    for c in range(0,n):\n",
    "        nums1.pop()\n",
    "    nums1.extend(nums2)\n",
    "    nums1.sort()\n",
    "\n",
    "merge(nums1,m,nums2,n)\n",
    "print(nums1)"
   ]
  },
  {
   "cell_type": "code",
   "execution_count": 76,
   "metadata": {},
   "outputs": [
    {
     "name": "stdout",
     "output_type": "stream",
     "text": [
      "{0: 2, 1: 2}\n",
      "1\n",
      "2\n",
      "keys 0\n",
      "2\n",
      "keys 1\n",
      "1\n",
      "[2, 2]\n"
     ]
    }
   ],
   "source": [
    "#inntersection of two arrays:\n",
    "nums1 = [1,2,2,1]\n",
    "nums2 = [2,2]\n",
    "\n",
    "\n",
    "\n",
    "def intersect( nums1: List[int], nums2: List[int]) -> List[int]:\n",
    "    l1 = len(nums1)\n",
    "    l2 = len(nums2)\n",
    "    res = []\n",
    "    d = {}\n",
    "    if l1 >= l2 :\n",
    "        for i in range(0,l2):\n",
    "            d[i] = nums2[i]\n",
    "\n",
    "        print(d)\n",
    "            \n",
    "        for j in range(0,l1):\n",
    "            print(nums1[j])\n",
    "            if nums1[j] in d.values():\n",
    "                keys = list(d.keys())[list(d.values()).index(nums1[j])]\n",
    "                print('keys',keys)\n",
    "                res.append(nums1[j])\n",
    "                del d[keys]\n",
    "\n",
    "    else:\n",
    "        for i in range(0,l1):\n",
    "            d[i] = nums1[i]\n",
    "\n",
    "        print(d)\n",
    "            \n",
    "        for j in range(0,l2):\n",
    "            print(nums2[j])\n",
    "            if nums2[j] in d.values():\n",
    "                keys = list(d.keys())[list(d.values()).index(nums2[j])]\n",
    "                print('keys',keys)\n",
    "                res.append(nums2[j])\n",
    "                del d[keys]\n",
    "                \n",
    "    return res\n",
    "\n",
    "print(intersect(nums1,nums2))\n"
   ]
  },
  {
   "cell_type": "code",
   "execution_count": 77,
   "metadata": {},
   "outputs": [],
   "source": [
    "#best time to buy and sell stock\n",
    "# Input: prices = [7,1,5,3,6,4]\n",
    "# Output: 5\n",
    "# Explanation: Buy on day 2 (price = 1) and sell on day 5 (price = 6), profit = 6-1 = 5.\n",
    "# Note that buying on day 2 and selling on day 1 is not allowed because you must buy before you sell."
   ]
  },
  {
   "cell_type": "code",
   "execution_count": 80,
   "metadata": {},
   "outputs": [
    {
     "name": "stdout",
     "output_type": "stream",
     "text": [
      "8\n"
     ]
    }
   ],
   "source": [
    "prices = [7,4,5,3,6,4,7,2,3,10,9]\n",
    "\n",
    "def maxProfit(prices: List[int]) -> int:\n",
    "    max_prof = 0\n",
    "    min_price = prices[0]\n",
    "    for i in range(1,len(prices)):\n",
    "        if prices[i] > min_price:\n",
    "            profit = prices[i] - min_price\n",
    "            max_prof = max(max_prof,profit)\n",
    "        else:\n",
    "            min_price = prices[i]\n",
    "\n",
    "    return max_prof\n",
    "\n",
    "print(maxProfit(prices))"
   ]
  },
  {
   "cell_type": "code",
   "execution_count": 3,
   "metadata": {},
   "outputs": [
    {
     "data": {
      "text/plain": [
       "array([[1, 2],\n",
       "       [3, 4],\n",
       "       [5, 6]])"
      ]
     },
     "execution_count": 3,
     "metadata": {},
     "output_type": "execute_result"
    }
   ],
   "source": [
    "import numpy as np\n",
    "\n",
    "mtr1 = np.array([[1,2,3],[4,5,6]])\n",
    "mtr1.reshape(3,2)"
   ]
  },
  {
   "cell_type": "code",
   "execution_count": null,
   "metadata": {},
   "outputs": [],
   "source": [
    "#reshaping 2D matix\n",
    "def matrixReshape( mat: List[List[int]], r: int, c: int) -> List[List[int]]:\n",
    "    mat_to_list = [item for rows in mat for item in rows]\n",
    "    if r*c == len(mat_to_list):\n",
    "        return [mat_to_list[i*c:i*c + c] for i in range(r)]\n",
    "    else:\n",
    "        return mat"
   ]
  },
  {
   "cell_type": "code",
   "execution_count": 4,
   "metadata": {},
   "outputs": [],
   "source": [
    "mat = [[1,2,3],[4,5,6],[5,3,4],[6,1,5],[3,4,5]]"
   ]
  },
  {
   "cell_type": "code",
   "execution_count": 7,
   "metadata": {},
   "outputs": [],
   "source": [
    "a = []\n",
    "for rows in mat:\n",
    "    for x in rows:\n",
    "        a.append(x)\n"
   ]
  },
  {
   "cell_type": "code",
   "execution_count": 8,
   "metadata": {},
   "outputs": [],
   "source": [
    "a = [x for rows in mat for x in rows]"
   ]
  },
  {
   "cell_type": "code",
   "execution_count": 27,
   "metadata": {},
   "outputs": [],
   "source": [
    "# pascal's triangle\n",
    "from typing import *\n",
    "def generate( numRows: int) -> List[List[int]]:\n",
    "    res = []\n",
    "    for i in range(numRows):\n",
    "        element = [0 for x in range(i+1)]\n",
    "        element[0], element[-1] = 1, 1\n",
    "        \n",
    "\n",
    "        for j in range(1,i):\n",
    "            element[j] = res[i-1][j-1] + res[i-1][j]\n",
    "        \n",
    "        res.append(element)\n",
    "\n",
    "    return res"
   ]
  },
  {
   "cell_type": "code",
   "execution_count": 28,
   "metadata": {},
   "outputs": [
    {
     "name": "stdout",
     "output_type": "stream",
     "text": [
      "[[1], [1, 1], [1, 2, 1], [1, 3, 3, 1], [1, 4, 6, 4, 1], [1, 5, 10, 10, 5, 1], [1, 6, 15, 20, 15, 6, 1], [1, 7, 21, 35, 35, 21, 7, 1]]\n"
     ]
    }
   ],
   "source": [
    "print(generate(8))"
   ]
  },
  {
   "cell_type": "code",
   "execution_count": 45,
   "metadata": {},
   "outputs": [],
   "source": [
    "#36 Valid Sudoku\n",
    "board = \\\n",
    "[[\"8\",\"3\",\".\",\".\",\"7\",\".\",\".\",\".\",\".\"]\n",
    ",[\"6\",\".\",\".\",\"1\",\"9\",\"5\",\".\",\".\",\".\"]\n",
    ",[\".\",\"9\",\"8\",\".\",\".\",\".\",\".\",\"6\",\".\"]\n",
    ",[\"8\",\".\",\".\",\".\",\"6\",\".\",\".\",\".\",\"3\"]\n",
    ",[\"4\",\".\",\".\",\"8\",\".\",\"3\",\".\",\".\",\"1\"]\n",
    ",[\"7\",\".\",\".\",\".\",\"2\",\".\",\".\",\".\",\"6\"]\n",
    ",[\".\",\"6\",\".\",\".\",\".\",\".\",\"2\",\"8\",\".\"]\n",
    ",[\".\",\".\",\".\",\"4\",\"1\",\"9\",\".\",\".\",\"5\"]\n",
    ",[\".\",\".\",\".\",\".\",\"8\",\".\",\".\",\"7\",\"9\"]]\n"
   ]
  },
  {
   "cell_type": "code",
   "execution_count": 42,
   "metadata": {},
   "outputs": [],
   "source": [
    "def isValidSudoku( board: List[List[str]]) -> bool:\n",
    "\n",
    "    hash_row = [{} for _ in range(9)]\n",
    "    hash_col = [{} for _ in range(9)]\n",
    "    hash_boxes = [{} for _ in range(9)]\n",
    "\n",
    "    for r in range(9):\n",
    "        for c in range(9):\n",
    "            x = board[r][c]\n",
    "\n",
    "            if x == '.':\n",
    "                continue\n",
    "\n",
    "            if hash_row[r].get(x,0):\n",
    "                return False\n",
    "            hash_row[r][x] = hash_row[r].get(x,0) + 1\n",
    "\n",
    "            if hash_col[c].get(x,0):\n",
    "                return False\n",
    "            hash_col[c][x] = hash_col[c].get(x,0) + 1\n",
    "\n",
    "            box_id = (r//3)*3 + c//3\n",
    "            if hash_boxes[box_id].get(x,0):\n",
    "                return False\n",
    "            hash_boxes[box_id][x] = hash_boxes[box_id].get(x,0) + 1\n",
    "\n",
    "    return True"
   ]
  },
  {
   "cell_type": "code",
   "execution_count": 46,
   "metadata": {},
   "outputs": [
    {
     "name": "stdout",
     "output_type": "stream",
     "text": [
      "False\n"
     ]
    }
   ],
   "source": [
    "print(isValidSudoku(board))"
   ]
  },
  {
   "cell_type": "code",
   "execution_count": 47,
   "metadata": {},
   "outputs": [
    {
     "name": "stdout",
     "output_type": "stream",
     "text": [
      "[{}, {}, {}, {}, {}, {}, {}, {}, {}]\n"
     ]
    }
   ],
   "source": [
    "hash_row = [{} for _ in range(9)]\n",
    "hash_col = [{} for _ in range(9)]\n",
    "hash_boxes = [{} for _ in range(9)]\n",
    "\n",
    "print(hash_row)"
   ]
  },
  {
   "cell_type": "code",
   "execution_count": 48,
   "metadata": {},
   "outputs": [],
   "source": [
    "#74. Search a 2D Matrix\n",
    "matrix1 = [[1,3,5,7],[10,11,16,20],[23,30,34,60]]\n",
    "target1 = 3\n",
    "\n",
    "matrix2 = [[1,3,5,7],[10,11,16,20],[23,30,34,60]]\n",
    "target2 = 13\n",
    "\n",
    "\n"
   ]
  },
  {
   "cell_type": "code",
   "execution_count": 52,
   "metadata": {},
   "outputs": [],
   "source": [
    "from typing import *\n",
    "def searchMatrix( matrix: List[List[int]], target: int) -> bool:\n",
    "\n",
    "    \n",
    "    for rows in matrix:\n",
    "        if target >= rows[0] and target <= rows[-1]:\n",
    "            first = 0\n",
    "            last = len(rows) -1\n",
    "            while first<=last :\n",
    "                mid = (first + last)//2\n",
    "                if rows[mid] == target:\n",
    "                    return True\n",
    "                else:\n",
    "                    if target < rows[mid]:\n",
    "                        last = mid -1\n",
    "                    else:\n",
    "                        first = mid + 1\n",
    "    return False"
   ]
  },
  {
   "cell_type": "code",
   "execution_count": 54,
   "metadata": {},
   "outputs": [
    {
     "name": "stdout",
     "output_type": "stream",
     "text": [
      "True\n"
     ]
    }
   ],
   "source": [
    "print(searchMatrix(matrix1,target1))"
   ]
  },
  {
   "cell_type": "code",
   "execution_count": 63,
   "metadata": {},
   "outputs": [],
   "source": [
    "#387. First Unique Character in a String\n",
    "def firstUniqChar( s: str) -> int:\n",
    "    hash_map = {}\n",
    "    for ix in range(len(s)):\n",
    "        if hash_map.get(s[ix],0):\n",
    "            hash_map[s[ix]] = hash_map[s[ix]][0] + 1, ix\n",
    "        else:\n",
    "            hash_map[s[ix]] = 1, ix\n",
    "\n",
    "    print(hash_map)\n",
    "\n",
    "    for v in hash_map.values():\n",
    "        if v[0] == 1:\n",
    "            return v[1]\n",
    "\n",
    "    return -1\n"
   ]
  },
  {
   "cell_type": "code",
   "execution_count": 66,
   "metadata": {},
   "outputs": [
    {
     "name": "stdout",
     "output_type": "stream",
     "text": [
      "{'a': (2, 1), 'b': (2, 3)}\n",
      "-1\n"
     ]
    }
   ],
   "source": [
    "print(firstUniqChar('aabb'))"
   ]
  },
  {
   "cell_type": "code",
   "execution_count": null,
   "metadata": {},
   "outputs": [],
   "source": []
  }
 ],
 "metadata": {
  "interpreter": {
   "hash": "b460384b52104c1e5b9cf54bee46a255d22b2bef338f75ac4ad5d48196028d3c"
  },
  "kernelspec": {
   "display_name": "Python 3.10.2 64-bit",
   "language": "python",
   "name": "python3"
  },
  "language_info": {
   "codemirror_mode": {
    "name": "ipython",
    "version": 3
   },
   "file_extension": ".py",
   "mimetype": "text/x-python",
   "name": "python",
   "nbconvert_exporter": "python",
   "pygments_lexer": "ipython3",
   "version": "3.10.2"
  },
  "orig_nbformat": 4
 },
 "nbformat": 4,
 "nbformat_minor": 2
}
