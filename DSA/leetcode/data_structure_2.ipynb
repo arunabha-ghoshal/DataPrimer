{
 "cells": [
  {
   "cell_type": "code",
   "execution_count": 1,
   "metadata": {},
   "outputs": [],
   "source": [
    "from typing import *"
   ]
  },
  {
   "cell_type": "code",
   "execution_count": 4,
   "metadata": {},
   "outputs": [],
   "source": [
    "#136 single number\n",
    "#approach : hash map\n",
    "def singleNumber( nums: List[int]) -> int:\n",
    "    hash_map = {}\n",
    "    for i in nums:\n",
    "        hash_map[i] = hash_map.get(i,0) + 1\n",
    "\n",
    "    for k in hash_map:\n",
    "        if hash_map[k] == 1:\n",
    "            return k\n"
   ]
  },
  {
   "cell_type": "code",
   "execution_count": 5,
   "metadata": {},
   "outputs": [
    {
     "name": "stdout",
     "output_type": "stream",
     "text": [
      "3\n"
     ]
    }
   ],
   "source": [
    "print(singleNumber([1,1,2,4,2,3,4]))"
   ]
  },
  {
   "cell_type": "code",
   "execution_count": 6,
   "metadata": {},
   "outputs": [],
   "source": [
    "#136 single number\n",
    "#approach : math\n",
    "def singleNumber( nums: List[int]) -> int:\n",
    "    return 2 * sum(set(nums)) - sum(nums)"
   ]
  },
  {
   "cell_type": "code",
   "execution_count": 7,
   "metadata": {},
   "outputs": [
    {
     "name": "stdout",
     "output_type": "stream",
     "text": [
      "5\n"
     ]
    }
   ],
   "source": [
    "print(singleNumber([1,1,2,4,2,5,6,3,4,3,6]))"
   ]
  },
  {
   "cell_type": "code",
   "execution_count": 9,
   "metadata": {},
   "outputs": [],
   "source": [
    "#136 single number\n",
    "#approach : bit manipulation\n",
    "#reduce(lambda x,y : x^y, nums)\n",
    "def singleNumber( nums: List[int]) -> int:\n",
    "    a = 0\n",
    "    for i in nums:\n",
    "        a ^= i\n",
    "\n",
    "    return a"
   ]
  },
  {
   "cell_type": "code",
   "execution_count": 10,
   "metadata": {},
   "outputs": [
    {
     "name": "stdout",
     "output_type": "stream",
     "text": [
      "5\n"
     ]
    }
   ],
   "source": [
    "print(singleNumber([1,1,2,4,2,5,6,3,4,3,6]))"
   ]
  },
  {
   "cell_type": "code",
   "execution_count": 24,
   "metadata": {},
   "outputs": [],
   "source": [
    "#3 sum\n",
    "def threeSum( nums: List[int]) -> List[List[int]]:\n",
    "    res = []\n",
    "    for i in range(len(nums)):\n",
    "        hash_map  = {}\n",
    "        for j in range(len(nums)):\n",
    "            if i != j:\n",
    "                complement = -(nums[i] + nums[j])\n",
    "                if complement in hash_map:\n",
    "                    k = hash_map[complement]\n",
    "                    if i != k and j != k:\n",
    "                        ans = sorted([nums[i],nums[j],complement])\n",
    "                        if ans not in res:\n",
    "                            res.append(ans)\n",
    "                else:\n",
    "                    hash_map[nums[j]] = j\n",
    "\n",
    "    return res\n",
    "\n"
   ]
  },
  {
   "cell_type": "code",
   "execution_count": 25,
   "metadata": {},
   "outputs": [
    {
     "name": "stdout",
     "output_type": "stream",
     "text": [
      "[[-1, 0, 1], [-1, -1, 2]]\n"
     ]
    }
   ],
   "source": [
    "print(threeSum([-1,0,1,2,-1,-4]))"
   ]
  },
  {
   "cell_type": "code",
   "execution_count": 28,
   "metadata": {},
   "outputs": [],
   "source": [
    "# sorted two pointer:\n",
    "class Solution:\n",
    "    def threeSum(self, nums: List[int]) -> List[List[int]]:\n",
    "        res = []\n",
    "        nums.sort()\n",
    "        for i in range(len(nums)):\n",
    "            if nums[i] > 0:\n",
    "                break\n",
    "            if i == 0 or nums[i - 1] != nums[i]:\n",
    "                self.twoSumII(nums, i, res)\n",
    "        return res\n",
    "\n",
    "    def twoSumII(self, nums: List[int], i: int, res: List[List[int]]):\n",
    "        lo, hi = i + 1, len(nums) - 1\n",
    "        while (lo < hi):\n",
    "            sum = nums[i] + nums[lo] + nums[hi]\n",
    "            if sum < 0:\n",
    "                lo += 1\n",
    "            elif sum > 0:\n",
    "                hi -= 1\n",
    "            else:\n",
    "                res.append([nums[i], nums[lo], nums[hi]])\n",
    "                lo += 1\n",
    "                hi -= 1\n",
    "                while lo < hi and nums[lo] == nums[lo - 1]:\n",
    "                    lo += 1"
   ]
  },
  {
   "cell_type": "code",
   "execution_count": 33,
   "metadata": {},
   "outputs": [],
   "source": [
    "def threeSum( nums: List[int]) -> List[List[int]]:\n",
    "    res = []\n",
    "    nums.sort()\n",
    "    for i in range(len(nums)):\n",
    "        if nums[i] > 0:\n",
    "            break\n",
    "        if i == 0 or nums[i] != nums[i-1]:\n",
    "            hash_map = set()\n",
    "            j = i + 1\n",
    "            while j < len(nums):\n",
    "                complement = -(nums[i] + nums[j])\n",
    "                if complement in hash_map:\n",
    "                    res.append([nums[i],nums[j],complement])\n",
    "                    while j + 1 < len(nums) and nums[j] == nums[j+1]:\n",
    "                        j += 1\n",
    "                hash_map.add(nums[j])\n",
    "                j += 1    \n",
    "    return res"
   ]
  },
  {
   "cell_type": "code",
   "execution_count": 34,
   "metadata": {},
   "outputs": [
    {
     "name": "stdout",
     "output_type": "stream",
     "text": [
      "[[-1, 1, 0], [-1, 2, -1]]\n"
     ]
    }
   ],
   "source": [
    "print(threeSum([-1,0,1,2,-1,-4]))"
   ]
  },
  {
   "cell_type": "code",
   "execution_count": 44,
   "metadata": {},
   "outputs": [],
   "source": [
    "# no sort approach\n",
    "def threeSum( nums: List[int]) -> List[List[int]]:\n",
    "    res, dups = set(), set()\n",
    "    seen = {}\n",
    "    for i,val1 in enumerate(nums):\n",
    "        print('i:',i)\n",
    "        if val1 not in dups:\n",
    "            dups.add(val1)\n",
    "            print('dups:',dups)\n",
    "            for j,val2 in enumerate(nums[i+1:]):\n",
    "                complement = - (val1 + val2)\n",
    "                print('complement:',complement)\n",
    "                if complement in seen and seen[complement] == i:\n",
    "                    res.add(tuple(sorted([val1,val2,complement])))\n",
    "                    print('res:',res)\n",
    "                seen[val2] = i\n",
    "                print('seen:',seen)\n",
    "\n",
    "    return list(res)\n",
    "\n",
    "\n",
    "\n",
    "    \n"
   ]
  },
  {
   "cell_type": "code",
   "execution_count": 45,
   "metadata": {},
   "outputs": [
    {
     "name": "stdout",
     "output_type": "stream",
     "text": [
      "i: 0\n",
      "dups: {-1}\n",
      "complement: 1\n",
      "seen: {0: 0}\n",
      "complement: 0\n",
      "res: {(-1, 0, 1)}\n",
      "seen: {0: 0, 1: 0}\n",
      "complement: -1\n",
      "seen: {0: 0, 1: 0, 2: 0}\n",
      "complement: 2\n",
      "res: {(-1, 0, 1), (-1, -1, 2)}\n",
      "seen: {0: 0, 1: 0, 2: 0, -1: 0}\n",
      "complement: 5\n",
      "seen: {0: 0, 1: 0, 2: 0, -1: 0, -4: 0}\n",
      "i: 1\n",
      "dups: {0, -1}\n",
      "complement: -1\n",
      "seen: {0: 0, 1: 1, 2: 0, -1: 0, -4: 0}\n",
      "complement: -2\n",
      "seen: {0: 0, 1: 1, 2: 1, -1: 0, -4: 0}\n",
      "complement: 1\n",
      "res: {(-1, 0, 1), (-1, -1, 2)}\n",
      "seen: {0: 0, 1: 1, 2: 1, -1: 1, -4: 0}\n",
      "complement: 4\n",
      "seen: {0: 0, 1: 1, 2: 1, -1: 1, -4: 1}\n",
      "i: 2\n",
      "dups: {0, 1, -1}\n",
      "complement: -3\n",
      "seen: {0: 0, 1: 1, 2: 2, -1: 1, -4: 1}\n",
      "complement: 0\n",
      "seen: {0: 0, 1: 1, 2: 2, -1: 2, -4: 1}\n",
      "complement: 3\n",
      "seen: {0: 0, 1: 1, 2: 2, -1: 2, -4: 2}\n",
      "i: 3\n",
      "dups: {0, 1, 2, -1}\n",
      "complement: -1\n",
      "seen: {0: 0, 1: 1, 2: 2, -1: 3, -4: 2}\n",
      "complement: 2\n",
      "seen: {0: 0, 1: 1, 2: 2, -1: 3, -4: 3}\n",
      "i: 4\n",
      "i: 5\n",
      "dups: {0, 1, 2, -4, -1}\n",
      "[(-1, 0, 1), (-1, -1, 2)]\n"
     ]
    }
   ],
   "source": [
    "print(threeSum([-1,0,1,2,-1,-4]))"
   ]
  },
  {
   "cell_type": "code",
   "execution_count": 68,
   "metadata": {},
   "outputs": [],
   "source": [
    "#75 Sort Colors\n",
    "def sortColors( nums: List[int]) -> None:\n",
    "    hash_count = {0:[],1:[],2:[]}\n",
    "\n",
    "    for i in nums:\n",
    "        hash_count.get(i,[]).append(i)\n",
    "    \n",
    "    nums = hash_count[0] + hash_count[1] + hash_count[2]\n",
    "    print(nums)\n",
    "\n",
    "    \n",
    "    "
   ]
  },
  {
   "cell_type": "code",
   "execution_count": 69,
   "metadata": {},
   "outputs": [
    {
     "name": "stdout",
     "output_type": "stream",
     "text": [
      "[0, 0, 1, 2, 2]\n"
     ]
    }
   ],
   "source": [
    "sortColors([0,2,0,1,2])"
   ]
  },
  {
   "cell_type": "code",
   "execution_count": 108,
   "metadata": {},
   "outputs": [],
   "source": [
    "#56 merge intervals:\n",
    "def merge( intervals: List[List[int]]) -> List[List[int]]:\n",
    "    res = []\n",
    "    intervals.sort()\n",
    "    #print(intervals)\n",
    "    interval = intervals[0]\n",
    "    for _n in intervals[1:]:\n",
    "        #print('interval now: ',_n)\n",
    "        if _n[0] > interval[-1]:\n",
    "            #print('in if')\n",
    "            if len(res) == 0 :  \n",
    "                res.append(interval)\n",
    "            else:\n",
    "                if res[-1] != interval:\n",
    "                    res.append(interval)\n",
    "            interval = _n\n",
    "            if _n == intervals[-1]:\n",
    "                #print('in 1st elif')\n",
    "                if len(res) == 0 :  \n",
    "                    res.append(interval)\n",
    "                else:\n",
    "                    if res[-1] != interval:\n",
    "                        res.append(interval)\n",
    "\n",
    "        else:\n",
    "            #print('in else')\n",
    "            if _n[-1] >= interval[-1]:\n",
    "                #print('in 1st elif')\n",
    "                interval[-1] = _n[-1]\n",
    "            if _n == intervals[-1]:\n",
    "                #print('in 2st elif')\n",
    "                if len(res) == 0:\n",
    "                    res.append(interval)\n",
    "                else:\n",
    "                    if res[-1] != interval:\n",
    "                        res.append(interval)\n",
    "\n",
    "    return res\n",
    "\n"
   ]
  },
  {
   "cell_type": "code",
   "execution_count": 109,
   "metadata": {},
   "outputs": [
    {
     "name": "stdout",
     "output_type": "stream",
     "text": [
      "[[0, 6]]\n"
     ]
    }
   ],
   "source": [
    "nums = [[0,0],[1,2],[5,5],[2,4],[3,3],[5,6],[5,6],[4,6],[0,0],[1,2],[0,2],[4,5]]\n",
    "#nums = [[1,4],[2,3]]\n",
    "#nums = [[1,3],[2,6],[8,10],[15,18]]\n",
    "print(merge(nums))\n",
    "\n"
   ]
  },
  {
   "cell_type": "code",
   "execution_count": 125,
   "metadata": {},
   "outputs": [],
   "source": [
    "# pascal's triangle II\n",
    "def getRow(rowIndex: int) -> List[int]:\n",
    "    \n",
    "    if rowIndex == 0:\n",
    "        return [1]\n",
    "    triangle = [1,1]\n",
    "    for i in range(2,rowIndex+1):\n",
    "        row = [0 for _ in range(i+1)]\n",
    "        row[0], row[-1] = 1, 1\n",
    "        #print(row)\n",
    "\n",
    "        for j in range(1,len(row)-1):\n",
    "            row[j] = triangle[j-1] + triangle[j]\n",
    "        triangle[:] = row\n",
    "\n",
    "    return triangle\n",
    "\n",
    "\n",
    "\n",
    "\n"
   ]
  },
  {
   "cell_type": "code",
   "execution_count": 126,
   "metadata": {},
   "outputs": [
    {
     "name": "stdout",
     "output_type": "stream",
     "text": [
      "[1, 5, 10, 10, 5, 1]\n"
     ]
    }
   ],
   "source": [
    "print(getRow(5))"
   ]
  },
  {
   "cell_type": "code",
   "execution_count": null,
   "metadata": {},
   "outputs": [],
   "source": [
    "#48. Rotate Image\n",
    "def rotate( matrix: List[List[int]]) -> None:\n",
    "    "
   ]
  },
  {
   "cell_type": "code",
   "execution_count": 3,
   "metadata": {},
   "outputs": [],
   "source": [
    "#334. Increasing Triplet Subsequence\n",
    "from typing import *\n",
    "def increasingTriplet( nums: List[int]) -> bool:\n",
    "    first_num = float('inf')\n",
    "    second_num = float('inf')\n",
    "\n",
    "    for n in nums:\n",
    "        if n < first_num:\n",
    "            first_num = n\n",
    "        elif n < second_num:\n",
    "            second_num = n\n",
    "        else:\n",
    "            return True\n",
    "        \n",
    "\n",
    "    return False\n",
    "    "
   ]
  },
  {
   "cell_type": "code",
   "execution_count": 6,
   "metadata": {},
   "outputs": [],
   "source": [
    "nums = [2,1,5,0,4,6]\n",
    "#nums = [5,4,3,2,1]\n"
   ]
  },
  {
   "cell_type": "code",
   "execution_count": 7,
   "metadata": {},
   "outputs": [
    {
     "data": {
      "text/plain": [
       "True"
      ]
     },
     "execution_count": 7,
     "metadata": {},
     "output_type": "execute_result"
    }
   ],
   "source": [
    "increasingTriplet(nums)"
   ]
  },
  {
   "cell_type": "code",
   "execution_count": 9,
   "metadata": {},
   "outputs": [],
   "source": [
    "#238. Product of Array Except Self\n",
    "def productExceptSelf(nums: List[int]) -> List[int]:\n",
    "    \n",
    "    length = len(nums)\n",
    "\n",
    "    res = [1]*length\n",
    "\n",
    "    res[0] = 1\n",
    "    for i in range(1,length):\n",
    "        res[i] = res[i-1] * nums[i-1]\n",
    "\n",
    "    \n",
    "    right = 1\n",
    "    for i in reversed(range(length)):\n",
    "        res[i] = res[i] * right\n",
    "        right = right * nums[i]\n",
    "\n",
    "    return res\n"
   ]
  },
  {
   "cell_type": "code",
   "execution_count": 11,
   "metadata": {},
   "outputs": [
    {
     "data": {
      "text/plain": [
       "[0, 0, 9, 0, 0]"
      ]
     },
     "execution_count": 11,
     "metadata": {},
     "output_type": "execute_result"
    }
   ],
   "source": [
    "productExceptSelf([-1,1,0,-3,3])"
   ]
  },
  {
   "cell_type": "code",
   "execution_count": null,
   "metadata": {},
   "outputs": [],
   "source": [
    "# 560. Subarray Sum Equals K\n",
    "## O(N**2)\n",
    "from typing import *\n",
    "def subarraySum(nums: List[int], k: int) -> int:\n",
    "    res = 0\n",
    "    for i in range(len(nums)):\n",
    "        sum = 0\n",
    "        for j in range(i,len(nums)):\n",
    "            sum += nums[j]\n",
    "\n",
    "            if sum == k:\n",
    "                res += 1\n",
    "            \n",
    "    return res\n",
    "        \n",
    "\n"
   ]
  },
  {
   "cell_type": "code",
   "execution_count": 12,
   "metadata": {},
   "outputs": [],
   "source": [
    "## using hash map and cumulative sum\n",
    "def subarraySum(nums: List[int], k: int) -> int:\n",
    "    res = sum = 0\n",
    "    sum_freq = {0:1}\n",
    "    for n in nums:\n",
    "        sum += n\n",
    "        subarray_sum = sum - k\n",
    "        if subarray_sum in sum_freq:\n",
    "            res += sum_freq[subarray_sum]\n",
    "        sum_freq[sum] = sum_freq.get(sum,0) + 1\n",
    "\n",
    "    return res"
   ]
  },
  {
   "cell_type": "code",
   "execution_count": 26,
   "metadata": {},
   "outputs": [],
   "source": [
    "#415 add strings\n",
    "from typing import *\n",
    "def addStrings(num1: str, num2: str) -> str:\n",
    "    l1 = len(num1)\n",
    "    l2 = len(num2)\n",
    "    res = []\n",
    "\n",
    "    if l1 < l2 :\n",
    "        return addStrings(num2,num1)\n",
    "\n",
    "    diff = l1 - l2\n",
    "    carry = 0\n",
    "\n",
    "    for i in reversed(range(l1)):\n",
    "        x1 = ord(num1[i]) - ord('0')\n",
    "        if i - diff >= 0:\n",
    "            x2 = ord(num2[i-diff]) - ord('0')\n",
    "        else:\n",
    "            x2 = 0\n",
    "\n",
    "        _s = x1 + x2 + carry\n",
    "\n",
    "        if i == 0:\n",
    "            res.append(_s)\n",
    "        else : \n",
    "            _r = _s % 10\n",
    "            _c = _s // 10\n",
    "            res.append(_r)\n",
    "            carry = _c\n",
    "\n",
    "    return \"\".join(str(x) for x in res[::-1])\n",
    "\n",
    "\n",
    "\n",
    "\n",
    "\n"
   ]
  },
  {
   "cell_type": "code",
   "execution_count": 27,
   "metadata": {},
   "outputs": [
    {
     "data": {
      "text/plain": [
       "'8357'"
      ]
     },
     "execution_count": 27,
     "metadata": {},
     "output_type": "execute_result"
    }
   ],
   "source": [
    "addStrings('734','7623')"
   ]
  },
  {
   "cell_type": "code",
   "execution_count": 30,
   "metadata": {},
   "outputs": [],
   "source": [
    "def longestPalindrome( s: str) -> int:\n",
    "    hash_map = {}\n",
    "    res = 0\n",
    "    check = 0\n",
    "    if len(s) == 1:\n",
    "        return 1\n",
    "    for _elem in s:\n",
    "        hash_map[_elem] = hash_map.get(_elem,0) + 1\n",
    "\n",
    "    for val in hash_map.values():\n",
    "        if val % 2 == 0:\n",
    "            res += val\n",
    "        else:\n",
    "            check = 1\n",
    "            if val != 1:\n",
    "                res += val - 1\n",
    "            \n",
    "    if check == 1:\n",
    "        return res + 1\n",
    "    else:\n",
    "        return res\n",
    "    "
   ]
  },
  {
   "cell_type": "code",
   "execution_count": 35,
   "metadata": {},
   "outputs": [
    {
     "data": {
      "text/plain": [
       "3"
      ]
     },
     "execution_count": 35,
     "metadata": {},
     "output_type": "execute_result"
    }
   ],
   "source": [
    "longestPalindrome('aAbbb')"
   ]
  },
  {
   "cell_type": "code",
   "execution_count": 36,
   "metadata": {},
   "outputs": [],
   "source": [
    "#290. Word Pattern\n",
    "def wordPattern(pattern: str, s: str) -> bool:\n",
    "    str_list = s.split(' ')\n",
    "    print(str_list)\n",
    "    hash_table = {}\n",
    "\n",
    "    if len(str_list) != len(pattern):\n",
    "        return False\n",
    "\n",
    "    for i in range(len(pattern)):\n",
    "        if pattern[i] in hash_table:\n",
    "            if hash_table[pattern[i]] != str_list[i]:\n",
    "                return False\n",
    "        elif str_list[i] in hash_table.values():\n",
    "            return False\n",
    "        hash_table[pattern[i]] = str_list[i]\n",
    "        \n",
    "    \n",
    "\n",
    "    return True\n",
    "\n",
    "\n",
    "\n"
   ]
  },
  {
   "cell_type": "code",
   "execution_count": null,
   "metadata": {},
   "outputs": [],
   "source": [
    "pattern = \"abba\"\n",
    "s = \"dog cat cat dog\"\n",
    "\n",
    "wordPattern()\n"
   ]
  },
  {
   "cell_type": "code",
   "execution_count": 49,
   "metadata": {},
   "outputs": [],
   "source": [
    "#187. Repeated DNA Sequences\n",
    "def findRepeatedDnaSequences( s: str) -> List[str]:\n",
    "    seen = set()\n",
    "    res = set()\n",
    "    for i in range(len(s)-9):\n",
    "        sequence = s[i:i+10]\n",
    "        if sequence in seen:\n",
    "            res.add(sequence)\n",
    "        else:\n",
    "            seen.add(sequence)\n",
    "\n",
    "    return list(res)"
   ]
  },
  {
   "cell_type": "code",
   "execution_count": 50,
   "metadata": {},
   "outputs": [
    {
     "data": {
      "text/plain": [
       "['CCCCCAAAAA', 'AAAAACCCCC']"
      ]
     },
     "execution_count": 50,
     "metadata": {},
     "output_type": "execute_result"
    }
   ],
   "source": [
    "findRepeatedDnaSequences('AAAAACCCCCAAAAACCCCCCAAAAAGGGTTT')"
   ]
  },
  {
   "cell_type": "code",
   "execution_count": 1,
   "metadata": {},
   "outputs": [],
   "source": [
    "#5. Longest Palindromic Substring\n",
    "\n"
   ]
  },
  {
   "cell_type": "code",
   "execution_count": null,
   "metadata": {},
   "outputs": [],
   "source": []
  }
 ],
 "metadata": {
  "interpreter": {
   "hash": "b460384b52104c1e5b9cf54bee46a255d22b2bef338f75ac4ad5d48196028d3c"
  },
  "kernelspec": {
   "display_name": "Python 3.10.2 64-bit",
   "language": "python",
   "name": "python3"
  },
  "language_info": {
   "codemirror_mode": {
    "name": "ipython",
    "version": 3
   },
   "file_extension": ".py",
   "mimetype": "text/x-python",
   "name": "python",
   "nbconvert_exporter": "python",
   "pygments_lexer": "ipython3",
   "version": "3.10.2"
  },
  "orig_nbformat": 4
 },
 "nbformat": 4,
 "nbformat_minor": 2
}
