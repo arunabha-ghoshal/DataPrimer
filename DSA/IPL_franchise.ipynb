{
 "nbformat": 4,
 "nbformat_minor": 2,
 "metadata": {
  "language_info": {
   "name": "python",
   "codemirror_mode": {
    "name": "ipython",
    "version": 3
   },
   "version": "3.6.2-final"
  },
  "orig_nbformat": 2,
  "file_extension": ".py",
  "mimetype": "text/x-python",
  "name": "python",
  "npconvert_exporter": "python",
  "pygments_lexer": "ipython3",
  "version": 3,
  "kernelspec": {
   "name": "python36364bita9a49919cc0d4ea58e0bce147c0e2f18",
   "display_name": "Python 3.6.3 64-bit"
  }
 },
 "cells": [
  {
   "cell_type": "code",
   "execution_count": 1,
   "metadata": {},
   "outputs": [],
   "source": [
    "import csv\n",
    "import os"
   ]
  },
  {
   "cell_type": "code",
   "execution_count": 25,
   "metadata": {},
   "outputs": [],
   "source": [
    "# implementation of an undirected graph using Adjacency Matrix, with  unweighted edges\n",
    "class Vertex:\n",
    "\tdef __init__(self, n):\n",
    "\t\tself.name = n\n",
    "\n",
    "class IPL:\n",
    "\tPlayerTeam = {}\n",
    "\tedges = []\n",
    "\tedge_indices = {}\n",
    "\t\n",
    "\tdef add_vertex(self, vertex):\n",
    "\t\tif isinstance(vertex, Vertex) and vertex.name not in self.PlayerTeam:\n",
    "\t\t\tself.PlayerTeam[vertex.name] = vertex\n",
    "\t\t\tfor row in self.edges:\n",
    "\t\t\t\trow.append(0)\n",
    "\t\t\tself.edges.append([0] * (len(self.edges)+1))\n",
    "\t\t\tself.edge_indices[vertex.name] = len(self.edge_indices)\n",
    "\t\t\treturn True\n",
    "\t\telse:\n",
    "\t\t\treturn False\n",
    "\t\n",
    "\tdef add_edge(self, u, v, weight=1):\n",
    "\t\tif u in self.PlayerTeam and v in self.PlayerTeam:\n",
    "\t\t\tself.edges[self.edge_indices[u]][self.edge_indices[v]] = weight\n",
    "\t\t\tself.edges[self.edge_indices[v]][self.edge_indices[u]] = weight\n",
    "\t\t\treturn True\n",
    "\t\telse:\n",
    "\t\t\treturn False\n",
    "\t\t\t\n",
    "\tdef print_graph(self):\n",
    "\t\tfor v, i in sorted(self.edge_indices.items()):\n",
    "\t\t\tprint(v + ' ', end='')\n",
    "\t\t\tfor j in range(len(self.edges)):\n",
    "\t\t\t\tprint(self.edges[i][j], end='')\n",
    "\t\t\tprint(' ')\n",
    "\n",
    "\tdef readInputfile(self,inputfile):\n",
    "\t\twith open(inputfile,newline='') as f:\n",
    "\t\t\tlines =csv.reader(f,delimiter='/')\n",
    "\t\t\tfor line in lines:\n",
    "\t\t\t\t_iter = len(line) - 1\n",
    "\t\t\t\trel = []\n",
    "\t\t\t\tfor field in line:\n",
    "\t\t\t\t\tprint(field)\n",
    "\t\t\t\t\tv = Vertex(field.strip())\n",
    "\t\t\t\t\tself.add_vertex(v)\n",
    "\t\t\t\tfor i in range(_iter):\n",
    "\t\t\t\t\tval = line[0],line[i+1]\n",
    "\t\t\t\t\tprint(val)\n",
    "\t\t\t\t\trel.append(val)\n",
    "\t\t\t\tprint(rel)\n",
    "\t\t\t\tfor r in rel:\n",
    "\t\t\t\t\tself.add_edge(r[0].strip(),r[1].strip())\n",
    "\n",
    "\tdef displayAll(self):\n",
    "\t\twith open('outputPS10.txt','w') as f:\n",
    "\t\t\tf.write('--------Function displayAll--------\\n')\n",
    "\t\t\tp=0\n",
    "\t\t\tt=0\n",
    "\t\t\tfor i in self.PlayerTeam.keys():\n",
    "\t\t\t\tif len(i)<=4:\n",
    "\t\t\t\t\tt += 1\n",
    "\t\t\t\telse:\n",
    "\t\t\t\t\tp += 1\n",
    "\t\t\tf.write(f'Total no. of franchises: {t}\\n')\n",
    "\t\t\tf.write(f'Total no. of players: {p}\\n')\n",
    "\t\t\tf.write('List of franchises:\\n')\n",
    "\t\t\tfor i in self.PlayerTeam.keys():\n",
    "\t\t\t\tif len(i) <= 4:\n",
    "\t\t\t\t\tf.write(f'{str(i)}\\n')\n",
    "\t\t\tf.write('\\n\\nList of Players:\\n')\n",
    "\t\t\tfor i in self.PlayerTeam.keys():\n",
    "\t\t\t\tif len(i)>4:\n",
    "\t\t\t\t\tf.write(f'{str(i)}\\n')\n",
    "\n",
    "\tdef displayFranchises(self, player):\n",
    "\t\twith open('outputPS10.txt','a') as f:\n",
    "\t\t\tf.write('\\n\\n--------Function displayFranchises --------\\n\\n')\n",
    "\t\t\tf.write(f'Player Name: {player}\\n')\n",
    "\t\t\tf.write('List of Franchises:\\n')\n",
    "\t\t\tif player not in self.edge_indices:\n",
    "\t\t\t\tprint('the plyer details do not exist in the graph DS')\n",
    "\t\t\t\tf.write('Franchises Not Found\\n')\n",
    "\t\t\telse:\n",
    "\t\t\t\tedge_index = self.edge_indices[player]\n",
    "\t\t\t\tprint('the index: ',edge_index)\n",
    "\t\t\t\tindices = [index for index, element in enumerate(self.edges[edge_index]) if element == 1]\n",
    "\t\t\t\tfor key,val in self.edge_indices.items():\n",
    "\t\t\t\t\tfor i in indices:\n",
    "\t\t\t\t\t\tif val == i:\n",
    "\t\t\t\t\t\t\tf.write(f'{key.strip()}\\n')\n",
    "\t\n",
    "\tdef displayPlayers(self, franchise):\n",
    "\t\twith open('outputPS10.txt','a') as f:\n",
    "\t\t\tf.write('\\n\\n--------Function displayPlayers--------\\n\\n')\n",
    "\t\t\tf.write(f'Franchise Name: {franchise}\\n')\n",
    "\t\t\tf.write('List of Players:\\n')\n",
    "\t\t\tif franchise not in self.edge_indices:\n",
    "\t\t\t\tprint('the plyer details do not exist in the graph DS')\n",
    "\t\t\t\tf.write('Players Not Found\\n')\n",
    "\t\t\telse:\n",
    "\t\t\t\tedge_index = self.edge_indices[franchise]\n",
    "\t\t\t\tprint('the index: ',edge_index)\n",
    "\t\t\t\tindices = [index for index, element in enumerate(self.edges[edge_index]) if element == 1]\n",
    "\t\t\t\tfor key,val in self.edge_indices.items():\n",
    "\t\t\t\t\tfor i in indices:\n",
    "\t\t\t\t\t\tif val == i:\n",
    "\t\t\t\t\t\t\tf.write(f'{key.strip()}\\n')\n",
    "\n",
    "\tdef franchiseBuddies(self, playerA, playerB):\n",
    "\t\tif playerA not in self.edge_indices or playerB not in self.edge_indices:\n",
    "\t\t\tprint('One or more players not found in the graph')\n",
    "\t\t\treturn None\n",
    "\t\twith open('outputPS10.txt','a') as f:\n",
    "\t\t\tf.write('\\n\\n--------Function franchiseBuddies--------\\n\\n')\n",
    "\t\t\tf.write(f'Player A: {playerA}\\n')\n",
    "\t\t\tf.write(f'Player B: {playerB}\\n')\n",
    "\t\t\tedge_indexA = self.edge_indices[playerA]\n",
    "\t\t\tedge_indexB = self.edge_indices[playerB]\n",
    "\t\t\tindicesA = [index for index, element in enumerate(self.edges[edge_indexA]) if element == 1]\n",
    "\t\t\tindicesB = [index for index, element in enumerate(self.edges[edge_indexB]) if element == 1]\n",
    "\t\t\t#bud = [i for i, j in zip(indicesA, indicesB) if i == j]\n",
    "\t\t\tbud = list(set(indicesA) & set(indicesB))\n",
    "\t\t\tif len(bud) == 0:\n",
    "\t\t\t\tprint(f'{playerA} and {playerB} have not played for same team')\n",
    "\t\t\t\tf.write(f'Franchise Buddies: No, {playerA} and {playerB} have not played for same team\\n')\n",
    "\t\t\telse:\n",
    "\t\t\t\tmsg = 'Franchise Buddies: Yes '\n",
    "\t\t\t\tfor key,val in self.edge_indices.items():\n",
    "\t\t\t\t\tfor i in bud:\n",
    "\t\t\t\t\t\tif val == i:\n",
    "\t\t\t\t\t\t\tmsg += f', {key.strip()} '\n",
    "\t\t\t\tf.write(f'{msg}\\n')\n",
    "\n",
    "\tdef findPlayerConnect(self, playerA, playerB):\n",
    "\t\tif playerA not in self.edge_indices or playerB not in self.edge_indices:\n",
    "\t\t\tprint('One or more players not found in the graph')\n",
    "\t\t\treturn None\n",
    "\t\twith open('outputPS10.txt','a') as f:\n",
    "\t\t\tf.write('\\n\\n--------Function findPlayerConnect --------\\n\\n')\n",
    "\t\t\tf.write(f'Player A: {playerA}\\n')\n",
    "\t\t\tf.write(f'Player B: {playerB}\\n')\n",
    "\t\t\tedge_indexA = self.edge_indices[playerA]\n",
    "\t\t\tedge_indexB = self.edge_indices[playerB]\n",
    "\t\t\tindicesA = [index for index, element in enumerate(self.edges[edge_indexA]) if element == 1]\n",
    "\t\t\tindicesB = [index for index, element in enumerate(self.edges[edge_indexB]) if element == 1] \n",
    "\t\t\tfor i in indicesA:\n",
    "\t\t\t\tfor j in indicesB:\n",
    "\t\t\t\t\tplayersA = [index for index, element in enumerate(self.edges[i]) if element == 1]\n",
    "\t\t\t\t\tplayersB = [index for index, element in enumerate(self.edges[j]) if element == 1]\n",
    "\t\t\t\t\tconnect = list(set(playersA) & set(playersB))\n",
    "\t\t\t\t\tif len(connect) >= 1 :\n",
    "\t\t\t\t\t\tfor key,val in self.edge_indices.items():\n",
    "\t\t\t\t\t\t\tif val == connect[0]:\n",
    "\t\t\t\t\t\t\t\tplayerC = key.strip()\n",
    "\t\t\t\t\t\t\tif val == i:\n",
    "\t\t\t\t\t\t\t\tteamA = key.strip()\n",
    "\t\t\t\t\t\t\tif val == j:\n",
    "\t\t\t\t\t\t\t\tteamB = key.strip()\n",
    "\t\t\t\t\t\tf.write(f'Related: Yes, {playerA} > {teamA} > {playerC} > {teamB} > {playerB}\\n')\n",
    "\t\t\t\t\t\treturn True\n",
    "\t\t\tprint(f'There is no connection between {playerA} and {playerB}')\n",
    "\t\t\tf.write(f'Related: No, here is no connection between {playerA} and {playerB}')\n",
    "\n",
    "\t\t\n",
    "\tdef destroyGraph(self):\n",
    "\t\tself.PlayerTeam = {}\n",
    "\t\tself.edges = []\n",
    "\t\tself.edge_indices = {}\n",
    "\n",
    "\n",
    "\t\t      "
   ]
  },
  {
   "cell_type": "code",
   "execution_count": 4,
   "metadata": {},
   "outputs": [
    {
     "output_type": "stream",
     "name": "stdout",
     "text": "A 0100100000 \nB 1000010000 \nC 0000011000 \nD 0000100100 \nE 1001000100 \nF 0110001011 \nG 0010010001 \nH 0001100010 \nI 0000010100 \nJ 0000011000 \n"
    }
   ],
   "source": [
    "g = IPL()\n",
    "# print(str(len(g.vertices)))\n",
    "a = Vertex('A')\n",
    "g.add_vertex(a)\n",
    "g.add_vertex(Vertex('B'))\n",
    "for i in range(ord('A'), ord('K')):\n",
    "\tg.add_vertex(Vertex(chr(i)))\n",
    "\n",
    "edges = ['AB', 'AE', 'BF', 'CG', 'DE', 'DH', 'EH', 'FG', 'FI', 'FJ', 'GJ', 'HI','FB','CF']\n",
    "for edge in edges:\n",
    "\tg.add_edge(edge[:1], edge[1:])\n",
    "\n",
    "g.print_graph()"
   ]
  },
  {
   "cell_type": "code",
   "execution_count": 5,
   "metadata": {},
   "outputs": [
    {
     "output_type": "execute_result",
     "data": {
      "text/plain": "[[0, 1, 0, 0, 1, 0, 0, 0, 0, 0],\n [1, 0, 0, 0, 0, 1, 0, 0, 0, 0],\n [0, 0, 0, 0, 0, 1, 1, 0, 0, 0],\n [0, 0, 0, 0, 1, 0, 0, 1, 0, 0],\n [1, 0, 0, 1, 0, 0, 0, 1, 0, 0],\n [0, 1, 1, 0, 0, 0, 1, 0, 1, 1],\n [0, 0, 1, 0, 0, 1, 0, 0, 0, 1],\n [0, 0, 0, 1, 1, 0, 0, 0, 1, 0],\n [0, 0, 0, 0, 0, 1, 0, 1, 0, 0],\n [0, 0, 0, 0, 0, 1, 1, 0, 0, 0]]"
     },
     "metadata": {},
     "execution_count": 5
    }
   ],
   "source": [
    "g.edges"
   ]
  },
  {
   "cell_type": "code",
   "execution_count": 6,
   "metadata": {},
   "outputs": [
    {
     "output_type": "execute_result",
     "data": {
      "text/plain": "'A'"
     },
     "metadata": {},
     "execution_count": 6
    }
   ],
   "source": [
    "g.PlayerTeam['A'].name"
   ]
  },
  {
   "cell_type": "code",
   "execution_count": 26,
   "metadata": {},
   "outputs": [],
   "source": [
    "ipl = IPL()"
   ]
  },
  {
   "cell_type": "code",
   "execution_count": 27,
   "metadata": {},
   "outputs": [
    {
     "output_type": "stream",
     "name": "stdout",
     "text": "RR\nBenStokes\nJaydevUnadkat\nSanjuSamson\nJofraArcher\nGKrishnappa\n('RR', 'BenStokes')\n('RR', 'JaydevUnadkat')\n('RR', 'SanjuSamson')\n('RR', 'JofraArcher')\n('RR', 'GKrishnappa')\n[('RR', 'BenStokes'), ('RR', 'JaydevUnadkat'), ('RR', 'SanjuSamson'), ('RR', 'JofraArcher'), ('RR', 'GKrishnappa')]\nKXIP\nKLRahul\nRAshwin\nAndrewTye\nMarcusStoinis\nGlennMaxwell\n('KXIP', 'KLRahul')\n('KXIP', 'RAshwin')\n('KXIP', 'AndrewTye')\n('KXIP', 'MarcusStoinis')\n('KXIP', 'GlennMaxwell')\n[('KXIP', 'KLRahul'), ('KXIP', 'RAshwin'), ('KXIP', 'AndrewTye'), ('KXIP', 'MarcusStoinis'), ('KXIP', 'GlennMaxwell')]\nKKR\nChrisLynn\nMitchellStarc\nDineshKarthik\nRobinUthappa\nManishPandey\nChrisWoakes\n('KKR', 'ChrisLynn')\n('KKR', 'MitchellStarc')\n('KKR', 'DineshKarthik')\n('KKR', 'RobinUthappa')\n('KKR', 'ManishPandey')\n('KKR', 'ChrisWoakes')\n[('KKR', 'ChrisLynn'), ('KKR', 'MitchellStarc'), ('KKR', 'DineshKarthik'), ('KKR', 'RobinUthappa'), ('KKR', 'ManishPandey'), ('KKR', 'ChrisWoakes')]\nSRH\nManishPandey\nRashidKhan\nShikharDhawan\n('SRH', 'ManishPandey')\n('SRH', 'RashidKhan')\n('SRH', 'ShikharDhawan')\n[('SRH', 'ManishPandey'), ('SRH', 'RashidKhan'), ('SRH', 'ShikharDhawan')]\nMI\nKrunalPandya\nIshanKishan\nGKrishnappa\nKieronPollard\n('MI', 'KrunalPandya')\n('MI', 'IshanKishan')\n('MI', 'GKrishnappa')\n('MI', 'KieronPollard')\n[('MI', 'KrunalPandya'), ('MI', 'IshanKishan'), ('MI', 'GKrishnappa'), ('MI', 'KieronPollard')]\nCSK\nKedarJadhav\nDwayneBravo\nKarnSharma\n('CSK', 'KedarJadhav')\n('CSK', 'DwayneBravo')\n('CSK', 'KarnSharma')\n[('CSK', 'KedarJadhav'), ('CSK', 'DwayneBravo'), ('CSK', 'KarnSharma')]\nRCB\nChrisWoakes\nYuzvendraChahal\nUmeshYadav\nKLRahul\nMitchellStarc\n('RCB', 'ChrisWoakes')\n('RCB', 'YuzvendraChahal')\n('RCB', 'UmeshYadav')\n('RCB', 'KLRahul')\n('RCB', 'MitchellStarc')\n[('RCB', 'ChrisWoakes'), ('RCB', 'YuzvendraChahal'), ('RCB', 'UmeshYadav'), ('RCB', 'KLRahul'), ('RCB', 'MitchellStarc')]\nDD\nGlennMaxwell\nSanjuSamson\nKedarJadhav\nKarunNair\n('DD', 'GlennMaxwell')\n('DD', 'SanjuSamson')\n('DD', 'KedarJadhav')\n('DD', 'KarunNair')\n[('DD', 'GlennMaxwell'), ('DD', 'SanjuSamson'), ('DD', 'KedarJadhav'), ('DD', 'KarunNair')]\nGL\nDineshKarthik\nAndrewTye\nDwayneBravo\nIshanKishan\n('GL', 'DineshKarthik')\n('GL', 'AndrewTye')\n('GL', 'DwayneBravo')\n('GL', 'IshanKishan')\n[('GL', 'DineshKarthik'), ('GL', 'AndrewTye'), ('GL', 'DwayneBravo'), ('GL', 'IshanKishan')]\nRPS\nBenStokes\nJaydevUnadkat\n('RPS', 'BenStokes')\n('RPS', 'JaydevUnadkat')\n[('RPS', 'BenStokes'), ('RPS', 'JaydevUnadkat')]\n"
    }
   ],
   "source": [
    "ipl.readInputfile('inputPS10.txt')"
   ]
  },
  {
   "cell_type": "code",
   "execution_count": 73,
   "metadata": {},
   "outputs": [
    {
     "output_type": "stream",
     "name": "stdout",
     "text": "AndrewTye 0000001000000000000000000000000000010 \nBenStokes 1000000000000000000000000000000000001 \nCSK 0000000000000000000000000001110000000 \nChrisLynn 0000000000001000000000000000000000000 \nChrisWoakes 0000000000001000000000000000001000000 \nDD 0001000000010000000000000001000000100 \nDineshKarthik 0000000000001000000000000000000000010 \nDwayneBravo 0000000000000000000000000010000000010 \nGKrishnappa 1000000000000000000000100000000000000 \nGL 0000000001000001000000001000100000000 \nGlennMaxwell 0000001000000000000000000000000001000 \nIshanKishan 0000000000000000000000100000000000010 \nJaydevUnadkat 1000000000000000000000000000000000001 \nJofraArcher 1000000000000000000000000000000000000 \nKKR 0000000000000111111000000000000000000 \nKLRahul 0000001000000000000000000000001000000 \nKXIP 0000000111110000000000000000000000000 \nKarnSharma 0000000000000000000000000010000000000 \nKarunNair 0000000000000000000000000000000001000 \nKedarJadhav 0000000000000000000000000010000001000 \nKieronPollard 0000000000000000000000100000000000000 \nKrunalPandya 0000000000000000000000100000000000000 \nMI 0000010000000000000000011100000000000 \nManishPandey 0000000000001000000100000000000000000 \nMarcusStoinis 0000001000000000000000000000000000000 \nMitchellStarc 0000000000001000000000000000001000000 \nRAshwin 0000001000000000000000000000000000000 \nRCB 0000000100000010001000000000000110000 \nRPS 0110000000000000000000000000000000000 \nRR 0111110000000000000000000000000000000 \nRashidKhan 0000000000000000000100000000000000000 \nRobinUthappa 0000000000001000000000000000000000000 \nSRH 0000000000000000010011000000000000000 \nSanjuSamson 1000000000000000000000000000000001000 \nShikharDhawan 0000000000000000000100000000000000000 \nUmeshYadav 0000000000000000000000000000001000000 \nYuzvendraChahal 0000000000000000000000000000001000000 \n"
    }
   ],
   "source": [
    "ipl.print_graph()"
   ]
  },
  {
   "cell_type": "code",
   "execution_count": 74,
   "metadata": {},
   "outputs": [
    {
     "output_type": "execute_result",
     "data": {
      "text/plain": "{'AndrewTye': <__main__.Vertex at 0x214b7a3ef60>,\n 'BenStokes': <__main__.Vertex at 0x214b7a60ef0>,\n 'CSK': <__main__.Vertex at 0x214b7a5edd8>,\n 'ChrisLynn': <__main__.Vertex at 0x214b7a3e9b0>,\n 'ChrisWoakes': <__main__.Vertex at 0x214b7a3e128>,\n 'DD': <__main__.Vertex at 0x214b69a55f8>,\n 'DineshKarthik': <__main__.Vertex at 0x214b66a4d30>,\n 'DwayneBravo': <__main__.Vertex at 0x214b7a5eeb8>,\n 'GKrishnappa': <__main__.Vertex at 0x214b66428d0>,\n 'GL': <__main__.Vertex at 0x214b7ad7b38>,\n 'GlennMaxwell': <__main__.Vertex at 0x214b7a3ec18>,\n 'IshanKishan': <__main__.Vertex at 0x214b7a6d630>,\n 'JaydevUnadkat': <__main__.Vertex at 0x214b7a605f8>,\n 'JofraArcher': <__main__.Vertex at 0x214b7a605c0>,\n 'KKR': <__main__.Vertex at 0x214b7a3eb38>,\n 'KLRahul': <__main__.Vertex at 0x214b7a60160>,\n 'KXIP': <__main__.Vertex at 0x214b7a60d30>,\n 'KarnSharma': <__main__.Vertex at 0x214b7a5e5f8>,\n 'KarunNair': <__main__.Vertex at 0x214b69a52b0>,\n 'KedarJadhav': <__main__.Vertex at 0x214b7a5eb70>,\n 'KieronPollard': <__main__.Vertex at 0x214b7a5eb38>,\n 'KrunalPandya': <__main__.Vertex at 0x214b7a6d208>,\n 'MI': <__main__.Vertex at 0x214b7a6dcc0>,\n 'ManishPandey': <__main__.Vertex at 0x214b7a3ecf8>,\n 'MarcusStoinis': <__main__.Vertex at 0x214b7a3e780>,\n 'MitchellStarc': <__main__.Vertex at 0x214b7a3e4a8>,\n 'RAshwin': <__main__.Vertex at 0x214b7a60f28>,\n 'RCB': <__main__.Vertex at 0x214b7a5ee48>,\n 'RPS': <__main__.Vertex at 0x214b7ad7ac8>,\n 'RR': <__main__.Vertex at 0x214b6846f60>,\n 'RashidKhan': <__main__.Vertex at 0x214b7a62048>,\n 'RobinUthappa': <__main__.Vertex at 0x214b7a3e6d8>,\n 'SRH': <__main__.Vertex at 0x214b691c2e8>,\n 'SanjuSamson': <__main__.Vertex at 0x214b7a60a58>,\n 'ShikharDhawan': <__main__.Vertex at 0x214b7a62748>,\n 'UmeshYadav': <__main__.Vertex at 0x214b69a5d30>,\n 'YuzvendraChahal': <__main__.Vertex at 0x214b69a5390>}"
     },
     "metadata": {},
     "execution_count": 74
    }
   ],
   "source": [
    "ipl.PlayerTeam"
   ]
  },
  {
   "cell_type": "code",
   "execution_count": 46,
   "metadata": {},
   "outputs": [],
   "source": []
  },
  {
   "cell_type": "code",
   "execution_count": 75,
   "metadata": {},
   "outputs": [
    {
     "output_type": "execute_result",
     "data": {
      "text/plain": "{'AndrewTye': 9,\n 'BenStokes': 1,\n 'CSK': 26,\n 'ChrisLynn': 13,\n 'ChrisWoakes': 18,\n 'DD': 33,\n 'DineshKarthik': 15,\n 'DwayneBravo': 28,\n 'GKrishnappa': 5,\n 'GL': 35,\n 'GlennMaxwell': 11,\n 'IshanKishan': 24,\n 'JaydevUnadkat': 2,\n 'JofraArcher': 4,\n 'KKR': 12,\n 'KLRahul': 7,\n 'KXIP': 6,\n 'KarnSharma': 29,\n 'KarunNair': 34,\n 'KedarJadhav': 27,\n 'KieronPollard': 25,\n 'KrunalPandya': 23,\n 'MI': 22,\n 'ManishPandey': 17,\n 'MarcusStoinis': 10,\n 'MitchellStarc': 14,\n 'RAshwin': 8,\n 'RCB': 30,\n 'RPS': 36,\n 'RR': 0,\n 'RashidKhan': 20,\n 'RobinUthappa': 16,\n 'SRH': 19,\n 'SanjuSamson': 3,\n 'ShikharDhawan': 21,\n 'UmeshYadav': 32,\n 'YuzvendraChahal': 31}"
     },
     "metadata": {},
     "execution_count": 75
    }
   ],
   "source": [
    "ipl.edge_indices"
   ]
  },
  {
   "cell_type": "code",
   "execution_count": 28,
   "metadata": {},
   "outputs": [],
   "source": [
    "ipl.displayAll()"
   ]
  },
  {
   "cell_type": "code",
   "execution_count": 53,
   "metadata": {},
   "outputs": [
    {
     "output_type": "stream",
     "name": "stdout",
     "text": "the index:  26\n"
    }
   ],
   "source": [
    "ipl.displayFranchises('CSK')"
   ]
  },
  {
   "cell_type": "code",
   "execution_count": 29,
   "metadata": {},
   "outputs": [
    {
     "output_type": "stream",
     "name": "stdout",
     "text": "the index:  1\nthe index:  16\nthe index:  8\nthe plyer details do not exist in the graph DS\nthe index:  15\n"
    }
   ],
   "source": [
    "with open('promptsPS10.txt',newline='') as f:\n",
    "    lines =csv.reader(f,delimiter=':')\n",
    "    for line in lines:\n",
    "        if line[0].strip() == 'findFranchise':\n",
    "            ipl.displayFranchises(line[1].strip())"
   ]
  },
  {
   "cell_type": "code",
   "execution_count": 30,
   "metadata": {},
   "outputs": [
    {
     "output_type": "stream",
     "name": "stdout",
     "text": "the index:  0\nthe index:  19\nthe plyer details do not exist in the graph DS\nthe index:  33\n"
    }
   ],
   "source": [
    "with open('promptsPS10.txt',newline='') as f:\n",
    "    lines =csv.reader(f,delimiter=':')\n",
    "    for line in lines:\n",
    "        if line[0].strip() == 'listPlayers':\n",
    "            ipl.displayPlayers(line[1].strip())"
   ]
  },
  {
   "cell_type": "code",
   "execution_count": 31,
   "metadata": {},
   "outputs": [
    {
     "output_type": "stream",
     "name": "stdout",
     "text": "RAshwin and ShikharDhawan have not played for same team\n"
    }
   ],
   "source": [
    "with open('promptsPS10.txt',newline='') as f:\n",
    "    lines =csv.reader(f,delimiter=':')\n",
    "    for line in lines:\n",
    "        if line[0].strip() == 'franchiseBuddies':\n",
    "            ipl.franchiseBuddies(line[1].strip(),line[2].strip())"
   ]
  },
  {
   "cell_type": "code",
   "execution_count": 32,
   "metadata": {},
   "outputs": [],
   "source": [
    "with open('promptsPS10.txt',newline='') as f:\n",
    "    lines =csv.reader(f,delimiter=':')\n",
    "    for line in lines:\n",
    "        if line[0].strip() == 'playerConnect':\n",
    "            ipl.findPlayerConnect(line[1].strip(),line[2].strip())"
   ]
  },
  {
   "cell_type": "code",
   "execution_count": null,
   "metadata": {},
   "outputs": [],
   "source": [
    "edge_indexA = self.edge_indices[playerA]\n",
    "\t\t\tedge_indexB = self.edge_indices[playerB]\n",
    "\t\t\tindicesA = [index for index, element in enumerate(self.edges[edge_indexA]) if element == 1]\n",
    "\t\t\tindicesB = [index for index, element in enumerate(self.edges[edge_indexB]) if element == 1] \n",
    "\t\t\tfor i in indicesA:\n",
    "\t\t\t\tfor j in indicesB:\n",
    "\t\t\t\t\tplayersA = [index for index, element in enumerate(self.edges[i]) if element == 1]\n",
    "\t\t\t\t\tplayersB = [index for index, element in enumerate(self.edges[j]) if element == 1]\n",
    "\t\t\t\t\tconnect = [i for i, j in zip(playersA, playersB) if i == j]\n",
    "\t\t\t\t\tif len(connect) >= 1 :\n",
    "\t\t\t\t\t\tfor key,val in self.edge_indices.items():\n",
    "\t\t\t\t\t\t\tif val == connect[0]:\n",
    "\t\t\t\t\t\t\t\tplayerC = key.strip()\n",
    "\t\t\t\t\t\t\tif val == i:\n",
    "\t\t\t\t\t\t\t\tteamA = key.strip()\n",
    "\t\t\t\t\t\t\tif val == j:\n",
    "\t\t\t\t\t\t\t\tteamB = key.strip()"
   ]
  },
  {
   "cell_type": "code",
   "execution_count": 10,
   "metadata": {},
   "outputs": [
    {
     "output_type": "stream",
     "name": "stdout",
     "text": "27\n24\n"
    }
   ],
   "source": [
    "edge_indexA = ipl.edge_indices['KedarJadhav']\n",
    "edge_indexB = ipl.edge_indices['IshanKishan']\n",
    "print(edge_indexA)\n",
    "print(edge_indexB)"
   ]
  },
  {
   "cell_type": "code",
   "execution_count": 11,
   "metadata": {},
   "outputs": [
    {
     "output_type": "stream",
     "name": "stdout",
     "text": "[26, 33] [22, 35]\n"
    }
   ],
   "source": [
    "indicesA = [index for index, element in enumerate(ipl.edges[27]) if element == 1]\n",
    "indicesB = [index for index, element in enumerate(ipl.edges[24]) if element == 1] \n",
    "print(indicesA,indicesB)"
   ]
  },
  {
   "cell_type": "code",
   "execution_count": 12,
   "metadata": {},
   "outputs": [
    {
     "output_type": "stream",
     "name": "stdout",
     "text": "[26, 33, 22, 35]\n"
    }
   ],
   "source": [
    "l = indicesA + indicesB\n",
    "print(l)"
   ]
  },
  {
   "cell_type": "code",
   "execution_count": 109,
   "metadata": {},
   "outputs": [
    {
     "output_type": "stream",
     "name": "stdout",
     "text": "DwayneBravo\n"
    }
   ],
   "source": [
    "for key,val in ipl.edge_indices.items():\n",
    "    if val == 28:\n",
    "        print(key)"
   ]
  },
  {
   "cell_type": "code",
   "execution_count": 13,
   "metadata": {},
   "outputs": [
    {
     "output_type": "stream",
     "name": "stdout",
     "text": "26 22\n[27, 28, 29]\n[5, 23, 24, 25]\n[]\n26 35\n[27, 28, 29]\n[9, 15, 24, 28]\n[]\n33 22\n[3, 11, 27, 34]\n[5, 23, 24, 25]\n[]\n33 35\n[3, 11, 27, 34]\n[9, 15, 24, 28]\n[]\n"
    }
   ],
   "source": [
    "for i in indicesA:\n",
    "    for j in indicesB:\n",
    "        print(i,j)\n",
    "        playersA = [index for index, element in enumerate(ipl.edges[i]) if element == 1]\n",
    "        print(playersA)\n",
    "        playersB = [index for index, element in enumerate(ipl.edges[j]) if element == 1]\n",
    "        print(playersB)\n",
    "        connect = [p for p, q in zip(playersA, playersB) if p == q]\n",
    "        print(connect)\n",
    "        if len(connect) >= 1 :\n",
    "            for key,val in self.edge_indices.items():\n",
    "                if val == connect[0]:\n",
    "                    playerC = key.strip()\n",
    "                if val == i:\n",
    "                    teamA = key.strip()\n",
    "                if val == j:\n",
    "                    teamB = key.strip()"
   ]
  },
  {
   "cell_type": "code",
   "execution_count": 14,
   "metadata": {},
   "outputs": [
    {
     "output_type": "stream",
     "name": "stdout",
     "text": "[27, 28, 29]\n[9, 15, 24, 28]\n"
    }
   ],
   "source": [
    "playersA = [index for index, element in enumerate(ipl.edges[26]) if element == 1]\n",
    "print(playersA)\n",
    "playersB = [index for index, element in enumerate(ipl.edges[35]) if element == 1]\n",
    "print(playersB)\n",
    ""
   ]
  },
  {
   "cell_type": "code",
   "execution_count": 15,
   "metadata": {},
   "outputs": [],
   "source": [
    "connect = [p for p, q in zip(playersA, playersB) if p == q]"
   ]
  },
  {
   "cell_type": "code",
   "execution_count": 16,
   "metadata": {},
   "outputs": [
    {
     "output_type": "execute_result",
     "data": {
      "text/plain": "[]"
     },
     "metadata": {},
     "execution_count": 16
    }
   ],
   "source": [
    "connect"
   ]
  },
  {
   "cell_type": "code",
   "execution_count": 17,
   "metadata": {},
   "outputs": [
    {
     "output_type": "stream",
     "name": "stdout",
     "text": "<class 'int'>\n"
    }
   ],
   "source": [
    "print(type(playersA[0]))"
   ]
  },
  {
   "cell_type": "code",
   "execution_count": 18,
   "metadata": {},
   "outputs": [],
   "source": [
    "x = [27, 28, 29]\n",
    "y = [9, 15, 24, 28]\n",
    "c = [p for p,q in zip(x,y) if p==q]"
   ]
  },
  {
   "cell_type": "code",
   "execution_count": 24,
   "metadata": {},
   "outputs": [
    {
     "output_type": "execute_result",
     "data": {
      "text/plain": "[28]"
     },
     "metadata": {},
     "execution_count": 24
    }
   ],
   "source": [
    "list(set(x) & set(y))"
   ]
  },
  {
   "cell_type": "code",
   "execution_count": 20,
   "metadata": {},
   "outputs": [],
   "source": [
    "s = set(x) & set(y)"
   ]
  },
  {
   "cell_type": "code",
   "execution_count": 21,
   "metadata": {},
   "outputs": [
    {
     "output_type": "execute_result",
     "data": {
      "text/plain": "{28}"
     },
     "metadata": {},
     "execution_count": 21
    }
   ],
   "source": [
    "s"
   ]
  },
  {
   "cell_type": "code",
   "execution_count": 22,
   "metadata": {},
   "outputs": [],
   "source": [
    "l =list(s)"
   ]
  },
  {
   "cell_type": "code",
   "execution_count": 23,
   "metadata": {},
   "outputs": [
    {
     "output_type": "execute_result",
     "data": {
      "text/plain": "[28]"
     },
     "metadata": {},
     "execution_count": 23
    }
   ],
   "source": [
    "l"
   ]
  },
  {
   "cell_type": "code",
   "execution_count": null,
   "metadata": {},
   "outputs": [],
   "source": []
  }
 ]
}